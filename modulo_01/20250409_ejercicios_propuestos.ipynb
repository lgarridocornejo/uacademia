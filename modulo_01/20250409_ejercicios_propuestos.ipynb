{
 "cells": [
  {
   "cell_type": "code",
   "execution_count": 79,
   "id": "d19b9c83-8cef-4d40-bd16-811668a3048e",
   "metadata": {},
   "outputs": [],
   "source": [
    "# venv uacademia >>> 20250409"
   ]
  },
  {
   "cell_type": "markdown",
   "id": "3961c77c-9d26-45ee-9b48-6978ceba0450",
   "metadata": {},
   "source": [
    "# Ejercicios"
   ]
  },
  {
   "cell_type": "markdown",
   "id": "379b86b4-ea04-4937-9831-417b7f8da618",
   "metadata": {},
   "source": [
    "## Contar vocales\n",
    "Escribe una función **contar_vocales(texto)** que reciba una cadena y devuelva el número de vocales en ella."
   ]
  },
  {
   "cell_type": "code",
   "execution_count": null,
   "id": "017cec18-cc65-49dc-894d-27830ee57182",
   "metadata": {},
   "outputs": [],
   "source": []
  },
  {
   "cell_type": "code",
   "execution_count": null,
   "id": "c2c6724e-a4d2-47b7-ac48-c76329b302eb",
   "metadata": {},
   "outputs": [],
   "source": []
  },
  {
   "cell_type": "code",
   "execution_count": null,
   "id": "729360fd-b2c1-4c3a-a7a8-cb0cd8d61871",
   "metadata": {},
   "outputs": [],
   "source": []
  },
  {
   "cell_type": "markdown",
   "id": "f3d84caa-761e-4db1-a6d1-613bf3df28ec",
   "metadata": {},
   "source": [
    "---"
   ]
  },
  {
   "cell_type": "markdown",
   "id": "7b49cb3d-e1f7-4fb6-b6f1-71c37d9e31d5",
   "metadata": {},
   "source": [
    "## Fibonacci\n",
    "La serie de Fibonacci es una secuencia matemática en la que cada número es la suma de los dos anteriores.\n",
    " $0, 1, 1, 2, 3, 5, 8, 13, 21, 34, ...$"
   ]
  },
  {
   "cell_type": "code",
   "execution_count": null,
   "id": "b28e9dfe-2179-408a-816e-f876589feeff",
   "metadata": {},
   "outputs": [],
   "source": []
  },
  {
   "cell_type": "code",
   "execution_count": null,
   "id": "8b242c09-82d9-4557-8ad3-07fdf924bc56",
   "metadata": {},
   "outputs": [],
   "source": []
  },
  {
   "cell_type": "code",
   "execution_count": null,
   "id": "d464c7ee-d483-4a5f-977b-01357048e49e",
   "metadata": {},
   "outputs": [],
   "source": []
  },
  {
   "cell_type": "markdown",
   "id": "b90474d4-0517-4881-8033-24d50d78b123",
   "metadata": {},
   "source": [
    "---"
   ]
  },
  {
   "cell_type": "markdown",
   "id": "912cee19-8075-4074-8c58-7c3c21b81aa1",
   "metadata": {},
   "source": [
    "## Palindromos \n",
    "Escribe una función **es_palindromo(palabra)** que devuelva **Si** o **No** si una palabra es un palíndromo.\n",
    "\n",
    "Un **palíndromo** es una palabra, número o frase que se lee igual de izquierda a derecha que de derecha a izquierda, ignorando espacios, mayúsculas y tildes.\n",
    "\n",
    "Para probar usar:  \n",
    "- radar\n",
    "- reconocer\n",
    "- murcielago\n",
    "- paralelepipedo\n",
    "- oso\n",
    "- anilina"
   ]
  },
  {
   "cell_type": "code",
   "execution_count": 93,
   "id": "4312a51e-3b18-48f5-86ce-2c5255d67f78",
   "metadata": {},
   "outputs": [],
   "source": [
    "palabras = [\"radar\", \"reconocer\", \"murcielago\", \"paralelepipedo\", \"oso\", \"anilina\"]"
   ]
  },
  {
   "cell_type": "code",
   "execution_count": null,
   "id": "9af508bd-1860-402d-99e1-59a729a81f62",
   "metadata": {},
   "outputs": [],
   "source": []
  },
  {
   "cell_type": "code",
   "execution_count": null,
   "id": "ed921b2d-3238-47fa-8fb0-b5aa005cd2ff",
   "metadata": {},
   "outputs": [],
   "source": []
  },
  {
   "cell_type": "markdown",
   "id": "3976462c-6de1-4308-83ca-5d080dce61bf",
   "metadata": {},
   "source": [
    "---"
   ]
  },
  {
   "cell_type": "markdown",
   "id": "8c7496e7-4b3c-48c4-891a-37d0fde4edeb",
   "metadata": {},
   "source": [
    "## Frases palindromicas\n",
    "\n",
    "Probar con:\n",
    "- Anita lava la tina\n",
    "- A mamá Roma le aviva el amor a papá y a papá Roma le aviva el amor a mamá\n",
    "- Hola mundo"
   ]
  },
  {
   "cell_type": "code",
   "execution_count": 99,
   "id": "f3ec9732-92a2-4ddc-9233-58951e304870",
   "metadata": {},
   "outputs": [],
   "source": [
    "frases = [\"Anita lava la tina\", \"A mama Roma le aviva el amor a papa y a papa Roma le aviva el amor a mama\", \"Hola mundo\"]"
   ]
  },
  {
   "cell_type": "code",
   "execution_count": null,
   "id": "b27dfbbd-5bde-4f51-8fb4-cf349991b3d1",
   "metadata": {},
   "outputs": [],
   "source": []
  },
  {
   "cell_type": "code",
   "execution_count": null,
   "id": "6c3a00b7-6171-42c8-a553-c0d8d78d1ecf",
   "metadata": {},
   "outputs": [],
   "source": []
  },
  {
   "cell_type": "markdown",
   "id": "72a0470e-1823-4731-a9fb-87a5d3995c89",
   "metadata": {},
   "source": [
    "---"
   ]
  },
  {
   "cell_type": "markdown",
   "id": "ce4840b8-77ea-416d-88ca-325c7aa351bd",
   "metadata": {},
   "source": [
    "## Contador de palabras\n",
    "Crea una función **contar_palabras(frase)** que reciba una frase y devuelva un diccionario con la cantidad de veces que aparece cada palabra."
   ]
  },
  {
   "cell_type": "code",
   "execution_count": null,
   "id": "49c0ba0a-98d6-4379-a0b9-6a71e51882bb",
   "metadata": {},
   "outputs": [],
   "source": []
  },
  {
   "cell_type": "code",
   "execution_count": null,
   "id": "7f4b66d4-167f-4589-a891-a2f535dc8cf8",
   "metadata": {},
   "outputs": [],
   "source": []
  },
  {
   "cell_type": "code",
   "execution_count": null,
   "id": "c0b4caec-28de-4172-981c-7aed367d031f",
   "metadata": {},
   "outputs": [],
   "source": []
  },
  {
   "cell_type": "markdown",
   "id": "c908a34c-d4ec-4e7f-83f3-092a324c5041",
   "metadata": {},
   "source": [
    "---"
   ]
  },
  {
   "cell_type": "markdown",
   "id": "c2bab553-765e-437d-a73b-6ef96bf1ee25",
   "metadata": {},
   "source": [
    "## Pizzeria\n",
    "Un programador realizo un programa para calcular el precio final de una pizzeria, dependiendo del tamaño de la pizza y los extras, ademas de impuesto del IVA (19%) y la propina obligatoria.\n",
    "El problema es que el programador se intoxico por comer tantas pizzas y el codigo esta con errores e incompleto.\n",
    "\n",
    "Tu mision, es reparar el codigo"
   ]
  },
  {
   "cell_type": "code",
   "execution_count": 17,
   "id": "12efe027-fe00-4035-9009-63890a543c2b",
   "metadata": {},
   "outputs": [],
   "source": [
    "def mostrar_menu():\n",
    "    print(\"\\n=== Pizzería Papa Juan ===\")\n",
    "    print(\"Tamaños de pizza:\")\n",
    "    print(\"1. Mediana (M) - $13,000\")\n",
    "    print(\"2. Familiar (L) - $16,900\")\n",
    "    print(\"3. Extra Grande (XL) - $21,900\")\n",
    "    print(\"\\nExtras:\")\n",
    "    print(\"- Extra Queso: $1,800 (L), $2,100 (XL)\")\n",
    "    print(\"- Extra Salsa: $1,800 (L), $2,100 (XL)\")\n",
    "    print(\"- Jamón: $1,800 (L), $2,100 (XL)\")\n",
    "    print(\"- Pollo: $1,500 (L), $1,800 (XL)\")\n",
    "    print(\"- Tocino: $2,100 (L), $2,400 (XL)\\n\")"
   ]
  },
  {
   "cell_type": "code",
   "execution_count": 19,
   "id": "7c735c19-2f24-4920-8cb8-bdb450dda9f4",
   "metadata": {},
   "outputs": [],
   "source": [
    "def calcular_precio_pizza(tamano, extras):\n",
    "    precios_base = {\"M\": 13000, \"L\": 16900, \"XL\": 21900}\n",
    "    precios_extras = {\n",
    "        \"L\": {\"extra_queso\": 1800, \"extra_salsa\": 1800, \"jamon\": 1800, \"pollo\": 1500, \"tocino\": 2100},\n",
    "        \"XL\": {\"extra_queso\": 2100, \"extra_salsa\": 2100, \"jamon\": 2100, \"pollo\": 1800, \"tocino\": 2400}\n",
    "    }\n",
    "    \n",
    "    precio_total = precios_base[tamano]\n",
    "    \n",
    "    if tamano in precios_extras:\n",
    "        for extra in extras:\n",
    "            precio_total += precios_extras[tamano].get(extra, 0)\n",
    "    \n",
    "    return precio_total"
   ]
  },
  {
   "cell_type": "code",
   "execution_count": 21,
   "id": "60fe936a-8bfd-45eb-b8f7-80f5aca62c6b",
   "metadata": {},
   "outputs": [],
   "source": [
    "def calcular_iva(monto):\n",
    "    return monto * 0.19"
   ]
  },
  {
   "cell_type": "code",
   "execution_count": null,
   "id": "7133d27b-f3f5-4102-a6ee-4414f4b78e46",
   "metadata": {},
   "outputs": [],
   "source": [
    "# Mostrar menú\n",
    "mostrar_menu(menu)\n",
    "\n",
    "# Solicitar tamaño de la pizza\n",
    "tamano = input(\"Elija el tamaño de la pizza (M, L, XL): \").upper()\n",
    "while tamano not in [\"M\", \"L\", \"XL\"]:\n",
    "    tamano = input(\"Tamaño inválido. Ingrese M, L o XL: \").upper()\n",
    "\n",
    "# Solicitar extras\n",
    "extras_disponibles = [\"extra_queso\", \"extra_salsa\", \"jamon\", \"pollo\", \"tocino\"]\n",
    "extras_seleccionados = []\n",
    "for extra in extras_disponibles:\n",
    "    respuesta = input(f\"¿Desea agregar {extra.replace('_', ' ')}? (s/n): \").lower()\n",
    "    if respuesta == \"s\":\n",
    "        extras_seleccionados.append(extra)\n",
    "\n",
    "# Calcular precio\n",
    "precio_sin_iva = calcular_precio_pizza(tamano extras_seleccionados)\n",
    "iva = calcular_iv(precio_sin_iva)\n",
    "precio_con_iva = precio_sin_iva + iva\n",
    "\n",
    "# Preguntar por propina obligatoria\n",
    "propinas_posibles = [5, 10, 15, 20]\n",
    "print(\"\\nOpciones de propina: 5%, 10%, 15%, 20%\")\n",
    "propina = 5\n",
    "while True:\n",
    "    try:\n",
    "        propina_porcentaje = int(input(\"Seleccione el porcentaje de propina: \"))\n",
    "        if propina_porcentaje in propinas_posibles:\n",
    "            break\n",
    "        else:\n",
    "            print(\"Opción inválida. Debe elegir entre 5, 10, 15 o 20.\")\n",
    "    except ValueError:\n",
    "        print(\"Entrada inválida. Introduzca un número.\")\n",
    "\n",
    "propina *= 1 + (propina_porcentaje / 100) * precio_con_iva\n",
    "precio_final = precio_con_iva + propina\n",
    "\n",
    "# Mostrar resumen\n",
    "print(\"\\n=== Resumen del Pedido ===\")\n",
    "print(f\"Tamaño de la pizza: {tamano}\")\n",
    "print(f\"Extras: {', '.join(extras_seleccionados) if extras_seleccionados else 'Ninguno'}\")\n",
    "print(f\"Subtotal: ${precio_sin_iva}\")\n",
    "print(f\"IVA (19%): ${iva:.2f}\")\n",
    "print(f\"Propina ({propina_porcentaje}%): ${propina:.2f}\")\n",
    "print(f\"Total a pagar: ${precio_final:.2f}\")"
   ]
  }
 ],
 "metadata": {
  "kernelspec": {
   "display_name": "Python [conda env:base] *",
   "language": "python",
   "name": "conda-base-py"
  },
  "language_info": {
   "codemirror_mode": {
    "name": "ipython",
    "version": 3
   },
   "file_extension": ".py",
   "mimetype": "text/x-python",
   "name": "python",
   "nbconvert_exporter": "python",
   "pygments_lexer": "ipython3",
   "version": "3.9.16"
  }
 },
 "nbformat": 4,
 "nbformat_minor": 5
}
