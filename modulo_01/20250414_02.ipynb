{
 "cells": [
  {
   "cell_type": "code",
   "execution_count": 36,
   "id": "b5853daf-df45-4e69-acce-248b7cde2aec",
   "metadata": {
    "editable": true,
    "slideshow": {
     "slide_type": "skip"
    },
    "tags": []
   },
   "outputs": [],
   "source": [
    "# venv uacademia >>> 20250414"
   ]
  },
  {
   "cell_type": "markdown",
   "id": "6ae9b4c3-31a9-4a1f-89b6-1027b6e819fd",
   "metadata": {
    "editable": true,
    "slideshow": {
     "slide_type": "slide"
    },
    "tags": []
   },
   "source": [
    "<p align=\"right\" width=\"100%\">\n",
    "    <img width=\"100%\" src=\"https://blogs.masterhacks.net/wp-content/uploads/2024/04/masterhacks_vulnerabilidades_lenguaje_programacion_R-1536x782.jpg\">\n",
    "</p>"
   ]
  },
  {
   "cell_type": "markdown",
   "id": "7dddc574-4350-4524-ad18-8d792350032b",
   "metadata": {
    "editable": true,
    "slideshow": {
     "slide_type": "slide"
    },
    "tags": []
   },
   "source": [
    "# Qué es R\n",
    "\n",
    "R es un lenguaje de programación y un entorno de software libre y de código abierto diseñado específicamente para el análisis estadístico y la visualización de datos. Es ampliamente utilizado en diversas disciplinas, incluyendo la ciencia de datos, la bioinformática, la economía, la epidemiología y muchas otras áreas donde se requiere análisis cuantitativo."
   ]
  },
  {
   "cell_type": "markdown",
   "id": "8673696b-27f2-4876-905c-d838115e0775",
   "metadata": {
    "editable": true,
    "slideshow": {
     "slide_type": "slide"
    },
    "tags": []
   },
   "source": [
    "## Relevancia de R en la ciencia de datos y análisis estadístico\n",
    "\n",
    "Este lenguaje es extremadamente relevante en el campo de la ciencia de datos y el análisis estadístico debido a su flexibilidad, su amplia gama de paquetes y su poderosa capacidad de visualización. Permite a los usuarios realizar desde análisis estadísticos básicos hasta complejos modelos predictivos. Además, al ser un software de código abierto, ofrece acceso a una amplia comunidad de usuarios y desarrolladores que contribuyen con nuevos paquetes y funcionalidades de forma constante."
   ]
  },
  {
   "cell_type": "markdown",
   "id": "c05fe925-bc86-4d1b-b1b5-74a2397e0387",
   "metadata": {
    "editable": true,
    "slideshow": {
     "slide_type": "slide"
    },
    "tags": []
   },
   "source": [
    "## Origen de R y su evolución\n",
    "\n",
    "R se originó como un proyecto de investigación en los laboratorios de Bell en los Estados Unidos en los 90. Fue desarrollado inicialmente por Ross Ihaka y Robert Gentleman, dos profesores de la Universidad de Auckland, en Nueva Zelanda. Desde entonces, ha experimentado un crecimiento significativo en términos de funcionalidades, rendimiento y popularidad. La evolución de R ha sido impulsada en gran medida por la contribución de la comunidad de usuarios y desarrolladores, quienes han creado una amplia variedad de paquetes para satisfacer diversas necesidades de análisis de datos."
   ]
  },
  {
   "cell_type": "markdown",
   "id": "070e8754-b19f-4268-b526-dcd536c69294",
   "metadata": {
    "editable": true,
    "slideshow": {
     "slide_type": "slide"
    },
    "tags": []
   },
   "source": [
    "## Fundamentos de R"
   ]
  },
  {
   "cell_type": "markdown",
   "id": "7d2bc6e9-abf9-447a-81aa-aba6a504f453",
   "metadata": {
    "editable": true,
    "slideshow": {
     "slide_type": "slide"
    },
    "tags": []
   },
   "source": [
    "### Estructuras de datos en R\n",
    "\n",
    "R ofrece diversas estructuras de datos que permiten almacenar y manipular información de manera eficiente. Algunas de las estructuras de datos más comunes en R incluyen:"
   ]
  },
  {
   "cell_type": "markdown",
   "id": "f27708ba-4be6-4d7b-8816-873c7361f8cb",
   "metadata": {
    "editable": true,
    "slideshow": {
     "slide_type": "fragment"
    },
    "tags": []
   },
   "source": [
    "- Vector: Un vector es una secuencia ordenada de elementos del mismo tipo. Puede ser un vector numérico, de caracteres, lógico, entre otros.\n",
    "\n",
    "```r\n",
    "vector_numerico <- c(1, 2, 3, 4, 5)\n",
    "vector_caracteres <- c(\"a\", \"b\", \"c\", \"d\", \"e\")\n",
    "```"
   ]
  },
  {
   "cell_type": "markdown",
   "id": "e0a40716-e217-4d8b-b4cb-6b1646366413",
   "metadata": {
    "editable": true,
    "slideshow": {
     "slide_type": "fragment"
    },
    "tags": []
   },
   "source": [
    "- Matriz: Una matriz es una estructura bidimensional que contiene elementos del mismo tipo organizados en filas y columnas.\n",
    "\n",
    "```r\n",
    "matriz <- matrix(1:9, nrow = 3, ncol = 3)\n",
    "```"
   ]
  },
  {
   "cell_type": "markdown",
   "id": "1e9968ff-b52e-4d29-aff9-4d28df072cd4",
   "metadata": {
    "editable": true,
    "slideshow": {
     "slide_type": "fragment"
    },
    "tags": []
   },
   "source": [
    "- Lista: Una lista es una colección ordenada de objetos que pueden ser de diferentes tipos, como vectores, matrices, data frames, entre otros.\n",
    "\n",
    "```r\n",
    "lista <- list(numeros = c(1, 2, 3), letras = c(\"a\", \"b\", \"c\"))\n",
    "```"
   ]
  },
  {
   "cell_type": "markdown",
   "id": "06b3c46f-5e21-4248-a67e-315aef21e2ba",
   "metadata": {
    "editable": true,
    "slideshow": {
     "slide_type": "fragment"
    },
    "tags": []
   },
   "source": [
    "- Data frame: Un data frame es una estructura tabular similar a una matriz, donde cada columna puede ser de un tipo diferente y se pueden aplicar operaciones de data frame específicas.\n",
    "\n",
    "```r\n",
    "data <- data.frame(ID = 1:3, Nombre = c(\"Juan\", \"María\", \"Pedro\"), Edad = c(25, 30, 28))\n",
    "```"
   ]
  },
  {
   "cell_type": "markdown",
   "id": "ae3ed425-58b8-4c3b-8e1c-c485484462f5",
   "metadata": {
    "editable": true,
    "slideshow": {
     "slide_type": "slide"
    },
    "tags": []
   },
   "source": [
    "### Operaciones básicas\n",
    "\n",
    "En R, se pueden realizar diversas operaciones básicas para manipular datos, como:"
   ]
  },
  {
   "cell_type": "markdown",
   "id": "f85dbb23-41de-4fb2-af9b-f9a1d8d8de69",
   "metadata": {
    "editable": true,
    "slideshow": {
     "slide_type": "fragment"
    },
    "tags": []
   },
   "source": [
    "- Asignación de valores:\n",
    "\n",
    "Se utiliza el operador **<-** o **=** para asignar valores a variables.\n",
    "\n",
    "Por ejemplo: x <- 10 asigna el valor 10 a la variable x."
   ]
  },
  {
   "cell_type": "markdown",
   "id": "501cbccd-de93-423f-af49-895dc71c143a",
   "metadata": {
    "editable": true,
    "slideshow": {
     "slide_type": "fragment"
    },
    "tags": []
   },
   "source": [
    "- Operaciones aritméticas:\n",
    "\n",
    "R permite realizar operaciones aritméticas básicas como suma, resta, multiplicación y división utilizando los operadores +, -, * y /, respectivamente."
   ]
  },
  {
   "cell_type": "markdown",
   "id": "2882c3f5-fee9-4846-9755-aa3c2c13402f",
   "metadata": {
    "editable": true,
    "slideshow": {
     "slide_type": "fragment"
    },
    "tags": []
   },
   "source": [
    "- Indexación:\n",
    "\n",
    "Para acceder a elementos específicos de una estructura de datos, se utiliza la indexación. \n",
    "\n",
    "Por ejemplo, vector[3] accede al tercer elemento de un vector.\n",
    "\n",
    "```r\n",
    "mi_vector <- c(10, 20, 30, 40, 50)\n",
    "elemento <- mi_vector[3]\n",
    "```"
   ]
  },
  {
   "cell_type": "markdown",
   "id": "87f71792-c03c-4e0b-9037-ec626014fed5",
   "metadata": {
    "editable": true,
    "slideshow": {
     "slide_type": "fragment"
    },
    "tags": []
   },
   "source": [
    "- Funciones de resumen:\n",
    "\n",
    "R proporciona funciones para calcular estadísticas resumidas, como la media (mean()), la mediana (median()), la desviación estándar (sd()), entre otras.\n",
    "\n",
    "```r\n",
    "mean_resultado <- mean(mi_vector)\n",
    "median_resultado <- median(mi_vector)\n",
    "sd_resultado <- sd(mi_vector)\n",
    "```"
   ]
  },
  {
   "cell_type": "markdown",
   "id": "9d0a249d-c7e3-4f28-8246-039d0df42675",
   "metadata": {
    "editable": true,
    "slideshow": {
     "slide_type": "fragment"
    },
    "tags": []
   },
   "source": [
    "- Operaciones lógicas:\n",
    "\n",
    "Se pueden realizar operaciones lógicas como AND (&), OR (|) y NOT (!) para comparar valores.\n",
    "\n",
    "```r\n",
    "resultado_logico <- (x > 5) & (x < 20)\n",
    "```"
   ]
  },
  {
   "cell_type": "markdown",
   "id": "2a9984f7-19a5-42f6-9553-b556fe8ef380",
   "metadata": {
    "editable": true,
    "slideshow": {
     "slide_type": "slide"
    },
    "tags": []
   },
   "source": [
    "### Funciones en R\n",
    "\n",
    "Las funciones en R son bloques de código que realizan una tarea específica y pueden aceptar argumentos como entrada. R incluye una amplia variedad de funciones predefinidas para realizar tareas comunes, como cálculos estadísticos, manipulación de datos y visualización.\n",
    "\n",
    "Los usuarios pueden definir sus propias funciones utilizando la palabra clave function. Por ejemplo,\n",
    "\n",
    "```r\n",
    "mi_funcion <- function(x) { return(x^2) }\n",
    "```\n",
    "\n",
    "Define una función llamada mi_funcion que devuelve el cuadrado de su argumento x.\n",
    "\n",
    "Para llamar a una función, simplemente se escribe el nombre de la función seguido de paréntesis que pueden contener argumentos si es necesario. Por ejemplo, resultado <- mi_funcion(3) llama a la función mi_funcion con el argumento 3 y almacena el resultado en la variable resultado."
   ]
  },
  {
   "cell_type": "markdown",
   "id": "083e6c55-f2ea-422f-8726-22bec0616d9b",
   "metadata": {
    "editable": true,
    "slideshow": {
     "slide_type": "slide"
    },
    "tags": []
   },
   "source": [
    "## Características clave de R\n"
   ]
  },
  {
   "cell_type": "markdown",
   "id": "f7a68105-b0fc-45b3-9a34-a4e95c5a36a9",
   "metadata": {
    "editable": true,
    "slideshow": {
     "slide_type": "slide"
    },
    "tags": []
   },
   "source": [
    "### Análisis estadístico\n",
    "\n",
    "El análisis estadístico es una de las capacidades principales de R. Con una amplia variedad de funciones y paquetes estadísticos, R permite a los usuarios realizar una amplia gama de análisis estadísticos, desde simples cálculos descriptivos hasta complejos modelos predictivos."
   ]
  },
  {
   "cell_type": "markdown",
   "id": "1915cdf6-141d-4282-91ee-5f5fa28b3338",
   "metadata": {
    "editable": true,
    "slideshow": {
     "slide_type": "slide"
    },
    "tags": []
   },
   "source": [
    "### Gráficos personalizables\n",
    "\n",
    "Una de las características más destacadas de R es su capacidad para crear gráficos altamente personalizables y de alta calidad. R ofrece una amplia variedad de paquetes para la visualización de datos, incluyendo ggplot2, lattice, y base graphics, que permiten crear una amplia gama de gráficos estáticos y dinámicos. Estos gráficos pueden ser personalizados en términos de colores, estilos, etiquetas y otros aspectos para satisfacer las necesidades específicas de visualización de cada usuario.\n",
    "\n",
    "```r\n",
    "library(ggplot2) \n",
    "datos <- data.frame(x = 1:10, y = 1:10) ggplot(datos, aes(x = x, y = y)) + geom_point(color = \"blue\") + labs(title = \"Gráfico de dispersión\", x = \"Eje X\", y = \"Eje Y\")\n",
    "```"
   ]
  },
  {
   "cell_type": "markdown",
   "id": "5557dc3a-ab57-403b-954f-3c61b8a909a8",
   "metadata": {
    "editable": true,
    "slideshow": {
     "slide_type": "slide"
    },
    "tags": []
   },
   "source": [
    "### Comunidad y paquetes\n",
    "\n",
    "Una de las mayores fortalezas de R es su activa y diversa comunidad de usuarios y desarrolladores. Esta comunidad contribuye constantemente al desarrollo de nuevos paquetes y funcionalidades, lo que enriquece el ecosistema de R y amplía sus capacidades. Además, la comunidad proporciona soporte a través de foros en línea, listas de correo, grupos de usuarios y eventos como conferencias y talleres. Gracias a esta comunidad, R cuenta con una gran cantidad de paquetes disponibles para una amplia variedad de propósitos, lo que permite a los usuarios aprovechar fácilmente las últimas técnicas y métodos en sus análisis de datos.\n",
    "\n",
    "```r\n",
    "install.packages(\"dplyr\") # Instalar el paquete dplyr\n",
    "library(dplyr) # Cargar el paquete dplyr\n",
    "datos_filtrados <- filter(datos, x > 5)\n",
    "```\n",
    "\n",
    "Hay otros paquetes disponibles muy interesantes como:\n",
    "\n",
    "- stats: Este es el paquete base de R que proporciona funciones para realizar cálculos estadísticos básicos y modelos estadísticos clásicos como regresión lineal, análisis de varianza, pruebas de hipótesis, entre otros.\n",
    "\n",
    "- caret: Este paquete proporciona una interfaz unificada para el entrenamiento de modelos de aprendizaje automático y la evaluación de su rendimiento."
   ]
  },
  {
   "cell_type": "markdown",
   "id": "2fdd7c6e-f23b-4b36-a82b-0fcb7ec3dde1",
   "metadata": {
    "editable": true,
    "slideshow": {
     "slide_type": "slide"
    },
    "tags": []
   },
   "source": [
    "## Primeros pasos con R\n"
   ]
  },
  {
   "cell_type": "markdown",
   "id": "698ab176-ac42-4ddb-8dea-7ce45d736008",
   "metadata": {
    "editable": true,
    "slideshow": {
     "slide_type": "fragment"
    },
    "tags": []
   },
   "source": [
    "### Plataformas compatibles\n",
    "\n",
    "R es compatible con una amplia variedad de plataformas, lo que hace que sea accesible para usuarios de diferentes sistemas operativos. Algunas de las plataformas compatibles con R incluyen. Las plataformas compatibles con el lenguaje R incluyen **GNU/Linux**, **Mac OSX**, **MS Windows**, y **Unix**. Además, R Software está disponible para Linux, Windows y Mac."
   ]
  },
  {
   "cell_type": "markdown",
   "id": "8d76fe60-c22d-4993-9c60-dbb7dd1ae0ba",
   "metadata": {
    "editable": true,
    "slideshow": {
     "slide_type": "slide"
    },
    "tags": []
   },
   "source": [
    "## ¿Qué es RStudio?\n",
    "\n",
    "RStudio es un entorno de desarrollo integrado (IDE) diseñado específicamente para trabajar con el lenguaje de programación R. Proporciona un conjunto de herramientas que facilitan la escritura, depuración, ejecución y visualización de código en R, lo que lo convierte en una opción popular entre los usuarios de R."
   ]
  },
  {
   "cell_type": "markdown",
   "id": "8ee03c9e-b398-4638-917a-d108679c6038",
   "metadata": {
    "editable": true,
    "slideshow": {
     "slide_type": "slide"
    },
    "tags": []
   },
   "source": [
    "### Características de RStudio\n",
    "\n",
    "En la imagen se puede observar las cuatro áreas principales de las que consta R Studio, además de la barra de opciones ubicada en la parte superior."
   ]
  },
  {
   "cell_type": "markdown",
   "id": "d9a80e52-53e4-4711-b44a-470c3e5042c1",
   "metadata": {
    "editable": true,
    "slideshow": {
     "slide_type": "slide"
    },
    "tags": []
   },
   "source": [
    "<p align=\"right\" width=\"100%\">\n",
    "    <img width=\"100%\" src=\"https://cdn.openwebinars.net/media/uploads/2024/04/01/r6.webp\">\n",
    "</p>"
   ]
  },
  {
   "cell_type": "markdown",
   "id": "d142ce8c-0216-4b36-87ae-dbad0e633d90",
   "metadata": {
    "editable": true,
    "slideshow": {
     "slide_type": "fragment"
    },
    "tags": []
   },
   "source": [
    "1. Se encuentra el **editor** de sintaxis, donde se escribe el código que se desea ejecutar. Sin embargo, el código no se ejecuta automáticamente al escribirlo; se necesita presionar algún botón o usar la combinación de teclas **ctrl + enter** para ejecutar los comandos."
   ]
  },
  {
   "cell_type": "markdown",
   "id": "09f92c47-ac4b-4843-bdf9-0efad678cf42",
   "metadata": {
    "editable": true,
    "slideshow": {
     "slide_type": "slide"
    },
    "tags": []
   },
   "source": [
    "<p align=\"right\" width=\"100%\">\n",
    "    <img width=\"100%\" src=\"https://cdn.openwebinars.net/media/uploads/2024/04/01/r6.webp\">\n",
    "</p>"
   ]
  },
  {
   "cell_type": "markdown",
   "id": "bea97672-2f79-44c7-a3f5-7c0f5ada468b",
   "metadata": {
    "editable": true,
    "slideshow": {
     "slide_type": "fragment"
    },
    "tags": []
   },
   "source": [
    "2. Corresponde al **entorno de trabajo** del programa. Aquí se muestran los conjuntos de datos y los resultados, variables y gráficos generados al ejecutar diferentes análisis."
   ]
  },
  {
   "cell_type": "markdown",
   "id": "78c763a4-c38c-48e4-8ddf-3e488b92491b",
   "metadata": {
    "editable": true,
    "slideshow": {
     "slide_type": "slide"
    },
    "tags": []
   },
   "source": [
    "<p align=\"right\" width=\"100%\">\n",
    "    <img width=\"100%\" src=\"https://cdn.openwebinars.net/media/uploads/2024/04/01/r6.webp\">\n",
    "</p>"
   ]
  },
  {
   "cell_type": "markdown",
   "id": "68e4ddcc-047c-4aa2-972e-c685998b66df",
   "metadata": {
    "editable": true,
    "slideshow": {
     "slide_type": "fragment"
    },
    "tags": []
   },
   "source": [
    "3. Se encuentran varias pestañas:\n",
    "\n",
    "    - La pestaña de **archivos**, permite ver el historial de archivos trabajados con el programa.\n",
    "    - La pestaña de **gráficos**, permite visualizar los gráficos generados.\n",
    "    - La pestaña de **paquetes**, permite ver los paquetes descargados y almacenados en el disco duro, así como gestionar su instalación o actualización.\n",
    "    - La pestaña de **ayuda** brinda acceso al CRAN (Comprehensive R Archive Network), la página oficial del software que ofrece una variedad de recursos, como manuales para el usuario, cursos en línea, información general y descarga de paquetes. Esta pestaña es especialmente útil, ya que mediante el motor de búsqueda podemos acceder rápidamente a los manuales de uso de los diferentes paquetes instalados en el ordenador, sin necesidad de estar conectados a Internet.\n",
    "    - La ventana **visor** muestra los resultados al construir reportes utilizando funcionalidades similares a rmarkdown."
   ]
  },
  {
   "cell_type": "markdown",
   "id": "dfa3d873-38f0-44bb-ab42-ffb8ed47bbd5",
   "metadata": {
    "editable": true,
    "slideshow": {
     "slide_type": "slide"
    },
    "tags": []
   },
   "source": [
    "<p align=\"right\" width=\"100%\">\n",
    "    <img width=\"100%\" src=\"https://cdn.openwebinars.net/media/uploads/2024/04/01/r6.webp\">\n",
    "</p>"
   ]
  },
  {
   "cell_type": "markdown",
   "id": "cd5a2c12-ff4a-4c00-99fa-7a4d707b1562",
   "metadata": {
    "editable": true,
    "slideshow": {
     "slide_type": "fragment"
    },
    "tags": []
   },
   "source": [
    "4. Corresponde a la **consola**, que funciona de manera similar al software R en su versión básica. Aquí es donde se ejecutan las operaciones realizadas desde el editor de sintaxis."
   ]
  },
  {
   "cell_type": "markdown",
   "id": "34b47972-80c9-46f6-a6fe-e318b0bbcb23",
   "metadata": {
    "editable": true,
    "slideshow": {
     "slide_type": "slide"
    },
    "tags": []
   },
   "source": [
    "### Ventajas de usar Rstudio\n",
    "\n",
    "RStudio ofrece una serie de ventajas que lo convierten en una herramienta imprescindible para analistas de datos, científicos y desarrolladores. Su interfaz intuitiva y centrada en el usuario facilita la programación en R, permitiendo una rápida exploración y manipulación de datos. La integración de funciones como la visualización de gráficos en tiempo real y la capacidad de generar informes dinámicos con Markdown agilizan el proceso de análisis y presentación de resultados. Además, RStudio ofrece un entorno de desarrollo robusto con características como la depuración de código, control de versiones y gestión de paquetes, lo que aumenta la eficiencia y productividad del usuario. Su naturaleza de código abierto y la activa comunidad de usuarios garantizan un continuo desarrollo y soporte, asegurando que RStudio siga siendo una herramienta líder en el campo del análisis de datos y la ciencia de datos."
   ]
  },
  {
   "cell_type": "markdown",
   "id": "f7e39724-5f52-419b-b25b-a7343ea41c4c",
   "metadata": {
    "editable": true,
    "slideshow": {
     "slide_type": "slide"
    },
    "tags": []
   },
   "source": [
    "## Lo que deberías recordar del lenguaje R"
   ]
  },
  {
   "cell_type": "markdown",
   "id": "c5625b4f-6027-4e1f-a1af-bbd1ced50a80",
   "metadata": {
    "editable": true,
    "slideshow": {
     "slide_type": "fragment"
    },
    "tags": []
   },
   "source": [
    "- R es un lenguaje de programación y un entorno de software libre y de código abierto diseñado para análisis estadístico y visualización de datos."
   ]
  },
  {
   "cell_type": "markdown",
   "id": "0c74a86f-d841-424d-9f93-7711cbaa24cb",
   "metadata": {
    "editable": true,
    "slideshow": {
     "slide_type": "fragment"
    },
    "tags": []
   },
   "source": [
    "- Es ampliamente utilizado en diversas disciplinas debido a su flexibilidad, amplia gama de paquetes y poderosa capacidad de visualización."
   ]
  },
  {
   "cell_type": "markdown",
   "id": "d0c86235-48b0-4047-81f5-d3459ac3bb16",
   "metadata": {
    "editable": true,
    "slideshow": {
     "slide_type": "fragment"
    },
    "tags": []
   },
   "source": [
    "- Se originó como un proyecto de investigación en los laboratorios de Bell en los años 90 y ha experimentado un crecimiento significativo gracias a la contribución de la comunidad de usuarios y desarrolladores."
   ]
  },
  {
   "cell_type": "markdown",
   "id": "fd0fff56-bdb8-4216-a9d3-7e140bdd4715",
   "metadata": {
    "editable": true,
    "slideshow": {
     "slide_type": "fragment"
    },
    "tags": []
   },
   "source": [
    "- La comunidad de usuarios y colaboradores de R es activa y diversa, contribuyendo al desarrollo de nuevos paquetes y funcionalidades, así como proporcionando soporte a otros usuarios."
   ]
  },
  {
   "cell_type": "markdown",
   "id": "0e3165b7-71a9-45d7-8ffc-76a8b449de50",
   "metadata": {
    "editable": true,
    "slideshow": {
     "slide_type": "fragment"
    },
    "tags": []
   },
   "source": [
    "- R ofrece capacidades avanzadas para el análisis estadístico, la creación de gráficos personalizables y una amplia variedad de paquetes disponibles gracias a su activa comunidad."
   ]
  },
  {
   "cell_type": "markdown",
   "id": "6b3a0776-db5c-493f-b066-e75de7039cc2",
   "metadata": {
    "editable": true,
    "slideshow": {
     "slide_type": "slide"
    },
    "tags": []
   },
   "source": [
    "### ¿Dudas o consultas?"
   ]
  },
  {
   "cell_type": "code",
   "execution_count": null,
   "id": "3aa27c13-9298-4da6-8629-ae2493fa9b75",
   "metadata": {
    "editable": true,
    "slideshow": {
     "slide_type": ""
    },
    "tags": []
   },
   "outputs": [],
   "source": []
  }
 ],
 "metadata": {
  "kernelspec": {
   "display_name": "Python 3 (ipykernel)",
   "language": "python",
   "name": "python3"
  },
  "language_info": {
   "codemirror_mode": {
    "name": "ipython",
    "version": 3
   },
   "file_extension": ".py",
   "mimetype": "text/x-python",
   "name": "python",
   "nbconvert_exporter": "python",
   "pygments_lexer": "ipython3",
   "version": "3.12.4"
  }
 },
 "nbformat": 4,
 "nbformat_minor": 5
}
