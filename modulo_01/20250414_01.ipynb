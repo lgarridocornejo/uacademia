{
 "cells": [
  {
   "cell_type": "code",
   "execution_count": 1,
   "id": "aa7b5950-c574-4393-9248-1ecb60d5baa4",
   "metadata": {
    "editable": true,
    "slideshow": {
     "slide_type": ""
    },
    "tags": []
   },
   "outputs": [],
   "source": [
    "# venv uacademia >>> 20240414"
   ]
  },
  {
   "cell_type": "markdown",
   "id": "ae08449c-988d-4113-bfae-228a5be82e28",
   "metadata": {
    "editable": true,
    "slideshow": {
     "slide_type": ""
    },
    "tags": []
   },
   "source": [
    "<p align=\"right\" width=\"100%\">\n",
    "    <img width=\"100%\" src=\"https://miro.medium.com/v2/resize:fit:640/format:webp/1*XWirysC4AcQz5xE5DzlEkw.png\">\n",
    "</p>"
   ]
  },
  {
   "cell_type": "markdown",
   "id": "f3be6acb-50f2-4446-98fb-973290af8d1e",
   "metadata": {
    "editable": true,
    "slideshow": {
     "slide_type": ""
    },
    "tags": []
   },
   "source": [
    "# IDE de Python Spyder\n",
    "Spyder, abreviatura de **Scientific PYthon Development EnviRonment**, es un potente entorno de desarrollo integrado.(IDE) diseñado específicamente para Python. Ofrece un entorno rico en funciones con ejecución interactiva para la computación científica, el análisis de datos y el desarrollo.\n",
    "Spyder es una completa herramienta de desarrollo que proporciona una interfaz fácil de usar que mejora la productividad y facilita una codificación eficaz con una edición avanzada que no requiere plugins de terceros."
   ]
  },
  {
   "cell_type": "markdown",
   "id": "4c95bb07-4707-4037-b596-b53605561a4b",
   "metadata": {
    "editable": true,
    "slideshow": {
     "slide_type": ""
    },
    "tags": []
   },
   "source": [
    "## ¿Qué es Spyder?\n",
    "es un IDE de código abierto que combina la sencillez de un editor de código con la potencia de herramientas integradas para la computación científica en Python. Se creó para ofrecer un entorno adaptado a las necesidades de científicos, ingenieros y analistas de datos. Algunas de las características clave que distinguen al Spyder son:"
   ]
  },
  {
   "cell_type": "markdown",
   "id": "a870a663-e4fa-4754-af17-ed6b4b70f8f2",
   "metadata": {
    "editable": true,
    "slideshow": {
     "slide_type": ""
    },
    "tags": []
   },
   "source": [
    "![](https://miro.medium.com/v2/resize:fit:1100/format:webp/1*VpE_t02r-NN8Zd8D0OidAQ.png)"
   ]
  },
  {
   "cell_type": "markdown",
   "id": "81cea922-84e0-43f9-9c18-2d6f002f6ee2",
   "metadata": {
    "editable": true,
    "slideshow": {
     "slide_type": ""
    },
    "tags": []
   },
   "source": [
    "### 1. Consola interactiva\n",
    "\n",
    "Spyder viene equipado con una consola interactiva que permite a los usuarios ejecutar código Python línea por línea. Esto resulta especialmente útil para probar pequeños fragmentos de código y explorar datos de forma interactiva."
   ]
  },
  {
   "cell_type": "markdown",
   "id": "681b5927-e7f3-4140-81f2-f8d7b91d7501",
   "metadata": {},
   "source": [
    "### 2. Explorador de variables\n",
    "\n",
    "El Explorador de variables proporciona una interfaz gráfica para inspeccionar en profundidad y manipular las variables de su código. Facilita la exploración del contenido de variables, matrices y marcos de datos."
   ]
  },
  {
   "cell_type": "markdown",
   "id": "b5507b08-bd21-4e7d-919e-726aa07eb471",
   "metadata": {},
   "source": [
    "### 3. Editor de código\n",
    "\n",
    "El editor de código integrado en Spyder incluye funciones como resaltado de sintaxis, plegado de código y completado de código, que ayudan a agilizar el proceso de codificación y mejoran la legibilidad del código."
   ]
  },
  {
   "cell_type": "markdown",
   "id": "7fb2c732-a330-4c93-9654-2e65dbb9bd40",
   "metadata": {},
   "source": [
    "### 4. Integración de IPython\n",
    "\n",
    "Spyder se integra perfectamente con IPython, una interfaz interactiva de línea de comandos para Python. Esta integración mejora la experiencia informática interactiva al proporcionar funciones como la introspección mejorada, la funcionalidad de creación de perfiles y la salida de medios enriquecidos."
   ]
  },
  {
   "cell_type": "markdown",
   "id": "2fb6d616-e5de-4b49-8a18-7b0dbaebc553",
   "metadata": {},
   "source": [
    "### 5. Gráficos y visualizaciones\n",
    "\n",
    "Spyder incluye un sistema incorporado de trazado de inspección profunda de ejecución interactiva con hermosas capacidades de visualización, permitiendo a los usuarios crear y ver trazados directamente dentro del IDE. Esta característica es beneficiosa para la visualización y el análisis de datos en Python científico."
   ]
  },
  {
   "cell_type": "markdown",
   "id": "983f0c4b-d8a3-4f9c-a703-3fc3ec6e2526",
   "metadata": {},
   "source": [
    "### 6. Visor de documentación\n",
    "\n",
    "El visor de documentación de Spyder proporciona un acceso rápido a la documentación de las bibliotecas y funciones de Python. Puede ser un recurso valioso para comprender y utilizar los distintos módulos de Python.\n",
    "\n",
    "\n",
    "## Primeros pasos con Spyder"
   ]
  },
  {
   "cell_type": "markdown",
   "id": "1696ed73-a531-4bd5-9b5a-4b270ca6512d",
   "metadata": {},
   "source": [
    "### 1. Consola interactiva\n",
    "\n",
    "Una vez iniciado Spyder, verá una consola interactiva en la parte inferior. Puede escribir y ejecutar código Python directamente en esta consola."
   ]
  },
  {
   "cell_type": "markdown",
   "id": "db164d2f-b135-4886-aae4-62627b1ddad2",
   "metadata": {},
   "source": [
    "### 2. Editor de código\n",
    "\n",
    "Crea un nuevo script Python pulsando \"Archivo\" -> \"Nuevo archivo\" -> \"Script Python\". Escribe tu código Python en el editor, y ejecútalo haciendo clic en la flecha verde \"Ejecutar\" o pulsando F5."
   ]
  },
  {
   "cell_type": "markdown",
   "id": "44fa960a-f654-4a3e-8dd9-2f39b2f4ca27",
   "metadata": {},
   "source": [
    "### 3. Explorador de variables\n",
    "\n",
    "A medida que ejecute el código, las variables aparecerán en el Explorador. Haga clic en la pestaña Explorador de variables para inspeccionar los valores de las variables."
   ]
  },
  {
   "cell_type": "markdown",
   "id": "8eec0179-0bca-4976-a7ab-158cf5f26433",
   "metadata": {},
   "source": [
    "### 4. Gráficos y visualizaciones\n",
    "\n",
    "Cree gráficos utilizando las herramientas disponibles en el panel \"Gráficos\". Ejecute el código que genera los gráficos y se mostrarán en Spyder."
   ]
  },
  {
   "cell_type": "markdown",
   "id": "73ac533e-732a-4f82-9a7b-041c5a4ea677",
   "metadata": {
    "editable": true,
    "slideshow": {
     "slide_type": ""
    },
    "tags": []
   },
   "source": [
    "### 5. Visor de documentación\n",
    "\n",
    "Acceda a la documentación escribiendo el nombre de la función o del módulo en la consola de IPython y añadiendo un ? al final. Por ejemplo:\n",
    "\n",
    "Esto mostrará la documentación de la función especificada.\n",
    "\n",
    "Spyder destaca como una completa herramienta de desarrollo y un paquete científico con una combinación única, que ofrece ejecución interactiva, bellas capacidades de visualización y funciones de edición avanzadas. Adaptado a los analistas de datos y a la exploración de datos, Spyder ofrece funciones de completado automático de código, explorador de variables e inspección en profundidad. Con su combinación única de numerosas funciones integradas, incluida la funcionalidad de creación de perfiles y los enlaces, Spyder crea un potente entorno científico escrito pensando en las necesidades de los desarrolladores. La inclusión de otras tantas consolas IPython, un editor multilingüe y el proyecto Spyder contribuyen aún más a su condición de herramienta versátil e indispensable para los programadores de Python dedicados a la informática científica y el análisis de datos."
   ]
  },
  {
   "cell_type": "code",
   "execution_count": null,
   "id": "607f9804-f49a-419d-aa7b-a5b6264c1028",
   "metadata": {
    "editable": true,
    "slideshow": {
     "slide_type": ""
    },
    "tags": []
   },
   "outputs": [],
   "source": []
  },
  {
   "cell_type": "code",
   "execution_count": null,
   "id": "5ae181a3-eebb-482c-9752-ffa207a46077",
   "metadata": {
    "editable": true,
    "slideshow": {
     "slide_type": ""
    },
    "tags": []
   },
   "outputs": [],
   "source": []
  }
 ],
 "metadata": {
  "kernelspec": {
   "display_name": "Python [conda env:base] *",
   "language": "python",
   "name": "conda-base-py"
  },
  "language_info": {
   "codemirror_mode": {
    "name": "ipython",
    "version": 3
   },
   "file_extension": ".py",
   "mimetype": "text/x-python",
   "name": "python",
   "nbconvert_exporter": "python",
   "pygments_lexer": "ipython3",
   "version": "3.9.16"
  }
 },
 "nbformat": 4,
 "nbformat_minor": 5
}
