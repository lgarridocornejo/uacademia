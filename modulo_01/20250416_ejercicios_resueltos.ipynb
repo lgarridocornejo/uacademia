{
 "cells": [
  {
   "cell_type": "code",
   "execution_count": 4,
   "id": "c6ddd9da-113a-473c-bca4-52207f196ad6",
   "metadata": {},
   "outputs": [],
   "source": [
    "# venv uacademia >>> 20250416"
   ]
  },
  {
   "cell_type": "code",
   "execution_count": 6,
   "id": "a8483f02-7330-4d25-a955-c0a145f22dc2",
   "metadata": {},
   "outputs": [],
   "source": [
    "mi_lista = [42, \"python\", 3.14, True, \"manzana\", 0, False, \"universo\", 8.8, \"programar\", 99, \"a\", 5, [1, 2, 3], \"b\", 7.77, True, \"alerce\", 2025, None, \"zorro\"]\n"
   ]
  },
  {
   "cell_type": "code",
   "execution_count": 38,
   "id": "4830b806-5335-4a77-bf1b-c78c637993fc",
   "metadata": {},
   "outputs": [
    {
     "name": "stdout",
     "output_type": "stream",
     "text": [
      "a\n"
     ]
    }
   ],
   "source": [
    "# 1. Acceder al elemento 12 de la lista.\n",
    "print(mi_lista[11])"
   ]
  },
  {
   "cell_type": "code",
   "execution_count": 44,
   "id": "ef28b84c-a2cc-4690-82f8-7a46bf8fba72",
   "metadata": {},
   "outputs": [
    {
     "name": "stdout",
     "output_type": "stream",
     "text": [
      "b\n",
      "7.77\n",
      "True\n",
      "alerce\n",
      "2025\n",
      "None\n"
     ]
    }
   ],
   "source": [
    "# 2. Recorrer la lista desde el elemento 15 al 19.\n",
    "\n",
    "# *****\n",
    "for elemento in mi_lista[14:20]:\n",
    "    print(elemento)"
   ]
  },
  {
   "cell_type": "code",
   "execution_count": 46,
   "id": "1abe77ca-f3ca-44ca-8dea-42f6166f4437",
   "metadata": {},
   "outputs": [
    {
     "name": "stdout",
     "output_type": "stream",
     "text": [
      "None\n",
      "2025\n",
      "alerce\n",
      "True\n",
      "7.77\n",
      "b\n",
      "[1, 2, 3]\n",
      "5\n",
      "a\n",
      "99\n",
      "programar\n",
      "8.8\n",
      "universo\n",
      "False\n",
      "0\n",
      "manzana\n",
      "True\n"
     ]
    }
   ],
   "source": [
    "# 3. Recorrer la lista desde el cuarto al penúltimo, pero en orden inverso.\n",
    "for elemento in mi_lista[-2:2:-1]:\n",
    "    print(elemento)"
   ]
  },
  {
   "cell_type": "code",
   "execution_count": 64,
   "id": "6c96a1f8-459e-41d7-b509-c83c92778047",
   "metadata": {},
   "outputs": [
    {
     "name": "stdout",
     "output_type": "stream",
     "text": [
      "python\n",
      "manzana\n",
      "universo\n",
      "programar\n",
      "a\n",
      "b\n",
      "alerce\n",
      "zorro\n"
     ]
    }
   ],
   "source": [
    "# 4. Imprimir solo los elementos que sean de tipo str.\n",
    "for elemento in mi_lista:\n",
    "    if type(elemento) == str: # isinstance(elemento, str):\n",
    "        print(elemento)"
   ]
  },
  {
   "cell_type": "code",
   "execution_count": 68,
   "id": "7eb6a3b7-dee7-4d16-ba5a-155ffb359308",
   "metadata": {},
   "outputs": [
    {
     "name": "stdout",
     "output_type": "stream",
     "text": [
      "Índice 3 contiene un booleano: True\n",
      "Índice 6 contiene un booleano: False\n",
      "Índice 16 contiene un booleano: True\n"
     ]
    }
   ],
   "source": [
    "# 5. Mostrar los índices de todos los elementos que sean booleanos.\n",
    "for i, elemento in enumerate(mi_lista):\n",
    "    if type(elemento) == bool: # isinstance(elemento, bool):\n",
    "        print(f\"Índice {i} contiene un booleano: {elemento}\")"
   ]
  },
  {
   "cell_type": "code",
   "execution_count": 86,
   "id": "bee8eb16-26ae-4f3c-9506-22ac19f61f27",
   "metadata": {},
   "outputs": [
    {
     "name": "stdout",
     "output_type": "stream",
     "text": [
      "42\n",
      "0\n",
      "99\n",
      "5\n",
      "2025\n",
      "Suma de enteros: 2171\n"
     ]
    }
   ],
   "source": [
    "# 6. Calcular la suma de los elementos que sean números enteros (int).\n",
    "suma = 0\n",
    "for i in mi_lista:\n",
    "    if type(i) == int:\n",
    "        print(i)\n",
    "        suma = suma + i\n",
    "        \n",
    "print(\"Suma de enteros:\", suma)"
   ]
  },
  {
   "cell_type": "code",
   "execution_count": 88,
   "id": "b5d8bf08-a79e-461d-ad7f-559ce3788af3",
   "metadata": {},
   "outputs": [
    {
     "name": "stdout",
     "output_type": "stream",
     "text": [
      "42\n",
      "3.14\n",
      "manzana\n",
      "False\n",
      "8.8\n",
      "99\n",
      "5\n",
      "b\n",
      "True\n",
      "2025\n",
      "zorro\n"
     ]
    }
   ],
   "source": [
    "# 7. Mostrar los elementos que estén en posiciones pares.\n",
    "for i in range(0, len(mi_lista), 2):\n",
    "    print(mi_lista[i])"
   ]
  },
  {
   "cell_type": "code",
   "execution_count": 102,
   "id": "c9d58414-d43d-4600-8f10-b53b6299d4bb",
   "metadata": {},
   "outputs": [
    {
     "name": "stdout",
     "output_type": "stream",
     "text": [
      "'python' está en la lista.\n"
     ]
    }
   ],
   "source": [
    "# 8. Verificar si la palabra 'python' está en la lista.\n",
    "if 'python' in mi_lista:\n",
    "    print(\"'python' está en la lista.\")\n",
    "else:\n",
    "    print(\"'python' no está en la lista.\")"
   ]
  },
  {
   "cell_type": "code",
   "execution_count": 104,
   "id": "732c5017-692f-4348-8602-258ba4b939e4",
   "metadata": {},
   "outputs": [
    {
     "name": "stdout",
     "output_type": "stream",
     "text": [
      "alerce está en el índice: 17\n"
     ]
    }
   ],
   "source": [
    "# 9. En qué posición está la palabra 'alerce'\n",
    "\n",
    "# ******\n",
    "\n",
    "indice = mi_lista.index('alerce')\n",
    "print(f\"alerce está en el índice: {indice}\")"
   ]
  },
  {
   "cell_type": "code",
   "execution_count": 100,
   "id": "de614e61-2b62-409c-becd-23d2b2466cce",
   "metadata": {},
   "outputs": [
    {
     "name": "stdout",
     "output_type": "stream",
     "text": [
      "Cantidad de elementos float: 3\n"
     ]
    }
   ],
   "source": [
    "# 10. Contar cuántos elementos son de tipo float.suma = 0\n",
    "# contador = sum(1 for x in mi_lista if isinstance(x, float))\n",
    "\n",
    "contador = 0\n",
    "for i in mi_lista:\n",
    "    if type(i) == float:\n",
    "        contador += 1\n",
    "print(\"Cantidad de elementos float:\", contador)\n"
   ]
  },
  {
   "cell_type": "markdown",
   "id": "e3a4e49f-2876-4821-a01c-e987147b67ce",
   "metadata": {},
   "source": [
    "---"
   ]
  },
  {
   "cell_type": "code",
   "execution_count": 117,
   "id": "712814be-8905-4eb5-bc1b-888d73028726",
   "metadata": {},
   "outputs": [],
   "source": [
    "mi_lista = [42, \"python\", 3.14, True, \"manzana\", 0, False, \"universo\", 8.8, \"programar\", 99, \"a\", 5, [1, 2, 3], \"b\", 7.77, True, \"alerce\", 2025, None, \"zorro\"]"
   ]
  },
  {
   "cell_type": "code",
   "execution_count": 107,
   "id": "cfa29822-a249-46a2-a1dc-6a42b3b9d492",
   "metadata": {},
   "outputs": [
    {
     "name": "stdin",
     "output_type": "stream",
     "text": [
      "Ingrear indice:  3\n"
     ]
    },
    {
     "name": "stdout",
     "output_type": "stream",
     "text": [
      "True\n"
     ]
    }
   ],
   "source": [
    "# 1. Función para acceder a un elemento de la lista dados por el usuario.\n",
    "\n",
    "# *****\n",
    "def obtener_elemento(lista, indice):\n",
    "    return lista[indice]\n",
    "\n",
    "indice = int(input(\"Ingrear indice: \"))\n",
    "print(obtener_elemento(mi_lista, indice))"
   ]
  },
  {
   "cell_type": "code",
   "execution_count": 110,
   "id": "c82a5587-1c08-4a87-853b-53d3be2e3729",
   "metadata": {},
   "outputs": [
    {
     "name": "stdin",
     "output_type": "stream",
     "text": [
      "Desde qué índice desea comenzar?  4\n",
      "Hasta qué índice desea recorrer?  9\n"
     ]
    },
    {
     "name": "stdout",
     "output_type": "stream",
     "text": [
      "manzana\n",
      "0\n",
      "False\n",
      "universo\n",
      "8.8\n"
     ]
    }
   ],
   "source": [
    "# 2. Recorrer parte de la lista con índices dados por usuario.\n",
    "\n",
    "# *****\n",
    "inicio = int(input('Desde qué índice desea comenzar? '))\n",
    "fin = int(input('Hasta qué índice desea recorrer? '))\n",
    "for elemento in mi_lista[inicio:fin]:\n",
    "    print(elemento)"
   ]
  },
  {
   "cell_type": "code",
   "execution_count": 119,
   "id": "7d834f4d-0a69-4668-88b0-20d727edb547",
   "metadata": {},
   "outputs": [
    {
     "name": "stdin",
     "output_type": "stream",
     "text": [
      "Índice inicial (reversa):  20\n",
      "Índice final (reversa):  11\n"
     ]
    },
    {
     "name": "stdout",
     "output_type": "stream",
     "text": [
      "zorro\n",
      "None\n",
      "2025\n",
      "alerce\n",
      "True\n",
      "7.77\n",
      "b\n",
      "[1, 2, 3]\n",
      "5\n"
     ]
    }
   ],
   "source": [
    "# 3. Recorrer en reversa entre índices dados por el usuario.\n",
    "\n",
    "# *****\n",
    "inicio = int(input('Índice inicial (reversa): '))\n",
    "fin = int(input('Índice final (reversa): '))\n",
    "for elemento in mi_lista[inicio:fin:-1]:\n",
    "    print(elemento)"
   ]
  },
  {
   "cell_type": "code",
   "execution_count": 124,
   "id": "2711d315-cfc6-43bd-a869-ea477ccad985",
   "metadata": {},
   "outputs": [
    {
     "name": "stdin",
     "output_type": "stream",
     "text": [
      "¿Qué elemento desea buscar en la lista?  uva\n"
     ]
    }
   ],
   "source": [
    "# 4. Buscar un elemento ingresado por el usuario.\n",
    "buscado = input('¿Qué elemento desea buscar en la lista? ')\n",
    "for elemento in mi_lista:\n",
    "    if str(elemento) == buscado:\n",
    "        print(f'Elemento encontrado: {elemento}')"
   ]
  },
  {
   "cell_type": "markdown",
   "id": "82189430-c8af-4e58-aece-05144240b83b",
   "metadata": {},
   "source": [
    "---"
   ]
  },
  {
   "cell_type": "code",
   "execution_count": 12,
   "id": "a16714b8-fbf2-4e42-a633-52a400e5bda4",
   "metadata": {},
   "outputs": [],
   "source": [
    "personas = {\n",
    "    1: {'nombre':'Ana',\n",
    "        'edad': 28,\n",
    "        'ciudad': 'Valparaíso',\n",
    "        'profesion': 'Ingeniera',\n",
    "        'correo': 'ana@uacademia.cl'\n",
    "    },\n",
    "    2: {'nombre':'jose',\n",
    "        'edad': 35,\n",
    "        'ciudad': 'Santiago',\n",
    "        'profesion': 'Profesor',\n",
    "        'correo': 'jose@uacademia.cl'\n",
    "    }\n",
    "}"
   ]
  },
  {
   "cell_type": "code",
   "execution_count": 14,
   "id": "f40f5a26-42b0-43a6-945f-888a149998e6",
   "metadata": {},
   "outputs": [],
   "source": [
    "# 1. Imprimir las claves y valores del diccionario.\n",
    "# 2. Agregar una persona al diccionario personas, utilizar una función. Adémas, solicitar al usuario los datos de la nueva persona"
   ]
  },
  {
   "cell_type": "code",
   "execution_count": 34,
   "id": "cc645705-42a8-4ce3-bf14-849e89013036",
   "metadata": {},
   "outputs": [
    {
     "name": "stdout",
     "output_type": "stream",
     "text": [
      "nombre : Ana\n",
      "edad : 28\n",
      "ciudad : Valparaíso\n",
      "profesion : Ingeniera\n",
      "correo : ana@uacademia.cl\n",
      "\n",
      "\n",
      "nombre : jose\n",
      "edad : 35\n",
      "ciudad : Santiago\n",
      "profesion : Profesor\n",
      "correo : jose@uacademia.cl\n",
      "\n",
      "\n",
      "nombre : ramona\n",
      "edad : 5\n",
      "ciudad : stgo\n",
      "profesion : gato\n",
      "correo : sin email\n",
      "\n",
      "\n"
     ]
    }
   ],
   "source": [
    "# 1. Imprimir las claves y valores del diccionario.\n",
    "for clave_externa, diccionario_interno in personas.items():\n",
    "    for clave, valor in diccionario_interno.items():\n",
    "        print(f\"{clave} : {valor}\")\n",
    "    print('\\n')"
   ]
  },
  {
   "cell_type": "code",
   "execution_count": 18,
   "id": "a3bc32f2-292c-4a29-99df-ed6e3e40126a",
   "metadata": {},
   "outputs": [],
   "source": [
    "# 2. Agregar una persona al diccionario personas, utilizar una función. Adémas, solicitar al usuario los datos de la nueva persona"
   ]
  },
  {
   "cell_type": "code",
   "execution_count": 20,
   "id": "04a5c544-f1f8-4028-8911-2d92bf673f6b",
   "metadata": {},
   "outputs": [],
   "source": [
    "def agregar_persona(diccionario, id_persona, nombre, edad, ciudad, profesion, correo):\n",
    "    \"\"\"Agrega una nueva persona al diccionario.\"\"\"\n",
    "    diccionario[id_persona] = {\n",
    "        'nombre': nombre,\n",
    "        'edad': edad,\n",
    "        'ciudad': ciudad,\n",
    "        'profesion': profesion,\n",
    "        'correo': correo\n",
    "    }"
   ]
  },
  {
   "cell_type": "code",
   "execution_count": 22,
   "id": "ed2d9b67-1d32-4993-bec6-6701e3a9ce92",
   "metadata": {},
   "outputs": [
    {
     "name": "stdin",
     "output_type": "stream",
     "text": [
      "Ingresar nombre:  ramona\n",
      "Ingresar edad:  5\n",
      "Ingresar ciudad:  stgo\n",
      "Ingresar profesión:  gato\n",
      "Ingresar correo:  sin email\n"
     ]
    }
   ],
   "source": [
    "# Solicitar al usuario los datos de la nueva persona\n",
    "id_persona = ultima_clave = list(personas.keys())[-1] + 1 \n",
    "nombre = input(\"Ingresar nombre: \")\n",
    "edad = int(input(\"Ingresar edad: \"))\n",
    "ciudad = input(\"Ingresar ciudad: \")\n",
    "profesion = input(\"Ingresar profesión: \")\n",
    "correo = input(\"Ingresar correo: \")"
   ]
  },
  {
   "cell_type": "code",
   "execution_count": 26,
   "id": "e1cf3b37-aa46-46d1-9fff-708e69f082c3",
   "metadata": {},
   "outputs": [],
   "source": [
    "# Agregar la nueva persona al diccionario\n",
    "agregar_persona(personas, id_persona, nombre, edad, ciudad, profesion, correo)"
   ]
  }
 ],
 "metadata": {
  "kernelspec": {
   "display_name": "Python 3 (ipykernel)",
   "language": "python",
   "name": "python3"
  },
  "language_info": {
   "codemirror_mode": {
    "name": "ipython",
    "version": 3
   },
   "file_extension": ".py",
   "mimetype": "text/x-python",
   "name": "python",
   "nbconvert_exporter": "python",
   "pygments_lexer": "ipython3",
   "version": "3.12.4"
  }
 },
 "nbformat": 4,
 "nbformat_minor": 5
}
