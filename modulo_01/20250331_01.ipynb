{
 "cells": [
  {
   "cell_type": "code",
   "execution_count": null,
   "id": "97fea66b-67dd-42f6-94cd-25cef5c4a71c",
   "metadata": {
    "editable": true,
    "slideshow": {
     "slide_type": "skip"
    },
    "tags": []
   },
   "outputs": [],
   "source": [
    "# venv base >> 20250331"
   ]
  },
  {
   "cell_type": "code",
   "execution_count": null,
   "id": "98510fe3-75a2-4846-83dd-092951ad4849",
   "metadata": {
    "editable": true,
    "slideshow": {
     "slide_type": ""
    },
    "tags": []
   },
   "outputs": [],
   "source": [
    "#!pip install RISE"
   ]
  },
  {
   "cell_type": "markdown",
   "id": "d6fcbaff-d7f9-485f-85fd-c65830d5d6c4",
   "metadata": {
    "editable": true,
    "slideshow": {
     "slide_type": "slide"
    },
    "tags": []
   },
   "source": [
    "![](https://realpython.com/cdn-cgi/image/width=960,format=auto/https://files.realpython.com/media/Conditional-Statements-in-Python_Watermarked.b6b7d30ff62b.jpg)"
   ]
  },
  {
   "cell_type": "markdown",
   "id": "14d390e1-917c-4058-a538-6d5e09b9c800",
   "metadata": {
    "editable": true,
    "slideshow": {
     "slide_type": "slide"
    },
    "tags": []
   },
   "source": [
    "# Estructuras de control"
   ]
  },
  {
   "cell_type": "markdown",
   "id": "2af99f8d-9f20-4d91-85f5-64d09dbc9a43",
   "metadata": {
    "editable": true,
    "slideshow": {
     "slide_type": "slide"
    },
    "tags": []
   },
   "source": [
    "## ¿Qué son las estructuras de control de flujo?\n",
    "Las estructuras de control de flujo son herramientas fundamentales en la programación que **permiten alterar el orden en que se ejecutan las instrucciones de un programa**. En lugar de seguir una secuencia lineal, estas estructuras **permiten tomar decisiones**, **repetir bloques de código** o s**altar a diferentes partes del programa** según ciertas condiciones."
   ]
  },
  {
   "cell_type": "markdown",
   "id": "a7ccd261-ddf8-4643-bc06-38c7afa9759e",
   "metadata": {
    "editable": true,
    "slideshow": {
     "slide_type": "slide"
    },
    "tags": []
   },
   "source": [
    "## Sentencias condicionales y operadores logicos"
   ]
  },
  {
   "cell_type": "markdown",
   "id": "1639643e-a570-45a9-adb1-cefb139476c3",
   "metadata": {
    "editable": true,
    "slideshow": {
     "slide_type": "slide"
    },
    "tags": []
   },
   "source": [
    "### Operadores comparativos\n",
    "\n",
    "<table>\n",
    "    <thead>\n",
    "        <tr>\n",
    "            <th>Operador</th>\n",
    "            <th>Significado</th>\n",
    "        </tr>\n",
    "    </thead>\n",
    "    <tbody>\n",
    "        <tr>\n",
    "            <td>></td>\n",
    "            <td>Mayor que</td>\n",
    "        </tr>\n",
    "        <tr>\n",
    "            <td><</td>\n",
    "            <td>Menor que</td>\n",
    "        </tr>\n",
    "        <tr>\n",
    "            <td>>=</td>\n",
    "            <td>Mayor o igual que</td>\n",
    "        </tr>\n",
    "        <tr>\n",
    "            <td><=</td>\n",
    "            <td>menor o igual que</td>\n",
    "        </tr>\n",
    "        <tr>\n",
    "            <td>==</td>\n",
    "            <td>Igual que</td>\n",
    "        </tr>\n",
    "        <tr>\n",
    "            <td>!=</td>\n",
    "            <td>Distinto que</td>\n",
    "        </tr>\n",
    "    </tbody>\n",
    "</table>"
   ]
  },
  {
   "cell_type": "markdown",
   "id": "de2d557b-89f1-4171-ab19-ab4b95bffe63",
   "metadata": {
    "editable": true,
    "slideshow": {
     "slide_type": "slide"
    },
    "tags": []
   },
   "source": [
    "## Sentencia **if**\n",
    "\n",
    "- La sentencia if permite ejecutar un bloque de código **solo si se cumple una condición**.\n",
    "- La condición es una expresión booleana (**True** o **False**).\n",
    "  \n",
    "Explicación:\n",
    "- Si la condición es **True** (Verdadera), se ejecuta el bloque de código dentro del **if**.\n",
    "- Si la condición es **False** (Falsa), el programa continúa con la siguiente línea fuera del **if**."
   ]
  },
  {
   "cell_type": "markdown",
   "id": "76bac299-b557-434d-97aa-91a511270a63",
   "metadata": {
    "editable": true,
    "slideshow": {
     "slide_type": "fragment"
    },
    "tags": []
   },
   "source": [
    "### Sintaxis básica\n",
    "\n",
    "```python\n",
    "    if condición:\n",
    "        # Bloque de código que se ejecuta si la condición es verdadera\n",
    "\n",
    "```"
   ]
  },
  {
   "cell_type": "markdown",
   "id": "53fc73c8-c79d-4d3d-aa12-6dcdc679124b",
   "metadata": {
    "editable": true,
    "slideshow": {
     "slide_type": "fragment"
    },
    "tags": []
   },
   "source": [
    "```mermaid\n",
    "    graph LR\n",
    "        A[Inicio] --> B{Está lloviendo?};\n",
    "        B -- True --> C[Llevar paragua];\n",
    "        C --> E[Fin];\n",
    "```"
   ]
  },
  {
   "cell_type": "markdown",
   "id": "90359b4a-7a9e-4a7f-9438-22eeda8af82a",
   "metadata": {
    "editable": true,
    "slideshow": {
     "slide_type": "fragment"
    },
    "tags": []
   },
   "source": [
    "<div class=\"alert alert-block alert-success\">\n",
    "<b>IMPORTANTE:</b><br>\n",
    "- La indentación (espacios en blanco antes del bloque de código) es obligatoria en Python.<br>\n",
    "- Se recomienda usar 4 espacios por nivel de indentación.\n",
    "</div>"
   ]
  },
  {
   "cell_type": "markdown",
   "id": "bcf43f83-2128-47e3-9d55-3d532fc53391",
   "metadata": {
    "editable": true,
    "slideshow": {
     "slide_type": "slide"
    },
    "tags": []
   },
   "source": [
    "### Ejemplo: Verificar si un número es positivo"
   ]
  },
  {
   "cell_type": "code",
   "execution_count": null,
   "id": "e3e28c93-c672-4913-9b62-1546bb4d013e",
   "metadata": {
    "editable": true,
    "slideshow": {
     "slide_type": "fragment"
    },
    "tags": []
   },
   "outputs": [],
   "source": [
    "numero = 10\n",
    "\n",
    "if numero > 0:\n",
    "    print(\"El número es positivo.\")\n"
   ]
  },
  {
   "cell_type": "markdown",
   "id": "b30617d6-3323-49c0-9160-ddc8d1d22a14",
   "metadata": {
    "editable": true,
    "slideshow": {
     "slide_type": "fragment"
    },
    "tags": []
   },
   "source": [
    "Como **10 > 0** es **True**, se ejecuta el print()"
   ]
  },
  {
   "cell_type": "markdown",
   "id": "4c63bcd7-2380-454e-bd36-b9d51a2b2c7d",
   "metadata": {
    "editable": true,
    "slideshow": {
     "slide_type": "slide"
    },
    "tags": []
   },
   "source": [
    "### Ejemplo: El if se salta si la condición es False"
   ]
  },
  {
   "cell_type": "code",
   "execution_count": null,
   "id": "2305f6b1-18c3-4d0a-b1da-e66cbbae707b",
   "metadata": {
    "editable": true,
    "slideshow": {
     "slide_type": "fragment"
    },
    "tags": []
   },
   "outputs": [],
   "source": [
    "numero = -5\n",
    "\n",
    "if numero > 0:\n",
    "    print(\"El número es positivo.\")\n",
    "\n",
    "print(\"Este mensaje siempre se muestra.\")\n"
   ]
  },
  {
   "cell_type": "markdown",
   "id": "e8c2b5e5-a935-4007-af73-c758bb738396",
   "metadata": {
    "editable": true,
    "slideshow": {
     "slide_type": "fragment"
    },
    "tags": []
   },
   "source": [
    "- Como **-5 > 0** es **False**, el print(\"El número es positivo.\") **NO se ejecuta**.\n",
    "- El programa sigue con la siguiente línea **fuera del if**."
   ]
  },
  {
   "cell_type": "markdown",
   "id": "c7ac8a85-0cc7-466b-a574-a31895f2c31d",
   "metadata": {
    "editable": true,
    "slideshow": {
     "slide_type": "slide"
    },
    "tags": []
   },
   "source": [
    "### Ejercicios: Escribir códigos para las siguientes condiciones (10 min)\n",
    "\n",
    "- Para llevar el paraguas si esta lloviendo.\n",
    "- Para entrar a un bar, mayoría de edad.\n",
    "- Para aprobar esta asignatura, nota de corte 3.95."
   ]
  },
  {
   "cell_type": "markdown",
   "id": "e5db7f15-9054-45d9-8f3f-fd21153151b9",
   "metadata": {
    "editable": true,
    "slideshow": {
     "slide_type": "slide"
    },
    "tags": []
   },
   "source": [
    "## Sentencia if ... else\n",
    "\n",
    "- La estructura **if...else** permite tomar decisiones en el código, ejecutando un bloque si una condición es verdadera (**True**) y otro si es falsa (**False**)\n",
    "\n",
    "Explicación:\n",
    "- Si la condición es **True**, se ejecuta el bloque dentro del **if**.\n",
    "- Si la condición es **False**, se ejecuta el bloque dentro del **else**."
   ]
  },
  {
   "cell_type": "markdown",
   "id": "c1fe891f-5aaa-4a3a-bdcf-f4ac1caaafa8",
   "metadata": {
    "editable": true,
    "slideshow": {
     "slide_type": "fragment"
    },
    "tags": []
   },
   "source": [
    "### Sintaxis básica\n",
    "\n",
    "```python\n",
    "    if condición:\n",
    "        # Código si la condición es True\n",
    "    else:\n",
    "        # Código si la condición es False\n",
    "\n",
    "```"
   ]
  },
  {
   "cell_type": "markdown",
   "id": "0f381b24-c9aa-4c20-9e94-d7234365a2eb",
   "metadata": {
    "editable": true,
    "slideshow": {
     "slide_type": "fragment"
    },
    "tags": []
   },
   "source": [
    "```mermaid\n",
    "    graph LR\n",
    "        A[Inicio] --> B{Está lloviendo?};\n",
    "        B -- True --> C[Llevar paragua];\n",
    "        B -- False --> D[Dejar paraguas];\n",
    "        C --> E[Fin];\n",
    "        D --> E;\n",
    "```"
   ]
  },
  {
   "cell_type": "markdown",
   "id": "836bfc85-591e-4753-9a02-06829b741d51",
   "metadata": {
    "editable": true,
    "slideshow": {
     "slide_type": "slide"
    },
    "tags": []
   },
   "source": [
    "### Ejemplo: Determinar si un número es positivo o negativo"
   ]
  },
  {
   "cell_type": "code",
   "execution_count": null,
   "id": "7afb5234-b024-4faf-bbfb-acfd5dd81ff7",
   "metadata": {
    "editable": true,
    "slideshow": {
     "slide_type": "fragment"
    },
    "tags": []
   },
   "outputs": [],
   "source": [
    "numero = -5\n",
    "\n",
    "if numero > 0:\n",
    "    print(\"El número es positivo.\")\n",
    "else:\n",
    "    print(\"El número es negativo o cero.\")"
   ]
  },
  {
   "cell_type": "markdown",
   "id": "5aba8a8f-7a3c-46c1-8f23-976655eae60b",
   "metadata": {
    "editable": true,
    "slideshow": {
     "slide_type": "fragment"
    },
    "tags": []
   },
   "source": [
    "Como **-5 > 0** es **False**, se ejecuta el bloque dentro de **else**"
   ]
  },
  {
   "cell_type": "markdown",
   "id": "3e1b7535-2dd6-4c61-9ef3-27c60cd0e806",
   "metadata": {
    "editable": true,
    "slideshow": {
     "slide_type": "slide"
    },
    "tags": []
   },
   "source": [
    "### Ejemplo: Verificar si una persona es mayor de edad"
   ]
  },
  {
   "cell_type": "code",
   "execution_count": null,
   "id": "0d568f6a-11a6-4140-80e1-7b224b5d1aa9",
   "metadata": {
    "editable": true,
    "slideshow": {
     "slide_type": "fragment"
    },
    "tags": []
   },
   "outputs": [],
   "source": [
    "edad = int(input(\"Ingrese su edad: \"))\n",
    "\n",
    "if edad >= 18:\n",
    "    print(\"Eres mayor de edad.\")\n",
    "else:\n",
    "    print(\"Eres menor de edad.\")"
   ]
  },
  {
   "cell_type": "markdown",
   "id": "75f999a3-213e-4bce-ac60-b5da8697145a",
   "metadata": {
    "editable": true,
    "slideshow": {
     "slide_type": "slide"
    },
    "tags": []
   },
   "source": [
    "### Ejercicios (10 min)\n",
    "\n",
    "- Determinar si un número es par o impar, usar **x % 2**.\n",
    "- Para aprobar esta asignatura, nota de corte 3.95. Indicar **APROBADO** o **REPROBADO** Usar **input** para ingresar nota\n",
    "- Para subir a la montaña rusa, altura minima 1.20m. Indicar **PERMITIR** o **RECHAZADO** "
   ]
  },
  {
   "cell_type": "markdown",
   "id": "25cef17b-34db-4970-91d7-607a5086da55",
   "metadata": {
    "editable": true,
    "slideshow": {
     "slide_type": "slide"
    },
    "tags": []
   },
   "source": [
    "## Sentencia if ... elif ... elif ... else\n",
    "\n",
    "- La estructura **if...elif...elif...else** permite evaluar múltiples condiciones en serie, ejecutando solo el primer bloque de código cuya condición sea **True**.\n",
    "\n",
    "Explicación:\n",
    "- Se evalúa **condición1**. Si es **True**, se ejecuta su bloque y el resto se omite.\n",
    "- Si **condición1** es **False**, se evalúa **condición2**.\n",
    "- Si **condición2** también es **False**, se evalúa **condición3**.\n",
    "- Si todas las condiciones son **False**, se ejecuta el bloque **else**."
   ]
  },
  {
   "cell_type": "markdown",
   "id": "ee3c4ff6-0bef-4492-adc7-79a16f83cce2",
   "metadata": {
    "editable": true,
    "slideshow": {
     "slide_type": "fragment"
    },
    "tags": []
   },
   "source": [
    "### Sintaxis básica\n",
    "\n",
    "```python\n",
    "    if condición1:\n",
    "        # Código si condición1 es True\n",
    "    elif condición2:\n",
    "        # Código si condición2 es True\n",
    "    elif condición3:\n",
    "        # Código si condición3 es True\n",
    "    else:\n",
    "        # Código si ninguna condición es True\n",
    "\n",
    "```"
   ]
  },
  {
   "cell_type": "markdown",
   "id": "a3b0818b-6880-4e93-b97b-8c8565f9c03d",
   "metadata": {
    "editable": true,
    "slideshow": {
     "slide_type": "fragment"
    },
    "tags": []
   },
   "source": [
    "```mermaid\n",
    "    graph LR;\n",
    "        A[Inicio] --> B{Condición 1};\n",
    "        B -- True --> C[Ejecutar Bloque 1] --> F[Fin];\n",
    "        B -- False --> D{Condición 2};\n",
    "        D -- True --> E[Ejecutar Bloque 2] --> F[Fin];\n",
    "        D -- False --> G[Ejecutar Bloque Else] --> F[Fin];\n",
    "```"
   ]
  },
  {
   "cell_type": "markdown",
   "id": "6473fe68-0efa-4158-a0b6-8c272ac0924f",
   "metadata": {
    "editable": true,
    "slideshow": {
     "slide_type": "slide"
    },
    "tags": []
   },
   "source": [
    "### Ejemplo: Determinar si un número es positivo, negativo o cero"
   ]
  },
  {
   "cell_type": "code",
   "execution_count": null,
   "id": "2ca2b16e-d976-431e-855e-b86d1ea06166",
   "metadata": {
    "editable": true,
    "slideshow": {
     "slide_type": "fragment"
    },
    "tags": []
   },
   "outputs": [],
   "source": [
    "numero = 0\n",
    "\n",
    "if numero > 0:\n",
    "    print(\"El número es positivo.\")\n",
    "elif numero == 0:\n",
    "    print(\"El número es cero.\")\n",
    "else:\n",
    "    print(\"El número es negativo.\")\n"
   ]
  },
  {
   "cell_type": "markdown",
   "id": "d3a8a7c6-9dbd-4c7f-896b-01d640dd5df7",
   "metadata": {
    "editable": true,
    "slideshow": {
     "slide_type": "slide"
    },
    "tags": []
   },
   "source": [
    "### Ejemplo: Indicar la sensación termica dependiendo de la temperatura."
   ]
  },
  {
   "cell_type": "code",
   "execution_count": null,
   "id": "bfefaddc-374c-4fd1-8308-b70983ebc523",
   "metadata": {
    "editable": true,
    "slideshow": {
     "slide_type": "fragment"
    },
    "tags": []
   },
   "outputs": [],
   "source": [
    "temperatura = 30\n",
    "\n",
    "if temperatura > 30:\n",
    "    print(\"Hace mucho calor.\")\n",
    "elif temperatura >= 20:\n",
    "    print(\"El clima es agradable.\")\n",
    "else:\n",
    "    print(\"Hace frío.\")\n"
   ]
  },
  {
   "cell_type": "markdown",
   "id": "fecbacfa-375e-46a9-8436-c1c469f7dffb",
   "metadata": {
    "editable": true,
    "slideshow": {
     "slide_type": "slide"
    },
    "tags": []
   },
   "source": [
    "### Ejercicio (10 min)\n",
    "\n",
    "- Clasificar la edad en categorías **niño** (1-9), **adolescente** (9-17), **adulto** (18-100).\n",
    "- Montaña rusa:\n",
    "  1. Preguntar por altura y edad\n",
    "  2. Si altura es menor a 1.20 m. no puede entrar\n",
    "  3. Si cumple con la altura, entonces:\n",
    "     1. Es menor a 12 años debe pagar `$`5000\n",
    "     2. Si esta entre 12 y 18 años debe pagar `$`7000\n",
    "     3. Si es mayor a 18 años el precio es de `$`12000"
   ]
  },
  {
   "cell_type": "markdown",
   "id": "a6e2e573-4764-4431-9928-e7822a1e4005",
   "metadata": {},
   "source": [
    "### Resolución"
   ]
  },
  {
   "cell_type": "code",
   "execution_count": null,
   "id": "ad8a2327-94bb-4809-9e40-1f72fef70630",
   "metadata": {},
   "outputs": [],
   "source": [
    "altura = float(input(\"Ingresar altura en metros: \"))\n",
    "edad = int(input(\"Ingresar la edad: \"))\n",
    "\n",
    "if altura < 1.20:\n",
    "    print(\"No puedes entrar\")\n",
    "else:\n",
    "    if edad < 12:\n",
    "        print(\"La entrada vale 5000 pesos\")\n",
    "    elif edad >= 12 and edad < 18:\n",
    "        print(\"La entrada vale 7000 pesos\")\n",
    "    else:\n",
    "        print(\"La entrada vale 12000 pesos\")"
   ]
  },
  {
   "cell_type": "code",
   "execution_count": null,
   "id": "09f64f32-cab3-460a-b09f-149a54dcc960",
   "metadata": {},
   "outputs": [],
   "source": []
  },
  {
   "cell_type": "markdown",
   "id": "14d68dcc-d439-4b86-b24a-5c86a2f3712b",
   "metadata": {
    "editable": true,
    "slideshow": {
     "slide_type": "skip"
    },
    "tags": []
   },
   "source": [
    "---"
   ]
  },
  {
   "cell_type": "markdown",
   "id": "9e8e2d7f-cf7f-4f9f-9fda-82a287309b5d",
   "metadata": {
    "editable": true,
    "slideshow": {
     "slide_type": "slide"
    },
    "tags": []
   },
   "source": [
    "### Ejercicios prácticos:\n",
    "\n",
    "1. Determinar el mayor de tres números.\n",
    "2. Verificar si un año es bisiesto.\n",
    "\n",
    "    - Si el año es divisible por 400, es bisiesto.\n",
    "    - Si el año es divisible por 100, pero no por 400, no es bisiesto.\n",
    "    - Si el año es divisible por 4, pero no por 100, es bisiesto.\n",
    "    - En cualquier otro caso, el año no es bisiesto.\n",
    "<br>\n",
    "3. Simular un sistema de calificación.\n",
    "<table>\n",
    "    <thead>\n",
    "        <tr>\n",
    "            <th>Calificación</th>\n",
    "            <th>Nota</th>\n",
    "        </tr>\n",
    "    </thead>\n",
    "    <tbody>\n",
    "        <tr>\n",
    "            <td>7.0</td>\n",
    "            <td>Excelente</td>\n",
    "        </tr>\n",
    "        <tr>\n",
    "            <td>6.9 - 6.0</td>\n",
    "            <td>Satisfactorio</td>\n",
    "        </tr>\n",
    "        <tr>\n",
    "            <td>5.9 - 5.0</td>\n",
    "            <td>Bueno</td>\n",
    "        </tr>\n",
    "        <tr>\n",
    "            <td>4.9 - 4.0</td>\n",
    "            <td>Suficiente</td>\n",
    "        </tr>\n",
    "        <tr>\n",
    "            <td>3.9 - 3.0</td>\n",
    "            <td>Insuficiente</td>\n",
    "        </tr>\n",
    "        <tr>\n",
    "            <td>2.9 - 1.0</td>\n",
    "            <td>Malo</td>\n",
    "        </tr>\n",
    "    </tbody>\n",
    "</table>\n",
    "\n",
    "4. Calcular el IMC (Indice de Masa Corporal)\n",
    "\n",
    "    - El usuario debe ingresar manualmente el peso y la altura\n",
    "    - Ingreso manual del peso en **kg** y altura en **m**\n",
    "    $$IMC = peso(kg) / altura(m)2$$\n",
    "Interpretación de los resultados \n",
    "\n",
    "    - IMC menor a 18.5: Peso insuficiente\n",
    "    - IMC entre 18.5 y 24.9: Saludable\n",
    "    - IMC entre 25.0 y 29.9: Sobrepeso\n",
    "    - IMC 30.0 o superior: Obesidad\n",
    "\n",
    "Resolver los ejercicios paso a paso, explicando la lógica detrás de cada decisión.<br>\n",
    "Mostrar diferentes soluciones posibles.\n"
   ]
  },
  {
   "cell_type": "markdown",
   "id": "d98d05a1-b9c0-4985-bac0-9686a3daa81b",
   "metadata": {},
   "source": [
    "### Resolución"
   ]
  },
  {
   "cell_type": "code",
   "execution_count": null,
   "id": "205f4a62-1709-45e2-8483-359faf777495",
   "metadata": {},
   "outputs": [],
   "source": [
    "altura = float(input(\"Ingresar altura en metros: \"))\n",
    "peso = float(input(\"Ingresar peso en Kg: \"))\n",
    "\n",
    "imc = peso / (altura * altura)\n",
    "\n",
    "if imc < 18.5:\n",
    "    print(\"Peso insuficiente\")\n",
    "elif imc >= 18.5 and imc < 24.9:\n",
    "    print(\"Saludable\")\n",
    "elif imc >= 25 and imc < 29.9:\n",
    "    print(\"Sobrepeso\")\n",
    "else:\n",
    "    print(\"Obesidad\")"
   ]
  },
  {
   "cell_type": "markdown",
   "id": "7de9de86-577c-4355-bbb4-25fa6f0f2cac",
   "metadata": {
    "editable": true,
    "slideshow": {
     "slide_type": "slide"
    },
    "tags": []
   },
   "source": [
    "# FIN\n",
    "\n",
    "## Dudas o consultas"
   ]
  },
  {
   "cell_type": "code",
   "execution_count": null,
   "id": "7369502f-dacb-494c-9521-3fe04fff06f5",
   "metadata": {
    "editable": true,
    "slideshow": {
     "slide_type": "skip"
    },
    "tags": []
   },
   "outputs": [],
   "source": []
  }
 ],
 "metadata": {
  "kernelspec": {
   "display_name": "Python [conda env:base] *",
   "language": "python",
   "name": "conda-base-py"
  },
  "language_info": {
   "codemirror_mode": {
    "name": "ipython",
    "version": 3
   },
   "file_extension": ".py",
   "mimetype": "text/x-python",
   "name": "python",
   "nbconvert_exporter": "python",
   "pygments_lexer": "ipython3",
   "version": "3.9.16"
  }
 },
 "nbformat": 4,
 "nbformat_minor": 5
}
