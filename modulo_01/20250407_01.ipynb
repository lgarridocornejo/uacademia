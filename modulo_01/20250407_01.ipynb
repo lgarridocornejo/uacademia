{
 "cells": [
  {
   "cell_type": "code",
   "execution_count": 23,
   "id": "adcaedda-2bf7-41df-b851-d9f0dc4a6d81",
   "metadata": {
    "editable": true,
    "slideshow": {
     "slide_type": "skip"
    },
    "tags": []
   },
   "outputs": [],
   "source": [
    "# venv uacademia 20250407"
   ]
  },
  {
   "cell_type": "markdown",
   "id": "40a353da-aabb-4358-a510-c5f3f9326813",
   "metadata": {
    "editable": true,
    "slideshow": {
     "slide_type": "slide"
    },
    "tags": []
   },
   "source": [
    "![](https://files.realpython.com/media/How-to-Create-Python-Functions-with-Optional-Arguments_Watermarked.f2c8b582aff0.jpg)"
   ]
  },
  {
   "cell_type": "markdown",
   "id": "4c76ecea-0bd9-4458-8baa-38a15739038c",
   "metadata": {
    "editable": true,
    "slideshow": {
     "slide_type": "slide"
    },
    "tags": []
   },
   "source": [
    "# Funciones en Python\n",
    "\n",
    "Permite definir un bloque de código reutilizable que se puede ejecutar muchas veces dentro de del programa. Además permiten crear soluciones más modulares para problemas complejos.\n",
    "\n",
    "Python proporciona muchas funciones integradas como **print()** y **len()**, también se pueden definir funciones propias para usar en otros proyectos.\n",
    "\n",
    "Una de las grandes ventajas de usar funciones en el código es que reduce el número total de líneas de código en tu proyecto."
   ]
  },
  {
   "cell_type": "markdown",
   "id": "98c75baf-4a21-4adf-934d-d4bd9f5c9b73",
   "metadata": {
    "editable": true,
    "slideshow": {
     "slide_type": "slide"
    },
    "tags": []
   },
   "source": [
    "## Sintaxis\n",
    "\n",
    "En Python, una definición de función tiene las siguientes características:\n",
    "\n",
    "1. La palabra clave **def**.\n",
    "2. Nombre de la función.\n",
    "3. Paréntesis **()**, y dentro de los paréntesis los parámetros de entrada.\n",
    "4. Dos puntos **:**.\n",
    "5. Bloque de código para ejecutar.\n",
    "6. Sentencia de retorno (opcional)"
   ]
  },
  {
   "cell_type": "markdown",
   "id": "cd136808-9f63-437e-aab2-2b1d8907906a",
   "metadata": {
    "editable": true,
    "slideshow": {
     "slide_type": "slide"
    },
    "tags": []
   },
   "source": [
    "```python\n",
    "# función sin parámetros o retorno de valores\n",
    "def diHola():\n",
    "  print(\"Hello!\")\n",
    "\n",
    "diHola()  # llamada a la función\n",
    "\n",
    "[] Hello! #se muestra en la consola\n",
    "```"
   ]
  },
  {
   "cell_type": "markdown",
   "id": "803d3b5b-b871-4552-850e-3aa13e974e86",
   "metadata": {
    "editable": true,
    "slideshow": {
     "slide_type": "fragment"
    },
    "tags": []
   },
   "source": [
    "```python\n",
    "# función con un parámetro\n",
    "def holaConNombre(name):\n",
    "  print(\"Hello \" + name + \"!\")\n",
    "\n",
    "holaConNombre(\"Ada\")  # llamada a la función\n",
    "\n",
    "[] Hello Ada! #se muestra en la consola\n",
    "```"
   ]
  },
  {
   "cell_type": "markdown",
   "id": "037b1fcf-7219-4a77-a2b5-909d0c3dce8a",
   "metadata": {
    "editable": true,
    "slideshow": {
     "slide_type": "fragment"
    },
    "tags": []
   },
   "source": [
    "```python\n",
    "# función con varios parámetros con una sentencia de retorno\n",
    "def multiplicar(val1, val2):\n",
    "  return val1 * val2\n",
    "\n",
    "multiplicar(3, 5)  # muestra 15 en la consola\n",
    "```"
   ]
  },
  {
   "cell_type": "markdown",
   "id": "77bab971-6d2e-4a69-ae72-ddd3c1afda72",
   "metadata": {
    "editable": true,
    "slideshow": {
     "slide_type": "slide"
    },
    "tags": []
   },
   "source": [
    "Las funciones son bloques de código que se pueden reutilizar simplemente llamando a la función. Esto permite la reutilización de código simple y elegante sin volver a escribir explícitamente secciones de código. Esto hace que el código sea más legible, facilita la depuración y limita los errores de escritura."
   ]
  },
  {
   "cell_type": "markdown",
   "id": "ad4ef851-feeb-4e6f-953d-184dc5d5bc93",
   "metadata": {
    "editable": true,
    "slideshow": {
     "slide_type": "fragment"
    },
    "tags": []
   },
   "source": [
    "Las funciones en Python se crean usando la palabra clave **def**, seguido de un nombre de función y parámetros de función entre paréntesis.\n",
    "\n",
    "Una función siempre devuelve un valor. La función utiliza la palabra clave **return**  para devolver un valor; si no desea devolver ningún valor, se devolverá el valor predeterminado **None**.\n",
    "\n"
   ]
  },
  {
   "cell_type": "markdown",
   "id": "f3187371-c8e7-47e3-9e8c-b71d3b1721d9",
   "metadata": {
    "editable": true,
    "slideshow": {
     "slide_type": "slide"
    },
    "tags": []
   },
   "source": [
    "El nombre de la función se usa para llamar a la función, pasando los parámetros necesarios entre paréntesis.\n",
    "\n",
    "```python\n",
    "# esta es una función básica de suma\n",
    "def sumar(a, b):\n",
    "  return a + b\n",
    "\n",
    "result = sumar(1, 2)\n",
    "# result = 3\n",
    "```"
   ]
  },
  {
   "cell_type": "markdown",
   "id": "37b83b98-e9d0-4e1c-ab38-362809cffb6b",
   "metadata": {
    "editable": true,
    "slideshow": {
     "slide_type": "slide"
    },
    "tags": []
   },
   "source": [
    "Se puede definir valores predeterminados para los parámetros, de esa manera Python interpretará que el valor de ese parámetro es el predeterminado si no se proporciona ninguno.\n",
    "\n",
    "```python\n",
    "def suma(a, b=3):\n",
    "  return a + b\n",
    "\n",
    "result = suma(1)\n",
    "# result = 4\n",
    "```"
   ]
  },
  {
   "cell_type": "markdown",
   "id": "37b71645-10a0-4f33-acbf-7f73e2f5dfae",
   "metadata": {
    "editable": true,
    "slideshow": {
     "slide_type": "slide"
    },
    "tags": []
   },
   "source": [
    "Se Puede pasar los parámetros en el orden que desees, utilizando el nombre del parámetro.\n",
    "\n",
    "```python\n",
    "result = suma(b=2, a=2)\n",
    "# result = 4\n",
    "```"
   ]
  },
  {
   "cell_type": "markdown",
   "id": "1b498cd6-a5de-4702-ad30-d96b10a15ac4",
   "metadata": {
    "editable": true,
    "slideshow": {
     "slide_type": "slide"
    },
    "tags": []
   },
   "source": [
    "¿Cuál es el problema en esta asignación?\n",
    "\n",
    "```python\n",
    "result = suma(3, b=2)\n",
    "#result = 5\n",
    "result2 = suma(b=2, 3)\n",
    "#Lanzará SyntaxError\n",
    "````"
   ]
  },
  {
   "cell_type": "markdown",
   "id": "f6a2d217-4d09-4719-b026-1f6da9332980",
   "metadata": {
    "editable": true,
    "slideshow": {
     "slide_type": "slide"
    },
    "tags": []
   },
   "source": [
    "Las funciones también son objetos, por lo que puedes asignarlas a una variable y usar esa variable como una función.\n",
    "\n",
    "```python\n",
    "s = suma\n",
    "result = s(1, 2)\n",
    "# result = 3\n",
    "```"
   ]
  },
  {
   "cell_type": "markdown",
   "id": "b07e7894-8d28-41cb-8fe5-9eb04fc59022",
   "metadata": {
    "editable": true,
    "slideshow": {
     "slide_type": "slide"
    },
    "tags": []
   },
   "source": [
    "## Notas\n",
    "\n",
    "Si la definición de una función incluye parámetros, debe proporcionar el mismo número de parámetros cuando llame a la función.\n",
    "\n",
    "```python\n",
    "def multiplicar(val1, val2):\n",
    "  return val1 * val2\n",
    "    \n",
    "print(multiplicar(3))\n",
    "# TypeError: multiplica() utiliza exactamente 2 argumentos (0 proporcionados)\n",
    "\n",
    "print(multiplicar('a', 5))  \n",
    "# 'aaaaa' mostrado en la consola\n",
    "\n",
    "print(multiplicar('a', 'b')) \n",
    "# TypeError: Python no puede multiplicar dos strings\n",
    "```"
   ]
  },
  {
   "cell_type": "markdown",
   "id": "4059522f-ab5d-4633-bb85-900e7e235812",
   "metadata": {
    "editable": true,
    "slideshow": {
     "slide_type": "slide"
    },
    "tags": []
   },
   "source": [
    "El bloque de código que ejecutará la función incluye todas las declaraciones con indentación dentro de la función.\n",
    "\n",
    "\n",
    "```python\n",
    "def miFunción():\n",
    "    print('esto se imprime')\n",
    "    print('y esto tambien')\n",
    "\n",
    "x = 7\n",
    "# la asignación de x no es parte de la función ya que no está indentada\n",
    "```"
   ]
  },
  {
   "cell_type": "markdown",
   "id": "f57d34a7-fcea-445f-bd07-5cd013c8f5c2",
   "metadata": {
    "editable": true,
    "slideshow": {
     "slide_type": "slide"
    },
    "tags": []
   },
   "source": [
    "Las variables definidas dentro de una función solo existen dentro del ámbito de esa función.\n",
    "\n",
    "```python\n",
    "def duplicar(num):\n",
    "    x = num * 2\n",
    "    return x\n",
    "\n",
    "print(x)  # error - x no está definida\n",
    "print(duplicar(4))  # muestra 8\n",
    "```\n",
    "Python interpreta el bloque de funciones solo cuando se llama a la función y no cuando se define la función. Por lo tanto, incluso si el bloque de definición de función contiene algún tipo de error, el intérprete de Python lo señalará solo cuando se llame a la función."
   ]
  },
  {
   "cell_type": "markdown",
   "id": "2156664c-42dc-42be-9d58-f4651609ff5e",
   "metadata": {
    "editable": true,
    "slideshow": {
     "slide_type": "slide"
    },
    "tags": []
   },
   "source": [
    "## Funciones específicas."
   ]
  },
  {
   "cell_type": "markdown",
   "id": "6c2999b3-2b79-4760-9196-2fdcb3ce303b",
   "metadata": {
    "editable": true,
    "slideshow": {
     "slide_type": "slide"
    },
    "tags": []
   },
   "source": [
    "### Función max()\n",
    "\n",
    "**max()** es una función incorporada de Python 3. Devuelve el elemento más grande en un iterable o el más grande de dos o más argumentos."
   ]
  },
  {
   "cell_type": "markdown",
   "id": "29f07d6c-ff43-40d8-8b3d-e86f38420c40",
   "metadata": {
    "editable": true,
    "slideshow": {
     "slide_type": "fragment"
    },
    "tags": []
   },
   "source": [
    "#### Argumentos\n",
    "\n",
    "Esta función toma dos o más números o cualquier tipo de iterable como argumento. En un iterable como argumento, se debe asegurar de que todos los elementos del iterable sean del mismo tipo. Esto significa que no se puede pasar una lista que tenga almacenados valores enteros y de cadena. "
   ]
  },
  {
   "cell_type": "markdown",
   "id": "5a9b06e7-306d-450a-9fe5-6a2c88fe7866",
   "metadata": {
    "editable": true,
    "slideshow": {
     "slide_type": "fragment"
    },
    "tags": []
   },
   "source": [
    "#### Sintaxis: \n",
    "\n",
    "```python\n",
    "max(iterable) \n",
    "max(arg1, arg2)\n",
    "```"
   ]
  },
  {
   "cell_type": "markdown",
   "id": "1e7a7a3a-e779-4121-bfd5-7ac62c4a3275",
   "metadata": {
    "editable": true,
    "slideshow": {
     "slide_type": "slide"
    },
    "tags": []
   },
   "source": [
    "#### Argumentos válidos:\n",
    "\n",
    "```python\n",
    "max(2, 3)\n",
    "max([1, 2, 3])\n",
    "max('a', 'b', 'c')\n",
    "```"
   ]
  },
  {
   "cell_type": "markdown",
   "id": "2e15fafa-3b8c-4717-b984-b347a0c918b9",
   "metadata": {
    "editable": true,
    "slideshow": {
     "slide_type": "slide"
    },
    "tags": []
   },
   "source": [
    "#### Argumentos inválidos:\n",
    "\n",
    "```python\n",
    "max(2, 'a')\n",
    "max([1, 2, 3, 'a'])\n",
    "max([])\n",
    "```"
   ]
  },
  {
   "cell_type": "markdown",
   "id": "773a63a1-c14e-4ce4-9a4f-3d85d132cebb",
   "metadata": {
    "editable": true,
    "slideshow": {
     "slide_type": "fragment"
    },
    "tags": []
   },
   "source": [
    "#### Valor devuelto\n",
    "\n",
    "Se devuelve el elemento más grande del iterable. Si se proporcionan dos o más argumentos posicionales, se devuelve el mayor de los argumentos posicionales. Si el iterable está vacío y no se proporciona el valor predeterminado, se genera un ValueError."
   ]
  },
  {
   "cell_type": "markdown",
   "id": "8f1f2bbd-34c7-45a0-8e47-3695a4729c60",
   "metadata": {
    "editable": true,
    "slideshow": {
     "slide_type": "slide"
    },
    "tags": []
   },
   "source": [
    "#### Código de ejemplo:\n",
    "\n",
    "```python\n",
    "print(max(2, 3)) # Devuelve 3 ya que 3 es el mayor de los dos valores\n",
    "print(max(2, 3, 23)) # Devuelve 23 ya que 23 es el mayor de todos los valores\n",
    "\n",
    "list1 = [1, 2, 4, 5, 54]\n",
    "print(max(list1)) # Devuelve 54 ya que 54 es el valor más grande de la lista\n",
    "\n",
    "list2 = ['a', 'b', 'c' ]\n",
    "print(max(list2)) # Devuelve 'c' ya que 'c' es el valor más grande en la lista porque 'c' tiene un valor ascii mayor que 'a' ,'b'.\n",
    "\n",
    "list3 = [1, 2, 'abc', 'xyz']\n",
    "print(max(list3)) # Se genera TypeError ya que los valores en la lista son de tipos diferentes\n",
    "\n",
    "list4 = []\n",
    "print(max(list4)) # Se genera ValueError ya que el argumento está vacío\n",
    "```"
   ]
  },
  {
   "cell_type": "markdown",
   "id": "185f8256-ab7a-4d91-9056-4b714cc668f9",
   "metadata": {
    "editable": true,
    "slideshow": {
     "slide_type": "slide"
    },
    "tags": []
   },
   "source": [
    "### Función min()\n",
    "\n",
    "**min()** es una función incorporada en Python 3. Devuelve el elemento más pequeño en un iterable o el más pequeño de dos o más argumentos."
   ]
  },
  {
   "cell_type": "markdown",
   "id": "149c2855-c741-4a46-9550-2a612c571e5d",
   "metadata": {
    "editable": true,
    "slideshow": {
     "slide_type": "slide"
    },
    "tags": []
   },
   "source": [
    "#### Argumentos\n",
    "\n",
    "Esta función toma dos o más números o cualquier tipo de iterable como argumento. En un iterable como argumento, se debe asegurar de que todos los elementos del iterable sean del mismo tipo. Esto significa que no se puede pasar una lista que tenga almacenados valores enteros y de cadena."
   ]
  },
  {
   "cell_type": "markdown",
   "id": "c91f6361-4c12-4152-8cdf-e1f4e5c6e705",
   "metadata": {
    "editable": true,
    "slideshow": {
     "slide_type": "slide"
    },
    "tags": []
   },
   "source": [
    "#### Argumentos válidos:\n",
    "\n",
    "```python\n",
    "min(2, 3)\n",
    "min([1, 2, 3])\n",
    "min('a', 'b', 'c')\n",
    "```"
   ]
  },
  {
   "cell_type": "markdown",
   "id": "84e56d80-f00e-433e-8ae8-299b5c6a2173",
   "metadata": {
    "editable": true,
    "slideshow": {
     "slide_type": "slide"
    },
    "tags": []
   },
   "source": [
    "#### Argumentos inválidos:\n",
    "\n",
    "```python\n",
    "min(2, 'a')\n",
    "min([1, 2, 3, 'a'])\n",
    "min([])\n",
    "```"
   ]
  },
  {
   "cell_type": "markdown",
   "id": "f87ecdf5-5dc2-4f1b-af60-927bef251545",
   "metadata": {
    "editable": true,
    "slideshow": {
     "slide_type": "fragment"
    },
    "tags": []
   },
   "source": [
    "#### Valor devuelto\n",
    "\n",
    "Se devuelve el elemento más pequeño del iterable. Si se proporcionan dos o más argumentos posicionales, se devuelve el más pequeño de los argumentos posicionales. Si el iterable está vacío y no se proporciona el valor predeterminado, se genera un ValueError."
   ]
  },
  {
   "cell_type": "markdown",
   "id": "b2b58d55-fa76-4695-97c8-707892a735aa",
   "metadata": {
    "editable": true,
    "slideshow": {
     "slide_type": "slide"
    },
    "tags": []
   },
   "source": [
    "#### Código de ejemplo:\n",
    "\n",
    "```python\n",
    "print(min(2, 3)) # Devuelve 2 ya que 2 es el más pequeño de los dos valores\n",
    "print(min(2, 3, -1)) # Devuelve -1 ya que -1 es el más pequeño de los dos valores\n",
    "\n",
    "list1 = [1, 2, 4, 5, -54]\n",
    "print(min(list1)) # Devuelve -54 ya que -54 es el más pequeño de los valores en la lista.\n",
    "\n",
    "list2 = ['a', 'b', 'c' ]\n",
    "print(min(list2)) # Devuelve 'a' ya que 'a' es el valor más pequeño de la lissta en orden alfabético\n",
    "\n",
    "list3 = [1, 2, 'abc', 'xyz']\n",
    "print(min(list3)) # Se genera TypeError ya que los valores en la lista son de tipos diferentes\n",
    "\n",
    "#Soluciona el TypeError mencionado anterioremente antes de continuar con el siguiente paso\n",
    "\n",
    "list4 = []\n",
    "print(min(list4)) # Se genera ValueError ya que el argumento está vacío\n",
    "```"
   ]
  },
  {
   "cell_type": "markdown",
   "id": "e3a1b382-f1f3-400a-af86-32e193f4861e",
   "metadata": {
    "editable": true,
    "slideshow": {
     "slide_type": "slide"
    },
    "tags": []
   },
   "source": [
    "### Función divmod()\n",
    "\n",
    "**divmod()** es una función incorporada en Python 3, que devuelve el cociente y el resto al dividir el número **a** por el número **b**. Toma dos números como argumentos **a** & **b**. El argumento no puede ser un número complejo."
   ]
  },
  {
   "cell_type": "markdown",
   "id": "0cd98c15-f771-4af5-9afe-b8f9aa99ce26",
   "metadata": {
    "editable": true,
    "slideshow": {
     "slide_type": "slide"
    },
    "tags": []
   },
   "source": [
    "#### Argumentos\n",
    "\n",
    "Se necesitan dos argumentos **a** & **b**: un número entero o un número decimal. No puede ser un número complejo."
   ]
  },
  {
   "cell_type": "markdown",
   "id": "46c6a064-7cf1-4f0a-9c90-2c358de31297",
   "metadata": {
    "editable": true,
    "slideshow": {
     "slide_type": "slide"
    },
    "tags": []
   },
   "source": [
    "#### Valor devuelto\n",
    "\n",
    "El valor de retorno será el par de números positivos que consiste en el cociente y el resto obtenido al dividir **a** por **b**. "
   ]
  },
  {
   "cell_type": "markdown",
   "id": "17024cc2-7219-46de-9d0d-710ae0bcb2f9",
   "metadata": {
    "editable": true,
    "slideshow": {
     "slide_type": "slide"
    },
    "tags": []
   },
   "source": [
    "#### Código de ejemplo:\n",
    "\n",
    "```python\n",
    "print(divmod(5,2)) # muestra (2,1)\n",
    "print(divmod(13.5,2.5)) # muestra (5.0, 1.0)\n",
    "\n",
    "q,r = divmod(13.5,2.5)  # Asigna q=cociente & r=resto\n",
    "print(q) # muestra 5.0 porque math.floor(13.5/2.5) = 5.0\n",
    "print(r) # muestra 1.0 porque (13.5 % 2.5) = 1.0\n",
    "```"
   ]
  },
  {
   "cell_type": "markdown",
   "id": "e4c03ff8-885a-4266-b2d7-c20e4fb60b24",
   "metadata": {
    "editable": true,
    "slideshow": {
     "slide_type": "slide"
    },
    "tags": []
   },
   "source": [
    "### Función Hex(x)\n",
    "\n",
    "**hex(x)** es una función incorporada en Python 3 para convertir un número entero en una cadena hexadecimal en minúscula con el prefijo **0x**"
   ]
  },
  {
   "cell_type": "markdown",
   "id": "c8921f1a-d642-4016-8d09-a880de2cb13e",
   "metadata": {
    "editable": true,
    "slideshow": {
     "slide_type": "slide"
    },
    "tags": []
   },
   "source": [
    "#### Argumentos\n",
    "\n",
    "Esta función toma un argumento, **x**, que debería ser de tipo entero."
   ]
  },
  {
   "cell_type": "markdown",
   "id": "9072ff40-3bf4-4c69-ad5e-2af6aacf39fa",
   "metadata": {
    "editable": true,
    "slideshow": {
     "slide_type": "slide"
    },
    "tags": []
   },
   "source": [
    "#### Valor devuelto\n",
    "\n",
    "Esta función devuelve una cadena hexadecimal en minúscula con el prefijo **0x**."
   ]
  },
  {
   "cell_type": "markdown",
   "id": "253d8c1a-5841-4b32-88bf-890f1c316642",
   "metadata": {
    "editable": true,
    "slideshow": {
     "slide_type": "slide"
    },
    "tags": []
   },
   "source": [
    "#### Código de ejemplo:\n",
    "\n",
    "```python\n",
    "print(hex(16))    # muestra  0x10\n",
    "print(hex(-298))  # muestra -0x12a\n",
    "print(hex(543))   # muestra  0x21f\n",
    "```"
   ]
  },
  {
   "cell_type": "markdown",
   "id": "9fc68902-c889-4676-a8e2-55fae8b4d10c",
   "metadata": {
    "editable": true,
    "slideshow": {
     "slide_type": "slide"
    },
    "tags": []
   },
   "source": [
    "### Función len()\n",
    "\n",
    "**len()** es una función incorporada en Python 3. Este método devuelve la longitud (el número de elementos) de un objeto. Toma un argumento **x**."
   ]
  },
  {
   "cell_type": "markdown",
   "id": "babf7f16-191a-4460-bf7a-7c098919b2e7",
   "metadata": {
    "editable": true,
    "slideshow": {
     "slide_type": "slide"
    },
    "tags": []
   },
   "source": [
    "#### Argumentos\n",
    "\n",
    "Esta función toma un argumento, **x**. Este argumento puede ser una secuencia (como un string, bytes, tupla, lista o rango) o una colección (como un diccionario)."
   ]
  },
  {
   "cell_type": "markdown",
   "id": "2fc38de3-3912-444b-8e01-f00650832c32",
   "metadata": {
    "editable": true,
    "slideshow": {
     "slide_type": "slide"
    },
    "tags": []
   },
   "source": [
    "#### Valor devuelto\n",
    "\n",
    "Esta función devuelve el número de elementos del argumento que se pasa a la función len()."
   ]
  },
  {
   "cell_type": "markdown",
   "id": "7194dc93-33d8-4cb7-9315-187f7c418adf",
   "metadata": {
    "editable": true,
    "slideshow": {
     "slide_type": "slide"
    },
    "tags": []
   },
   "source": [
    "#### Código de ejemplo:\n",
    "\n",
    "```python\n",
    "list1 = [123, 'xyz', 'zara'] # lista\n",
    "print(len(list1)) # muestra 3 ya que hay 3 elementos en list1\n",
    "\n",
    "str1 = 'basketball' # string\n",
    "print(len(str1)) # muestra 10 ya que str1 tiene 10 carácteres\n",
    "\n",
    "tuple1 = (2, 3, 4, 5) # tuple \n",
    "print(len(tuple1)) # muestra 4 ya que hay 4 elementos en tuple1\n",
    "\n",
    "dict1 = {'name': 'John', 'age': 4, 'score': 45} # dictionary\n",
    "print(len(dict1)) # muestra 3 ya que hay 3 pares clave/valor en dict1\n",
    "```"
   ]
  },
  {
   "cell_type": "markdown",
   "id": "bd927442-45d9-446e-b518-c15fac147c5f",
   "metadata": {
    "editable": true,
    "slideshow": {
     "slide_type": "slide"
    },
    "tags": []
   },
   "source": [
    "### Función Ord()\n",
    "\n",
    "**ord()** es una función incorporada en Python 3, para convertir la cadena que representa un carácter Unicode en un entero que representa el código Unicode del carácter."
   ]
  },
  {
   "cell_type": "markdown",
   "id": "de4b49f6-3a5d-47b0-813d-6abde80b830d",
   "metadata": {
    "editable": true,
    "slideshow": {
     "slide_type": "slide"
    },
    "tags": []
   },
   "source": [
    "#### Ejemplos:\n",
    "\n",
    "```python\n",
    "ord('d')\n",
    "# 100\n",
    "ord('1')\n",
    "# 49\n",
    "```"
   ]
  },
  {
   "cell_type": "markdown",
   "id": "a3210604-e233-4e90-9d95-375f9322b422",
   "metadata": {
    "editable": true,
    "slideshow": {
     "slide_type": "slide"
    },
    "tags": []
   },
   "source": [
    "### Función chr()\n",
    "\n",
    "**chr()** es una función incorporada en Python 3, para convertir el número entero que representa el código Unicode en una cadena que representa un carácter correspondiente."
   ]
  },
  {
   "cell_type": "markdown",
   "id": "1cf5706f-a672-4ccc-a1d2-dd3c7048f22e",
   "metadata": {
    "editable": true,
    "slideshow": {
     "slide_type": "slide"
    },
    "tags": []
   },
   "source": [
    "#### Ejemplos:\n",
    "\n",
    "```python\n",
    "chr(49)\n",
    "'1'\n",
    "```\n",
    "\n",
    "Hay que tener en cuenta que, si el valor entero pasado a chr() está fuera del rango, entonces se generará un ValueError.\n",
    "\n",
    "```python\n",
    "chr(-10)\n",
    "'Traceback (most recent call last):\n",
    "  File \"<pyshell#24>\", line 1, in <module>\n",
    "    chr(-1)\n",
    "ValueError: chr() arg not in range(0x110000)'\n",
    "```"
   ]
  },
  {
   "cell_type": "markdown",
   "id": "2c2800c4-c674-45d6-8a7b-ede0e8b6896f",
   "metadata": {
    "editable": true,
    "slideshow": {
     "slide_type": "slide"
    },
    "tags": []
   },
   "source": [
    "### Función input()\n",
    "\n",
    "Muchas veces, recibir información del usuario hace que el programa se sienta interactivo. En Python 3, para recibir datos del usuario se tiene la función **input()**. Si se llama a la función input, el flujo del programa se detendrá hasta que el usuario haya introducido la información y haya finalizado la introducción de información con la tecla de retorno. Veamos algunos ejemplos:\n",
    "\n",
    "1. Cuando solo se quiere recibir información:\n",
    "\n",
    "```python\n",
    "inp = input()\n",
    "```\n",
    "\n",
    "2. Para mostrar en la línea de comandos un mensaje:\n",
    "\n",
    "```python\n",
    "promptwithmessage = input(’‘)\n",
    "```\n",
    "\n",
    "3. Cuando se quiere tomar un número entero como información:\n",
    "\n",
    "```python\n",
    "number = int(input('Ingresar un numero entero: '))\n",
    "```\n",
    "\n",
    "Sin embargo, las entradas se almacenan de forma predeterminada como un **string**. El uso de la función str() deja en claro al lector de código que la entrada será una \"cadena\". Es una buena práctica mencionar de antemano qué tipo de información se tomará."
   ]
  },
  {
   "cell_type": "markdown",
   "id": "d8003ee1-7bb5-4a8a-a23b-79722e6260e6",
   "metadata": {
    "editable": true,
    "slideshow": {
     "slide_type": "slide"
    },
    "tags": []
   },
   "source": [
    "### Como llamar una función en Python\n",
    "\n",
    "Una sentencia de definición de función no ejecuta la función. La ejecución (llamada) de una función se realiza utilizando el nombre de la función seguido de paréntesis que encierran los argumentos requeridos (si los hay).\n",
    "\n",
    "```python\n",
    "def di_hola():\n",
    "    print('Hello')\n",
    "\n",
    "di_hola()\n",
    "Hello\n",
    "```"
   ]
  },
  {
   "cell_type": "code",
   "execution_count": 1,
   "id": "c1d43595-f865-4e09-b915-6febb8d3bd23",
   "metadata": {},
   "outputs": [],
   "source": [
    "# consultas"
   ]
  },
  {
   "cell_type": "code",
   "execution_count": null,
   "id": "8f53cb37-7f3f-4b2b-9fca-79ab55a98d58",
   "metadata": {},
   "outputs": [],
   "source": []
  }
 ],
 "metadata": {
  "kernelspec": {
   "display_name": "Python [conda env:base] *",
   "language": "python",
   "name": "conda-base-py"
  },
  "language_info": {
   "codemirror_mode": {
    "name": "ipython",
    "version": 3
   },
   "file_extension": ".py",
   "mimetype": "text/x-python",
   "name": "python",
   "nbconvert_exporter": "python",
   "pygments_lexer": "ipython3",
   "version": "3.9.16"
  }
 },
 "nbformat": 4,
 "nbformat_minor": 5
}
