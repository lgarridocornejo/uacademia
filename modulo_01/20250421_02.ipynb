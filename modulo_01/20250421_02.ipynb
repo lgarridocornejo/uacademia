{
 "cells": [
  {
   "cell_type": "code",
   "execution_count": null,
   "id": "b145d1e9-9e2b-4860-9a63-d9be0598f509",
   "metadata": {
    "editable": true,
    "slideshow": {
     "slide_type": "skip"
    },
    "tags": []
   },
   "outputs": [],
   "source": [
    "# venv uacademias >>> 20250421"
   ]
  },
  {
   "cell_type": "markdown",
   "id": "cd48e0ff-4a91-42a1-8e3a-0e4919fa039e",
   "metadata": {
    "editable": true,
    "slideshow": {
     "slide_type": "slide"
    },
    "tags": []
   },
   "source": [
    "<p align=\"right\" width=\"100%\">\n",
    "    <img width=\"100%\" src=https://blogger.googleusercontent.com/img/b/R29vZ2xl/AVvXsEh_KS3v3XfFIF4NaZzXboDdgQ-AJd2eDciUfU4tcQ__BPl_hEysXZV6LwSCjpf3FpbJK9yz0CN2i4c5a7Gvqpv0mtouEYybK3ANqqU06af0ct1rBrwpJu8ehLGmlkVuiB1h7ycZqWIH-5gT/s400/curso-de-python-online.jpg\">\n",
    "</p>"
   ]
  },
  {
   "cell_type": "markdown",
   "id": "2cb64540",
   "metadata": {
    "editable": true,
    "slideshow": {
     "slide_type": "slide"
    },
    "tags": []
   },
   "source": [
    "# Uso de Librerías en Python\n",
    "¿Qué son las librerías, cómo se usan? Y practicar con algunas de las más comunes en Python."
   ]
  },
  {
   "cell_type": "markdown",
   "id": "3a46bf89-bafe-4148-a744-94f116c0f659",
   "metadata": {
    "editable": true,
    "slideshow": {
     "slide_type": "slide"
    },
    "tags": []
   },
   "source": [
    "## ¿Qué es una librería en Python?"
   ]
  },
  {
   "cell_type": "markdown",
   "id": "88bd697c-a305-4a90-9869-f5fa13e02000",
   "metadata": {
    "editable": true,
    "slideshow": {
     "slide_type": "fragment"
    },
    "tags": []
   },
   "source": [
    "- Definición: Conjunto de módulos que contienen funciones y herramientas listas para usar."
   ]
  },
  {
   "cell_type": "markdown",
   "id": "08331e99-b2b1-4016-b0df-9f735f3856bb",
   "metadata": {
    "editable": true,
    "slideshow": {
     "slide_type": "fragment"
    },
    "tags": []
   },
   "source": [
    "- Ventaja: Permite reutilizar código, resolver tareas comunes más fácilmente (por ejemplo, manejo de fechas, análisis de datos, visualización, etc.)."
   ]
  },
  {
   "cell_type": "markdown",
   "id": "1061904c-2ce9-42fb-b1b4-8b1016d4b176",
   "metadata": {
    "editable": true,
    "slideshow": {
     "slide_type": "fragment"
    },
    "tags": []
   },
   "source": [
    "- Analogía: Una librería es como una caja de herramientas: no necesitas fabricar un martillo, ¡ya lo tienes listo!"
   ]
  },
  {
   "cell_type": "markdown",
   "id": "eebdc3be",
   "metadata": {
    "editable": true,
    "slideshow": {
     "slide_type": "slide"
    },
    "tags": []
   },
   "source": [
    "## Cómo importar librerías\n",
    "Se puede importar librerías con la palabra clave `import`.\n",
    "- `import nombre_libreria`\n",
    "- `import nombre_libreria as alias`\n",
    "- `from nombre_libreria import funcion`\n"
   ]
  },
  {
   "cell_type": "code",
   "execution_count": null,
   "id": "3e99fb78",
   "metadata": {
    "editable": true,
    "slideshow": {
     "slide_type": "fragment"
    },
    "tags": []
   },
   "outputs": [],
   "source": [
    "# Ejemplo con la librería math\n",
    "import math\n",
    "print(math.sqrt(16)) # raiz cuadrada"
   ]
  },
  {
   "cell_type": "markdown",
   "id": "a29c4dd4-6ba9-47b4-bfc6-645dababb87a",
   "metadata": {
    "editable": true,
    "slideshow": {
     "slide_type": "slide"
    },
    "tags": []
   },
   "source": [
    "## Librerías estándar vs. externas"
   ]
  },
  {
   "cell_type": "markdown",
   "id": "fdd6ba34-b675-46ba-8ad7-92aa63ea32a7",
   "metadata": {
    "editable": true,
    "slideshow": {
     "slide_type": "fragment"
    },
    "tags": []
   },
   "source": [
    "- Estándar: Incluidas en Python (math, datetime, random, os, sys, etc.)."
   ]
  },
  {
   "cell_type": "markdown",
   "id": "f47a39b0-aee0-4447-bcab-020e6cec221c",
   "metadata": {
    "editable": true,
    "slideshow": {
     "slide_type": "fragment"
    },
    "tags": []
   },
   "source": [
    "- Externas: Se instalan adicionalmente (pandas, numpy, matplotlib, requests, etc.)."
   ]
  },
  {
   "cell_type": "markdown",
   "id": "b40b4732-7739-4177-9574-cf5a2732f8fd",
   "metadata": {
    "editable": true,
    "slideshow": {
     "slide_type": "slide"
    },
    "tags": []
   },
   "source": [
    "## Librerías comunes"
   ]
  },
  {
   "cell_type": "markdown",
   "id": "d0f7011c-dbec-4bbe-aec1-a78f7f8db3b5",
   "metadata": {
    "editable": true,
    "slideshow": {
     "slide_type": "fragment"
    },
    "tags": []
   },
   "source": [
    "- `math`: funciones matemáticas."
   ]
  },
  {
   "cell_type": "markdown",
   "id": "da17552d-a223-4647-bcb4-3e7f9908e4d8",
   "metadata": {
    "editable": true,
    "slideshow": {
     "slide_type": "fragment"
    },
    "tags": []
   },
   "source": [
    "- `random`: generación de números aleatorios."
   ]
  },
  {
   "cell_type": "markdown",
   "id": "2bf49dc9-080f-496f-94b3-9dfb3a0ae109",
   "metadata": {
    "editable": true,
    "slideshow": {
     "slide_type": "fragment"
    },
    "tags": []
   },
   "source": [
    "- `datetime`: manejo de fechas y horas."
   ]
  },
  {
   "cell_type": "markdown",
   "id": "8545c5ca-e691-4582-b734-9161d6ada89f",
   "metadata": {
    "editable": true,
    "slideshow": {
     "slide_type": "fragment"
    },
    "tags": []
   },
   "source": [
    "- `os`: interacción con el sistema operativo."
   ]
  },
  {
   "cell_type": "markdown",
   "id": "7fd86f0b-838a-4ec3-9ef5-ddb8644c2020",
   "metadata": {
    "editable": true,
    "slideshow": {
     "slide_type": "fragment"
    },
    "tags": []
   },
   "source": [
    "- `sys`: acceso a variables y funciones del sistema."
   ]
  },
  {
   "cell_type": "markdown",
   "id": "ae22100c-64a0-41aa-be64-67a42ada88ef",
   "metadata": {
    "editable": true,
    "slideshow": {
     "slide_type": "fragment"
    },
    "tags": []
   },
   "source": [
    "- `pandas`, `numpy`, `matplotlib`: para ciencia de datos."
   ]
  },
  {
   "cell_type": "code",
   "execution_count": null,
   "id": "84c84d1d",
   "metadata": {
    "editable": true,
    "slideshow": {
     "slide_type": "slide"
    },
    "tags": []
   },
   "outputs": [],
   "source": [
    "# Ejemplo con random\n",
    "import random\n",
    "for i in range(1,10):\n",
    "    print(random.randint(1, 10))"
   ]
  },
  {
   "cell_type": "code",
   "execution_count": null,
   "id": "be92c921-f5fa-4de7-b800-07106a936243",
   "metadata": {
    "editable": true,
    "slideshow": {
     "slide_type": "fragment"
    },
    "tags": []
   },
   "outputs": [],
   "source": []
  },
  {
   "cell_type": "code",
   "execution_count": null,
   "id": "9960cba3",
   "metadata": {
    "editable": true,
    "slideshow": {
     "slide_type": "slide"
    },
    "tags": []
   },
   "outputs": [],
   "source": [
    "# Ejemplo con datetime\n",
    "from datetime import datetime\n",
    "ahora = datetime.now()\n",
    "print(\"Fecha y hora actual:\", ahora)"
   ]
  },
  {
   "cell_type": "code",
   "execution_count": null,
   "id": "6b7b4ef1-514a-483a-bd78-1f0e4cec9225",
   "metadata": {
    "editable": true,
    "slideshow": {
     "slide_type": "fragment"
    },
    "tags": []
   },
   "outputs": [],
   "source": []
  },
  {
   "cell_type": "code",
   "execution_count": null,
   "id": "b5917dcd-439b-4c97-8f72-eed2ed4dc8a0",
   "metadata": {
    "editable": true,
    "slideshow": {
     "slide_type": "slide"
    },
    "tags": []
   },
   "outputs": [],
   "source": [
    "# Ejemplo libreria math\n",
    "import math\n",
    "print(math.sqrt(16))\n",
    "print(math.factorial(5))\n"
   ]
  },
  {
   "cell_type": "code",
   "execution_count": null,
   "id": "cf4dc238-9375-47c5-b87f-0f2460b1c852",
   "metadata": {
    "editable": true,
    "slideshow": {
     "slide_type": "fragment"
    },
    "tags": []
   },
   "outputs": [],
   "source": []
  },
  {
   "cell_type": "code",
   "execution_count": null,
   "id": "cd409453-5fdd-4c30-ad3f-4145f768effd",
   "metadata": {
    "editable": true,
    "slideshow": {
     "slide_type": "slide"
    },
    "tags": []
   },
   "outputs": [],
   "source": [
    "# Ejemplo pandas y numpy\n",
    "import pandas as pd\n",
    "import numpy as np\n",
    "\n",
    "datos = np.array([1, 2, 3, 4, 5])\n",
    "serie = pd.Series(datos)\n",
    "print(serie)"
   ]
  },
  {
   "cell_type": "code",
   "execution_count": null,
   "id": "2e4e8ee5-8dca-40ff-8b88-596026940fff",
   "metadata": {
    "editable": true,
    "slideshow": {
     "slide_type": "fragment"
    },
    "tags": []
   },
   "outputs": [],
   "source": []
  },
  {
   "cell_type": "code",
   "execution_count": null,
   "id": "8feb0a01-8bb5-4409-b3c5-3f24fa8f9def",
   "metadata": {
    "editable": true,
    "slideshow": {
     "slide_type": "slide"
    },
    "tags": []
   },
   "outputs": [],
   "source": [
    "# Ejemplo matplotlib\n",
    "import matplotlib.pyplot as plt\n",
    "\n",
    "x = [1, 2, 3, 4]\n",
    "y = [2, 3, 5, 7]\n",
    "plt.plot(x, y)\n",
    "plt.title(\"Ejemplo de gráfico\")\n",
    "plt.xlabel(\"x\")\n",
    "plt.ylabel(\"y\")\n",
    "plt.show()"
   ]
  },
  {
   "cell_type": "code",
   "execution_count": null,
   "id": "8dc34523-16e9-479f-9ba6-af169b5fcd3e",
   "metadata": {
    "editable": true,
    "slideshow": {
     "slide_type": "fragment"
    },
    "tags": []
   },
   "outputs": [],
   "source": []
  },
  {
   "cell_type": "markdown",
   "id": "dabcb677",
   "metadata": {
    "editable": true,
    "slideshow": {
     "slide_type": "slide"
    },
    "tags": []
   },
   "source": [
    "## Instalación de librerías externas\n",
    "Para instalar librerías que no vienen incluidas por defecto, se utiliza `pip`:\n",
    "```bash\n",
    "pip install nombre_libreria\n",
    "```"
   ]
  },
  {
   "cell_type": "markdown",
   "id": "a50d5748-cf57-4969-8350-93d7835263dd",
   "metadata": {
    "editable": true,
    "slideshow": {
     "slide_type": "fragment"
    },
    "tags": []
   },
   "source": [
    "### Desde el terminal\n",
    "```python\n",
    "pip install pandas\n",
    "```"
   ]
  },
  {
   "cell_type": "markdown",
   "id": "982edc91-f9cf-4c62-86c5-520757b25dcf",
   "metadata": {
    "editable": true,
    "slideshow": {
     "slide_type": "fragment"
    },
    "tags": []
   },
   "source": [
    "#### Usando Anaconda\n",
    "```python\n",
    "conda install pandas\n",
    "```"
   ]
  },
  {
   "cell_type": "markdown",
   "id": "edc6aef3-d0bb-48a3-af2f-66e032f5804d",
   "metadata": {
    "editable": true,
    "slideshow": {
     "slide_type": "fragment"
    },
    "tags": []
   },
   "source": [
    "### Desde Jupyter Notebook\n",
    "```python\n",
    "!pip install pandas\n",
    "```"
   ]
  },
  {
   "cell_type": "markdown",
   "id": "89734015-08d4-4307-9e72-736a441cee62",
   "metadata": {
    "editable": true,
    "slideshow": {
     "slide_type": "fragment"
    },
    "tags": []
   },
   "source": [
    "#### Usando Anaconda\n",
    "```python\n",
    "!conda install pandas\n",
    "```"
   ]
  },
  {
   "cell_type": "code",
   "execution_count": null,
   "id": "ed709f80-ffc2-4165-81c5-2b4fd33f408c",
   "metadata": {
    "editable": true,
    "slideshow": {
     "slide_type": "slide"
    },
    "tags": []
   },
   "outputs": [],
   "source": [
    "try:\n",
    "    import libreria\n",
    "except ImportError:\n",
    "    #!pip install libreria\n",
    "    #!conda install libreria\n",
    "    import libreria"
   ]
  },
  {
   "cell_type": "markdown",
   "id": "9969597c-00f7-405b-abea-5ea640ab4f36",
   "metadata": {
    "editable": true,
    "slideshow": {
     "slide_type": "slide"
    },
    "tags": []
   },
   "source": [
    "![](https://miro.medium.com/v2/resize:fit:720/format:webp/1*eYcpn82wdkwp0h3eS1Ql9Q.png)"
   ]
  },
  {
   "cell_type": "markdown",
   "id": "5995b2ad-1c04-490c-80fa-47cd7bc82732",
   "metadata": {
    "editable": true,
    "slideshow": {
     "slide_type": "slide"
    },
    "tags": []
   },
   "source": [
    "## PYPI\n",
    "\n",
    "#### https://pypi.org\n",
    "\n",
    "- seaborn\n",
    "- sklearn\n",
    "- scipy\n",
    "- pyod"
   ]
  },
  {
   "cell_type": "markdown",
   "id": "86da80b8",
   "metadata": {
    "editable": true,
    "slideshow": {
     "slide_type": "slide"
    },
    "tags": []
   },
   "source": [
    "## Ejercicios práctico\n",
    "1. Usa `math` para calcular la raíz cuadrada de 100.\n",
    "2. Usa `random` para simular el lanzamiento de un dado (número entre 1 y 6).\n",
    "3. Muestra la fecha actual con `datetime`.\n",
    "4. Usar datetime para mostrar cuántos días faltan para fin de año.\n",
    "5. Crear una Series aleatoria de 5 números con pandas y calcular su media con numpy.\n",
    "6. Crear pseudo libreria."
   ]
  },
  {
   "cell_type": "code",
   "execution_count": null,
   "id": "4ebfe391-57ec-42a0-b52f-573ce1348faa",
   "metadata": {
    "editable": true,
    "slideshow": {
     "slide_type": "slide"
    },
    "tags": []
   },
   "outputs": [],
   "source": [
    "import pandas as pd\n",
    "import numpy as np\n",
    "\n",
    "azar = []\n",
    "\n",
    "for i in range(1,6):\n",
    "    azar.append(random.randint(1, 100))\n",
    "    \n",
    "# Crear una Series con pandas\n",
    "numeros = pd.Series(azar)\n",
    "#print(numeros)\n",
    "\n",
    "# Mostrar la Series\n",
    "print(\"Series:\")\n",
    "print(numeros)\n",
    "\n",
    "# Calcular la media con numpy\n",
    "media = np.mean(numeros)\n",
    "\n",
    "# Mostrar la media\n",
    "print(\"\\nMedia calculada con numpy:\", media)"
   ]
  },
  {
   "cell_type": "code",
   "execution_count": null,
   "id": "4ae5a36b-34a7-4054-96ba-9a1dafaa5d57",
   "metadata": {
    "editable": true,
    "slideshow": {
     "slide_type": "fragment"
    },
    "tags": []
   },
   "outputs": [],
   "source": []
  },
  {
   "cell_type": "code",
   "execution_count": null,
   "id": "ff851f0f-627e-42ed-bfe3-a5a601d3e9e6",
   "metadata": {},
   "outputs": [],
   "source": []
  },
  {
   "cell_type": "markdown",
   "id": "70f2ce1b-a1c3-4acd-bcaa-95a369fee3d0",
   "metadata": {
    "editable": true,
    "slideshow": {
     "slide_type": "slide"
    },
    "tags": []
   },
   "source": [
    "## crear pseudo libreria"
   ]
  },
  {
   "cell_type": "markdown",
   "id": "8a5adcd4-4cbe-44b9-a104-3e8d3ed7dd9c",
   "metadata": {
    "editable": true,
    "slideshow": {
     "slide_type": "fragment"
    },
    "tags": []
   },
   "source": [
    "```python\n",
    "# import libreria\n",
    "\n",
    "\n",
    "class test():\n",
    "\n",
    "    def saludar(self,nombre):\n",
    "        \"\"\"\n",
    "        Saludar, entrega un saludo cuando se ingresa un nombre \n",
    "        \"\"\"\n",
    "        print(f\"Hola, {nombre}. Mucho gusto!\")\n",
    "\n",
    "    def sumar_plus(self, x, y):\n",
    "        \"\"\"\n",
    "        Sumar_plus, agrega uno a la suma de dos numeros\n",
    "        \"\"\"\n",
    "        return x + y + 1\n",
    "```\n",
    "\n",
    "Guardar como mi_libreria.py"
   ]
  },
  {
   "cell_type": "code",
   "execution_count": 1,
   "id": "4f3cbaf4-6d2e-4727-8f40-640094304f61",
   "metadata": {
    "editable": true,
    "slideshow": {
     "slide_type": "slide"
    },
    "tags": []
   },
   "outputs": [],
   "source": [
    "from mi_libreria import test"
   ]
  },
  {
   "cell_type": "code",
   "execution_count": 9,
   "id": "3b0cb6c6-bce8-4f59-a2cb-e7802efd1858",
   "metadata": {
    "editable": true,
    "scrolled": true,
    "slideshow": {
     "slide_type": "fragment"
    },
    "tags": []
   },
   "outputs": [
    {
     "ename": "TypeError",
     "evalue": "saludar() missing 1 required positional argument: 'nombre'",
     "output_type": "error",
     "traceback": [
      "\u001b[0;31m---------------------------------------------------------------------------\u001b[0m",
      "\u001b[0;31mTypeError\u001b[0m                                 Traceback (most recent call last)",
      "Cell \u001b[0;32mIn[9], line 1\u001b[0m\n\u001b[0;32m----> 1\u001b[0m \u001b[43mtest\u001b[49m\u001b[38;5;241;43m.\u001b[39;49m\u001b[43msaludar\u001b[49m\u001b[43m(\u001b[49m\u001b[38;5;124;43m\"\u001b[39;49m\u001b[38;5;124;43mxxx\u001b[39;49m\u001b[38;5;124;43m\"\u001b[39;49m\u001b[43m)\u001b[49m\n",
      "\u001b[0;31mTypeError\u001b[0m: saludar() missing 1 required positional argument: 'nombre'"
     ]
    }
   ],
   "source": [
    "test.saludar(\"José\")\n",
    "# Este error sale ya que no se ha inicializado la libreria"
   ]
  },
  {
   "cell_type": "code",
   "execution_count": 3,
   "id": "71616c09-2d3e-42f6-9550-96ae85ce372c",
   "metadata": {
    "editable": true,
    "slideshow": {
     "slide_type": "fragment"
    },
    "tags": []
   },
   "outputs": [],
   "source": [
    "#Inicializar libreria\n",
    "prueba = test()"
   ]
  },
  {
   "cell_type": "code",
   "execution_count": 5,
   "id": "500cd901-63c1-4f0f-b78e-4616ca7b24e0",
   "metadata": {
    "editable": true,
    "slideshow": {
     "slide_type": "fragment"
    },
    "tags": []
   },
   "outputs": [
    {
     "name": "stdout",
     "output_type": "stream",
     "text": [
      "Hola, Ramona. Mucho gusto!\n"
     ]
    }
   ],
   "source": [
    "prueba.saludar(\"Ramona\")"
   ]
  },
  {
   "cell_type": "code",
   "execution_count": 7,
   "id": "0902e075-5d40-48d8-a66c-633f84becfb2",
   "metadata": {
    "editable": true,
    "slideshow": {
     "slide_type": "fragment"
    },
    "tags": []
   },
   "outputs": [
    {
     "data": {
      "text/plain": [
       "6"
      ]
     },
     "execution_count": 7,
     "metadata": {},
     "output_type": "execute_result"
    }
   ],
   "source": [
    "prueba.sumar_plus(2,3)"
   ]
  },
  {
   "cell_type": "code",
   "execution_count": null,
   "id": "6b9177ba-8264-49e4-bbd8-65db144dbe3f",
   "metadata": {
    "editable": true,
    "slideshow": {
     "slide_type": "fragment"
    },
    "tags": []
   },
   "outputs": [],
   "source": []
  }
 ],
 "metadata": {
  "kernelspec": {
   "display_name": "Python [conda env:base] *",
   "language": "python",
   "name": "conda-base-py"
  },
  "language_info": {
   "codemirror_mode": {
    "name": "ipython",
    "version": 3
   },
   "file_extension": ".py",
   "mimetype": "text/x-python",
   "name": "python",
   "nbconvert_exporter": "python",
   "pygments_lexer": "ipython3",
   "version": "3.9.16"
  }
 },
 "nbformat": 4,
 "nbformat_minor": 5
}
