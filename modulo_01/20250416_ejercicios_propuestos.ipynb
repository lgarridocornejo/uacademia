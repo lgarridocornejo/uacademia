{
 "cells": [
  {
   "cell_type": "code",
   "execution_count": 121,
   "id": "c6ddd9da-113a-473c-bca4-52207f196ad6",
   "metadata": {},
   "outputs": [],
   "source": [
    "# venv uacademia >>> 20250416"
   ]
  },
  {
   "cell_type": "code",
   "execution_count": 109,
   "id": "a8483f02-7330-4d25-a955-c0a145f22dc2",
   "metadata": {},
   "outputs": [],
   "source": [
    "mi_lista = [42, \"python\", 3.14, True, \"manzana\", 0, False, \"universo\", 8.8, \"programar\", 99, \"a\", 5, [1, 2, 3], \"b\", 7.77, True, \"alerce\", 2025, None, \"zorro\"]\n"
   ]
  },
  {
   "cell_type": "code",
   "execution_count": 111,
   "id": "191d5ecb-3a80-4d3f-b39c-71ece1e89006",
   "metadata": {},
   "outputs": [],
   "source": [
    "# 1. Acceder al elemento 12 de la lista.\n",
    "# 2. Recorrer la lista desde el elemento 15 al 19.\n",
    "# 3. Recorrer la lista desde el cuarto al penúltimo, pero en orden inverso.\n",
    "# 4. Imprimir solo los elementos que sean de tipo str.\n",
    "# 5. Mostrar los índices de todos los elementos que sean booleanos.\n",
    "# 6. Calcular la suma de los elementos que sean números enteros (int).\n",
    "# 7. Mostrar los elementos que estén en posiciones pares.\n",
    "# 8. Verificar si la palabra 'python' está en la lista.\n",
    "# 9. En qué posición está la palabra 'alerce'"
   ]
  },
  {
   "cell_type": "code",
   "execution_count": 113,
   "id": "1d3e981d-0949-4a6f-8d65-e193d282f124",
   "metadata": {},
   "outputs": [],
   "source": [
    "# 1. Función para acceder a un elemento de la lista dados por el usuario.\n",
    "# 2. Recorrer parte de la lista con índices dados por usuario.\n",
    "# 3. Recorrer en reversa entre índices dados por el usuario.\n",
    "# 4. Buscar un elemento ingresado por el usuario."
   ]
  },
  {
   "cell_type": "code",
   "execution_count": 115,
   "id": "a16714b8-fbf2-4e42-a633-52a400e5bda4",
   "metadata": {},
   "outputs": [],
   "source": [
    "personas = {\n",
    "    1: {'nombre':'Ana',\n",
    "        'edad': 28,\n",
    "        'ciudad': 'Valparaíso',\n",
    "        'profesion': 'Ingeniera',\n",
    "        'correo': 'ana@uacademia.cl'\n",
    "    },\n",
    "    2: {'nombre':'jose',\n",
    "        'edad': 35,\n",
    "        'ciudad': 'Santiago',\n",
    "        'profesion': 'Profesor',\n",
    "        'correo': 'jose@uacademia.cl'\n",
    "    }\n",
    "}"
   ]
  },
  {
   "cell_type": "code",
   "execution_count": 117,
   "id": "f40f5a26-42b0-43a6-945f-888a149998e6",
   "metadata": {},
   "outputs": [],
   "source": [
    "# 1. Imprimir las claves y valores del diccionario.\n",
    "# 2. Agregar una persona al diccionario personas, utilizar una función. Adémas, solicitar al usuario los datos de la nueva persona"
   ]
  },
  {
   "cell_type": "code",
   "execution_count": null,
   "id": "ff739216-0c43-42b8-a253-05844f4afb30",
   "metadata": {},
   "outputs": [],
   "source": []
  }
 ],
 "metadata": {
  "kernelspec": {
   "display_name": "Python [conda env:base] *",
   "language": "python",
   "name": "conda-base-py"
  },
  "language_info": {
   "codemirror_mode": {
    "name": "ipython",
    "version": 3
   },
   "file_extension": ".py",
   "mimetype": "text/x-python",
   "name": "python",
   "nbconvert_exporter": "python",
   "pygments_lexer": "ipython3",
   "version": "3.9.16"
  }
 },
 "nbformat": 4,
 "nbformat_minor": 5
}
