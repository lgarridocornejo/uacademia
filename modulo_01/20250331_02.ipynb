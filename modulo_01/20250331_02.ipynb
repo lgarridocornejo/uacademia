{
 "cells": [
  {
   "cell_type": "code",
   "execution_count": null,
   "id": "86333132-f04e-456b-a177-99517c28d8a9",
   "metadata": {
    "editable": true,
    "slideshow": {
     "slide_type": ""
    },
    "tags": []
   },
   "outputs": [],
   "source": [
    "# venev base >> 20250331"
   ]
  },
  {
   "cell_type": "markdown",
   "id": "483341f9-ccfd-45c0-a34b-018c856500fd",
   "metadata": {
    "editable": true,
    "slideshow": {
     "slide_type": "slide"
    },
    "tags": []
   },
   "source": [
    "![](https://realpython.com/cdn-cgi/image/width=960,format=auto/https://files.realpython.com/media/Pythons-range-function_Watermark.5e8ea929167e.jpg)"
   ]
  },
  {
   "cell_type": "markdown",
   "id": "4d387e2e-f288-4793-b679-7941d7c8ef80",
   "metadata": {
    "editable": true,
    "slideshow": {
     "slide_type": "slide"
    },
    "tags": []
   },
   "source": [
    "# Estructuras de control"
   ]
  },
  {
   "cell_type": "markdown",
   "id": "22ac5a3c-2ba0-47b5-8c02-c66c7672f9d0",
   "metadata": {
    "editable": true,
    "slideshow": {
     "slide_type": "fragment"
    },
    "tags": []
   },
   "source": [
    "## ¿Qué son las estructuras de control de flujo?\n",
    "Las estructuras de control de flujo son herramientas fundamentales en la programación que **permiten alterar el orden en que se ejecutan las instrucciones de un programa**. En lugar de seguir una secuencia lineal, estas estructuras **permiten tomar decisiones**, **repetir bloques de código** o s**altar a diferentes partes del programa** según ciertas condiciones."
   ]
  },
  {
   "cell_type": "markdown",
   "id": "8b9124fc-6c19-4936-b9c2-73c0eb21cb30",
   "metadata": {
    "editable": true,
    "slideshow": {
     "slide_type": "slide"
    },
    "tags": []
   },
   "source": [
    "## Sentencias iterativas"
   ]
  },
  {
   "cell_type": "markdown",
   "id": "277d88f5-3da1-4c0e-b95d-e68045d02a47",
   "metadata": {
    "editable": true,
    "slideshow": {
     "slide_type": "slide"
    },
    "tags": []
   },
   "source": [
    "## Sentencia while\n",
    "\n",
    "- La sentencia **while** se usa para ejecutar un bloque de código repetidamente mientras una condición sea verdadera.\n",
    "- **Mientras se cumpla esta condición, repite estas acciones**\n",
    "\n",
    "Explicación_\n",
    "\n",
    "- Evalúa la condición antes de cada iteración.\n",
    "- Si la condición es **True**, ejecuta el bloque de código.\n",
    "- Al finalizar el bloque, vuelve a evaluar la condición.\n",
    "- Si la condición sigue siendo **True**, repite el ciclo.\n",
    "- Si la condición se vuelve **False**, el bucle termina."
   ]
  },
  {
   "cell_type": "markdown",
   "id": "5f68d332-eeae-4777-9585-890755bc8376",
   "metadata": {
    "editable": true,
    "slideshow": {
     "slide_type": "fragment"
    },
    "tags": []
   },
   "source": [
    "### Sintaxis básica\n",
    "\n",
    "```python\n",
    "    while condición:\n",
    "    # Bloque de código que se ejecuta mientras la condición sea True\n",
    "\n",
    "```"
   ]
  },
  {
   "cell_type": "markdown",
   "id": "ab6ffef9-2027-44b8-bb75-e2922759099d",
   "metadata": {
    "editable": true,
    "slideshow": {
     "slide_type": "fragment"
    },
    "tags": []
   },
   "source": [
    "```mermaid\n",
    "    graph LR\n",
    "        A[Inicio] --> B{Condición}\n",
    "        B -- True --> C[Ejecutar código]\n",
    "        C --> B\n",
    "        B -- False --> D[Fin]\n",
    "```"
   ]
  },
  {
   "cell_type": "markdown",
   "id": "9eeff5db-280c-46ee-b5e8-f719ccbdf126",
   "metadata": {
    "editable": true,
    "slideshow": {
     "slide_type": "slide"
    },
    "tags": []
   },
   "source": [
    "### Ejemplo: Contador"
   ]
  },
  {
   "cell_type": "code",
   "execution_count": null,
   "id": "4ca73231-d994-422a-9d44-85e59744e306",
   "metadata": {
    "editable": true,
    "slideshow": {
     "slide_type": "fragment"
    },
    "tags": []
   },
   "outputs": [],
   "source": [
    "i = 0\n",
    "while i < 3:\n",
    "    print(i)\n",
    "    i += 1 \n",
    "    # i = i +1\n",
    "\n",
    "print(\"Listo\")"
   ]
  },
  {
   "cell_type": "markdown",
   "id": "e25e9ee5-c7ad-4431-b98e-ddc197b6ef6a",
   "metadata": {
    "editable": true,
    "slideshow": {
     "slide_type": "fragment"
    },
    "tags": []
   },
   "source": [
    "<table>\n",
    "    <thead>\n",
    "        <tr>\n",
    "            <th>  rep  </th>\n",
    "            <th>   i   </th>\n",
    "            <th> while </th>\n",
    "            <th>print()</th>\n",
    "        </tr>\n",
    "    </thead>\n",
    "    <tbody>\n",
    "        <tr>\n",
    "            <td>1</td>\n",
    "            <td></td>\n",
    "            <td></td>\n",
    "            <td></td>\n",
    "        </tr>\n",
    "        <tr>\n",
    "            <td>2</td>\n",
    "            <td></td>\n",
    "            <td></td>\n",
    "            <td></td>\n",
    "        </tr>\n",
    "        <tr>\n",
    "            <td>3</td>\n",
    "            <td></td>\n",
    "            <td></td>\n",
    "            <td></td>\n",
    "        </tr>\n",
    "        <tr>\n",
    "            <td>4</td>\n",
    "            <td></td>\n",
    "            <td></td>\n",
    "            <td></td>\n",
    "        </tr>\n",
    "    </tbody>\n",
    "</table>"
   ]
  },
  {
   "cell_type": "markdown",
   "id": "0c5bf29a-37a5-4e50-b20b-da522e0cc14c",
   "metadata": {
    "editable": true,
    "slideshow": {
     "slide_type": "slide"
    },
    "tags": []
   },
   "source": [
    "### Ejemplo: Contador"
   ]
  },
  {
   "cell_type": "code",
   "execution_count": null,
   "id": "3de8955e-34ce-410f-9a8b-e7f0765bc684",
   "metadata": {
    "editable": true,
    "slideshow": {
     "slide_type": "fragment"
    },
    "tags": []
   },
   "outputs": [],
   "source": [
    "i = 1\n",
    "while i < 100:\n",
    "    i *= 2\n",
    "    print(i)\n",
    "\n",
    "print(\"Listo\")"
   ]
  },
  {
   "cell_type": "markdown",
   "id": "27992eaa-b7a5-45ec-821d-6eb8901c66c8",
   "metadata": {
    "editable": true,
    "slideshow": {
     "slide_type": "fragment"
    },
    "tags": []
   },
   "source": [
    "<table>\n",
    "    <thead>\n",
    "        <tr>\n",
    "            <th>  rep  </th>\n",
    "            <th>   i   </th>\n",
    "            <th> while </th>\n",
    "            <th>print()</th>\n",
    "        </tr>\n",
    "    </thead>\n",
    "    <tbody>\n",
    "        <tr>\n",
    "            <td>1</td>\n",
    "            <td></td>\n",
    "            <td></td>\n",
    "            <td></td>\n",
    "        </tr>\n",
    "        <tr>\n",
    "            <td>2</td>\n",
    "            <td></td>\n",
    "            <td></td>\n",
    "            <td></td>\n",
    "        </tr>\n",
    "        <tr>\n",
    "            <td>3</td>\n",
    "            <td></td>\n",
    "            <td></td>\n",
    "            <td></td>\n",
    "        </tr>\n",
    "        <tr>\n",
    "            <td>4</td>\n",
    "            <td></td>\n",
    "            <td></td>\n",
    "            <td></td>\n",
    "        </tr>\n",
    "        <tr>\n",
    "            <td>5</td>\n",
    "            <td></td>\n",
    "            <td></td>\n",
    "            <td></td>\n",
    "        </tr>\n",
    "        <tr>\n",
    "            <td>6</td>\n",
    "            <td></td>\n",
    "            <td></td>\n",
    "            <td></td>\n",
    "        </tr>\n",
    "        <tr>\n",
    "            <td>7</td>\n",
    "            <td></td>\n",
    "            <td></td>\n",
    "            <td></td>\n",
    "        </tr>\n",
    "        <tr>\n",
    "            <td>8</td>\n",
    "            <td></td>\n",
    "            <td></td>\n",
    "            <td></td>\n",
    "        </tr>\n",
    "    </tbody>\n",
    "</table>"
   ]
  },
  {
   "cell_type": "markdown",
   "id": "fd9975d7-1037-4b0b-9020-6cc3d21ea7e3",
   "metadata": {
    "editable": true,
    "slideshow": {
     "slide_type": "slide"
    },
    "tags": []
   },
   "source": [
    "### Ejercicio: Escribir códigos para las siguientes condiciones (10 min)\n",
    "\n",
    "- Cual es la suma de todos los valores entre 1 y 1000\n",
    "$$S = \\sum_{i=1}^{1000} i$$\n",
    "\n"
   ]
  },
  {
   "cell_type": "markdown",
   "id": "c35a05be-4288-4681-ab53-a1290f37b005",
   "metadata": {
    "editable": true,
    "slideshow": {
     "slide_type": "slide"
    },
    "tags": []
   },
   "source": [
    "## Sentencia for-in\n",
    "\n",
    "- Se usa para iterar sobre una secuencia (como listas, tuplas, diccionarios, cadenas de texto o rangos numéricos). Se ejecuta un bloque de código para cada elemento en la secuencia.\n",
    "- **Para todo elemento en una serie, hacer**\n",
    "- **for-in** es ideal para recorrer listas, cadenas, diccionarios y secuencias.\n",
    "- Se puede usar con **range()**, **enumerate()**, y métodos de diccionarios **(.items(), .keys(), .values())**.\n",
    "- Es más legible y eficiente que usar **while** cuando sabemos cuántas iteraciones queremos hacer."
   ]
  },
  {
   "cell_type": "markdown",
   "id": "f8463ca9-5918-4499-8db0-6b8e2b9028c7",
   "metadata": {
    "editable": true,
    "slideshow": {
     "slide_type": "fragment"
    },
    "tags": []
   },
   "source": [
    "### Sintaxis básica\n",
    "\n",
    "```python\n",
    "    for variable in secuencia:\n",
    "    # Bloque de código que se ejecuta en cada iteración\n",
    "```"
   ]
  },
  {
   "cell_type": "markdown",
   "id": "468ec439-59d1-4e31-9bd6-323a013a38ca",
   "metadata": {
    "editable": true,
    "slideshow": {
     "slide_type": "fragment"
    },
    "tags": []
   },
   "source": [
    "```mermaid\n",
    "    graph LR;\n",
    "        A[Inicio] --> B[Definir secuencia o rango]\n",
    "        B --> C[Iterar sobre cada elemento]\n",
    "        C -->|¿Quedan elementos?| D{True}\n",
    "        D --> E[Ejecutar bloque de código]\n",
    "        C -->|False| F[Fin]\n",
    "        E --> C\n",
    "```"
   ]
  },
  {
   "cell_type": "markdown",
   "id": "235d7ad9-c60d-4b96-af7c-efb4197c1b01",
   "metadata": {
    "editable": true,
    "slideshow": {
     "slide_type": "slide"
    },
    "tags": []
   },
   "source": [
    "### Ejemplo"
   ]
  },
  {
   "cell_type": "code",
   "execution_count": null,
   "id": "fcbf95d1-91d2-47ef-b924-eef5ee2ae87b",
   "metadata": {
    "editable": true,
    "slideshow": {
     "slide_type": "fragment"
    },
    "tags": []
   },
   "outputs": [],
   "source": [
    "nombres = [\"Pedro\", \"Juan\", \"Diego\"]\n",
    "for nombre in nombres:\n",
    "    print(f\"Hola, {nombre}\")"
   ]
  },
  {
   "cell_type": "markdown",
   "id": "ce5fd1a6-b8b1-483d-a147-87c9e757f025",
   "metadata": {
    "editable": true,
    "slideshow": {
     "slide_type": "slide"
    },
    "tags": []
   },
   "source": [
    "### Ejemplo"
   ]
  },
  {
   "cell_type": "code",
   "execution_count": null,
   "id": "f746e6b8-0641-46ec-b724-da4ce4448055",
   "metadata": {
    "editable": true,
    "slideshow": {
     "slide_type": "fragment"
    },
    "tags": []
   },
   "outputs": [],
   "source": [
    "numero = int(input(\"Ingresar un número: \"))\n",
    "\n",
    "for potencia in [2, 3, 4, 5]:\n",
    "    print(f\"{numero} elevado a {potencia} es {numero**potencia}\")"
   ]
  },
  {
   "cell_type": "markdown",
   "id": "95e2c4d3-6c90-429b-acb0-60841f63ac22",
   "metadata": {
    "editable": true,
    "slideshow": {
     "slide_type": "slide"
    },
    "tags": []
   },
   "source": [
    "### Ejercicios (10 min)\n",
    "\n",
    "- Suma de los primeros 10 números pares.\n",
    "- Contar vocales de una palabra ingresada por el usuario."
   ]
  },
  {
   "cell_type": "markdown",
   "id": "fa38bdb7-c1c5-4c28-b5bc-e388cf936777",
   "metadata": {},
   "source": [
    "### Resolución "
   ]
  },
  {
   "cell_type": "code",
   "execution_count": null,
   "id": "ec212090-88d6-4d4a-8373-ab995da56c8f",
   "metadata": {},
   "outputs": [],
   "source": [
    "palabra = input(\"Ingresar una palabra\")\n",
    "\n",
    "for letra in palabra:\n",
    "    if letra in 'aeiouAEIOU':\n",
    "        print(letra)"
   ]
  },
  {
   "cell_type": "code",
   "execution_count": null,
   "id": "034d9cfd-292d-4025-9b56-b0a104e6297f",
   "metadata": {},
   "outputs": [],
   "source": []
  },
  {
   "cell_type": "markdown",
   "id": "9dfaceb5-262c-404d-b9ba-455aa9cd8676",
   "metadata": {
    "editable": true,
    "slideshow": {
     "slide_type": "slide"
    },
    "tags": []
   },
   "source": [
    "# FIN\n",
    "\n",
    "## Dudas o consultas"
   ]
  },
  {
   "cell_type": "code",
   "execution_count": null,
   "id": "df798195-ff13-4855-930d-73a46b739668",
   "metadata": {
    "editable": true,
    "slideshow": {
     "slide_type": ""
    },
    "tags": []
   },
   "outputs": [],
   "source": []
  }
 ],
 "metadata": {
  "kernelspec": {
   "display_name": "Python [conda env:base] *",
   "language": "python",
   "name": "conda-base-py"
  },
  "language_info": {
   "codemirror_mode": {
    "name": "ipython",
    "version": 3
   },
   "file_extension": ".py",
   "mimetype": "text/x-python",
   "name": "python",
   "nbconvert_exporter": "python",
   "pygments_lexer": "ipython3",
   "version": "3.9.16"
  }
 },
 "nbformat": 4,
 "nbformat_minor": 5
}
