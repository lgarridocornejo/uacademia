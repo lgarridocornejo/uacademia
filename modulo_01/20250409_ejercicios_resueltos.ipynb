{
 "cells": [
  {
   "cell_type": "markdown",
   "id": "8a4e91a4-67b4-4309-a7d9-30480cec24bc",
   "metadata": {
    "editable": true,
    "slideshow": {
     "slide_type": ""
    },
    "tags": []
   },
   "source": [
    "# Contar vocales\n",
    "Escribe una función **contar_vocales(texto)** que reciba una cadena y devuelva el número de vocales en ella."
   ]
  },
  {
   "cell_type": "code",
   "execution_count": 69,
   "id": "5d8852d9-e5f3-4511-98e1-517e36834a4e",
   "metadata": {},
   "outputs": [],
   "source": [
    "def contar_vocales(texto):\n",
    "    vocales = \"aeiouAEIOU\"\n",
    "    contador = 0  # Inicializamos el contador en 0\n",
    "    \n",
    "    for letra in texto:\n",
    "        if letra in vocales:\n",
    "            contador += 1  # Incrementamos el contador en 1 si la letra es una vocal\n",
    "    return contador"
   ]
  },
  {
   "cell_type": "code",
   "execution_count": 71,
   "id": "009da225-6a82-4047-b9ac-55a6232ca6b5",
   "metadata": {},
   "outputs": [
    {
     "name": "stdin",
     "output_type": "stream",
     "text": [
      "Ingresa una frase:  supercalifragilisticoespialidoso\n"
     ]
    },
    {
     "name": "stdout",
     "output_type": "stream",
     "text": [
      "Número de vocales: 15\n"
     ]
    }
   ],
   "source": [
    "# Ejemplo de uso\n",
    "texto = input(\"Ingresa una frase: \")\n",
    "print(f\"Número de vocales: {contar_vocales(texto)}\")"
   ]
  },
  {
   "cell_type": "markdown",
   "id": "cb034021-8ef4-4aec-ae91-b17da9524b52",
   "metadata": {},
   "source": [
    "---"
   ]
  },
  {
   "cell_type": "markdown",
   "id": "c8e3106e-b252-4203-8e4e-2694e87615ee",
   "metadata": {},
   "source": [
    "# Fibonacci\n",
    "La serie de Fibonacci es una secuencia matemática en la que cada número es la suma de los dos anteriores.\n",
    " $0, 1, 1, 2, 3, 5, 8, 13, 21, 34, ...$"
   ]
  },
  {
   "cell_type": "code",
   "execution_count": null,
   "id": "c01a8b3e-c8c6-40da-8ba2-d7ee17fe9762",
   "metadata": {},
   "outputs": [],
   "source": [
    "def fibonacci_generador(n):\n",
    "    \"\"\"Genera una lista con los primeros n números de Fibonacci.\"\"\"\n",
    "    if n <= 0:\n",
    "        return []\n",
    "    elif n == 1:\n",
    "        return [0]\n",
    "    else:\n",
    "        lista_fibonacci = [0, 1]\n",
    "        while len(lista_fibonacci) < n:\n",
    "            siguiente = lista_fibonacci[-1] + lista_fibonacci[-2]\n",
    "            lista_fibonacci.append(siguiente)\n",
    "        return lista_fibonacci"
   ]
  },
  {
   "cell_type": "code",
   "execution_count": 77,
   "id": "348ce62b-ade1-4388-9ab0-94e805b53943",
   "metadata": {},
   "outputs": [
    {
     "name": "stdin",
     "output_type": "stream",
     "text": [
      "ingrese el n termino para calcular la serie:  1\n"
     ]
    },
    {
     "name": "stdout",
     "output_type": "stream",
     "text": [
      "[0]\n"
     ]
    }
   ],
   "source": [
    "# Prueba\n",
    "termino_n = int(input(\"ingrese el n termino para calcular la serie: \"))\n",
    "print(list(fibonacci_generador(termino_n)))  # [0, 1, 1, 2, 3, 5, 8, 13, 21, 34]"
   ]
  },
  {
   "cell_type": "markdown",
   "id": "5b0c1a0f-d5ff-4fac-8cab-0398494a1856",
   "metadata": {},
   "source": [
    "---"
   ]
  },
  {
   "cell_type": "markdown",
   "id": "4827d0f4-42af-4353-b6b0-a9396ccace89",
   "metadata": {},
   "source": [
    "# Palindromos \n",
    "Escribe una función **es_palindromo(palabra)** que devuelva **Si** o **No** si una palabra es un palíndromo.\n",
    "\n",
    "Un **palíndromo** es una palabra, número o frase que se lee igual de izquierda a derecha que de derecha a izquierda, ignorando espacios, mayúsculas y tildes.\n",
    "\n",
    "Para probar usar:  \n",
    "- radar\n",
    "- reconocer\n",
    "- murcielago\n",
    "- paralelepipedo\n",
    "- oso\n",
    "- anilina"
   ]
  },
  {
   "cell_type": "code",
   "execution_count": 94,
   "id": "7e3ab160-fe5f-43e2-bb1c-e27446398579",
   "metadata": {},
   "outputs": [],
   "source": [
    "palabras = [\"radar\", \"reconocer\", \"murcielago\", \"paralelepipedo\", \"oso\", \"anilina\"]"
   ]
  },
  {
   "cell_type": "code",
   "execution_count": 117,
   "id": "ae5062a1-4fde-43b6-8dfb-96d53e53b326",
   "metadata": {
    "editable": true,
    "slideshow": {
     "slide_type": ""
    },
    "tags": []
   },
   "outputs": [],
   "source": [
    "def es_palindromo(palabra):\n",
    "    # Convertimos la palabra a minúsculas y eliminamos espacios\n",
    "    vof = \"No\"\n",
    "    palabra = palabra.lower().replace(\" \", \"\")\n",
    "    if palabra == palabra[::-1]:\n",
    "        vof = \"Si\"\n",
    "    # Comparamos la palabra con su versión invertida\n",
    "    return vof"
   ]
  },
  {
   "cell_type": "code",
   "execution_count": 119,
   "id": "713d8e5e-64c6-466e-97dd-c6f9dadddf2a",
   "metadata": {},
   "outputs": [
    {
     "name": "stdin",
     "output_type": "stream",
     "text": [
      "Ingresa una palabra:  anilina\n"
     ]
    },
    {
     "data": {
      "text/plain": [
       "'Si'"
      ]
     },
     "execution_count": 119,
     "metadata": {},
     "output_type": "execute_result"
    }
   ],
   "source": [
    "# Pruebas\n",
    "palabra = input(\"Ingresa una palabra: \")\n",
    "es_palindromo(palabra)"
   ]
  },
  {
   "cell_type": "code",
   "execution_count": 121,
   "id": "d3929239-d0c4-49cc-b83d-77238e47c397",
   "metadata": {},
   "outputs": [
    {
     "name": "stdout",
     "output_type": "stream",
     "text": [
      "La palabra radar, es palindromica? Si\n",
      "La palabra reconocer, es palindromica? Si\n",
      "La palabra murcielago, es palindromica? No\n",
      "La palabra paralelepipedo, es palindromica? No\n",
      "La palabra oso, es palindromica? Si\n",
      "La palabra anilina, es palindromica? Si\n"
     ]
    }
   ],
   "source": [
    "for palabra in palabras:\n",
    "    print(f\"La palabra {palabra}, es palindromica? {es_palindromo(palabra)}\")"
   ]
  },
  {
   "cell_type": "code",
   "execution_count": null,
   "id": "15c7be23-36de-40f0-9f04-577ef9821a3b",
   "metadata": {},
   "outputs": [],
   "source": []
  },
  {
   "cell_type": "markdown",
   "id": "ca84ac33-0147-40ed-98da-b1b7afc0c16c",
   "metadata": {},
   "source": [
    "---"
   ]
  },
  {
   "cell_type": "markdown",
   "id": "278acc11-9f73-4806-818d-6a382c7a7fff",
   "metadata": {},
   "source": [
    "# Frases palindromicas\n",
    "\n",
    "Probar con:\n",
    "- Anita lava la tina\n",
    "- A mamá Roma le aviva el amor a papá y a papá Roma le aviva el amor a mamá\n",
    "- Hola mundo"
   ]
  },
  {
   "cell_type": "code",
   "execution_count": 148,
   "id": "7132ff3f-5078-4d50-be85-2fed421fd090",
   "metadata": {},
   "outputs": [],
   "source": [
    "frases = [\"Anita lava la tina\", \"A mama Roma le aviva el amor a papa y a papa Roma le aviva el amor a mama\", \"Hola mundo\"]"
   ]
  },
  {
   "cell_type": "code",
   "execution_count": 150,
   "id": "accd9b6e-9ba1-41bd-818e-7df65434c040",
   "metadata": {},
   "outputs": [],
   "source": [
    "import re\n",
    "\n",
    "def es_palindromo_frase(frase):\n",
    "    # Eliminamos caracteres especiales y convertimos a \n",
    "    vof = \"No\"\n",
    "    frase_limpia = re.sub(r'[^a-zA-Z0-9]', '', frase.lower())\n",
    "    if frase_limpia == frase_limpia[::-1]:\n",
    "        vof = \"Si\"\n",
    "    \n",
    "    # Comparamos la frase limpia con su versión invertida\n",
    "    return vof"
   ]
  },
  {
   "cell_type": "code",
   "execution_count": 152,
   "id": "31a17f76-33e4-4f80-85a8-edf739cd8620",
   "metadata": {},
   "outputs": [
    {
     "name": "stdin",
     "output_type": "stream",
     "text": [
      "Ingresa una frase:  Anita lava la tina\n"
     ]
    },
    {
     "data": {
      "text/plain": [
       "'Si'"
      ]
     },
     "execution_count": 152,
     "metadata": {},
     "output_type": "execute_result"
    }
   ],
   "source": [
    "# Pruebas\n",
    "frase = input(\"Ingresa una frase: \")\n",
    "es_palindromo_frase(frase)\n"
   ]
  },
  {
   "cell_type": "code",
   "execution_count": 154,
   "id": "ec9d92ad-aa44-4353-a5d9-dbfd44c20dec",
   "metadata": {},
   "outputs": [
    {
     "name": "stdout",
     "output_type": "stream",
     "text": [
      "La frase Anita lava la tina, es palindromica? Si\n",
      "La frase A mama Roma le aviva el amor a papa y a papa Roma le aviva el amor a mama, es palindromica? Si\n",
      "La frase Hola mundo, es palindromica? No\n"
     ]
    }
   ],
   "source": [
    "for frase in frases:\n",
    "    print(f\"La frase {frase}, es palindromica? {es_palindromo_frase(frase)}\")"
   ]
  },
  {
   "cell_type": "code",
   "execution_count": null,
   "id": "9ab6d519-e596-472f-b6ff-927866eda218",
   "metadata": {},
   "outputs": [],
   "source": []
  },
  {
   "cell_type": "markdown",
   "id": "f941c29e-5d40-4bb6-9b35-892c02ae6987",
   "metadata": {},
   "source": [
    "---"
   ]
  },
  {
   "cell_type": "markdown",
   "id": "35f8da9d-79e8-4c27-8275-beba28ffbf53",
   "metadata": {},
   "source": [
    "# Contador de palabras\n",
    "Crea una función **contar_palabras(frase)** que reciba una frase y devuelva un diccionario con la cantidad de veces que aparece cada palabra."
   ]
  },
  {
   "cell_type": "code",
   "execution_count": 157,
   "id": "a523576c-91f1-4ed5-b553-fc96c960c20f",
   "metadata": {},
   "outputs": [
    {
     "name": "stdout",
     "output_type": "stream",
     "text": [
      "{'hola': 2, 'mundo': 1, 'python': 2, 'es': 1, 'genial': 2, '¡mundo': 1}\n"
     ]
    }
   ],
   "source": [
    "def contar_palabras(frase):\n",
    "    palabras = frase.lower().split()  # Convertimos a minúsculas y separamos en palabras\n",
    "    conteo = {}\n",
    "\n",
    "    for palabra in palabras:\n",
    "        palabra = palabra.strip(\",.?!\")  # Eliminamos signos de puntuación comunes\n",
    "        conteo[palabra] = conteo.get(palabra, 0) + 1\n",
    "\n",
    "    return conteo\n",
    "\n",
    "# Ejemplo de uso\n",
    "frase = \"Hola mundo, hola Python. Python es genial, ¡mundo genial!\"\n",
    "print(contar_palabras(frase))\n"
   ]
  },
  {
   "cell_type": "code",
   "execution_count": null,
   "id": "848e4541-0b1b-4bb7-a5b9-646e388124c5",
   "metadata": {},
   "outputs": [],
   "source": []
  },
  {
   "cell_type": "markdown",
   "id": "adf211a6-1a59-433b-b9fd-0c8cbe0762ff",
   "metadata": {},
   "source": [
    "---"
   ]
  },
  {
   "cell_type": "markdown",
   "id": "2534b500-7067-4049-b479-32e119ca507b",
   "metadata": {},
   "source": [
    "# Pizzeria\n",
    "Un programador realizo un programa para calcular el precio final de una pizzeria, dependiendo del tamaño de la pizza y los extras, ademas de impuesto del IVA (19%) y la propina obligatoria.\n",
    "El problema es que el programador se intoxico por comer tantas pizzas y el codigo esta con errores e incompleto.\n",
    "\n",
    "Tu mision, es reparar el codigo\n"
   ]
  },
  {
   "cell_type": "code",
   "execution_count": 5,
   "id": "82340b38-43ad-411a-b288-064bffb21416",
   "metadata": {},
   "outputs": [],
   "source": [
    "def mostrar_menu():\n",
    "    print(\"\\n=== Pizzería Papa Juan ===\")\n",
    "    print(\"Tamaños de pizza:\")\n",
    "    print(\"1. Mediana (M) - $13,000\")\n",
    "    print(\"2. Familiar (L) - $16,900\")\n",
    "    print(\"3. Extra Grande (XL) - $21,900\")\n",
    "    print(\"\\nExtras:\")\n",
    "    print(\"- Extra Queso: $1,800 (L), $2,100 (XL)\")\n",
    "    print(\"- Extra Salsa: $1,800 (L), $2,100 (XL)\")\n",
    "    print(\"- Jamón: $1,800 (L), $2,100 (XL)\")\n",
    "    print(\"- Pollo: $1,500 (L), $1,800 (XL)\")\n",
    "    print(\"- Tocino: $2,100 (L), $2,400 (XL)\\n\")"
   ]
  },
  {
   "cell_type": "code",
   "execution_count": 7,
   "id": "30449f44-1567-449e-8c29-bb8e1be9573b",
   "metadata": {},
   "outputs": [],
   "source": [
    "def calcular_precio_pizza(tamano, extras):\n",
    "    precios_base = {\"M\": 13000, \"L\": 16900, \"XL\": 21900}\n",
    "    precios_extras = {\n",
    "        \"L\": {\"extra_queso\": 1800, \"extra_salsa\": 1800, \"jamon\": 1800, \"pollo\": 1500, \"tocino\": 2100},\n",
    "        \"XL\": {\"extra_queso\": 2100, \"extra_salsa\": 2100, \"jamon\": 2100, \"pollo\": 1800, \"tocino\": 2400}\n",
    "    }\n",
    "    \n",
    "    precio_total = precios_base[tamano]\n",
    "    \n",
    "    if tamano in precios_extras:\n",
    "        for extra in extras:\n",
    "            precio_total += precios_extras[tamano].get(extra, 0)\n",
    "    \n",
    "    return precio_total"
   ]
  },
  {
   "cell_type": "code",
   "execution_count": 9,
   "id": "d81509bd-d2ed-4c6b-890e-19d3b483036a",
   "metadata": {},
   "outputs": [],
   "source": [
    "def calcular_iva(monto):\n",
    "    return monto * 0.19"
   ]
  },
  {
   "cell_type": "code",
   "execution_count": 19,
   "id": "6fe13cbb-8cbb-498c-8502-a8a0e565889f",
   "metadata": {},
   "outputs": [
    {
     "name": "stdout",
     "output_type": "stream",
     "text": [
      "\n",
      "=== Pizzería Papa Juan ===\n",
      "Tamaños de pizza:\n",
      "1. Mediana (M) - $13,000\n",
      "2. Familiar (L) - $16,900\n",
      "3. Extra Grande (XL) - $21,900\n",
      "\n",
      "Extras:\n",
      "- Extra Queso: $1,800 (L), $2,100 (XL)\n",
      "- Extra Salsa: $1,800 (L), $2,100 (XL)\n",
      "- Jamón: $1,800 (L), $2,100 (XL)\n",
      "- Pollo: $1,500 (L), $1,800 (XL)\n",
      "- Tocino: $2,100 (L), $2,400 (XL)\n",
      "\n"
     ]
    },
    {
     "name": "stdin",
     "output_type": "stream",
     "text": [
      "Elija el tamaño de la pizza (M, L, XL):  m\n",
      "¿Desea agregar extra queso? (s/n):  n\n",
      "¿Desea agregar extra salsa? (s/n):  n\n",
      "¿Desea agregar jamon? (s/n):  n\n",
      "¿Desea agregar pollo? (s/n):  n\n",
      "¿Desea agregar tocino? (s/n):  n\n"
     ]
    },
    {
     "name": "stdout",
     "output_type": "stream",
     "text": [
      "\n",
      "Opciones de propina: 5%, 10%, 15%, 20%\n"
     ]
    },
    {
     "name": "stdin",
     "output_type": "stream",
     "text": [
      "Seleccione el porcentaje de propina:  15\n"
     ]
    },
    {
     "name": "stdout",
     "output_type": "stream",
     "text": [
      "\n",
      "=== Resumen del Pedido ===\n",
      "Tamaño de la pizza: M\n",
      "Extras: Ninguno\n",
      "Subtotal: $13000\n",
      "IVA (19%): $2470.00\n",
      "Propina (15%): $11607.50\n",
      "Total a pagar: $27077.50\n"
     ]
    }
   ],
   "source": [
    "# Mostrar menú\n",
    "mostrar_menu()\n",
    "\n",
    "# Solicitar tamaño de la pizza\n",
    "tamano = input(\"Elija el tamaño de la pizza (M, L, XL): \").upper()\n",
    "while tamano not in [\"M\", \"L\", \"XL\"]:\n",
    "    tamano = input(\"Tamaño inválido. Ingrese M, L o XL: \").upper()\n",
    "\n",
    "# Solicitar extras\n",
    "extras_disponibles = [\"extra_queso\", \"extra_salsa\", \"jamon\", \"pollo\", \"tocino\"]\n",
    "extras_seleccionados = []\n",
    "for extra in extras_disponibles:\n",
    "    respuesta = input(f\"¿Desea agregar {extra.replace('_', ' ')}? (s/n): \").lower()\n",
    "    if respuesta == \"s\":\n",
    "        extras_seleccionados.append(extra)\n",
    "\n",
    "# Calcular precio\n",
    "precio_sin_iva = calcular_precio_pizza(tamano, extras_seleccionados)\n",
    "iva = calcular_iva(precio_sin_iva)\n",
    "precio_con_iva = precio_sin_iva + iva\n",
    "\n",
    "# Preguntar por propina obligatoria\n",
    "propinas_posibles = [5, 10, 15, 20]\n",
    "print(\"\\nOpciones de propina: 5%, 10%, 15%, 20%\")\n",
    "propina = 5\n",
    "while True:\n",
    "    try:\n",
    "        propina_porcentaje = int(input(\"Seleccione el porcentaje de propina: \"))\n",
    "        if propina_porcentaje in propinas_posibles:\n",
    "            break\n",
    "        else:\n",
    "            print(\"Opción inválida. Debe elegir entre 5, 10, 15 o 20.\")\n",
    "    except ValueError:\n",
    "        print(\"Entrada inválida. Introduzca un número.\")\n",
    "\n",
    "propina *= 1 + (propina_porcentaje / 100) * precio_con_iva\n",
    "precio_final = precio_con_iva + propina\n",
    "\n",
    "# Mostrar resumen\n",
    "print(\"\\n=== Resumen del Pedido ===\")\n",
    "print(f\"Tamaño de la pizza: {tamano}\")\n",
    "print(f\"Extras: {', '.join(extras_seleccionados) if extras_seleccionados else 'Ninguno'}\")\n",
    "print(f\"Subtotal: ${precio_sin_iva}\")\n",
    "print(f\"IVA (19%): ${iva:.2f}\")\n",
    "print(f\"Propina ({propina_porcentaje}%): ${propina:.2f}\")\n",
    "print(f\"Total a pagar: ${precio_final:.2f}\")"
   ]
  },
  {
   "cell_type": "code",
   "execution_count": null,
   "id": "85b0bf72-e9ce-4925-8333-81bbb5b38cd5",
   "metadata": {},
   "outputs": [],
   "source": []
  },
  {
   "cell_type": "code",
   "execution_count": null,
   "id": "ae9c2104-1151-4a08-ac81-a5d7b9792238",
   "metadata": {},
   "outputs": [],
   "source": []
  },
  {
   "cell_type": "code",
   "execution_count": null,
   "id": "b74888d8-8c8e-4a90-9a92-e6a27ef400f3",
   "metadata": {},
   "outputs": [],
   "source": []
  }
 ],
 "metadata": {
  "kernelspec": {
   "display_name": "Python 3 (ipykernel)",
   "language": "python",
   "name": "python3"
  },
  "language_info": {
   "codemirror_mode": {
    "name": "ipython",
    "version": 3
   },
   "file_extension": ".py",
   "mimetype": "text/x-python",
   "name": "python",
   "nbconvert_exporter": "python",
   "pygments_lexer": "ipython3",
   "version": "3.12.4"
  }
 },
 "nbformat": 4,
 "nbformat_minor": 5
}
