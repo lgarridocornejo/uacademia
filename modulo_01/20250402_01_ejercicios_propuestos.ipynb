{
 "cells": [
  {
   "cell_type": "code",
   "execution_count": 3,
   "id": "b484e06c-9adf-470d-9a64-a7c63e91e4c9",
   "metadata": {},
   "outputs": [],
   "source": [
    "# venv uacademia 20250402"
   ]
  },
  {
   "cell_type": "markdown",
   "id": "47c0987e-cb97-4e9d-8815-0e576d2b8d14",
   "metadata": {},
   "source": [
    "![](https://unipython.com/wp-content/uploads/2018/04/python-ejercicios-min-1279x719.png)"
   ]
  },
  {
   "cell_type": "markdown",
   "id": "e2229f07-56ea-49fa-9b5d-fac28fed169c",
   "metadata": {},
   "source": [
    "# Ejercicios"
   ]
  },
  {
   "cell_type": "markdown",
   "id": "10ce4e95-19dd-4a3f-b660-4ff295c16b37",
   "metadata": {},
   "source": [
    "## Listas"
   ]
  },
  {
   "cell_type": "code",
   "execution_count": 7,
   "id": "55b9929d-eae6-4855-9845-34a619a8b59f",
   "metadata": {},
   "outputs": [],
   "source": [
    "lista_1 = [3, 78, 85, 89, 94, 30, 99, 72, 98, 20, 28, 83, 37, 39, 17, 56, 85, 89, 84, 18, 7, 42, 2, 84, 100, 87, 51, 65, 42, 28, 26, 51, 53, 4, 41, 69, 2, 86, 86, 42, 95, 92, 26, 1, 79, 46, 20, 13, 40, 2, 58, 97, 56, 84, 69]"
   ]
  },
  {
   "cell_type": "code",
   "execution_count": 9,
   "id": "f58f7415-b3c1-48a6-a4f3-6492b459d2c8",
   "metadata": {},
   "outputs": [],
   "source": [
    "lista_2 = [95, 93, 'azul', 37, 'rojo', 'azul', 'amarillo', 43, 24, 45, False, 'verde', True, False, 94, 48, 39, 'rojo', True, 'amarillo', 81, 'verde', True, 'rojo', False, 97, 10, False, 'verde', False, 'amarillo', 'verde', 'amarillo', True, 'verde', 'amarillo', 'rojo', 2, 87, True, 8, 58, 'amarillo', 'amarillo', 'verde', 47, 85, False, False, False, 'amarillo', 82, 'verde', 'amarillo', False, True]"
   ]
  },
  {
   "cell_type": "code",
   "execution_count": 11,
   "id": "9299e241-5474-4a84-90af-3dfea00636ef",
   "metadata": {},
   "outputs": [],
   "source": [
    "lista_3 = ['Cóndor andino', 'Puma', 'Huemul', 'Alerce milenario', 'Araucaria', 'Chinchilla', 'Llama', 'Zorro culpeo', 'Quillay', 'Copihue']"
   ]
  },
  {
   "cell_type": "markdown",
   "id": "2a31ad4b-b775-48be-94ee-53252585d360",
   "metadata": {},
   "source": [
    "1. Escribe un programa que encuentre el número más grande de la lista_1.\n",
    "2. Escribe un programa que invierta el orden de los elementos de la lista_3.\n",
    "3. Escribe un programa que elimine los elementos duplicados de la lista_2.\n",
    "4. Escribe un programa que filtre los números pares de la lista_1.\n",
    "5. Escribe un programa que combine la lista_1 y la lista_3."
   ]
  },
  {
   "cell_type": "markdown",
   "id": "9572c08c-fcc2-448e-a3cf-e7ceb82e192d",
   "metadata": {},
   "source": [
    "***"
   ]
  },
  {
   "cell_type": "markdown",
   "id": "a6fd400f-beec-4b1b-9ce4-4de62f43bf6d",
   "metadata": {},
   "source": [
    "## Tuplas"
   ]
  },
  {
   "cell_type": "code",
   "execution_count": 23,
   "id": "fb2719aa-ae27-43aa-8676-f0788a582a92",
   "metadata": {},
   "outputs": [],
   "source": [
    "tupla_1 = (15, 48, 36, 75, 33, 34, 82, 7, 55, 82, 10, 33, 72, 74, 49, 74, 71, 81, 81, 48, 12, 93, 73, 36, 74, 4, 47, 87, 1, 5, 12, 35, 59, 96)"
   ]
  },
  {
   "cell_type": "code",
   "execution_count": 25,
   "id": "8a023e9f-2ee5-418a-837f-1da81750dc61",
   "metadata": {},
   "outputs": [],
   "source": [
    "tupla_2 = (True, 91, True, 2, 'amarillo', 'amarillo', 29, 'rojo', 'azul', False, 2, 76, 'amarillo', True, 'azul', True, 9, 'azul', 31, 'amarillo', True, True, 'verde', 'azul', True, 95, 'azul', True, 'rojo', 18, 'verde', 'amarillo', False, False, 37)"
   ]
  },
  {
   "cell_type": "code",
   "execution_count": 27,
   "id": "74c728b2-b89d-4027-bac3-1d5973f4dfe7",
   "metadata": {},
   "outputs": [],
   "source": [
    "tupla_3 = ('Escarabajo rinoceronte chileno', 'Pololo verde', 'Chinche del litre', 'Mariposa del Chagual', 'Abeja nativa chilena', 'Libélula andina', 'Tábano gigante', 'Hormiga cortadora de hojas', 'Grillo topo', 'Polilla del arrayán', 'Ciempiés gigante chileno', 'Araña de rincón', 'Escarabajo del molle', 'Mosca de la fruta sudamericana', 'Tijereta común')"
   ]
  },
  {
   "cell_type": "markdown",
   "id": "8c0aa663-e513-42d8-b992-2941f772f05e",
   "metadata": {},
   "source": [
    "1. Escribe un programa que encuentre el elemento más frecuente de la tupla_2.\n",
    "2. Escribe un programa que convierta la tupla_3 en una lista.\n",
    "3. Escribe un programa que verifique si el color **morado** existe en la tupla_2.\n",
    "4. Escribe un programa que acceda al elemento **17** de la tupla_1.\n",
    "5. Escribe un programa que cuente el número de veces que aparece el elemento **True** en la tupla_2."
   ]
  },
  {
   "cell_type": "markdown",
   "id": "0fbc2010-98fc-4aab-890f-d3320d8535f6",
   "metadata": {},
   "source": [
    "***"
   ]
  },
  {
   "cell_type": "markdown",
   "id": "60729a66-1a3b-4d2f-b912-7f9da76b311a",
   "metadata": {},
   "source": [
    "## Diccionarios"
   ]
  },
  {
   "cell_type": "code",
   "execution_count": null,
   "id": "0396e20d-8c48-40b8-8274-2fde6abd2e7a",
   "metadata": {},
   "outputs": [],
   "source": [
    "diccionario_1 = {'21011118-5': 'Sofía López', '15933777-9': 'Ana Sánchez', '24682032-5': 'Sofía López', '10555702-1': 'Juan López', '10677587-5': 'Juan Rodríguez', '23944222-8': 'Luis Rodríguez', '2362087-6': 'Ana Martínez', '13461261-7': 'Ana López', '7620258-1': 'Juan Rodríguez', '23681630-7': 'Juan López', '8387390-5': 'Luis Martínez', '13456662-3': 'Ana Sánchez', '5385682-2': 'Juan González', '2079154-3': 'Juan López', '4396009-1': 'Luis Sánchez', '16029268-1': 'Juan Martínez', '18517773-4': 'Ana Pérez'}"
   ]
  },
  {
   "cell_type": "code",
   "execution_count": null,
   "id": "76996b9d-5220-40fd-a659-e4ce0fbc0c22",
   "metadata": {},
   "outputs": [],
   "source": [
    "diccionario_2 = {1364: '#7596c8', 3011: '#0e311d', 8925: '#689ff4', 5604: '#6ca403', 8787: '#70954d', 3771: '#7ed010', 8718: '#595323', 9569: '#e5c0be', 5110: '#7644df', 3594: '#47f550', 8099: '#d60662', 2373: '#3c1db1', 4479: '#062317', 7512: '#729e53', 5479: '#6882dc', 8178: '#ea91ee', 1568: '#279018', 9706: '#0fe57d', 8791: '#f2440b', 7843: '#88acfd', 1805: '#a878a4', 6221: '#6c6ede', 6767: '#85e6b6', 7719: '#3a5a4e', 2405: '#f5412c', 3639: '#4970bb', 7542: '#3c52d0', 4889: '#be08b1', 9896: '#f0e095', 7368: '#ae3cf2', 7696: '#558e4d', 3399: '#09a761', 1799: '#5d845c', 1544: '#d010f4', 4769: '#61609a'}"
   ]
  },
  {
   "cell_type": "code",
   "execution_count": null,
   "id": "f0071afa-a516-4abe-b081-97a98b15550f",
   "metadata": {},
   "outputs": [],
   "source": [
    "diccionario_3 = {3051: {'nombre': 'Xylaria polymorpha', 'tamaño': 'Pequeño', 'reino': 'Basidiomicetos'}, 7231: {'nombre': 'Pleurotus ostreatus', 'tamaño': 'Grande', 'reino': 'Ascomicetos'}, 9277: {'nombre': 'Xylaria polymorpha', 'tamaño': 'Mediano', 'reino': 'Basidiomicetos'}, 8163: {'nombre': 'Lycoperdon perlatum', 'tamaño': 'Pequeño', 'reino': 'Zigomicetos'}, 4738: {'nombre': 'Amanita muscaria', 'tamaño': 'Mediano', 'reino': 'Ascomicetos'}, 2051: {'nombre': 'Boletus edulis', 'tamaño': 'Pequeño', 'reino': 'Basidiomicetos'}, 5719: {'nombre': 'Trametes versicolor', 'tamaño': 'Mediano', 'reino': 'Basidiomicetos'}, 5883: {'nombre': 'Hygrocybe coccinea', 'tamaño': 'Mediano', 'reino': 'Zigomicetos'}, 8237: {'nombre': 'Calvatia gigantea', 'tamaño': 'Mediano', 'reino': 'Basidiomicetos'}, 5561: {'nombre': 'Lycoperdon perlatum', 'tamaño': 'Pequeño', 'reino': 'Basidiomicetos'}, 8727: {'nombre': 'Macrolepiota procera', 'tamaño': 'Pequeño', 'reino': 'Basidiomicetos'}, 9435: {'nombre': 'Xylaria polymorpha', 'tamaño': 'Grande', 'reino': 'Zigomicetos'}, 8521: {'nombre': 'Cantharellus cibarius', 'tamaño': 'Mediano', 'reino': 'Zigomicetos'}, 4517: {'nombre': 'Clavaria zollingeri', 'tamaño': 'Grande', 'reino': 'Basidiomicetos'}, 5460: {'nombre': 'Clavaria zollingeri', 'tamaño': 'Mediano', 'reino': 'Basidiomicetos'}, 9884: {'nombre': 'Agaricus bisporus', 'tamaño': 'Mediano', 'reino': 'Ascomicetos'}, 6686: {'nombre': 'Ramaria botrytis', 'tamaño': 'Mediano', 'reino': 'Ascomicetos'}, 3692: {'nombre': 'Aurotus auricula-judae', 'tamaño': 'Grande', 'reino': 'Ascomicetos'}, 5832: {'nombre': 'Geastrum saccatum', 'tamaño': 'Pequeño', 'reino': 'Zigomicetos'}, 2759: {'nombre': 'Hygrophorus eburneus', 'tamaño': 'Mediano', 'reino': 'Zigomicetos'}, 9592: {'nombre': 'Mycena haematopus', 'tamaño': 'Grande', 'reino': 'Basidiomicetos'}, 6748: {'nombre': 'Lactarius deliciosus', 'tamaño': 'Grande', 'reino': 'Zigomicetos'}, 1942: {'nombre': 'Amanita muscaria', 'tamaño': 'Mediano', 'reino': 'Ascomicetos'}, 6787: {'nombre': 'Morchella esculenta', 'tamaño': 'Mediano', 'reino': 'Zigomicetos'}, 1593: {'nombre': 'Aurotus auricula-judae', 'tamaño': 'Mediano', 'reino': 'Basidiomicetos'}, 3508: {'nombre': 'Trametes versicolor', 'tamaño': 'Mediano', 'reino': 'Basidiomicetos'}, 9053: {'nombre': 'Hygrocybe coccinea', 'tamaño': 'Pequeño', 'reino': 'Basidiomicetos'}, 3674: {'nombre': 'Clavaria zollingeri', 'tamaño': 'Mediano', 'reino': 'Zigomicetos'}, 9356: {'nombre': 'Cantharellus cibarius', 'tamaño': 'Pequeño', 'reino': 'Basidiomicetos'}}"
   ]
  },
  {
   "cell_type": "markdown",
   "id": "ec8655fe-d9f1-4f2a-ba23-e5898bf7a21b",
   "metadata": {},
   "source": [
    "1. Escribe un programa que combine los diccionarios 1 y 2 en uno solo.\n",
    "2. Escribe un programa que ordene el diccionario_2 por sus valores.\n",
    "3. Escribe un programa que encuentre la clave con el valor más grande en el diccionario_3.\n",
    "4. Escribe un programa que invierta las claves y los valores del diccionario_1.\n",
    "5. Escribe un programa que elimine la clave **3674** del diccionario_3."
   ]
  }
 ],
 "metadata": {
  "kernelspec": {
   "display_name": "Python 3 (ipykernel)",
   "language": "python",
   "name": "python3"
  },
  "language_info": {
   "codemirror_mode": {
    "name": "ipython",
    "version": 3
   },
   "file_extension": ".py",
   "mimetype": "text/x-python",
   "name": "python",
   "nbconvert_exporter": "python",
   "pygments_lexer": "ipython3",
   "version": "3.12.4"
  }
 },
 "nbformat": 4,
 "nbformat_minor": 5
}
