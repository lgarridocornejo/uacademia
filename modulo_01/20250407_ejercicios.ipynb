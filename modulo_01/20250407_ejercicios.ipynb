{
 "cells": [
  {
   "cell_type": "code",
   "execution_count": null,
   "id": "e5e3a067-0b20-4e5f-9eab-48a46361e823",
   "metadata": {},
   "outputs": [],
   "source": [
    "# venv uacademia 20250407"
   ]
  },
  {
   "cell_type": "markdown",
   "id": "5039a76f-b06d-446a-b974-547519e87e3f",
   "metadata": {},
   "source": [
    "![](https://unipython.com/wp-content/uploads/2018/04/python-ejercicios-min-1279x719.png)"
   ]
  },
  {
   "cell_type": "markdown",
   "id": "32a9748c-2748-4027-b6a7-ddc7fd84ca4b",
   "metadata": {},
   "source": [
    "# Resolución ecuación de primer grado\n",
    "\n",
    "$$ax + b = 0$$\n",
    "\n",
    "- donde *x* es la incógnita\n",
    "\n",
    "¿Cuales son los datos de entrada?\n",
    "\n",
    "¿Qué se desea calcular?"
   ]
  },
  {
   "cell_type": "markdown",
   "id": "613bd230-86c9-411a-9f73-0e92e32839eb",
   "metadata": {},
   "source": [
    "## Solución ecuación"
   ]
  },
  {
   "cell_type": "code",
   "execution_count": null,
   "id": "36533bb8-f83b-4f00-91d8-6bf209d2a64b",
   "metadata": {},
   "outputs": [],
   "source": [
    "a = input(\"Ingresar valor de a: \")\n",
    "b = input(\"Ingresar valor de b: \")"
   ]
  },
  {
   "cell_type": "code",
   "execution_count": null,
   "id": "501c3e6a-d427-4351-98fe-0c7720140704",
   "metadata": {},
   "outputs": [],
   "source": [
    "print(f\"Soluciòn: {}\")"
   ]
  },
  {
   "cell_type": "code",
   "execution_count": null,
   "id": "791b95d5-e383-43d5-a807-b8901d24a54a",
   "metadata": {},
   "outputs": [],
   "source": []
  },
  {
   "cell_type": "markdown",
   "id": "b9978492-08d9-4979-9525-67c73d707522",
   "metadata": {},
   "source": [
    "## ¿Qué pasa si a = 0?\n",
    "Mejorar la solución anterior"
   ]
  },
  {
   "cell_type": "code",
   "execution_count": null,
   "id": "3f297e4d-dfc1-466d-b4b4-1f0bb93349f1",
   "metadata": {},
   "outputs": [],
   "source": []
  },
  {
   "cell_type": "code",
   "execution_count": null,
   "id": "27d96390-de6b-4967-8a29-64b9d90b42b5",
   "metadata": {},
   "outputs": [],
   "source": []
  },
  {
   "cell_type": "code",
   "execution_count": null,
   "id": "ea5dfa6e-5343-432d-b279-ce9531a389d9",
   "metadata": {},
   "outputs": [],
   "source": []
  },
  {
   "cell_type": "markdown",
   "id": "c2fd3de2-8cea-4082-a44c-e5393a9727d5",
   "metadata": {},
   "source": [
    "# Resolucion ecuación de segundo grado \n",
    "\n",
    "$$ax^2 + bx + c = 0$$\n",
    "\n",
    "Al despejar *x* se obtiene que las soluciones para la ecuación de segundo grado son:\n",
    "\n",
    "$$ x1 = {-b + \\sqrt{b^2-4ac} \\over 2a} $$      $$ x2 = {-b - \\sqrt{b^2-4ac} \\over 2a} $$"
   ]
  },
  {
   "cell_type": "code",
   "execution_count": null,
   "id": "384aa423-0333-42c8-9b4b-a5733e661bfc",
   "metadata": {},
   "outputs": [],
   "source": [
    "a = input(\"Ingresar valor de a: \")\n",
    "b = input(\"Ingresar valor de b: \")\n",
    "c = input(\"Ingresar valor de c: \")"
   ]
  },
  {
   "cell_type": "markdown",
   "id": "e9d612c8-561e-48a1-9a4f-2284832e5886",
   "metadata": {},
   "source": [
    "<div class=\"alert alert-block alert-info\"><b>Tip: </b>para calcular la raíz cuadrada $\\sqrt{x}$ usar $x^{0.5}$</div>"
   ]
  },
  {
   "cell_type": "code",
   "execution_count": null,
   "id": "c964fca8-668b-4773-982a-7c544e53b921",
   "metadata": {},
   "outputs": [],
   "source": [
    "x1 ="
   ]
  },
  {
   "cell_type": "code",
   "execution_count": null,
   "id": "a3ef31ba-b5ee-420d-9e1b-c050a3c0b342",
   "metadata": {},
   "outputs": [],
   "source": [
    "x2 = "
   ]
  },
  {
   "cell_type": "code",
   "execution_count": null,
   "id": "cc5cf1b5-3857-4c85-b2b0-f5270a46035a",
   "metadata": {},
   "outputs": [],
   "source": [
    "print()"
   ]
  },
  {
   "cell_type": "code",
   "execution_count": null,
   "id": "c545a0d8-57a6-48d6-86d4-26aa695494f2",
   "metadata": {},
   "outputs": [],
   "source": []
  },
  {
   "cell_type": "markdown",
   "id": "c8985a55-63fb-4a4c-9c0b-e8ee03e9d8c4",
   "metadata": {},
   "source": [
    "## ¿Qué pasa si a = 0?\n",
    "Mejorar la solución anterior"
   ]
  },
  {
   "cell_type": "code",
   "execution_count": null,
   "id": "241438d0-3d31-4588-9d9b-8bde014eb336",
   "metadata": {},
   "outputs": [],
   "source": []
  },
  {
   "cell_type": "code",
   "execution_count": null,
   "id": "07dd7f62-06cf-4588-934b-5b5abafe415e",
   "metadata": {},
   "outputs": [],
   "source": []
  },
  {
   "cell_type": "markdown",
   "id": "9015c801-1d1c-45a9-8355-a723f274d093",
   "metadata": {},
   "source": [
    "# Soluciones para una circunferencia\n",
    "\n",
    "Problema:\n",
    "- Se debe solicitar ingresar el radio del circulo\n",
    "- debe existir un menú para elegir las siguientes opciones:\n",
    "  - Calcular el diámetro\n",
    "  - Calcular el perimetro\n",
    "  - Calcular el área\n",
    "- Calcular la solucón según la elección del usuario"
   ]
  },
  {
   "cell_type": "markdown",
   "id": "18adf84e-2865-485a-b25d-e25590256e42",
   "metadata": {},
   "source": [
    "diámetro: $d = 2r$\n",
    "\n",
    "perímetro: $p = 2 \\pi r$\n",
    "\n",
    "área: $a = 2 \\pi r^2$"
   ]
  },
  {
   "cell_type": "code",
   "execution_count": null,
   "id": "6d149012-3f56-4b66-acfc-06b613b9ffc5",
   "metadata": {},
   "outputs": [],
   "source": [
    "from math import pi"
   ]
  },
  {
   "cell_type": "code",
   "execution_count": null,
   "id": "dbe0a154-7610-4c1d-8b36-4bbd73bdd7fe",
   "metadata": {},
   "outputs": [],
   "source": [
    "radio = input(\"Ingresar el radio del círculo: \")"
   ]
  },
  {
   "cell_type": "code",
   "execution_count": null,
   "id": "64d53009-c295-4b24-8bf3-86a309b4db72",
   "metadata": {},
   "outputs": [],
   "source": []
  }
 ],
 "metadata": {
  "kernelspec": {
   "display_name": "Python [conda env:base] *",
   "language": "python",
   "name": "conda-base-py"
  },
  "language_info": {
   "codemirror_mode": {
    "name": "ipython",
    "version": 3
   },
   "file_extension": ".py",
   "mimetype": "text/x-python",
   "name": "python",
   "nbconvert_exporter": "python",
   "pygments_lexer": "ipython3",
   "version": "3.9.16"
  }
 },
 "nbformat": 4,
 "nbformat_minor": 5
}
