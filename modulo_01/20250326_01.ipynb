{
 "cells": [
  {
   "cell_type": "code",
   "execution_count": 7,
   "id": "d410b727-9a9c-43bc-a149-55b41ac48942",
   "metadata": {
    "editable": true,
    "slideshow": {
     "slide_type": "skip"
    },
    "tags": []
   },
   "outputs": [],
   "source": [
    "# venv base >> 20250326"
   ]
  },
  {
   "cell_type": "markdown",
   "id": "85134442-b90e-4484-8e74-b796bf94cf98",
   "metadata": {
    "editable": true,
    "slideshow": {
     "slide_type": ""
    },
    "tags": []
   },
   "source": [
    "# Buenas Prácticas en Programación\n",
    "# Jupyter Notebook\n"
   ]
  },
  {
   "cell_type": "markdown",
   "id": "954e9c0e-062f-48ed-8056-d464ce6159e4",
   "metadata": {
    "editable": true,
    "slideshow": {
     "slide_type": "slide"
    },
    "tags": []
   },
   "source": [
    "## Aplicar Buenas Prácticas de Programación\n",
    "\n",
    "- Legibilidad y claridad\n",
    "- Modularidad y reutilización\n",
    "- Uso de nombres descriptivos\n",
    "- Comentarios efectivos\n",
    "- Organización del código\n"
   ]
  },
  {
   "cell_type": "markdown",
   "id": "737824b8-ff57-4ef9-a180-7a96bcab2321",
   "metadata": {
    "editable": true,
    "slideshow": {
     "slide_type": "slide"
    },
    "tags": []
   },
   "source": [
    "### Legibilidad y claridad"
   ]
  },
  {
   "cell_type": "markdown",
   "id": "e675d63e-3cd1-4d36-a939-1dc8087b43d6",
   "metadata": {
    "editable": true,
    "slideshow": {
     "slide_type": "fragment"
    },
    "tags": []
   },
   "source": [
    "#### Mala práctica"
   ]
  },
  {
   "cell_type": "code",
   "execution_count": null,
   "id": "2a957127-9280-4d01-ad23-5dfe1a8e3f16",
   "metadata": {
    "editable": true,
    "slideshow": {
     "slide_type": "fragment"
    },
    "tags": []
   },
   "outputs": [],
   "source": [
    "x=5;y=10;z=x*y;print(z)"
   ]
  },
  {
   "cell_type": "markdown",
   "id": "c8e50371-b4eb-4f10-b85e-81e7cef75ab5",
   "metadata": {
    "editable": true,
    "slideshow": {
     "slide_type": "fragment"
    },
    "tags": []
   },
   "source": [
    "#### Buena práctica"
   ]
  },
  {
   "cell_type": "code",
   "execution_count": null,
   "id": "ec1a8bca-2f3c-43e1-9386-dca3eba8e0b3",
   "metadata": {
    "editable": true,
    "slideshow": {
     "slide_type": "fragment"
    },
    "tags": []
   },
   "outputs": [],
   "source": [
    "numero1 = 5\n",
    "numero2 = 10\n",
    "resultado = numero1 * numero2\n",
    "print(resultado)"
   ]
  },
  {
   "cell_type": "code",
   "execution_count": null,
   "id": "bb6e7bd6-349d-4fc5-9911-3e1afc47ac50",
   "metadata": {
    "editable": true,
    "slideshow": {
     "slide_type": "fragment"
    },
    "tags": []
   },
   "outputs": [],
   "source": []
  },
  {
   "cell_type": "markdown",
   "id": "33aff1ca-f472-40d6-900d-5692093d5f69",
   "metadata": {
    "editable": true,
    "slideshow": {
     "slide_type": "slide"
    },
    "tags": []
   },
   "source": [
    "### Modularidad y reutilización"
   ]
  },
  {
   "cell_type": "markdown",
   "id": "040f348a-e2a0-4cd8-a3ac-ebb670972ee3",
   "metadata": {
    "editable": true,
    "slideshow": {
     "slide_type": "fragment"
    },
    "tags": []
   },
   "source": [
    "#### Mala práctica"
   ]
  },
  {
   "cell_type": "code",
   "execution_count": null,
   "id": "8a314eea-4b41-4db2-a167-0417936ebcf2",
   "metadata": {
    "editable": true,
    "slideshow": {
     "slide_type": "fragment"
    },
    "tags": []
   },
   "outputs": [],
   "source": [
    "# Calcular área de un cuadrado\n",
    "lado = 4\n",
    "area_cuadrado = lado * lado\n",
    "print(\"Área del cuadrado:\", area_cuadrado)\n",
    "\n",
    "# Calcular área de otro cuadrado\n",
    "lado = 6\n",
    "area_cuadrado = lado * lado\n",
    "print(\"Área del cuadrado:\", area_cuadrado)"
   ]
  },
  {
   "cell_type": "markdown",
   "id": "e223f1f8-cf95-4fe4-953b-2ee449134a82",
   "metadata": {
    "editable": true,
    "slideshow": {
     "slide_type": "fragment"
    },
    "tags": []
   },
   "source": [
    "#### Buena práctica"
   ]
  },
  {
   "cell_type": "code",
   "execution_count": null,
   "id": "7388ed03-5769-4368-8943-1990dd5b17ad",
   "metadata": {
    "editable": true,
    "slideshow": {
     "slide_type": "fragment"
    },
    "tags": []
   },
   "outputs": [],
   "source": [
    "def calcular_area_cuadrado(lado):\n",
    "    \"\"\"Calcula el área de un cuadrado.\"\"\"\n",
    "    area = lado * lado\n",
    "    return area\n",
    "\n",
    "# Calcular áreas\n",
    "area1 = calcular_area_cuadrado(4)\n",
    "area2 = calcular_area_cuadrado(6)\n",
    "\n",
    "print(\"Área del cuadrado 1:\", area1)\n",
    "print(\"Área del cuadrado 2:\", area2)"
   ]
  },
  {
   "cell_type": "code",
   "execution_count": null,
   "id": "ec38a3cf-f715-4abd-8c45-35a0b8faf467",
   "metadata": {
    "editable": true,
    "slideshow": {
     "slide_type": "fragment"
    },
    "tags": []
   },
   "outputs": [],
   "source": []
  },
  {
   "cell_type": "markdown",
   "id": "8a560b46-903e-4365-a480-ee212bbf8033",
   "metadata": {
    "editable": true,
    "slideshow": {
     "slide_type": "slide"
    },
    "tags": []
   },
   "source": [
    "### Uso de nombres descriptivos"
   ]
  },
  {
   "cell_type": "markdown",
   "id": "e5409ee8-4be3-4913-ab7e-901da4b33a21",
   "metadata": {
    "editable": true,
    "slideshow": {
     "slide_type": "fragment"
    },
    "tags": []
   },
   "source": [
    "#### Mala práctica"
   ]
  },
  {
   "cell_type": "code",
   "execution_count": null,
   "id": "e9477944-cf9d-4d78-8a5c-935fe94687ab",
   "metadata": {
    "editable": true,
    "slideshow": {
     "slide_type": "fragment"
    },
    "tags": []
   },
   "outputs": [],
   "source": [
    "a = 3.1416\n",
    "b = 5\n",
    "c = a * (b ** 2)"
   ]
  },
  {
   "cell_type": "markdown",
   "id": "934fc8cb-337f-4635-8d2f-9d0a2cff0ad2",
   "metadata": {
    "editable": true,
    "slideshow": {
     "slide_type": "fragment"
    },
    "tags": []
   },
   "source": [
    "#### Buena práctica"
   ]
  },
  {
   "cell_type": "code",
   "execution_count": null,
   "id": "2f840994-b652-4bfa-9971-e4d694c78870",
   "metadata": {
    "editable": true,
    "slideshow": {
     "slide_type": "fragment"
    },
    "tags": []
   },
   "outputs": [],
   "source": [
    "radio = 5  # Asigna 5 a la variable radio\n",
    "area = 3.1416 * (radio ** 2)  # Calcula el área"
   ]
  },
  {
   "cell_type": "code",
   "execution_count": null,
   "id": "9868d506-6707-4ae7-8272-bd8487a0b7e6",
   "metadata": {
    "editable": true,
    "slideshow": {
     "slide_type": "fragment"
    },
    "tags": []
   },
   "outputs": [],
   "source": []
  },
  {
   "cell_type": "markdown",
   "id": "7154b438-2c4f-4add-866d-ce5fc95ee2c6",
   "metadata": {
    "editable": true,
    "slideshow": {
     "slide_type": "slide"
    },
    "tags": []
   },
   "source": [
    "### Comentarios efectivos"
   ]
  },
  {
   "cell_type": "markdown",
   "id": "c62fefad-ed84-4a5a-9988-7fb020c23200",
   "metadata": {
    "editable": true,
    "slideshow": {
     "slide_type": "fragment"
    },
    "tags": []
   },
   "source": [
    "#### Mala práctica"
   ]
  },
  {
   "cell_type": "code",
   "execution_count": null,
   "id": "16511a6f-5df6-4002-a34a-a8d498fcd7f5",
   "metadata": {
    "editable": true,
    "slideshow": {
     "slide_type": "fragment"
    },
    "tags": []
   },
   "outputs": [],
   "source": [
    "radio = 5  # Asigna 5 a la variable radio\n",
    "area = 3.1416 * (radio ** 2)  # Calcula el área"
   ]
  },
  {
   "cell_type": "markdown",
   "id": "1aa8477d-e170-4a58-89d4-c793b0873978",
   "metadata": {
    "editable": true,
    "slideshow": {
     "slide_type": "fragment"
    },
    "tags": []
   },
   "source": [
    "#### Buena práctica"
   ]
  },
  {
   "cell_type": "code",
   "execution_count": null,
   "id": "e4a74c2b-5cdb-44ed-adb1-1d34f49a8914",
   "metadata": {
    "editable": true,
    "slideshow": {
     "slide_type": "fragment"
    },
    "tags": []
   },
   "outputs": [],
   "source": [
    "# Calcula el área de un círculo usando el radio dado.\n",
    "radio = 5\n",
    "area = 3.1416 * (radio ** 2)"
   ]
  },
  {
   "cell_type": "code",
   "execution_count": null,
   "id": "bece83e1-e05f-4589-b572-0559200f42b5",
   "metadata": {
    "editable": true,
    "slideshow": {
     "slide_type": "fragment"
    },
    "tags": []
   },
   "outputs": [],
   "source": []
  },
  {
   "cell_type": "markdown",
   "id": "96ce03f6-932c-4422-90d3-22cc80ecf47d",
   "metadata": {
    "editable": true,
    "slideshow": {
     "slide_type": "slide"
    },
    "tags": []
   },
   "source": [
    "### Organización del código "
   ]
  },
  {
   "cell_type": "markdown",
   "id": "ce246a1d-5976-4752-918b-52cf856b1e0c",
   "metadata": {
    "editable": true,
    "slideshow": {
     "slide_type": "fragment"
    },
    "tags": []
   },
   "source": [
    "#### Mala práctica"
   ]
  },
  {
   "cell_type": "code",
   "execution_count": null,
   "id": "ff5ef712-b32b-4493-a132-765751b0ebd7",
   "metadata": {
    "editable": true,
    "slideshow": {
     "slide_type": "fragment"
    },
    "tags": []
   },
   "outputs": [],
   "source": [
    "# Cálculo del área de un círculo y un cuadrado.\n",
    "pi = 3.1416\n",
    "radio = 5\n",
    "area_circulo = pi * (radio ** 2)\n",
    "print(\"Área del círculo:\", area_circulo)\n",
    "lado = 4\n",
    "area_cuadrado = lado * lado\n",
    "print(\"Área del cuadrado:\", area_cuadrado)"
   ]
  },
  {
   "cell_type": "markdown",
   "id": "8e7a1597-a689-45f3-ba54-f81974881993",
   "metadata": {
    "editable": true,
    "slideshow": {
     "slide_type": "fragment"
    },
    "tags": []
   },
   "source": [
    "#### Buena práctica"
   ]
  },
  {
   "cell_type": "code",
   "execution_count": null,
   "id": "2fe29825-d63a-44f6-85ba-962ec28c86c9",
   "metadata": {
    "editable": true,
    "slideshow": {
     "slide_type": "fragment"
    },
    "tags": []
   },
   "outputs": [],
   "source": [
    "def calcular_area_circulo(radio):\n",
    "    \"\"\"Calcula el área de un círculo.\"\"\"\n",
    "    pi = 3.1416\n",
    "    return pi * (radio ** 2)\n",
    "\n",
    "def calcular_area_cuadrado(lado):\n",
    "    \"\"\"Calcula el área de un cuadrado.\"\"\"\n",
    "    return lado * lado\n",
    "\n",
    "# Programa principal\n",
    "radio_circulo = 5\n",
    "area_circulo = calcular_area_circulo(radio_circulo)\n",
    "print(\"Área del círculo:\", area_circulo)\n",
    "\n",
    "lado_cuadrado = 4\n",
    "area_cuadrado = calcular_area_cuadrado(lado_cuadrado)\n",
    "print(\"Área del cuadrado:\", area_cuadrado)"
   ]
  },
  {
   "cell_type": "code",
   "execution_count": null,
   "id": "bbf5a617-fa4b-4aa2-b955-8c2f2b460fac",
   "metadata": {
    "editable": true,
    "slideshow": {
     "slide_type": "fragment"
    },
    "tags": []
   },
   "outputs": [],
   "source": []
  },
  {
   "cell_type": "markdown",
   "id": "7be30ca2-019e-447f-9ff6-484ac24fd5fb",
   "metadata": {
    "editable": true,
    "slideshow": {
     "slide_type": "slide"
    },
    "tags": []
   },
   "source": [
    "## Refactorización de Código y Estilos Recomendados\n",
    "\n",
    "- ¿Qué es la refactorización?\n",
    "- Eliminación de código duplicado\n",
    "- Optimización de estructuras\n",
    "- Aplicación de estándares de estilo (PEP 8)\n",
    "- Herramientas para revisión de código"
   ]
  },
  {
   "cell_type": "markdown",
   "id": "9eb57967-ce52-4f49-a4a8-983219ba703b",
   "metadata": {
    "editable": true,
    "slideshow": {
     "slide_type": "slide"
    },
    "tags": []
   },
   "source": [
    "### ¿Qué es la refactorización?"
   ]
  },
  {
   "cell_type": "markdown",
   "id": "f07117bb-29a8-4c10-adfa-64ba63cbe626",
   "metadata": {
    "editable": true,
    "slideshow": {
     "slide_type": "fragment"
    },
    "tags": []
   },
   "source": [
    "Es el proceso de modificar el código sin cambiar su funcionalidad para hacerlo más limpio, legible y eficiente. Su objetivo es mejorar la estructura y calidad del código, facilitando su mantenimiento y comprensión."
   ]
  },
  {
   "cell_type": "markdown",
   "id": "602bcca0-1520-498e-a451-b81c78e07b87",
   "metadata": {
    "editable": true,
    "slideshow": {
     "slide_type": "fragment"
    },
    "tags": []
   },
   "source": [
    "#### Antes de refactorizar (código poco claro):"
   ]
  },
  {
   "cell_type": "code",
   "execution_count": null,
   "id": "f0528510-1528-48dd-849e-e8e9557df8ea",
   "metadata": {
    "editable": true,
    "slideshow": {
     "slide_type": "fragment"
    },
    "tags": []
   },
   "outputs": [],
   "source": [
    "def calcular_area(forma, lado1, lado2):\n",
    "    if forma == \"cuadrado\":\n",
    "        area = lado1 * lado1\n",
    "    elif forma == \"rectangulo\":\n",
    "        area = lado1 * lado2\n",
    "    return area"
   ]
  },
  {
   "cell_type": "markdown",
   "id": "f141da83-4fc6-4c24-b604-591ea0254b90",
   "metadata": {
    "editable": true,
    "slideshow": {
     "slide_type": "fragment"
    },
    "tags": []
   },
   "source": [
    "#### Después de refactorizar (código más claro y modular):"
   ]
  },
  {
   "cell_type": "code",
   "execution_count": null,
   "id": "d77f5821-1197-4fd1-8f0b-e7fd98c7bdd6",
   "metadata": {
    "editable": true,
    "slideshow": {
     "slide_type": "fragment"
    },
    "tags": []
   },
   "outputs": [],
   "source": [
    "def calcular_area_cuadrado(lado):\n",
    "    return lado * lado\n",
    "\n",
    "def calcular_area_rectangulo(lado1, lado2):\n",
    "    return lado1 * lado2\n",
    "\n",
    "def calcular_area(forma, lado1, lado2):\n",
    "    if forma == \"cuadrado\":\n",
    "        return calcular_area_cuadrado(lado1)\n",
    "    elif forma == \"rectangulo\":\n",
    "        return calcular_area_rectangulo(lado1, lado2)"
   ]
  },
  {
   "cell_type": "code",
   "execution_count": null,
   "id": "f0d003b9-7b58-4453-8a54-643d476b73ed",
   "metadata": {
    "editable": true,
    "slideshow": {
     "slide_type": "fragment"
    },
    "tags": []
   },
   "outputs": [],
   "source": []
  },
  {
   "cell_type": "markdown",
   "id": "3e2ce181-7bcc-48b1-947b-6fc5179363c8",
   "metadata": {
    "editable": true,
    "slideshow": {
     "slide_type": "slide"
    },
    "tags": []
   },
   "source": [
    "### Eliminación de código duplicado"
   ]
  },
  {
   "cell_type": "markdown",
   "id": "d8ed9007-8cc5-4b48-ac1f-0ca2759d68fc",
   "metadata": {
    "editable": true,
    "slideshow": {
     "slide_type": "fragment"
    },
    "tags": []
   },
   "source": [
    "#### Con código duplicado:"
   ]
  },
  {
   "cell_type": "markdown",
   "id": "c5d6abab-2212-4f78-9bb8-d84b70aeaf8b",
   "metadata": {
    "editable": true,
    "slideshow": {
     "slide_type": "fragment"
    },
    "tags": []
   },
   "source": [
    "```python\n",
    "    def mostrar_mensaje_error():\n",
    "        print(\"Error: datos inválidos.\")\n",
    "    \n",
    "    def procesar_datos(datos):\n",
    "        if not datos:\n",
    "            mostrar_mensaje_error()\n",
    "        # ... más código ...\n",
    "    \n",
    "    def guardar_datos(datos):\n",
    "        if not datos:\n",
    "            mostrar_mensaje_error()\n",
    "        # ... más código ...\n",
    "```"
   ]
  },
  {
   "cell_type": "markdown",
   "id": "bfbaec18-95b6-4abd-9390-de1019ab1ed5",
   "metadata": {
    "editable": true,
    "slideshow": {
     "slide_type": "fragment"
    },
    "tags": []
   },
   "source": [
    "#### Sin código duplicado:"
   ]
  },
  {
   "cell_type": "markdown",
   "id": "ad03c1d0-9e43-48a7-8cb4-88b43a438465",
   "metadata": {
    "editable": true,
    "slideshow": {
     "slide_type": "fragment"
    },
    "tags": []
   },
   "source": [
    "```python\n",
    "    def mostrar_mensaje_error():\n",
    "        print(\"Error: datos inválidos.\")\n",
    "    \n",
    "    def validar_datos(datos):\n",
    "        if not datos:\n",
    "            mostrar_mensaje_error()\n",
    "            return False\n",
    "        return True\n",
    "    \n",
    "    def procesar_datos(datos):\n",
    "        if validar_datos(datos):\n",
    "            # ... más código ...\n",
    "    \n",
    "    def guardar_datos(datos):\n",
    "        if validar_datos(datos):\n",
    "            # ... más código ...\n",
    "```"
   ]
  },
  {
   "cell_type": "code",
   "execution_count": null,
   "id": "cbf94eab-2e3e-4dff-a3b4-1ca1a5f66db2",
   "metadata": {
    "editable": true,
    "slideshow": {
     "slide_type": "fragment"
    },
    "tags": []
   },
   "outputs": [],
   "source": []
  },
  {
   "cell_type": "markdown",
   "id": "12092fbf-68ed-4802-84ed-b11752b521cb",
   "metadata": {
    "editable": true,
    "slideshow": {
     "slide_type": "slide"
    },
    "tags": []
   },
   "source": [
    "### Optimización de estructuras"
   ]
  },
  {
   "cell_type": "markdown",
   "id": "e3e255d8-5a63-42cb-9471-10950805b4f9",
   "metadata": {
    "editable": true,
    "slideshow": {
     "slide_type": "fragment"
    },
    "tags": []
   },
   "source": [
    "#### Estructura ineficiente:"
   ]
  },
  {
   "cell_type": "code",
   "execution_count": null,
   "id": "7622277c-c61d-4428-97fb-69c502a537d2",
   "metadata": {
    "editable": true,
    "slideshow": {
     "slide_type": "fragment"
    },
    "tags": []
   },
   "outputs": [],
   "source": [
    "datos = []\n",
    "for i in range(1000):\n",
    "    datos.append(i)"
   ]
  },
  {
   "cell_type": "markdown",
   "id": "294dbacb-18e4-4d4d-89cf-0618198e54ed",
   "metadata": {
    "editable": true,
    "slideshow": {
     "slide_type": "fragment"
    },
    "tags": []
   },
   "source": [
    "#### Estructura optimizada (usando listas por comprensión):"
   ]
  },
  {
   "cell_type": "code",
   "execution_count": null,
   "id": "73dba814-3b54-42bd-829b-d75d9b81f748",
   "metadata": {
    "editable": true,
    "slideshow": {
     "slide_type": "fragment"
    },
    "tags": []
   },
   "outputs": [],
   "source": [
    "datos = [i for i in range(1000)]"
   ]
  },
  {
   "cell_type": "code",
   "execution_count": null,
   "id": "a7f425cc-5604-4bc0-8a05-b9b668da12c5",
   "metadata": {
    "editable": true,
    "slideshow": {
     "slide_type": "fragment"
    },
    "tags": []
   },
   "outputs": [],
   "source": []
  },
  {
   "cell_type": "markdown",
   "id": "56566ffe-4a17-4fc2-b764-e3feb24070fa",
   "metadata": {
    "editable": true,
    "slideshow": {
     "slide_type": "slide"
    },
    "tags": []
   },
   "source": [
    "### Aplicación de estándares de estilo"
   ]
  },
  {
   "cell_type": "markdown",
   "id": "fdb6ba6d-5c88-414d-afd3-983d58794bd4",
   "metadata": {
    "editable": true,
    "slideshow": {
     "slide_type": "fragment"
    },
    "tags": []
   },
   "source": [
    "#### Código sin PEP 8:"
   ]
  },
  {
   "cell_type": "code",
   "execution_count": null,
   "id": "b6af8cb6-7416-426f-be17-d23ed9f220e4",
   "metadata": {
    "editable": true,
    "slideshow": {
     "slide_type": ""
    },
    "tags": []
   },
   "outputs": [],
   "source": [
    "def suma(num1,num2):\n",
    "    return num1 + num2"
   ]
  },
  {
   "cell_type": "markdown",
   "id": "74752928-218f-4959-86e5-16f2944c0de2",
   "metadata": {
    "editable": true,
    "slideshow": {
     "slide_type": "fragment"
    },
    "tags": []
   },
   "source": [
    "#### Código con PEP 8:"
   ]
  },
  {
   "cell_type": "code",
   "execution_count": null,
   "id": "1b9140e0-2928-41d9-afb9-58bd35032968",
   "metadata": {
    "editable": true,
    "slideshow": {
     "slide_type": "fragment"
    },
    "tags": []
   },
   "outputs": [],
   "source": [
    "def suma(numero1, numero2):\n",
    "    return numero1 + numero2"
   ]
  },
  {
   "cell_type": "code",
   "execution_count": null,
   "id": "28bc10ca-dbb0-437b-9cea-39508c42b208",
   "metadata": {
    "editable": true,
    "slideshow": {
     "slide_type": "fragment"
    },
    "tags": []
   },
   "outputs": [],
   "source": []
  },
  {
   "cell_type": "markdown",
   "id": "0817ef29-c1cb-4aaa-9c2e-ee3490e90c98",
   "metadata": {
    "editable": true,
    "slideshow": {
     "slide_type": "slide"
    },
    "tags": []
   },
   "source": [
    "### PEP 8"
   ]
  },
  {
   "cell_type": "markdown",
   "id": "b3189b67-54aa-4fce-99c0-14783227013c",
   "metadata": {
    "editable": true,
    "slideshow": {
     "slide_type": "fragment"
    },
    "tags": []
   },
   "source": [
    "- PEP 8 es una guía de estilo para el código Python que busca mejorar la legibilidad y la consistencia.\n",
    "- Seguir PEP 8 facilita la colaboración entre desarrolladores y hace que el código sea más fácil de mantener.\n",
    "- Herramientas como flake8 y black pueden ayudar a verificar y aplicar automáticamente las convenciones de PEP 8."
   ]
  },
  {
   "cell_type": "markdown",
   "id": "d0515b00-0a96-4547-926c-4192c4ad8e6b",
   "metadata": {
    "editable": true,
    "slideshow": {
     "slide_type": "skip"
    },
    "tags": []
   },
   "source": [
    "### Mayor información sobre PEP-8: [clic aqui](https://peps.python.org/pep-0008/)\n",
    "### Sobre PEP-8 y Python en español: [clic acá](https://ellibrodepython.com/python-pep8)"
   ]
  },
  {
   "cell_type": "markdown",
   "id": "8bfb9ac9-669f-4424-9e45-169e27baae49",
   "metadata": {
    "editable": true,
    "slideshow": {
     "slide_type": "fragment"
    },
    "tags": []
   },
   "source": [
    "#### Nombres de variables y funciones:\n",
    "\n",
    "- PEP 8 recomienda usar nombres de variables y funciones en minúsculas, con palabras separadas por guiones bajos (snake_case). Por lo tanto, num1 y num2 deberían ser numero_1 y numero_2, y suma debería ser sumar."
   ]
  },
  {
   "cell_type": "markdown",
   "id": "f4100cfa-09a2-4da1-9e71-68469bd3c463",
   "metadata": {
    "editable": true,
    "slideshow": {
     "slide_type": "fragment"
    },
    "tags": []
   },
   "source": [
    "#### Espacios en blanco:\n",
    "\n",
    "- PEP 8 especifica que debe haber espacios alrededor de los operadores (como el operador + en este caso)."
   ]
  },
  {
   "cell_type": "markdown",
   "id": "7f1dd806-3a8a-45d6-95a7-3826bfefb3e5",
   "metadata": {
    "editable": true,
    "slideshow": {
     "slide_type": "slide"
    },
    "tags": []
   },
   "source": [
    "### Herramientas para revisión de código"
   ]
  },
  {
   "cell_type": "markdown",
   "id": "655f3211-fc1c-4463-aa0f-2d2b6b287aa4",
   "metadata": {
    "editable": true,
    "slideshow": {
     "slide_type": "fragment"
    },
    "tags": []
   },
   "source": [
    "#### Pylint:\n",
    "\n",
    "- Herramienta para analizar código Python y detectar errores, violaciones de estilo y código duplicado.\n",
    "- Ejemplo de uso: pylint mi_archivo.py"
   ]
  },
  {
   "cell_type": "markdown",
   "id": "7bdb84ea-1dde-4cdf-a33b-9de8cc7fec67",
   "metadata": {
    "editable": true,
    "slideshow": {
     "slide_type": "fragment"
    },
    "tags": []
   },
   "source": [
    "#### Flake8:\n",
    "\n",
    "- Combina Pylint, pycodestyle (para verificar el estilo) y McCabe (para verificar la complejidad).\n",
    "- Ejemplo de uso: flake8 mi_archivo.py"
   ]
  },
  {
   "cell_type": "markdown",
   "id": "f783698a-f9e2-48d6-be63-3dc3a8f54f1b",
   "metadata": {
    "editable": true,
    "slideshow": {
     "slide_type": "fragment"
    },
    "tags": []
   },
   "source": [
    "#### Black:\n",
    "\n",
    "- Formateador de código que aplica automáticamente el estilo PEP 8.\n",
    "- Ejemplo de uso: black mi_archivo.py"
   ]
  },
  {
   "cell_type": "markdown",
   "id": "711089f3-0cd4-4222-b6bc-8330c43e3a15",
   "metadata": {
    "editable": true,
    "slideshow": {
     "slide_type": "slide"
    },
    "tags": []
   },
   "source": [
    "# Jupyter Notebook"
   ]
  },
  {
   "cell_type": "markdown",
   "id": "4319db04-537b-452f-9b58-a60570b4079e",
   "metadata": {
    "editable": true,
    "slideshow": {
     "slide_type": "slide"
    },
    "tags": []
   },
   "source": [
    "## Usar Jupyter Notebook para Experimentación y Documentación\n",
    "\n",
    "- Introducción a Jupyter Notebook\n",
    "- Celdas de código y Markdown\n",
    "- Visualización de gráficos\n",
    "- Importación y exportación de notebooks\n"
   ]
  },
  {
   "cell_type": "markdown",
   "id": "86914e6f-724f-487c-ae22-3cc949c54302",
   "metadata": {
    "editable": true,
    "slideshow": {
     "slide_type": "slide"
    },
    "tags": []
   },
   "source": [
    "### Introducción a Jupyter Notebook\n",
    "\n",
    "#### ¿Qué es?:\n",
    "- Jupyter Notebook es un entorno interactivo basado en web que permite crear y compartir documentos que contienen código en vivo, ecuaciones, visualizaciones y texto 1 explicativo.   \n",
    "- Es muy utilizado en ciencia de datos, análisis de datos, aprendizaje automático y educación.\n",
    "\n",
    "#### Cómo iniciarlo:\n",
    "\n",
    "- Desde la terminal, escribe jupyter notebook y presiona Enter.\n",
    "- Se abrirá una nueva pestaña en tu navegador con el panel de control de Jupyter."
   ]
  },
  {
   "cell_type": "markdown",
   "id": "0505e7eb-3324-47cc-822d-cb5fa4367c28",
   "metadata": {
    "editable": true,
    "slideshow": {
     "slide_type": "slide"
    },
    "tags": []
   },
   "source": [
    "<div class=\"alert alert-block alert-info\">\n",
    "<b>Tip:</b>\n",
    "Para cargar una librería que no este presente en el sistema.<br>\n",
    "Usar <br>\n",
    "    \n",
    "```pyhton\n",
    "    !pip install nombre_libreria\n",
    "```\n",
    "</div>"
   ]
  },
  {
   "cell_type": "markdown",
   "id": "cbe4abf1-90e6-463e-b6e7-d002a871263c",
   "metadata": {
    "editable": true,
    "slideshow": {
     "slide_type": "slide"
    },
    "tags": []
   },
   "source": [
    "## Títulos"
   ]
  },
  {
   "cell_type": "markdown",
   "id": "b6ffb1fc-6e82-4d8a-bf00-4a631c4da4ae",
   "metadata": {
    "editable": true,
    "slideshow": {
     "slide_type": "fragment"
    },
    "tags": []
   },
   "source": [
    "```markdown\n",
    "# Título 1\n",
    "## Título 2\n",
    "### Título 3\n",
    "#### Título 4\n",
    "##### Título 5\n",
    "###### Título 6\n",
    "```"
   ]
  },
  {
   "cell_type": "markdown",
   "id": "294a68ec-4b7d-40c5-9b21-d24d1fc76102",
   "metadata": {
    "editable": true,
    "slideshow": {
     "slide_type": "fragment"
    },
    "tags": []
   },
   "source": [
    "# Título 1\n",
    "## Título 2\n",
    "### Título 3\n",
    "#### Título 4\n",
    "##### Título 5\n",
    "###### Título 6"
   ]
  },
  {
   "cell_type": "markdown",
   "id": "19c84d20-8ebf-403f-9058-e7bfeed774cb",
   "metadata": {
    "editable": true,
    "slideshow": {
     "slide_type": "slide"
    },
    "tags": []
   },
   "source": [
    "## Negrita"
   ]
  },
  {
   "cell_type": "markdown",
   "id": "65b80f63-68a0-4366-a23a-85207d8d64e3",
   "metadata": {
    "editable": true,
    "slideshow": {
     "slide_type": "fragment"
    },
    "tags": []
   },
   "source": [
    "```markdown\n",
    "    **This is bold text** \n",
    "    __This is bold text__\n",
    "```"
   ]
  },
  {
   "cell_type": "markdown",
   "id": "3bc877d5-5ee2-49f3-b873-8f53e394a07f",
   "metadata": {
    "editable": true,
    "slideshow": {
     "slide_type": "fragment"
    },
    "tags": []
   },
   "source": [
    "**This is bold text**  \n",
    "\n",
    "__This is bold text__"
   ]
  },
  {
   "cell_type": "markdown",
   "id": "9967669e-a325-4fc8-b36b-8e5cda9a30f4",
   "metadata": {
    "editable": true,
    "slideshow": {
     "slide_type": "slide"
    },
    "tags": []
   },
   "source": [
    "## Italica"
   ]
  },
  {
   "cell_type": "markdown",
   "id": "023e08db-fa0d-46b1-9793-f5e7710ba527",
   "metadata": {
    "editable": true,
    "slideshow": {
     "slide_type": "fragment"
    },
    "tags": []
   },
   "source": [
    "```markdown\n",
    "    *This is italic text*\n",
    "    _This is italic text_\n",
    "```"
   ]
  },
  {
   "cell_type": "markdown",
   "id": "5e0f0035-f06f-42d4-9611-886bf20464b1",
   "metadata": {
    "editable": true,
    "slideshow": {
     "slide_type": "fragment"
    },
    "tags": []
   },
   "source": [
    "*This is italic text* \n",
    "\n",
    "_This is italic text_"
   ]
  },
  {
   "cell_type": "markdown",
   "id": "426ed2e0-84bd-44c0-980f-e784bf9f75f9",
   "metadata": {
    "editable": true,
    "slideshow": {
     "slide_type": "slide"
    },
    "tags": []
   },
   "source": [
    "## Lineas horizontales"
   ]
  },
  {
   "cell_type": "markdown",
   "id": "564b59ea-92a9-45ca-b197-9ddb4f85bff7",
   "metadata": {
    "editable": true,
    "slideshow": {
     "slide_type": "fragment"
    },
    "tags": []
   },
   "source": [
    "```markdown\n",
    "    ---\n",
    "    ___\n",
    "    ***\n",
    "```"
   ]
  },
  {
   "cell_type": "markdown",
   "id": "dbbc08c8-9790-4ac9-b290-11d0c4cd3348",
   "metadata": {
    "editable": true,
    "slideshow": {
     "slide_type": "fragment"
    },
    "tags": []
   },
   "source": [
    "---\n",
    "___\n",
    "***"
   ]
  },
  {
   "cell_type": "markdown",
   "id": "0d773863-4dfc-462f-b31a-728d8357b4f5",
   "metadata": {
    "editable": true,
    "slideshow": {
     "slide_type": "slide"
    },
    "tags": []
   },
   "source": [
    "## Listas ordenadas"
   ]
  },
  {
   "cell_type": "markdown",
   "id": "f7be848e-1c6d-4137-afe1-f1855fc915c3",
   "metadata": {
    "editable": true,
    "slideshow": {
     "slide_type": "fragment"
    },
    "tags": []
   },
   "source": [
    "```markdown\n",
    "    1. Queso\n",
    "    2. Zanahoria\n",
    "    3. Maní\n",
    "```"
   ]
  },
  {
   "cell_type": "markdown",
   "id": "ebf474d2-ed46-432a-8e69-4cdaf927b855",
   "metadata": {
    "editable": true,
    "slideshow": {
     "slide_type": "fragment"
    },
    "tags": []
   },
   "source": [
    "1. Queso\n",
    "2. Zanahoria\n",
    "3. Maní"
   ]
  },
  {
   "cell_type": "markdown",
   "id": "3a728e72-d9c9-4beb-8763-2dc7e71fd2ef",
   "metadata": {
    "editable": true,
    "slideshow": {
     "slide_type": "slide"
    },
    "tags": []
   },
   "source": [
    "## Listas no ordenadas"
   ]
  },
  {
   "cell_type": "markdown",
   "id": "061a2d66-5897-41bc-8799-632358408f4b",
   "metadata": {
    "editable": true,
    "slideshow": {
     "slide_type": "fragment"
    },
    "tags": []
   },
   "source": [
    "```markdown\n",
    "    - Queso\n",
    "    - Zanahoria\n",
    "    - Maní\n",
    "```"
   ]
  },
  {
   "cell_type": "markdown",
   "id": "1468f21d-dbac-49a1-82ea-e791f5b5dfd7",
   "metadata": {
    "editable": true,
    "slideshow": {
     "slide_type": "fragment"
    },
    "tags": []
   },
   "source": [
    "- Queso\n",
    "- Zanahoria\n",
    "- Maní"
   ]
  },
  {
   "cell_type": "markdown",
   "id": "299d62d3-cd46-4dab-91c3-aed54e4c7117",
   "metadata": {
    "editable": true,
    "slideshow": {
     "slide_type": "slide"
    },
    "tags": []
   },
   "source": [
    "## Imágenes"
   ]
  },
  {
   "cell_type": "markdown",
   "id": "e25c7c04-aa90-4648-99fd-db5c0d799f5e",
   "metadata": {
    "editable": true,
    "slideshow": {
     "slide_type": "fragment"
    },
    "tags": []
   },
   "source": [
    "```markdown\n",
    "    ![](https://www.python.org/static/community_logos/python-logo-master-v3-TM.png)\n",
    "```"
   ]
  },
  {
   "cell_type": "markdown",
   "id": "c6debb4b-84a7-4df0-aeba-bc65c991948e",
   "metadata": {
    "editable": true,
    "slideshow": {
     "slide_type": "fragment"
    },
    "tags": []
   },
   "source": [
    "![](https://www.python.org/static/community_logos/python-logo-master-v3-TM.png)"
   ]
  },
  {
   "cell_type": "markdown",
   "id": "4c786c32-f0d5-41b2-8102-45591a4faa31",
   "metadata": {
    "editable": true,
    "slideshow": {
     "slide_type": "slide"
    },
    "tags": []
   },
   "source": [
    "## Otros lenguajes"
   ]
  },
  {
   "cell_type": "markdown",
   "id": "4a4816bd-fa99-4ced-8386-8dbd24eba19e",
   "metadata": {
    "editable": true,
    "slideshow": {
     "slide_type": "fragment"
    },
    "tags": []
   },
   "source": [
    "```markdown\n",
    "    ```javascript\n",
    "        var s = \"JavaScript syntax highlighting\";\n",
    "        alert(s);\n",
    "    ```\n",
    "```"
   ]
  },
  {
   "cell_type": "markdown",
   "id": "28995b38-b5ff-4a12-87b8-b47bccdcbb44",
   "metadata": {
    "editable": true,
    "slideshow": {
     "slide_type": "fragment"
    },
    "tags": []
   },
   "source": [
    "```javascript\n",
    "var s = \"JavaScript syntax highlighting\";\n",
    "alert(s);\n",
    "```"
   ]
  },
  {
   "cell_type": "markdown",
   "id": "e028ce24-ddf7-4b2a-8ecc-63df32e01ee9",
   "metadata": {
    "editable": true,
    "slideshow": {
     "slide_type": "fragment"
    },
    "tags": []
   },
   "source": [
    "```markdown\n",
    "    ```python\n",
    "        s = \"Python syntax highlighting\"\n",
    "        print s\n",
    "    ```\n",
    "```"
   ]
  },
  {
   "cell_type": "markdown",
   "id": "e1bedef0-3549-41e8-9af8-ec9d1f199db1",
   "metadata": {
    "editable": true,
    "slideshow": {
     "slide_type": "fragment"
    },
    "tags": []
   },
   "source": [
    "```python\n",
    "s = \"Python syntax highlighting\"\n",
    "print s\n",
    "```"
   ]
  },
  {
   "cell_type": "markdown",
   "id": "50b3c8cd-6275-4560-8ad2-f2e46f870fb9",
   "metadata": {
    "editable": true,
    "slideshow": {
     "slide_type": "slide"
    },
    "tags": []
   },
   "source": [
    "## Cajas de notas coloreadas"
   ]
  },
  {
   "cell_type": "markdown",
   "id": "ae933690-9737-415d-82c0-442825e0ecfa",
   "metadata": {
    "editable": true,
    "slideshow": {
     "slide_type": "fragment"
    },
    "tags": []
   },
   "source": [
    "```markdown\n",
    "    <div class=\"alert alert-block alert-info\"><b>Tip:</b> Use blue boxes (alert-info) for tips and notes.</div>\n",
    "```\n",
    "<div class=\"alert alert-block alert-info\"><b>Tip:</b> Use blue boxes (alert-info) for tips and notes.</div>"
   ]
  },
  {
   "cell_type": "markdown",
   "id": "112e1b2c-d4eb-41be-b6ae-488a8d8a274e",
   "metadata": {
    "editable": true,
    "slideshow": {
     "slide_type": "fragment"
    },
    "tags": []
   },
   "source": [
    "```markdown\n",
    "    <div class=\"alert alert-block alert-warning\"><b>Example:</b> Use yellow boxes for examples that are not inside code cells, or use for mathematical formulas if needed. Typically also used to display warning messages.</div>\n",
    "```\n",
    "<div class=\"alert alert-block alert-warning\"><b>Example:</b> Use yellow boxes for examples that are not inside code cells, or use for mathematical formulas if needed. Typically also used to display warning messages.</div>"
   ]
  },
  {
   "cell_type": "markdown",
   "id": "9f6a3d92-7ef0-4552-a67f-bb06ab49e23b",
   "metadata": {
    "editable": true,
    "slideshow": {
     "slide_type": "fragment"
    },
    "tags": []
   },
   "source": [
    "```markdown\n",
    "    <div class=\"alert alert-block alert-success\"><b>Success:</b> This alert box indicates a successful or positive action.</div>\n",
    "```\n",
    "<div class=\"alert alert-block alert-success\"><b>Success:</b> This alert box indicates a successful or positive action.</div>"
   ]
  },
  {
   "cell_type": "markdown",
   "id": "01472f0b-bc51-4e85-939c-c7563dd5075d",
   "metadata": {
    "editable": true,
    "slideshow": {
     "slide_type": "fragment"
    },
    "tags": []
   },
   "source": [
    "```markdown\n",
    "<div class=\"alert alert-block alert-danger\"><b>Danger:</b> This alert box indicates a dangerous or potentially negative action.</div>\n",
    "```\n",
    "<div class=\"alert alert-block alert-danger\"><b>Danger:</b> This alert box indicates a dangerous or potentially negative action.</div>"
   ]
  },
  {
   "cell_type": "markdown",
   "id": "75bff607-6930-4aec-866c-dc90be51d9dd",
   "metadata": {
    "editable": true,
    "slideshow": {
     "slide_type": "slide"
    },
    "tags": []
   },
   "source": [
    "## Pandas"
   ]
  },
  {
   "cell_type": "markdown",
   "id": "63ee1fc4-1040-417f-859e-36900b2cb1d7",
   "metadata": {
    "editable": true,
    "slideshow": {
     "slide_type": "fragment"
    },
    "tags": []
   },
   "source": [
    "```python\n",
    "    import pandas as pd\n",
    "    data = {'Nombre': ['Ana', 'Luis', 'Pedro'], 'Edad': [23, 34, 29]}\n",
    "    df = pd.DataFrame(data)\n",
    "    display(df)\n",
    "```"
   ]
  },
  {
   "cell_type": "code",
   "execution_count": null,
   "id": "6e48e90b-d285-4017-bfc0-455f3f76807f",
   "metadata": {
    "editable": true,
    "slideshow": {
     "slide_type": "fragment"
    },
    "tags": []
   },
   "outputs": [],
   "source": [
    "import pandas as pd\n",
    "data = {'Nombre': ['Ana', 'Luis', 'Pedro'], 'Edad': [23, 34, 29]}\n",
    "df = pd.DataFrame(data)\n",
    "display(df)\n"
   ]
  },
  {
   "cell_type": "code",
   "execution_count": null,
   "id": "2f0e2fa7-80c6-4263-b990-0cc7bf85f893",
   "metadata": {
    "editable": true,
    "slideshow": {
     "slide_type": "fragment"
    },
    "tags": []
   },
   "outputs": [],
   "source": []
  },
  {
   "cell_type": "markdown",
   "id": "1fe381ac-2d82-4987-8836-80befd6f2db8",
   "metadata": {
    "editable": true,
    "slideshow": {
     "slide_type": "slide"
    },
    "tags": []
   },
   "source": [
    "## Matplotlib"
   ]
  },
  {
   "cell_type": "markdown",
   "id": "e2d00831-f416-42d0-809f-601585e93b5a",
   "metadata": {
    "editable": true,
    "slideshow": {
     "slide_type": "fragment"
    },
    "tags": []
   },
   "source": [
    "```python\n",
    "    import matplotlib.pyplot as plt\n",
    "    import numpy as np\n",
    "\n",
    "    x = np.linspace(0, 10, 100)\n",
    "    y = np.sin(x)\n",
    "\n",
    "    plt.plot(x, y)\n",
    "    plt.show()\n",
    "```"
   ]
  },
  {
   "cell_type": "code",
   "execution_count": null,
   "id": "d8556437-af07-49d0-a016-678b8e6dd0a2",
   "metadata": {
    "editable": true,
    "slideshow": {
     "slide_type": "fragment"
    },
    "tags": []
   },
   "outputs": [],
   "source": [
    "import matplotlib.pyplot as plt\n",
    "import numpy as np\n",
    "\n",
    "x = np.linspace(0, 10, 100)\n",
    "y = np.sin(x)\n",
    "\n",
    "plt.plot(x, y)\n",
    "plt.show()"
   ]
  },
  {
   "cell_type": "code",
   "execution_count": null,
   "id": "7d6e0aad-aff8-4e86-b06f-d9fb0474caa5",
   "metadata": {
    "editable": true,
    "slideshow": {
     "slide_type": "fragment"
    },
    "tags": []
   },
   "outputs": [],
   "source": []
  },
  {
   "cell_type": "markdown",
   "id": "3fc85cf4-d212-4039-8ba3-ca25bce0a53f",
   "metadata": {
    "editable": true,
    "slideshow": {
     "slide_type": "slide"
    },
    "tags": []
   },
   "source": [
    "## Seaborn"
   ]
  },
  {
   "cell_type": "markdown",
   "id": "9d57929e-1cac-4d38-99c0-41d719949578",
   "metadata": {
    "editable": true,
    "slideshow": {
     "slide_type": "fragment"
    },
    "tags": []
   },
   "source": [
    "```python\n",
    "    import seaborn as sns\n",
    "    import pandas as pd\n",
    "\n",
    "    data = pd.DataFrame({'x': x, 'y': y})\n",
    "    sns.lineplot(x='x', y='y', data=data)\n",
    "    plt.show()\n",
    "```"
   ]
  },
  {
   "cell_type": "code",
   "execution_count": null,
   "id": "79b15f28-fe47-47a3-be3a-0114ae7827fb",
   "metadata": {
    "editable": true,
    "slideshow": {
     "slide_type": "fragment"
    },
    "tags": []
   },
   "outputs": [],
   "source": [
    "import seaborn as sns\n",
    "import pandas as pd\n",
    "\n",
    "data = pd.DataFrame({'x': x, 'y': y})\n",
    "sns.lineplot(x='x', y='y', data=data)\n",
    "plt.show()"
   ]
  },
  {
   "cell_type": "code",
   "execution_count": null,
   "id": "77c58300-e965-4467-bf7d-db29ddeefb1b",
   "metadata": {
    "editable": true,
    "slideshow": {
     "slide_type": "fragment"
    },
    "tags": []
   },
   "outputs": [],
   "source": []
  },
  {
   "cell_type": "markdown",
   "id": "bcdfe394-859e-4e4d-b8d5-092e0726f1b1",
   "metadata": {
    "editable": true,
    "slideshow": {
     "slide_type": "slide"
    },
    "tags": []
   },
   "source": [
    "# FIN"
   ]
  },
  {
   "cell_type": "markdown",
   "id": "53681a29-6eee-4103-8145-b24df0cf149f",
   "metadata": {
    "editable": true,
    "slideshow": {
     "slide_type": "skip"
    },
    "tags": []
   },
   "source": [
    "```python\n",
    "print(\"¡Hola, mundo!\")\n",
    "```\n",
    "\n",
    "* **Celdas Markdown:**\n",
    "    * Permiten escribir texto formateado usando Markdown.\n",
    "    * Ejemplo:\n",
    "\n",
    "```markdown\n",
    "    # Título principal\n",
    "    ## Subtítulo\n",
    "    - Lista de elementos\n",
    "    * Elemento en cursiva\n",
    "    ** Elemento en negrita\n",
    "```\n",
    "\n",
    "* **Ejecutar celdas:**\n",
    "    * Presiona Shift + Enter para ejecutar la celda actual.\n",
    "\n",
    "**Visualización de gráficos**\n",
    "\n",
    "* **Usando matplotlib:**\n",
    "\n",
    "```python\n",
    "    import matplotlib.pyplot as plt\n",
    "    import numpy as np\n",
    "\n",
    "    x = np.linspace(0, 10, 100)\n",
    "    y = np.sin(x)\n",
    "\n",
    "    plt.plot(x, y)\n",
    "    plt.show()\n",
    "```\n",
    "\n",
    "* **Usando seaborn:**\n",
    "\n",
    "```python\n",
    "    import seaborn as sns\n",
    "    import pandas as pd\n",
    "\n",
    "    data = pd.DataFrame({'x': x, 'y': y})\n",
    "    sns.lineplot(x='x', y='y', data=data)\n",
    "    plt.show()\n",
    "```\n",
    "\n",
    "**Importación y exportación de notebooks**\n",
    "\n",
    "* **Importar:**\n",
    "    * Puedes subir archivos `.ipynb` desde tu computadora usando el botón \"Upload\" en el panel de control de Jupyter.\n",
    "* **Exportar:**\n",
    "    * Desde el menú \"File\" en el notebook, puedes exportar el notebook a diferentes formatos:\n",
    "        * HTML (`.html`)\n",
    "        * PDF (`.pdf`)\n",
    "        * Python script (`.py`)\n",
    "        * Markdown (`.md`)"
   ]
  }
 ],
 "metadata": {
  "celltoolbar": "Slideshow",
  "kernelspec": {
   "display_name": "Python 3 (ipykernel)",
   "language": "python",
   "name": "python3"
  },
  "language_info": {
   "codemirror_mode": {
    "name": "ipython",
    "version": 3
   },
   "file_extension": ".py",
   "mimetype": "text/x-python",
   "name": "python",
   "nbconvert_exporter": "python",
   "pygments_lexer": "ipython3",
   "version": "3.9.18"
  }
 },
 "nbformat": 4,
 "nbformat_minor": 5
}
