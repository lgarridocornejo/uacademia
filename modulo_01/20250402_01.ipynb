{
 "cells": [
  {
   "cell_type": "code",
   "execution_count": 30,
   "id": "aabda30e-87a9-4ad5-8f5b-517df2d7981e",
   "metadata": {
    "editable": true,
    "slideshow": {
     "slide_type": "skip"
    },
    "tags": []
   },
   "outputs": [],
   "source": [
    "# venev: uacademia 20250402"
   ]
  },
  {
   "cell_type": "markdown",
   "id": "00d674a7-c6d6-4568-b1ca-c828a7aa4eea",
   "metadata": {
    "editable": true,
    "slideshow": {
     "slide_type": "slide"
    },
    "tags": []
   },
   "source": [
    "![](https://realpython.com/cdn-cgi/image/width=960,format=auto/https://files.realpython.com/media/Lists-and-Tuples-in-Python_Watermarked.a52798070b3e.jpg)"
   ]
  },
  {
   "cell_type": "markdown",
   "id": "42094f6b-5bfe-4a91-b71d-4ce679ff46f9",
   "metadata": {
    "editable": true,
    "slideshow": {
     "slide_type": "slide"
    },
    "tags": []
   },
   "source": [
    "# Tipos estructurados"
   ]
  },
  {
   "cell_type": "markdown",
   "id": "c67f71e6-d858-46fa-bf11-918cbe1af306",
   "metadata": {
    "editable": true,
    "slideshow": {
     "slide_type": "slide"
    },
    "tags": []
   },
   "source": [
    "## Listas\n",
    "\n",
    "Son uno de los tipos o estructuras de datos más versátiles del lenguaje, ya que permiten almacenar un conjunto arbitrario de datos, se puede guardar en ellas prácticamente lo que sea."
   ]
  },
  {
   "cell_type": "markdown",
   "id": "21b6baa5-1884-4747-b737-073c93f1c8ce",
   "metadata": {
    "editable": true,
    "slideshow": {
     "slide_type": "slide"
    },
    "tags": []
   },
   "source": [
    "## Crear listas Python\n",
    "\n",
    "```python\n",
    "    lista = [1, 2, 3, 4]\n",
    "```\n",
    "\n",
    "Una lista sea crea con **[]** separando sus elementos con comas **,**. Una gran ventaja es que pueden almacenar **tipos de datos distintos**.\n",
    "\n",
    "```python\n",
    "    lista = [1, \"Hola\", 3.67, [1, 2, 3]]\n",
    "```"
   ]
  },
  {
   "cell_type": "markdown",
   "id": "1db83d7d-2e3e-48f4-aca7-63e68cfe514a",
   "metadata": {
    "editable": true,
    "slideshow": {
     "slide_type": "slide"
    },
    "tags": []
   },
   "source": [
    "## Algunas propiedades de las listas:\n",
    "\n",
    "- Son **ordenadas**, mantienen el orden en el que fueron creadas.\n",
    "- Pueden ser formadas por tipos **arbitrarios**.\n",
    "- Pueden ser **indexadas** con `[i]`.\n",
    "- Se pueden **anidar**, es decir, listas dentro de la otra lista.\n",
    "- Son **mutables**, que pueden cambiar o ser cambiado.\n",
    "- Son **dinámicas**, ya que se pueden añadir o eliminar elementos."
   ]
  },
  {
   "cell_type": "markdown",
   "id": "32ddf86f-4488-4678-af8b-98c42c909b72",
   "metadata": {
    "editable": true,
    "slideshow": {
     "slide_type": "slide"
    },
    "tags": []
   },
   "source": [
    "## Acceder y modificar listas\n",
    "\n",
    "Si se tiene una lista **a** con 3 elementos, se puede acceder a los mismos usando corchetes y un índice, que va desde **0** a **n-1** siendo **n** el tamaño de la lista.\n",
    "\n",
    "```python\n",
    "    a = [90, \"Python\", 3.87]\n",
    "    print(a[0]) \n",
    "    #90\n",
    "    print(a[1]) \n",
    "    #Python\n",
    "    print(a[2]) \n",
    "    #3.87\n",
    "```"
   ]
  },
  {
   "cell_type": "markdown",
   "id": "9c5c4c7c-0018-46b6-853a-0f5676317789",
   "metadata": {
    "editable": true,
    "slideshow": {
     "slide_type": "slide"
    },
    "tags": []
   },
   "source": [
    "### Último\n",
    "Se puede además acceder al último elemento usando el índice **[-1]**.\n",
    "\n",
    "```python\n",
    "    a = [90, \"Python\", 3.87]\n",
    "    print(a[-1]) \n",
    "    #3.87\n",
    "```"
   ]
  },
  {
   "cell_type": "markdown",
   "id": "5598f470-641d-4d47-adcc-88d3005731c8",
   "metadata": {
    "editable": true,
    "slideshow": {
     "slide_type": "slide"
    },
    "tags": []
   },
   "source": [
    "### Penúltimo\n",
    "De igual manera, al igual que **[-1]** es el último elemento, se puede acceder a **[-2]** que será el penúltimo.\n",
    "\n",
    "```python\n",
    "    a = [90, \"Python\", 3.87]\n",
    "    print(a[-2]) \n",
    "    #Python\n",
    "```"
   ]
  },
  {
   "cell_type": "markdown",
   "id": "b16fb353-369c-4251-8c2c-f3ee519f03d8",
   "metadata": {
    "editable": true,
    "slideshow": {
     "slide_type": "slide"
    },
    "tags": []
   },
   "source": [
    "### Modificar\n",
    "Y si se quiere modificar un elemento de la lista, basta con asignar con el operador **=** el nuevo valor.\n",
    "\n",
    "```python\n",
    "    a = [90, \"Python\", 3.87]\n",
    "    a[2] = 1\n",
    "    print(a) \n",
    "    #[90, 'Python', 1]\n",
    "```"
   ]
  },
  {
   "cell_type": "markdown",
   "id": "06cc3692-4e4b-4066-96b9-782a8f7595ed",
   "metadata": {
    "editable": true,
    "slideshow": {
     "slide_type": "slide"
    },
    "tags": []
   },
   "source": [
    "### Anidar\n",
    "También se puede tener **listas anidadas**, es decir, una lista dentro de otra. Incluso se puede tener una lista dentro de otra lista y a su vez dentro de otra lista. Para acceder a sus elementos sólo se debe usar [] tantas veces como niveles de anidado se tenga.\n",
    "\n",
    "```python\n",
    "    x = [1, 2, 3, ['p', 'q', [5, 6, 7]]]\n",
    "    print(x[3][0])    \n",
    "    #p\n",
    "    print(x[3][2][0]) \n",
    "    #5\n",
    "    print(x[3][2][2]) \n",
    "    #7\n",
    "```"
   ]
  },
  {
   "cell_type": "markdown",
   "id": "e7c124f5-7e45-4e7c-a5a2-5c49d8a16ba7",
   "metadata": {
    "editable": true,
    "slideshow": {
     "slide_type": "slide"
    },
    "tags": []
   },
   "source": [
    "## Métodos listas"
   ]
  },
  {
   "cell_type": "markdown",
   "id": "348c2499-ab30-408c-a89e-dce8674e1e8c",
   "metadata": {
    "editable": true,
    "slideshow": {
     "slide_type": "slide"
    },
    "tags": []
   },
   "source": [
    "### append(<obj>)\n",
    "\n",
    "El método **append()** añade un elemento al final de la lista.\n",
    "\n",
    "```python\n",
    "    l = [1, 2]\n",
    "    l.append(3)\n",
    "    print(l)\n",
    "    #[1, 2, 3]\n",
    "```"
   ]
  },
  {
   "cell_type": "markdown",
   "id": "d9ccce9e-fdca-4b59-9bb6-b71bcae0a689",
   "metadata": {
    "editable": true,
    "slideshow": {
     "slide_type": "slide"
    },
    "tags": []
   },
   "source": [
    "### extend(<iterable>)\n",
    "\n",
    "El método **extend()** permite añadir una lista a la lista inicial.\n",
    "\n",
    "```python\n",
    "    l = [1, 2]\n",
    "    l.extend([3, 4])\n",
    "    print(l)\n",
    "    #[1, 2, 3, 4]\n",
    "```"
   ]
  },
  {
   "cell_type": "markdown",
   "id": "136535a9-f389-4455-927a-1f5762a1d61a",
   "metadata": {
    "editable": true,
    "slideshow": {
     "slide_type": "slide"
    },
    "tags": []
   },
   "source": [
    "### insert(<index>, <obj>)\n",
    "\n",
    "El método **insert()** añade un elemento en una posición o índice determinado.\n",
    "\n",
    "```python\n",
    "    l = [1, 3]\n",
    "    l.insert(1, 2)\n",
    "    print(l) \n",
    "    #[1, 2, 3]\n",
    "```"
   ]
  },
  {
   "cell_type": "markdown",
   "id": "38c59a91-c238-4b3b-bbe5-0147b65a04b4",
   "metadata": {
    "editable": true,
    "slideshow": {
     "slide_type": "slide"
    },
    "tags": []
   },
   "source": [
    "### remove(<obj>)\n",
    "\n",
    "El método **remove()** recibe como argumento un objeto y lo borra de la lista.\n",
    "\n",
    "```python\n",
    "    l = [1, 2, 3]\n",
    "    l.remove(3)\n",
    "    print(l) \n",
    "    #[1, 2]\n",
    "```"
   ]
  },
  {
   "cell_type": "markdown",
   "id": "a1e41f8b-5a91-4868-844a-9bc6800d13e5",
   "metadata": {
    "editable": true,
    "slideshow": {
     "slide_type": "slide"
    },
    "tags": []
   },
   "source": [
    "### pop(index=-1)\n",
    "\n",
    "El método **pop()** elimina por defecto el último elemento de la lista, pero si se pasa como parámetro un índice permite borrar elementos diferentes al último.\n",
    "\n",
    "```python\n",
    "    l = [1, 2, 3]\n",
    "    l.pop()\n",
    "    print(l) \n",
    "    #[1, 2]\n",
    "```"
   ]
  },
  {
   "cell_type": "markdown",
   "id": "a9560e38-7ee5-44d1-8cb1-114983c2e7f3",
   "metadata": {
    "editable": true,
    "slideshow": {
     "slide_type": "slide"
    },
    "tags": []
   },
   "source": [
    "### reverse()\n",
    "\n",
    "El método **reverse()** inverte el órden de la lista.\n",
    "\n",
    "```python\n",
    "    l = [1, 2, 3]\n",
    "    l.reverse()\n",
    "    print(l) \n",
    "    #[3, 2, 1]\n",
    "```"
   ]
  },
  {
   "cell_type": "markdown",
   "id": "e5c9d0fa-cefd-4d6c-ac5e-bc838a44dc2c",
   "metadata": {
    "editable": true,
    "slideshow": {
     "slide_type": "slide"
    },
    "tags": []
   },
   "source": [
    "### sort()\n",
    "\n",
    "El método **sort()** ordena los elementos de menor a mayor por defecto.\n",
    "\n",
    "```python\n",
    "    l = [3, 1, 2]\n",
    "    l.sort()\n",
    "    print(l) \n",
    "    #[1, 2, 3]\n",
    "```\n",
    "\n",
    "También permite ordenar de mayor a menor si se pasa como parámetro **reverse=True**.\n",
    "\n",
    "```python\n",
    "    l = [3, 1, 2]\n",
    "    l.sort(reverse=True)\n",
    "    print(l) \n",
    "    #[3, 2, 1]\n",
    "```"
   ]
  },
  {
   "cell_type": "markdown",
   "id": "6fd0657b-5a4f-41b2-bb8a-a7c3554dc9ac",
   "metadata": {
    "editable": true,
    "slideshow": {
     "slide_type": "slide"
    },
    "tags": []
   },
   "source": [
    "### index(<obj>[,index])\n",
    "\n",
    "El método **index()** recibe como parámetro un objeto y devuelve el índice de su primera aparición. Como se ha visto, el índice del primer elemento es el **0**.\n",
    "\n",
    "```python\n",
    "    l = [\"Mariposa\", \"Mantis\", \"Cigarra\"]\n",
    "    print(l.index(\"Mantis\"))\n",
    "    # 1\n",
    "```\n",
    "\n",
    "También permite introducir un parámetro opcional que representa el índice desde el que comenzar la búsqueda del objeto. Es como si ignorara todo lo que hay antes de ese índice para la búsqueda, en este caso el 4.\n",
    "\n",
    "```python\n",
    "    l = [1, 1, 1, 1, 2, 1, 4, 5]\n",
    "    print(l.index(1, 4)) \n",
    "    #5\n",
    "```"
   ]
  },
  {
   "cell_type": "code",
   "execution_count": null,
   "id": "6c15228b-cad7-49a0-a2e5-b4bc11add7da",
   "metadata": {},
   "outputs": [],
   "source": []
  },
  {
   "cell_type": "markdown",
   "id": "073c9574-7d68-4b27-9957-e651f6ca3276",
   "metadata": {
    "editable": true,
    "slideshow": {
     "slide_type": "skip"
    },
    "tags": []
   },
   "source": [
    "***"
   ]
  },
  {
   "cell_type": "code",
   "execution_count": null,
   "id": "113396b1-27ee-43e2-876e-0676aaae8810",
   "metadata": {},
   "outputs": [],
   "source": []
  },
  {
   "cell_type": "markdown",
   "id": "2e7147c3-0660-44da-b581-6d159df1dc8b",
   "metadata": {
    "editable": true,
    "slideshow": {
     "slide_type": "slide"
    },
    "tags": []
   },
   "source": [
    "## Tuplas\n",
    "\n",
    "Son muy similares a las listas, pero con dos diferencias. Son **inmutables**, lo que significa que no pueden ser modificadas una vez declaradas, y en vez de inicializarse con corchetes se hace con ()."
   ]
  },
  {
   "cell_type": "markdown",
   "id": "b1cb039b-2a37-46f9-b69a-da2d292711f0",
   "metadata": {
    "editable": true,
    "slideshow": {
     "slide_type": "slide"
    },
    "tags": []
   },
   "source": [
    "## Crear tupla Python\n",
    "\n",
    "Las tuplas en Python o tuples  Dependiendo de lo que queramos hacer, las tuplas pueden ser más rápidas.\n",
    "\n",
    "```python\n",
    "    tupla = (1, 2, 3)\n",
    "    print(tupla) #(1, 2, 3)\n",
    "```\n",
    "\n",
    "También pueden declararse sin **()**, separando por **,** todos sus elementos.\n",
    "\n",
    "```python\n",
    "    tupla = 1, 2, 3\n",
    "    print(type(tupla)) #<class 'tuple'>\n",
    "    print(tupla)       #(1, 2, 3)\n",
    "```"
   ]
  },
  {
   "cell_type": "markdown",
   "id": "00d2afbc-069f-4900-aae3-b40b6eef83f6",
   "metadata": {
    "editable": true,
    "slideshow": {
     "slide_type": "slide"
    },
    "tags": []
   },
   "source": [
    "## Operaciones con tuplas"
   ]
  },
  {
   "cell_type": "markdown",
   "id": "cb0fc2b6-9743-472e-a87f-babf3ded8f6f",
   "metadata": {
    "editable": true,
    "slideshow": {
     "slide_type": "slide"
    },
    "tags": []
   },
   "source": [
    "### Inmutables\n",
    "Las tuplas son tipos **inmutables**, lo que significa que una vez asignado su valor, **NO** se puede modificar. Si se intenta, tendremos un **TypeError**.\n",
    "\n",
    "```python\n",
    "    tupla = (1, 2, 3)\n",
    "    #tupla[0] = 5 # Error! TypeError\n",
    "```"
   ]
  },
  {
   "cell_type": "markdown",
   "id": "1a1c097d-2b88-4ac6-b1e2-b3b3f6f96d25",
   "metadata": {
    "editable": true,
    "slideshow": {
     "slide_type": "slide"
    },
    "tags": []
   },
   "source": [
    "### Anidadas\n",
    "Al igual que las listas, las tuplas también pueden ser anidadas.\n",
    "\n",
    "```python\n",
    "    tupla = 1, 2, ('a', 'b'), 3\n",
    "    print(tupla)       #(1, 2, ('a', 'b'), 3)\n",
    "    print(tupla[2][0]) #a\n",
    "```"
   ]
  },
  {
   "cell_type": "markdown",
   "id": "7e68f194-ffeb-41e5-a0ef-a6edb2306b94",
   "metadata": {
    "editable": true,
    "slideshow": {
     "slide_type": "slide"
    },
    "tags": []
   },
   "source": [
    "### Convertir\n",
    "Y también es posible convertir una lista en tupla haciendo uso de al función **tuple()**.\n",
    "\n",
    "```python\n",
    "    lista = [1, 2, 3]\n",
    "    tupla = tuple(lista)\n",
    "    print(type(tupla))\n",
    "    #<class 'tuple'>\n",
    "    \n",
    "    print(tupla)\n",
    "    #(1, 2, 3)\n",
    "```"
   ]
  },
  {
   "cell_type": "markdown",
   "id": "6353f212-5619-4e53-bcea-6a9aff02e573",
   "metadata": {
    "editable": true,
    "slideshow": {
     "slide_type": "slide"
    },
    "tags": []
   },
   "source": [
    "### Iteración\n",
    "Se puede **iterar** una tupla de la misma forma que con las listas.\n",
    "\n",
    "```python\n",
    "    tupla = [1, 2, 3]\n",
    "    for t in tupla:\n",
    "        print(t)\n",
    "        #1, 2, 3\n",
    "```"
   ]
  },
  {
   "cell_type": "markdown",
   "id": "35644fd6-283b-4f3c-a8a2-0b2b9404edb4",
   "metadata": {
    "editable": true,
    "slideshow": {
     "slide_type": "slide"
    },
    "tags": []
   },
   "source": [
    "### Asignar\n",
    "Y se puede también asignar el valor de una tupla con **n** elementos a **n** variables.\n",
    "\n",
    "```python\n",
    "    l = (1, 2, 3)\n",
    "    x, y, z = l\n",
    "    print(x, y, z)\n",
    "    #1 2 3\n",
    "```"
   ]
  },
  {
   "cell_type": "markdown",
   "id": "4e689a4b-4b51-4958-bd71-80f049b2a32f",
   "metadata": {
    "editable": true,
    "slideshow": {
     "slide_type": "slide"
    },
    "tags": []
   },
   "source": [
    "## Métodos tuplas"
   ]
  },
  {
   "cell_type": "markdown",
   "id": "4004c1aa-0c26-472b-83cc-1b56b333015f",
   "metadata": {
    "editable": true,
    "slideshow": {
     "slide_type": "slide"
    },
    "tags": []
   },
   "source": [
    "### count(<obj>)\n",
    "\n",
    "El método **count()** cuenta el número de veces que el objeto pasado como parámetro se ha encontrado en la lista.\n",
    "\n",
    "```python\n",
    "    l = [1, 1, 1, 3, 5]\n",
    "    print(l.count(1))\n",
    "    #3\n",
    "```"
   ]
  },
  {
   "cell_type": "markdown",
   "id": "7e6387eb-1fbc-4db1-b1f8-1125158331bb",
   "metadata": {
    "editable": true,
    "slideshow": {
     "slide_type": "slide"
    },
    "tags": []
   },
   "source": [
    "### index(<obj>[,index])\n",
    "\n",
    "El método **index()** busca el objeto que se le pasa como parámetro y devuelve el índice en el que se ha encontrado.\n",
    "\n",
    "```python\n",
    "    l = [7, 7, 7, 3, 5]\n",
    "    print(l.index(5))\n",
    "    #4\n",
    "```\n",
    "\n",
    "En el caso de no encontrarse, se devuelve un **ValueError**.\n",
    "\n",
    "```python\n",
    "    l = [7, 7, 7, 3, 5]\n",
    "    print(l.index(35))\n",
    "    #Error! ValueError\n",
    "```\n",
    "\n",
    "El método **index()** también acepta un segundo parámetro opcional, que indica a partir de que índice empezar a buscar el objeto.\n",
    "\n",
    "```python\n",
    "    l = [7, 7, 7, 3, 5]\n",
    "    print(l.index(7, 2)) #2\n",
    "```"
   ]
  },
  {
   "cell_type": "code",
   "execution_count": null,
   "id": "329f0c75-1d5a-4011-aa63-25f986824be7",
   "metadata": {},
   "outputs": [],
   "source": []
  },
  {
   "cell_type": "markdown",
   "id": "96890f87-56b2-4e88-9e74-24294beb9ba5",
   "metadata": {
    "editable": true,
    "slideshow": {
     "slide_type": "skip"
    },
    "tags": []
   },
   "source": [
    "***"
   ]
  },
  {
   "cell_type": "code",
   "execution_count": null,
   "id": "f06a275f-8cc2-42f1-810f-a63d7a8bd5cf",
   "metadata": {},
   "outputs": [],
   "source": []
  },
  {
   "cell_type": "markdown",
   "id": "d5f9928a-cb24-4069-a0b7-c09e6faf2aaf",
   "metadata": {
    "editable": true,
    "slideshow": {
     "slide_type": "slide"
    },
    "tags": []
   },
   "source": [
    "## Diccionarios\n",
    "\n",
    "Son una estructura de datos que permite almacenar su contenido en forma de llave y valor."
   ]
  },
  {
   "cell_type": "markdown",
   "id": "75f7cf48-e55f-4f12-900d-69d18a06cd26",
   "metadata": {
    "editable": true,
    "slideshow": {
     "slide_type": "slide"
    },
    "tags": []
   },
   "source": [
    "## Crear diccionario Python\n",
    "\n",
    "Un diccionario en Python es una colección de elementos, donde cada uno tiene una llave **key** y un valor **value**. Los diccionarios se pueden crear con paréntesis **{}** separando con una coma cada par key: value. En el siguiente ejemplo tenemos tres keys que son el nombre, la edad y el documento.\n",
    "\n",
    "```python\n",
    "    d1 = {\n",
    "      \"Nombre\": \"Sara\",\n",
    "      \"Edad\": 27,\n",
    "      \"Documento\": 1003882\n",
    "    }\n",
    "    print(d1)\n",
    "    #{'Nombre': 'Sara', 'Edad': 27, 'Documento': 1003882}\n",
    "```"
   ]
  },
  {
   "cell_type": "markdown",
   "id": "39645494-71f0-4d2e-b5f7-402659be4b71",
   "metadata": {
    "editable": true,
    "slideshow": {
     "slide_type": "fragment"
    },
    "tags": []
   },
   "source": [
    "Otra forma equivalente de crear un diccionario en Python es usando **dict()** e introduciendo los pares **key: value** entre paréntesis.\n",
    "\n",
    "```python\n",
    "    d2 = dict([\n",
    "          ('Nombre', 'Sara'),\n",
    "          ('Edad', 27),\n",
    "          ('Documento', 1003882),\n",
    "    ])\n",
    "    print(d2)\n",
    "    #{'Nombre': 'Sara', 'Edad': '27', 'Documento': '1003882'}\n",
    "```"
   ]
  },
  {
   "cell_type": "markdown",
   "id": "cc9c89d9-0c7d-434b-99d0-04b3716c0ba7",
   "metadata": {
    "editable": true,
    "slideshow": {
     "slide_type": "fragment"
    },
    "tags": []
   },
   "source": [
    "También es posible usar el constructor **dict()** para crear un diccionario.\n",
    "\n",
    "```python\n",
    "    d3 = dict(Nombre='Sara',\n",
    "              Edad=27,\n",
    "              Documento=1003882)\n",
    "    print(d3)\n",
    "    #{'Nombre': 'Sara', 'Edad': 27, 'Documento': 1003882}\n",
    "```"
   ]
  },
  {
   "cell_type": "markdown",
   "id": "d52e166a-4f10-4ca4-b9be-f749ea7ea1b9",
   "metadata": {
    "editable": true,
    "slideshow": {
     "slide_type": "slide"
    },
    "tags": []
   },
   "source": [
    "## Algunas propiedades de los diccionario en Python son las siguientes:\n",
    "\n",
    "- Son **dinámicos**, pueden crecer o decrecer, se pueden añadir o eliminar elementos.\n",
    "- Son **indexados**, los elementos del diccionario son accesibles a través del **key**.\n",
    "- Y son **anidados**, un diccionario puede contener a otro diccionario en su campo **value**."
   ]
  },
  {
   "cell_type": "markdown",
   "id": "55ae00b6-aff7-45ea-bb2f-3baeab1b21aa",
   "metadata": {
    "editable": true,
    "slideshow": {
     "slide_type": "slide"
    },
    "tags": []
   },
   "source": [
    "## Acceder y modificar elementos\n",
    "\n",
    "Se puede acceder a sus elementos con **[]** o también con la función **get()**\n",
    "\n",
    "```python\n",
    "    print(d1['Nombre'])     \n",
    "    #Sara\n",
    "    \n",
    "    print(d1.get('Nombre')) \n",
    "    #Sara\n",
    "```\n",
    "\n",
    "Para modificar un elemento basta con usar **[]** con el nombre del **key** y asignar el valor que queremos.\n",
    "\n",
    "```python\n",
    "    d1['Nombre'] = \"Laura\"\n",
    "    print(d1)\n",
    "    #{'Nombre': Laura', 'Edad': 27, 'Documento': 1003882}\n",
    "```\n",
    "\n",
    "Si el **key** al que accedemos no existe, se añade automáticamente.\n",
    "\n",
    "```python\n",
    "    d1['Direccion'] = \"Calle 123\"\n",
    "    print(d1)\n",
    "    #{'Nombre': 'Laura', 'Edad': 27, 'Documento': 1003882, 'Direccion': 'Calle 123'}\n",
    "```"
   ]
  },
  {
   "cell_type": "markdown",
   "id": "232108a6-a544-4168-a9b9-2d1d5d9b053a",
   "metadata": {
    "editable": true,
    "slideshow": {
     "slide_type": "slide"
    },
    "tags": []
   },
   "source": [
    "## Iterar diccionario\n",
    "\n",
    "Los diccionarios se pueden iterar de manera muy similar a las listas u otras estructuras de datos. Para imprimir los **key**."
   ]
  },
  {
   "cell_type": "markdown",
   "id": "1877d4c8-e1d7-4a73-a5c3-ec508def2235",
   "metadata": {
    "editable": true,
    "slideshow": {
     "slide_type": "slide"
    },
    "tags": []
   },
   "source": [
    "### Imprimir los key del diccionario\n",
    "```python\n",
    "    for x in d1:\n",
    "        print(x)\n",
    "    #Nombre\n",
    "    #Edad\n",
    "    #Documento\n",
    "    #Direccion\n",
    "```\n"
   ]
  },
  {
   "cell_type": "markdown",
   "id": "92916b2d-3248-487f-949d-b95ae0ac17eb",
   "metadata": {
    "editable": true,
    "slideshow": {
     "slide_type": "slide"
    },
    "tags": []
   },
   "source": [
    "### Imprimir los value del diccionario\n",
    "```python\n",
    "    for x in d1:\n",
    "        print(d1[x])\n",
    "    #Laura\n",
    "    #27\n",
    "    #1003882\n",
    "    #Calle 123\n",
    "```\n"
   ]
  },
  {
   "cell_type": "markdown",
   "id": "d978a59b-6d03-4536-a695-e1730b3cf551",
   "metadata": {
    "editable": true,
    "slideshow": {
     "slide_type": "slide"
    },
    "tags": []
   },
   "source": [
    "### Imprimir los key y value del diccionario\n",
    "```python\n",
    "    for x, y in d1.items():\n",
    "        print(x, y)\n",
    "    #Nombre Laura\n",
    "    #Edad 27\n",
    "    #Documento 1003882\n",
    "    #Direccion Calle 123\n",
    "```"
   ]
  },
  {
   "cell_type": "markdown",
   "id": "7cd7e362-b708-449f-b279-517ef49c4fb6",
   "metadata": {
    "editable": true,
    "slideshow": {
     "slide_type": "slide"
    },
    "tags": []
   },
   "source": [
    "### Diccionarios anidados\n",
    "\n",
    "Los diccionarios en Python pueden contener uno dentro de otro. Podemos ver como los valores anidado uno y dos del diccionario d contienen a su vez otro diccionario.\n",
    "\n",
    "```python\n",
    "    anidado1 = {\"a\": 1, \"b\": 2}\n",
    "    anidado2 = {\"a\": 1, \"b\": 2}\n",
    "    d = {\n",
    "      \"anidado1\" : anidado1,\n",
    "      \"anidado2\" : anidado2\n",
    "    }\n",
    "    print(d)\n",
    "    #{'anidado1': {'a': 1, 'b': 2}, 'anidado2': {'a': 1, 'b': 2}}\n",
    "```"
   ]
  },
  {
   "cell_type": "markdown",
   "id": "db6c1d73-c3b7-4cb8-8f9f-95c74228481b",
   "metadata": {
    "editable": true,
    "slideshow": {
     "slide_type": "slide"
    },
    "tags": []
   },
   "source": [
    "## Métodos diccionarios Python"
   ]
  },
  {
   "cell_type": "markdown",
   "id": "17cbb55f-8e8d-4567-acfa-b49e0b15b767",
   "metadata": {
    "editable": true,
    "slideshow": {
     "slide_type": "slide"
    },
    "tags": []
   },
   "source": [
    "### clear()\n",
    "\n",
    "El método **clear()** elimina todo el contenido del diccionario.\n",
    "\n",
    "```python\n",
    "    d = {'a': 1, 'b': 2}\n",
    "    d.clear()\n",
    "    print(d)\n",
    "    #{}\n",
    "```"
   ]
  },
  {
   "cell_type": "markdown",
   "id": "c701f175-a118-48fe-ae38-4fe13b647a63",
   "metadata": {
    "editable": true,
    "slideshow": {
     "slide_type": "slide"
    },
    "tags": []
   },
   "source": [
    "### get(<key>[,<default>])\n",
    "\n",
    "El método **get()** nos permite consultar el **value** para un **key** determinado. El segundo parámetro es opcional, y en el caso de proporcionarlo es el valor a devolver si no se encuentra la **key**.\n",
    "\n",
    "```python\n",
    "    d = {'a': 1, 'b': 2}\n",
    "    print(d.get('a'))\n",
    "    #1\n",
    "\n",
    "    print(d.get('z', 'No encontrado'))\n",
    "    #No encontrado\n",
    "```"
   ]
  },
  {
   "cell_type": "markdown",
   "id": "5b7c03b2-e66f-4b2f-a9e9-c9865a95987b",
   "metadata": {
    "editable": true,
    "slideshow": {
     "slide_type": "slide"
    },
    "tags": []
   },
   "source": [
    "### items()\n",
    "\n",
    "El método **items()** devuelve una lista con los **keys** y **values** del diccionario. Si se convierte en **list** se puede indexar como si de una lista normal se tratase, siendo los primeros elementos las **key** y los segundos los **value**.\n",
    "\n",
    "```python\n",
    "    d = {'a': 1, 'b': 2}\n",
    "    it = d.items()\n",
    "    print(it)\n",
    "    #dict_items([('a', 1), ('b', 2)])\n",
    "\n",
    "    print(list(it))\n",
    "    #[('a', 1), ('b', 2)]\n",
    "\n",
    "    print(list(it)[0][0])\n",
    "    #a\n",
    "```"
   ]
  },
  {
   "cell_type": "markdown",
   "id": "58f869ea-5217-477e-a4d6-f476f2ebcc19",
   "metadata": {
    "editable": true,
    "slideshow": {
     "slide_type": "slide"
    },
    "tags": []
   },
   "source": [
    "### keys()\n",
    "\n",
    "El método **keys()** devuelve una lista con todas las **keys** del diccionario.\n",
    "\n",
    "```python\n",
    "    d = {'a': 1, 'b': 2}\n",
    "    k = d.keys()\n",
    "    print(k)\n",
    "    #dict_keys(['a', 'b'])\n",
    "\n",
    "    print(list(k))\n",
    "    #['a', 'b']\n",
    "```"
   ]
  },
  {
   "cell_type": "markdown",
   "id": "bc658520-3aef-41a8-8c94-19aab24a2b5e",
   "metadata": {
    "editable": true,
    "slideshow": {
     "slide_type": "slide"
    },
    "tags": []
   },
   "source": [
    "### values()\n",
    "\n",
    "El método **values()** devuelve una lista con todos los **values** o valores del diccionario.\n",
    "\n",
    "```python\n",
    "    d = {'a': 1, 'b': 2}\n",
    "    print(list(d.values()))\n",
    "    #[1, 2]\n",
    "```"
   ]
  },
  {
   "cell_type": "markdown",
   "id": "0d15aad8-73c6-4e8e-a24e-cb78b6aa31e5",
   "metadata": {
    "editable": true,
    "slideshow": {
     "slide_type": "slide"
    },
    "tags": []
   },
   "source": [
    "### pop(<key>[,<default>])\n",
    "\n",
    "El método **pop()** busca y elimina la **key** que se pasa como parámetro y devuelve su valor asociado. Daría un error si se intenta eliminar una **key** que no existe.\n",
    "\n",
    "```python\n",
    "    d = {'a': 1, 'b': 2}\n",
    "    d.pop('a')\n",
    "    print(d)\n",
    "    #{'b': 2}\n",
    "```\n",
    "\n",
    "También se puede pasar un segundo parámetro que es el valor a devolver si la **key** no se ha encontrado. En este caso si no se encuentra no habría error.\n",
    "\n",
    "```python\n",
    "    d = {'a': 1, 'b': 2}\n",
    "    d.pop('c', -1)\n",
    "    print(d)\n",
    "    #{'a': 1, 'b': 2}\n",
    "```"
   ]
  },
  {
   "cell_type": "markdown",
   "id": "b7a6e09c-273a-4276-9025-3cfab8d382a3",
   "metadata": {
    "editable": true,
    "slideshow": {
     "slide_type": "slide"
    },
    "tags": []
   },
   "source": [
    "### popitem()\n",
    "\n",
    "El método **popitem()** elimina de manera aleatoria un elemento del diccionario.\n",
    "\n",
    "```python\n",
    "    d = {'a': 1, 'b': 2}\n",
    "    d.popitem()\n",
    "    print(d)\n",
    "    #{'a': 1}\n",
    "```"
   ]
  },
  {
   "cell_type": "markdown",
   "id": "3eb5bdc0-4700-4580-9ac2-645bd56725d7",
   "metadata": {
    "editable": true,
    "slideshow": {
     "slide_type": "slide"
    },
    "tags": []
   },
   "source": [
    "### update(<obj>)\n",
    "\n",
    "El método **update()** se llama sobre un diccionario y tiene como entrada otro diccionario. Los **value** son actualizados y si alguna **key** del nuevo diccionario no esta, es añadida.\n",
    "\n",
    "```python\n",
    "    d1 = {'a': 1, 'b': 2}\n",
    "    d2 = {'a': 0, 'd': 400}\n",
    "    d1.update(d2)\n",
    "    print(d1)\n",
    "    #{'a': 0, 'b': 2, 'd': 400}\n",
    "```"
   ]
  },
  {
   "cell_type": "markdown",
   "id": "dde8d044-d8d5-4cb8-afb9-47fb158db209",
   "metadata": {
    "editable": true,
    "slideshow": {
     "slide_type": "skip"
    },
    "tags": []
   },
   "source": [
    "***"
   ]
  },
  {
   "cell_type": "markdown",
   "id": "e30d11c8-7f3e-4dd5-8e80-6f0cbc5d2c83",
   "metadata": {
    "editable": true,
    "slideshow": {
     "slide_type": "slide"
    },
    "tags": []
   },
   "source": [
    "![](https://codigonautas.com/wp-content/uploads/2024/07/Ilustracion-lista-tupla-y-conjunto.png)"
   ]
  },
  {
   "cell_type": "code",
   "execution_count": null,
   "id": "2faf427a-1723-4d49-9b15-23596407ec03",
   "metadata": {},
   "outputs": [],
   "source": []
  }
 ],
 "metadata": {
  "kernelspec": {
   "display_name": "Python [conda env:base] *",
   "language": "python",
   "name": "conda-base-py"
  },
  "language_info": {
   "codemirror_mode": {
    "name": "ipython",
    "version": 3
   },
   "file_extension": ".py",
   "mimetype": "text/x-python",
   "name": "python",
   "nbconvert_exporter": "python",
   "pygments_lexer": "ipython3",
   "version": "3.9.16"
  }
 },
 "nbformat": 4,
 "nbformat_minor": 5
}
