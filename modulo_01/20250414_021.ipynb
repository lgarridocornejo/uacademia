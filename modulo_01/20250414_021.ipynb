{
 "cells": [
  {
   "cell_type": "markdown",
   "id": "73ec3b87-09bb-4973-bb80-f4b6a7f1539e",
   "metadata": {},
   "source": [
    "# R"
   ]
  },
  {
   "cell_type": "markdown",
   "id": "f2db35ae-9401-4423-9074-6afbd88bbb23",
   "metadata": {},
   "source": [
    "## Palindromos"
   ]
  },
  {
   "cell_type": "code",
   "execution_count": 18,
   "id": "dbf7a159-1d14-4391-a40d-01270bb330df",
   "metadata": {
    "editable": true,
    "slideshow": {
     "slide_type": ""
    },
    "tags": []
   },
   "outputs": [],
   "source": [
    "es_palindromo = function(palabra) {\n",
    "  # Convertimos la palabra a minúsculas y eliminamos espacios\n",
    "  vof = \"No\"\n",
    "  palabra <- tolower(gsub(\" \", \"\", palabra))\n",
    "\n",
    "  # Comparamos la palabra con su versión invertida\n",
    "  if (palabra == paste(rev(strsplit(palabra, \"\")[[1]]), collapse = \"\")) {\n",
    "    vof = \"Si\"\n",
    "  }\n",
    "\n",
    "  return(vof)\n",
    "}"
   ]
  },
  {
   "cell_type": "code",
   "execution_count": 20,
   "id": "1f96f0b6-2640-46fd-99be-f19ec8de30f8",
   "metadata": {
    "editable": true,
    "slideshow": {
     "slide_type": ""
    },
    "tags": []
   },
   "outputs": [
    {
     "name": "stdout",
     "output_type": "stream",
     "text": [
      "[1] \"Si\"\n"
     ]
    }
   ],
   "source": [
    "# Ejemplos de uso\n",
    "print(es_palindromo(\"Anita lava la tina\"))"
   ]
  },
  {
   "cell_type": "code",
   "execution_count": 22,
   "id": "e9c42828-3daa-441e-ad34-893e66fffea4",
   "metadata": {
    "editable": true,
    "slideshow": {
     "slide_type": ""
    },
    "tags": []
   },
   "outputs": [
    {
     "name": "stdout",
     "output_type": "stream",
     "text": [
      "[1] \"No\"\n"
     ]
    }
   ],
   "source": [
    "print(es_palindromo(\"Hola\"))"
   ]
  },
  {
   "cell_type": "code",
   "execution_count": null,
   "id": "e11ae258-3b62-4222-aaf7-f59cf9fbcca1",
   "metadata": {
    "editable": true,
    "slideshow": {
     "slide_type": ""
    },
    "tags": []
   },
   "outputs": [],
   "source": []
  }
 ],
 "metadata": {
  "kernelspec": {
   "display_name": "R [conda env:R]",
   "language": "R",
   "name": "conda-env-R-r"
  },
  "language_info": {
   "codemirror_mode": "r",
   "file_extension": ".r",
   "mimetype": "text/x-r-source",
   "name": "R",
   "pygments_lexer": "r",
   "version": "3.6.1"
  }
 },
 "nbformat": 4,
 "nbformat_minor": 5
}
