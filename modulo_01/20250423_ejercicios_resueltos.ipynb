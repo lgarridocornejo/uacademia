{
 "cells": [
  {
   "cell_type": "markdown",
   "id": "9e683fcd",
   "metadata": {},
   "source": [
    "# Ejercicios de Python: Listas, Diccionarios, Bucles, Condicionales e Inputs"
   ]
  },
  {
   "cell_type": "markdown",
   "id": "01c39c23",
   "metadata": {},
   "source": [
    "## Ejercicio 1: Números mayores a 10\n",
    "\n",
    "Temas: **listas**, **while**, **for**, **if**\n",
    "\n",
    "Pide al usuario que ingrese 5 números y guárdalos en una lista. Luego imprime solo los que sean mayores a 10."
   ]
  },
  {
   "cell_type": "code",
   "execution_count": null,
   "id": "d6321aae",
   "metadata": {},
   "outputs": [],
   "source": [
    "print(\"Ingresar numeros menores a 100\")\n",
    "numeros = []\n",
    "i = 0\n",
    "while i < 5:\n",
    "    num = int(input(f\"Ingrese el número {i + 1}: \"))\n",
    "    numeros.append(num)\n",
    "    i += 1\n",
    "\n",
    "print(\"\\nNúmeros mayores a 10:\")\n",
    "for n in numeros:\n",
    "    if n > 10:\n",
    "        print(n)"
   ]
  },
  {
   "cell_type": "markdown",
   "id": "afde6536",
   "metadata": {},
   "source": [
    "## Ejercicio 2: Diccionario de datos personales\n",
    "Temas: **diccionarios**, **input**\n",
    "\n",
    "Solicita al usuario su nombre, edad, ciudad y crea un diccionario con esta información. Luego imprime el diccionario."
   ]
  },
  {
   "cell_type": "code",
   "execution_count": null,
   "id": "c460b16d-3e16-4807-b4b1-fdc82bc6ef5c",
   "metadata": {},
   "outputs": [],
   "source": [
    "persona = {\n",
    "    \"nombre\": input(\"Ingrese su nombre: \"),\n",
    "    \"edad\": int(input(\"Ingrese su edad: \")),\n",
    "    \"ciudad\": input(\"Ingrese su ciudad: \")\n",
    "}\n",
    "\n",
    "print(\"\\nDatos ingresados:\")\n",
    "for clave, valor in persona.items():\n",
    "    print(f\"{clave.capitalize()}: {valor}\")\n"
   ]
  },
  {
   "cell_type": "markdown",
   "id": "6f873095",
   "metadata": {},
   "source": [
    "## Ejercicio 3: Lista, bucle for y condicional\n",
    "\n",
    "Temas: **for**, **if**\n",
    "\n",
    "Cuenta cuántos números pares hay en una lista predefinida."
   ]
  },
  {
   "cell_type": "code",
   "execution_count": null,
   "id": "9f3441d5-a855-40bc-be3a-8519f241ba4a",
   "metadata": {},
   "outputs": [],
   "source": [
    "numeros = [2, 5, 8, 11, 14, 17, 20]"
   ]
  },
  {
   "cell_type": "code",
   "execution_count": null,
   "id": "ca868c6a-e0be-4271-b219-77352d58859c",
   "metadata": {},
   "outputs": [],
   "source": [
    "pares = 0\n",
    "for n in numeros:\n",
    "    if n % 2 == 0:\n",
    "        pares += 1\n",
    "print(\"Cantidad de números pares:\", pares)"
   ]
  },
  {
   "cell_type": "markdown",
   "id": "1aa8fb75-9a1b-4f25-9ec9-11891823aded",
   "metadata": {},
   "source": [
    "## Ejercicio 4: Contador de palabras cortas\n",
    "\n",
    "Temas: **listas**, **for**, **if**, **input**\n",
    "\n",
    "Pide 5 palabras al usuario. Cuenta cuántas tienen 4 letras o menos."
   ]
  },
  {
   "cell_type": "code",
   "execution_count": null,
   "id": "c2fac478-d8c5-4c72-9cac-a227f38d12ed",
   "metadata": {},
   "outputs": [],
   "source": [
    "palabras = []\n",
    "\n",
    "for i in range(5):\n",
    "    palabra = input(f\"Ingrese la palabra {i + 1}: \")\n",
    "    palabras.append(palabra)\n",
    "\n",
    "contador = 0\n",
    "for p in palabras:\n",
    "    if len(p) <= 4:\n",
    "        contador += 1\n",
    "\n",
    "print(f\"\\nHay {contador} palabra(s) con 4 letras o menos.\")"
   ]
  },
  {
   "cell_type": "markdown",
   "id": "ed17ba95",
   "metadata": {},
   "source": [
    "## Ejercicio 5: Diccionario y condicional\n",
    "Temas: **diccionarios**, **if**, **else**\n",
    "\n",
    "Verifica si una clave ingresada por el usuario existe en un diccionario."
   ]
  },
  {
   "cell_type": "code",
   "execution_count": null,
   "id": "7ba2c686-9687-4427-a0bd-536200f324a0",
   "metadata": {},
   "outputs": [],
   "source": [
    "inventario = {'manzanas': 10, 'naranjas': 5, 'peras': 7}"
   ]
  },
  {
   "cell_type": "code",
   "execution_count": null,
   "id": "b610c90e-404b-47b8-a9b5-2dada0ec59c1",
   "metadata": {},
   "outputs": [],
   "source": [
    "clave = input(\"¿Qué fruta desea buscar? \")\n",
    "if clave in inventario:\n",
    "    print(f\"{clave} está disponible, cantidad: {inventario[clave]}\")\n",
    "else:\n",
    "    print(f\"{clave} no está en el inventario.\")"
   ]
  },
  {
   "cell_type": "markdown",
   "id": "501bbdc1",
   "metadata": {},
   "source": [
    "## Ejercicio 6: Lista, input, for y if\n",
    "Temas: **input**, **for**, **if**\n",
    "\n",
    "Pide al usuario ingresar una palabra, y cuenta cuántas veces aparece una letra específica."
   ]
  },
  {
   "cell_type": "code",
   "execution_count": null,
   "id": "60b0e455",
   "metadata": {},
   "outputs": [],
   "source": [
    "\n",
    "palabra = input(\"Ingrese una palabra: \")\n",
    "letra = input(\"Ingrese la letra que desea contar: \")\n",
    "contador = 0\n",
    "for char in palabra:\n",
    "    if char == letra:\n",
    "        contador += 1\n",
    "print(f\"La letra '{letra}' aparece {contador} veces en la palabra '{palabra}'.\")\n"
   ]
  },
  {
   "cell_type": "markdown",
   "id": "2d8b02fc-ba41-456e-a24f-340a988be146",
   "metadata": {},
   "source": [
    "## Ejercicio 7: Buscar un nombre en la lista\n",
    "\n",
    "Temas: **listas**, **input**, **if**\n",
    "         \n",
    "Tienes una lista predefinida de nombres. El usuario escribe un nombre, y tú le dices si está o no en la lista."
   ]
  },
  {
   "cell_type": "code",
   "execution_count": null,
   "id": "af653617-a913-468b-81e5-a8e1bbe21e94",
   "metadata": {},
   "outputs": [],
   "source": [
    "nombres = [\"Ana\", \"Luis\", \"Pedro\", \"Camila\", \"Jorge\"]"
   ]
  },
  {
   "cell_type": "code",
   "execution_count": null,
   "id": "3a34561d-7a8d-4b37-b720-5f6c4540fa07",
   "metadata": {},
   "outputs": [],
   "source": [
    "buscar = input(\"¿Qué nombre desea buscar?: \")\n",
    "\n",
    "if buscar in nombres:\n",
    "    print(f\"{buscar} está en la lista.\")\n",
    "else:\n",
    "    print(f\"{buscar} no fue encontrado.\")"
   ]
  },
  {
   "cell_type": "markdown",
   "id": "0e51ccf7-d488-484a-94c4-a16572b1c6bf",
   "metadata": {},
   "source": [
    "## Ejercicio 8: Precios de productos\n",
    "\n",
    "Temas: **diccionarios**, **for**, **if**\n",
    "\n",
    "Tienes un diccionario con productos y precios. El usuario ingresa su presupuesto, y tú le muestras solo los productos que puede pagar."
   ]
  },
  {
   "cell_type": "code",
   "execution_count": null,
   "id": "1e72d533-bc26-4fbd-bba7-64f3b0b13d2d",
   "metadata": {},
   "outputs": [],
   "source": [
    "productos = {\n",
    "    \"pan\": 1000,\n",
    "    \"leche\": 1500,\n",
    "    \"huevos\": 2200,\n",
    "    \"queso\": 5200,\n",
    "    \"jugo\": 1800,\n",
    "    \"calugón\":100\n",
    "}"
   ]
  },
  {
   "cell_type": "code",
   "execution_count": null,
   "id": "e77a7dc8-9c65-4762-975d-9ab24b3e19e0",
   "metadata": {},
   "outputs": [],
   "source": [
    "presupuesto = int(input(\"Ingrese su presupuesto: \"))\n",
    "\n",
    "print(\"\\nProductos que puede comprar:\")\n",
    "for producto, precio in productos.items():\n",
    "    if precio <= presupuesto:\n",
    "        print(f\"{producto.capitalize()}: ${precio}\")"
   ]
  }
 ],
 "metadata": {
  "kernelspec": {
   "display_name": "Python 3 (ipykernel)",
   "language": "python",
   "name": "python3"
  },
  "language_info": {
   "codemirror_mode": {
    "name": "ipython",
    "version": 3
   },
   "file_extension": ".py",
   "mimetype": "text/x-python",
   "name": "python",
   "nbconvert_exporter": "python",
   "pygments_lexer": "ipython3",
   "version": "3.12.4"
  }
 },
 "nbformat": 4,
 "nbformat_minor": 5
}
