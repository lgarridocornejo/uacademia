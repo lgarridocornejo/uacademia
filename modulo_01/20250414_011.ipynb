{
 "cells": [
  {
   "cell_type": "markdown",
   "id": "33d0fa8e-78fe-4c1c-a356-b2b1b20bd3b6",
   "metadata": {},
   "source": [
    "# Python"
   ]
  },
  {
   "cell_type": "markdown",
   "id": "3b9c6672-2fe5-4b01-a827-394ffc8886c1",
   "metadata": {},
   "source": [
    "## Palindromos"
   ]
  },
  {
   "cell_type": "code",
   "execution_count": 10,
   "id": "52460c8f-6053-4465-ba05-af7375f8e1b3",
   "metadata": {},
   "outputs": [],
   "source": [
    "palabras = [\"radar\", \"reconocer\", \"murcielago\", \"paralelepipedo\", \"oso\", \"anilina\"]"
   ]
  },
  {
   "cell_type": "code",
   "execution_count": 12,
   "id": "74d6542c-6394-45b9-a3d3-b1ff7e627db5",
   "metadata": {},
   "outputs": [],
   "source": [
    "def es_palindromo(palabra):\n",
    "    # Convertimos la palabra a minúsculas y eliminamos espacios\n",
    "    vof = \"No\"\n",
    "    palabra = palabra.lower().replace(\" \", \"\")\n",
    "    if palabra == palabra[::-1]:\n",
    "        vof = \"Si\"\n",
    "    # Comparamos la palabra con su versión invertida\n",
    "    return vof"
   ]
  },
  {
   "cell_type": "code",
   "execution_count": 14,
   "id": "d3a21cb7-306c-4212-ab21-5db2b35b165c",
   "metadata": {},
   "outputs": [
    {
     "name": "stdin",
     "output_type": "stream",
     "text": [
      "Ingresa una palabra:  radar\n"
     ]
    },
    {
     "data": {
      "text/plain": [
       "'Si'"
      ]
     },
     "execution_count": 14,
     "metadata": {},
     "output_type": "execute_result"
    }
   ],
   "source": [
    "# Pruebas\n",
    "palabra = input(\"Ingresa una palabra: \")\n",
    "es_palindromo(palabra)"
   ]
  },
  {
   "cell_type": "code",
   "execution_count": 20,
   "id": "a9e180e7-2f90-4233-b484-c199607cb93d",
   "metadata": {},
   "outputs": [
    {
     "name": "stdout",
     "output_type": "stream",
     "text": [
      "La palabra radar, es palindromica? Si\n",
      "La palabra reconocer, es palindromica? Si\n",
      "La palabra murcielago, es palindromica? No\n",
      "La palabra paralelepipedo, es palindromica? No\n",
      "La palabra oso, es palindromica? Si\n",
      "La palabra anilina, es palindromica? Si\n"
     ]
    }
   ],
   "source": [
    "for palabra in palabras:\n",
    "    print(f\"La palabra {palabra}, es palindromica? {es_palindromo(palabra)}\")"
   ]
  },
  {
   "cell_type": "code",
   "execution_count": null,
   "id": "e7ad9c49-1571-407a-93fc-6c4ba2fa5cda",
   "metadata": {},
   "outputs": [],
   "source": []
  }
 ],
 "metadata": {
  "kernelspec": {
   "display_name": "Python [conda env:base] *",
   "language": "python",
   "name": "conda-base-py"
  },
  "language_info": {
   "codemirror_mode": {
    "name": "ipython",
    "version": 3
   },
   "file_extension": ".py",
   "mimetype": "text/x-python",
   "name": "python",
   "nbconvert_exporter": "python",
   "pygments_lexer": "ipython3",
   "version": "3.9.16"
  }
 },
 "nbformat": 4,
 "nbformat_minor": 5
}
