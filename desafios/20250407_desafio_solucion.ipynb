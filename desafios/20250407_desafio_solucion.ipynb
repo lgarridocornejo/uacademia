{
 "cells": [
  {
   "cell_type": "code",
   "execution_count": null,
   "id": "e5ec082a-eb55-4b6e-8080-5d3aa9569f31",
   "metadata": {},
   "outputs": [],
   "source": [
    "# venv uacademia 20250407"
   ]
  },
  {
   "cell_type": "markdown",
   "id": "cb275f23-0d64-49f2-b239-90504bb73c2d",
   "metadata": {},
   "source": [
    "![](https://programacion365.com/wp-content/uploads/2024/09/DALL%C2%B7E-2024-09-06-21.27.55-An-exciting-image-representing-coding-games-in-Python-featuring-colorful-code-snippets-a-computer-screen-displaying-Python-syntax-and-playful-visua-1-e1725669253802.webp)"
   ]
  },
  {
   "cell_type": "markdown",
   "id": "5fd4d7d3-ff1b-4e2e-982b-26c86251fe18",
   "metadata": {},
   "source": [
    "# Segundo desafio\n",
    "\n",
    "Recuerda enviar tu solución hasta el sabado 12 de Abril hasta las 23:29:59\n",
    "al email luis.garrido.c@uacademia.cl"
   ]
  },
  {
   "cell_type": "markdown",
   "id": "94ceb603-d225-404f-acce-63db5a4a8d4e",
   "metadata": {},
   "source": [
    "# Desafio\n",
    "\n",
    "Realizar un programa que valide el digito verificador de un RUT (chileno)\n",
    "\n",
    "- el usuario debe ingresar el RUT por teclado, sin el digito verificador\n",
    "- el usuario debe ingresar el digito verificador\n",
    "- puntaje extra si se ingresa el RUT y el digito verificador juntos. para procesarlos por separado\n",
    "- una vez calculado el digito verificador, compararlo con el ingresado.\n",
    "- imprimir por pantalla si el numero verificador es **válido** o **inválido**"
   ]
  },
  {
   "cell_type": "markdown",
   "id": "e4100615-0c56-4888-9898-2b26ec177591",
   "metadata": {},
   "source": [
    "## Algoritmo de resolución\n",
    "\n",
    "1. Seleccionar los Números del RUT sin el Dígito Verificador.\n",
    "2. Reordenar los Números de Derecha a Izquierda\n",
    "3. Multiplicar Cada Número por la Serie 2, 3, 4, 5, 6, 7 Repetidamente.\n",
    "4. Sumar Todos los Resultados.\n",
    "5. Dividir el Resultado (paso 4) por 11 y el nuevo resultado sin decimales.\n",
    "6. Restar Este Resultado (Paso 5) * 11 del total (Paso 4). \n",
    "7. Tomar el Valor Absoluto de la resta el Resultado del Paso 6 de 11.\n",
    "\n",
    "Es importante tener en cuenta que:\n",
    "- Si el resultado final es 11, el dígito verificador será 0. \n",
    "- Si es 10, el dígito será la letra K."
   ]
  },
  {
   "cell_type": "markdown",
   "id": "d3d6c69d-1ee1-4d98-b219-9c0f645e9b04",
   "metadata": {},
   "source": [
    "### Set de prueba"
   ]
  },
  {
   "cell_type": "code",
   "execution_count": 274,
   "id": "4c027eba-fc5b-4621-88c1-8be983c90129",
   "metadata": {},
   "outputs": [],
   "source": [
    "lista_rut = ['30.686.957-4', '12.678.579-k','13461261-7', '27.962.409-2', '7620258-1', '23681630-7', '8387390-5']"
   ]
  },
  {
   "cell_type": "code",
   "execution_count": 238,
   "id": "205a807b-9fb6-4912-ac06-2dc69f6d27c1",
   "metadata": {},
   "outputs": [
    {
     "name": "stdin",
     "output_type": "stream",
     "text": [
      "Ingrese el rut 7620258-1\n"
     ]
    }
   ],
   "source": [
    "rut = input(\"Ingrese el rut\")"
   ]
  },
  {
   "cell_type": "code",
   "execution_count": 240,
   "id": "3d8d7d67-e405-48b3-b1a8-60afd2fd19b1",
   "metadata": {},
   "outputs": [
    {
     "data": {
      "text/plain": [
       "'7620258-1'"
      ]
     },
     "execution_count": 240,
     "metadata": {},
     "output_type": "execute_result"
    }
   ],
   "source": [
    "rut"
   ]
  },
  {
   "cell_type": "code",
   "execution_count": 242,
   "id": "0b31c3aa-ce04-4451-95a1-f7fdd68dfdcf",
   "metadata": {},
   "outputs": [
    {
     "name": "stdout",
     "output_type": "stream",
     "text": [
      "7620258 1\n"
     ]
    }
   ],
   "source": [
    "rut, digito_in = rut.split('-')\n",
    "print(rut, digito_in)"
   ]
  },
  {
   "cell_type": "code",
   "execution_count": 244,
   "id": "7ff860c5-aba7-4c3e-927b-164220aec15c",
   "metadata": {},
   "outputs": [
    {
     "data": {
      "text/plain": [
       "[8, 5, 2, 0, 2, 6, 7]"
      ]
     },
     "execution_count": 244,
     "metadata": {},
     "output_type": "execute_result"
    }
   ],
   "source": [
    "rut_inv = []\n",
    "for i in reversed(rut):\n",
    "    if i != '.':\n",
    "        rut_inv.append(int(i))\n",
    "\n",
    "rut_inv"
   ]
  },
  {
   "cell_type": "code",
   "execution_count": 246,
   "id": "254fc91a-a859-4528-be3a-c8125163dc73",
   "metadata": {},
   "outputs": [
    {
     "data": {
      "text/plain": [
       "[2, 3, 4, 5, 6, 7, 2]"
      ]
     },
     "execution_count": 246,
     "metadata": {},
     "output_type": "execute_result"
    }
   ],
   "source": [
    "if len(rut_inv) == 8:\n",
    "    serie = [2, 3, 4, 5, 6, 7, 2, 3]\n",
    "elif len(rut_inv) == 7:\n",
    "    serie = [2, 3, 4, 5, 6, 7, 2]\n",
    "\n",
    "serie"
   ]
  },
  {
   "cell_type": "code",
   "execution_count": 248,
   "id": "7956a15c-203a-40ed-a5e5-07c48eddc75b",
   "metadata": {},
   "outputs": [
    {
     "data": {
      "text/plain": [
       "[16, 15, 8, 0, 12, 42, 14]"
      ]
     },
     "execution_count": 248,
     "metadata": {},
     "output_type": "execute_result"
    }
   ],
   "source": [
    "\n",
    "lista_suma = []\n",
    "for i in range (0, len(rut_inv)):\n",
    "    lista_suma.append(rut_inv[i] * serie[i])\n",
    "\n",
    "lista_suma"
   ]
  },
  {
   "cell_type": "code",
   "execution_count": 250,
   "id": "4f4697fd-9729-479f-8a52-695445c8ecf8",
   "metadata": {},
   "outputs": [
    {
     "data": {
      "text/plain": [
       "107"
      ]
     },
     "execution_count": 250,
     "metadata": {},
     "output_type": "execute_result"
    }
   ],
   "source": [
    "# paso 4\n",
    "suma = sum(lista_suma)\n",
    "suma"
   ]
  },
  {
   "cell_type": "code",
   "execution_count": 252,
   "id": "56de9e8c-3095-4701-bbc5-21225ec2266f",
   "metadata": {},
   "outputs": [
    {
     "data": {
      "text/plain": [
       "9"
      ]
     },
     "execution_count": 252,
     "metadata": {},
     "output_type": "execute_result"
    }
   ],
   "source": [
    "# paso 5\n",
    "aux1 = (suma // 11) \n",
    "aux1"
   ]
  },
  {
   "cell_type": "code",
   "execution_count": 254,
   "id": "415aee36-85fe-4dad-b6b0-d53eb0b0a2b6",
   "metadata": {},
   "outputs": [
    {
     "data": {
      "text/plain": [
       "8"
      ]
     },
     "execution_count": 254,
     "metadata": {},
     "output_type": "execute_result"
    }
   ],
   "source": [
    "# paso 6\n",
    "aux2 = suma - (aux1 * 11)\n",
    "aux2"
   ]
  },
  {
   "cell_type": "code",
   "execution_count": 256,
   "id": "00bfc1de-f475-4093-91e6-3ade7e4e04ea",
   "metadata": {},
   "outputs": [
    {
     "data": {
      "text/plain": [
       "3"
      ]
     },
     "execution_count": 256,
     "metadata": {},
     "output_type": "execute_result"
    }
   ],
   "source": [
    "# paso 7\n",
    "casi_digito = abs(aux2 - 11)\n",
    "casi_digito"
   ]
  },
  {
   "cell_type": "code",
   "execution_count": 258,
   "id": "2c383e12-0dc9-445e-a254-eeba932eb6c8",
   "metadata": {},
   "outputs": [],
   "source": [
    "if casi_digito < 10:\n",
    "    digito_calc = casi_digito\n",
    "elif casi_digito == 10:\n",
    "    digito_calc = 'K'\n",
    "elif casi_digito == 11:\n",
    "    digito_calc = 0"
   ]
  },
  {
   "cell_type": "code",
   "execution_count": 260,
   "id": "0132b4ad-bd2f-4cef-b399-8a9057dc481f",
   "metadata": {},
   "outputs": [
    {
     "name": "stdout",
     "output_type": "stream",
     "text": [
      "3 1\n"
     ]
    }
   ],
   "source": [
    "print(digito_calc, digito_in)"
   ]
  },
  {
   "cell_type": "code",
   "execution_count": 262,
   "id": "9b952878-fdb6-431d-816f-a6ad4d1663d6",
   "metadata": {},
   "outputs": [
    {
     "name": "stdout",
     "output_type": "stream",
     "text": [
      "inválido\n"
     ]
    }
   ],
   "source": [
    "if str(digito_calc).lower() == digito_in.lower():\n",
    "    print(\"válido\")\n",
    "else:\n",
    "    print(\"inválido\")"
   ]
  },
  {
   "cell_type": "markdown",
   "id": "657ec005-ec58-4bd9-ab1f-b267771256d0",
   "metadata": {},
   "source": [
    "***"
   ]
  },
  {
   "cell_type": "code",
   "execution_count": 282,
   "id": "51d73a04-d770-46c5-8ab8-805b778f455d",
   "metadata": {},
   "outputs": [],
   "source": [
    "def digito_verificador(rut):\n",
    "    rut_sin, digito_in = rut.split('-')\n",
    "\n",
    "    rut_inv = []\n",
    "    for i in reversed(rut_sin):\n",
    "        if i != '.':\n",
    "            rut_inv.append(int(i))\n",
    "\n",
    "    if len(rut_inv) == 8:\n",
    "        serie = [2, 3, 4, 5, 6, 7, 2, 3]\n",
    "    elif len(rut_inv) == 7:\n",
    "        serie = [2, 3, 4, 5, 6, 7, 2]            \n",
    "\n",
    "    lista_suma = []\n",
    "    for i in range (0, len(rut_inv)):\n",
    "        lista_suma.append(rut_inv[i] * serie[i])\n",
    "\n",
    "    suma = sum(lista_suma)\n",
    "    aux1 = (suma // 11) \n",
    "    aux2 = suma - (aux1 * 11)\n",
    "    casi_digito = abs(aux2 - 11)\n",
    "\n",
    "    if casi_digito < 10:\n",
    "        digito_calc = casi_digito\n",
    "    elif casi_digito == 10:\n",
    "        digito_calc = 'K'\n",
    "    elif casi_digito == 11:\n",
    "        digito_calc = 0\n",
    "\n",
    "    if str(digito_calc).lower() == digito_in.lower():\n",
    "        print(f\"Tu RUT: {rut}, es válido\")\n",
    "    else:\n",
    "        print(f\"Tu RUT es inválido, ingresaste el digito verificador {digito_in.lower()}, pero debe ser {str(digito_calc).lower()}\")"
   ]
  },
  {
   "cell_type": "code",
   "execution_count": 284,
   "id": "74de616b-a683-4f2a-895c-28e481b52564",
   "metadata": {},
   "outputs": [
    {
     "name": "stdout",
     "output_type": "stream",
     "text": [
      "Tu RUT: 12.157.946-4, es válido\n"
     ]
    }
   ],
   "source": [
    "digito_verificador('12.157.946-4')"
   ]
  },
  {
   "cell_type": "code",
   "execution_count": 288,
   "id": "ae94092d-33b0-42a5-b89f-6d4576f08b3d",
   "metadata": {},
   "outputs": [
    {
     "name": "stdout",
     "output_type": "stream",
     "text": [
      "Tu RUT: 30.686.957-4, es válido\n",
      "Tu RUT es inválido, ingresaste el digito verificador k, pero debe ser 8\n",
      "Tu RUT es inválido, ingresaste el digito verificador 7, pero debe ser 4\n",
      "Tu RUT: 27.962.409-2, es válido\n",
      "Tu RUT es inválido, ingresaste el digito verificador 1, pero debe ser 3\n",
      "Tu RUT es inválido, ingresaste el digito verificador 7, pero debe ser 3\n",
      "Tu RUT es inválido, ingresaste el digito verificador 5, pero debe ser 6\n"
     ]
    }
   ],
   "source": [
    "for rut in lista_rut:\n",
    "    digito_verificador(rut)"
   ]
  },
  {
   "cell_type": "code",
   "execution_count": null,
   "id": "8f47b267-402e-40a8-b497-b2b471f77893",
   "metadata": {},
   "outputs": [],
   "source": []
  }
 ],
 "metadata": {
  "kernelspec": {
   "display_name": "Python 3 (ipykernel)",
   "language": "python",
   "name": "python3"
  },
  "language_info": {
   "codemirror_mode": {
    "name": "ipython",
    "version": 3
   },
   "file_extension": ".py",
   "mimetype": "text/x-python",
   "name": "python",
   "nbconvert_exporter": "python",
   "pygments_lexer": "ipython3",
   "version": "3.12.4"
  }
 },
 "nbformat": 4,
 "nbformat_minor": 5
}
