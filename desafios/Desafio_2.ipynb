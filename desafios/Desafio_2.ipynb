{
 "cells": [
  {
   "cell_type": "code",
   "execution_count": 5,
   "metadata": {
    "colab": {
     "base_uri": "https://localhost:8080/"
    },
    "id": "ZoKXi09_08DV",
    "outputId": "afe047ec-9bb5-4c41-b4e3-4c72fdfe0de2"
   },
   "outputs": [
    {
     "name": "stdin",
     "output_type": "stream",
     "text": [
      "Ingrese el RUT (con o sin dígito verificador):  12157946\n",
      "Ingrese el RUT sin dígito verificador:  12157946\n",
      "Ingrese el dígito verificador (puede ser número o 'K'):  4\n"
     ]
    },
    {
     "name": "stdout",
     "output_type": "stream",
     "text": [
      "El dígito verificador es válido.\n"
     ]
    }
   ],
   "source": [
    "def calcular_dv(rut: str) -> str:\n",
    "    \"\"\"Calcula el dígito verificador de un RUT chileno.\"\"\"\n",
    "\n",
    "    # Elimina puntos y guiones del RUT\n",
    "    rut = rut.replace(\".\", \"\").replace(\"-\", \"\")\n",
    "\n",
    "    # Invierte el RUT para aplicar los factores desde la derecha\n",
    "    rut_reversed = list(map(int, reversed(rut)))\n",
    "\n",
    "    # Factores que se repiten cíclicamente: 2 a 7\n",
    "    factores = [2, 3, 4, 5, 6, 7]\n",
    "\n",
    "    suma = 0\n",
    "    # Multiplica cada dígito por el factor correspondiente\n",
    "    for i, digito in enumerate(rut_reversed):\n",
    "        suma += digito * factores[i % len(factores)]\n",
    "\n",
    "    # Se obtiene el resto de dividir por 11\n",
    "    resto = suma % 11\n",
    "    dv_calculado = 11 - resto\n",
    "\n",
    "    # Se determina el dígito verificador según el resultado\n",
    "    if dv_calculado == 11:\n",
    "        return '0'\n",
    "    elif dv_calculado == 10:\n",
    "        return 'K'\n",
    "    else:\n",
    "        return str(dv_calculado)\n",
    "\n",
    "def validar_rut(rut: str, dv: str) -> bool:\n",
    "    \"\"\"Valida si el dígito verificador ingresado es correcto.\"\"\"\n",
    "    return calcular_dv(rut) == dv.upper()  # Se compara el DV calculado con el ingresado\n",
    "\n",
    "# Entrada desde el usuario\n",
    "entrada = input(\"Ingrese el RUT (con o sin dígito verificador): \").strip()\n",
    "\n",
    "# Si el usuario lo ingresó con guion (ej: 12345678-5)\n",
    "if \"-\" in entrada:\n",
    "    rut_partes = entrada.split(\"-\")\n",
    "    rut = rut_partes[0]\n",
    "    dv_ingresado = rut_partes[1]\n",
    "else:\n",
    "    # Si lo ingresó por separado, se pide el DV aparte\n",
    "    rut = input(\"Ingrese el RUT sin dígito verificador: \").strip()\n",
    "    dv_ingresado = input(\"Ingrese el dígito verificador (puede ser número o 'K'): \").strip()\n",
    "\n",
    "# Se valida el RUT y se imprime el resultado\n",
    "if validar_rut(rut, dv_ingresado):\n",
    "    print(\"El dígito verificador es válido.\")\n",
    "else:\n",
    "    print(\"El dígito verificador es inválido.\")\n"
   ]
  },
  {
   "cell_type": "code",
   "execution_count": null,
   "metadata": {},
   "outputs": [],
   "source": []
  }
 ],
 "metadata": {
  "colab": {
   "provenance": []
  },
  "kernelspec": {
   "display_name": "Python [conda env:base] *",
   "language": "python",
   "name": "conda-base-py"
  },
  "language_info": {
   "codemirror_mode": {
    "name": "ipython",
    "version": 3
   },
   "file_extension": ".py",
   "mimetype": "text/x-python",
   "name": "python",
   "nbconvert_exporter": "python",
   "pygments_lexer": "ipython3",
   "version": "3.9.16"
  }
 },
 "nbformat": 4,
 "nbformat_minor": 4
}
