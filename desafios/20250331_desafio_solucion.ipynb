{
 "cells": [
  {
   "cell_type": "markdown",
   "id": "bebeae4c-03ef-4d01-bcdf-dabdfb2851cb",
   "metadata": {
    "editable": true,
    "slideshow": {
     "slide_type": ""
    },
    "tags": []
   },
   "source": [
    "# Desafio 1:"
   ]
  },
  {
   "cell_type": "markdown",
   "id": "3b6591a1-0f01-4ec7-8b39-29b675f24d3b",
   "metadata": {
    "editable": true,
    "slideshow": {
     "slide_type": "slide"
    },
    "tags": []
   },
   "source": [
    "## Python Pizza\n",
    "### Descripción\n",
    "Basado en la orden de un cliente, calcular el precio final de la pizza. \n",
    "```markdown\n",
    "    - Small pizza (S): $ 15000 \n",
    "    - Medium pizza (M): $ 20000 \n",
    "    - Large pizza (L): $ 25000 \n",
    "    - Agregar peperoni para Small pizza: $ 2000 \n",
    "    - Agregar peperoni para Medium o Large pizza: $ 3000 \n",
    "    - Agregar extra queso a cualquier pizza: $ 1000\n",
    "```"
   ]
  },
  {
   "cell_type": "code",
   "execution_count": 3,
   "id": "f6a456a5-3e8b-47c5-af44-89864c2b0559",
   "metadata": {
    "editable": true,
    "slideshow": {
     "slide_type": "slide"
    },
    "tags": []
   },
   "outputs": [
    {
     "name": "stdout",
     "output_type": "stream",
     "text": [
      "Bienvenido a Python Pizza para llevar!\n"
     ]
    }
   ],
   "source": [
    "print(\"Bienvenido a Python Pizza para llevar!\")"
   ]
  },
  {
   "cell_type": "code",
   "execution_count": 4,
   "id": "0daefbfa-56e5-4fdc-b259-8a9f57c8fb92",
   "metadata": {
    "editable": true,
    "slideshow": {
     "slide_type": "fragment"
    },
    "tags": []
   },
   "outputs": [
    {
     "name": "stdin",
     "output_type": "stream",
     "text": [
      "Qué tamaño de pizza desea? S, M o L:  M\n"
     ]
    }
   ],
   "source": [
    "tamano = input(\"Qué tamaño de pizza desea? S, M o L: \")"
   ]
  },
  {
   "cell_type": "code",
   "execution_count": 5,
   "id": "f7c05e9f-b168-4cb1-9143-fd49c1f8657d",
   "metadata": {
    "editable": true,
    "slideshow": {
     "slide_type": "fragment"
    },
    "tags": []
   },
   "outputs": [
    {
     "name": "stdin",
     "output_type": "stream",
     "text": [
      "desea peperoni en su pizza? Si o No:  No\n"
     ]
    }
   ],
   "source": [
    "peperoni = input(\"desea peperoni en su pizza? Si o No: \")"
   ]
  },
  {
   "cell_type": "code",
   "execution_count": 6,
   "id": "8091db2e-66ae-4c74-95e6-8b7cccaddaa1",
   "metadata": {
    "editable": true,
    "slideshow": {
     "slide_type": "fragment"
    },
    "tags": []
   },
   "outputs": [
    {
     "name": "stdin",
     "output_type": "stream",
     "text": [
      "Desea extra queso en su pizza? Si o No:  Si\n"
     ]
    }
   ],
   "source": [
    "extra_queso = input(\"Desea extra queso en su pizza? Si o No: \")"
   ]
  },
  {
   "cell_type": "markdown",
   "id": "6c4ef0e6-664e-4e12-a0c7-0527b63bb152",
   "metadata": {
    "editable": true,
    "slideshow": {
     "slide_type": "slide"
    },
    "tags": []
   },
   "source": [
    "### Calcular cuánto deben pagar según el tamaño que elijan"
   ]
  },
  {
   "cell_type": "code",
   "execution_count": 8,
   "id": "9445d16c-abf4-4fdb-a598-aa5b8892abd0",
   "metadata": {
    "editable": true,
    "slideshow": {
     "slide_type": "fragment"
    },
    "tags": []
   },
   "outputs": [],
   "source": [
    "valor_pizza = 0"
   ]
  },
  {
   "cell_type": "code",
   "execution_count": 9,
   "id": "a0fe6b7b-06e6-408b-9b20-77b09648047e",
   "metadata": {
    "editable": true,
    "slideshow": {
     "slide_type": "fragment"
    },
    "tags": []
   },
   "outputs": [],
   "source": [
    "if tamano == \"S\":\n",
    "    valor_pizza += 15000\n",
    "elif tamano == \"M\":\n",
    "    valor_pizza += 20000\n",
    "elif tamano == \"L\":\n",
    "    valor_pizza += 25000\n",
    "else:\n",
    "    print(\"Ingresaste mal el tamaño\")"
   ]
  },
  {
   "cell_type": "markdown",
   "id": "5d7e22b4-edb2-470b-abc5-eb0c9238fd47",
   "metadata": {
    "editable": true,
    "slideshow": {
     "slide_type": "fragment"
    },
    "tags": []
   },
   "source": [
    "```python\n",
    "    if tamano == \"S\":\n",
    "        valor_pizza = valor_pizza + 15000\n",
    "    elif tamano == \"M\":\n",
    "        valor_pizza = valor_pizza + 20000\n",
    "    elif tamano == \"L\":\n",
    "        valor_pizza = valor_pizza + 25000\n",
    "    else:\n",
    "        print(\"Ingresaste mal el tamaño\")\n",
    "```"
   ]
  },
  {
   "cell_type": "markdown",
   "id": "f60df910-5f5e-441c-8ebc-aa023ba3360a",
   "metadata": {
    "editable": true,
    "slideshow": {
     "slide_type": "slide"
    },
    "tags": []
   },
   "source": [
    "### Calcular cuánto agregar al valor según la elección de peperoni"
   ]
  },
  {
   "cell_type": "code",
   "execution_count": 11,
   "id": "7104eb28-b3ce-486c-855a-aadddee62c80",
   "metadata": {
    "editable": true,
    "slideshow": {
     "slide_type": "fragment"
    },
    "tags": []
   },
   "outputs": [],
   "source": [
    "if peperoni == \"Si\":\n",
    "    if tamano == \"S\":\n",
    "        valor_pizza += 2000\n",
    "    else:\n",
    "        valor_pizza += 3000"
   ]
  },
  {
   "cell_type": "markdown",
   "id": "4c7f45fe-8d69-483c-b6a4-4dd57297c3a7",
   "metadata": {
    "editable": true,
    "slideshow": {
     "slide_type": "slide"
    },
    "tags": []
   },
   "source": [
    "### Calcular cuánto agregar al valor final en función de si quieren queso extra."
   ]
  },
  {
   "cell_type": "code",
   "execution_count": 13,
   "id": "f4723dcc-0902-4ec0-99ac-bd19bad3a3bb",
   "metadata": {
    "editable": true,
    "slideshow": {
     "slide_type": "fragment"
    },
    "tags": []
   },
   "outputs": [],
   "source": [
    "if extra_queso == \"Si\":\n",
    "    valor_pizza += 1000"
   ]
  },
  {
   "cell_type": "markdown",
   "id": "990ee4cb-b29b-46cb-8241-6a2c5dc2d277",
   "metadata": {
    "editable": true,
    "slideshow": {
     "slide_type": "slide"
    },
    "tags": []
   },
   "source": [
    "## Imprimir el valor de la pizza"
   ]
  },
  {
   "cell_type": "code",
   "execution_count": 15,
   "id": "fd6020eb-a92f-47a5-8607-eebe12d41201",
   "metadata": {
    "editable": true,
    "slideshow": {
     "slide_type": ""
    },
    "tags": []
   },
   "outputs": [
    {
     "name": "stdout",
     "output_type": "stream",
     "text": [
      "El valor de tu pizza es: $21000 pesos.\n"
     ]
    }
   ],
   "source": [
    "print(f\"El valor de tu pizza es: ${valor_pizza} pesos.\")"
   ]
  },
  {
   "cell_type": "markdown",
   "id": "6844dd09-8be6-4c7b-b94c-46e4e84c37ac",
   "metadata": {
    "editable": true,
    "slideshow": {
     "slide_type": "skip"
    },
    "tags": []
   },
   "source": [
    "---"
   ]
  },
  {
   "cell_type": "markdown",
   "id": "98114b72-7c76-4e5e-9b62-3230f9c8af61",
   "metadata": {
    "editable": true,
    "slideshow": {
     "slide_type": "slide"
    },
    "tags": []
   },
   "source": [
    "# Desafio 2:"
   ]
  },
  {
   "cell_type": "markdown",
   "id": "ee865c24-e2d2-4b9c-8071-84579b10f204",
   "metadata": {
    "editable": true,
    "slideshow": {
     "slide_type": "slide"
    },
    "tags": []
   },
   "source": [
    "## Temperatura máxima\n",
    "### Descripción\n",
    " Mediante programación buscar la temperatura más alta registrada en el listado"
   ]
  },
  {
   "cell_type": "code",
   "execution_count": 42,
   "id": "b28f4ddf-7cba-4459-9d1b-6a4059542640",
   "metadata": {
    "editable": true,
    "slideshow": {
     "slide_type": "slide"
    },
    "tags": []
   },
   "outputs": [],
   "source": [
    "temperaturas = [23.5, 31.2, 15.8, 28.7, 35.1, 19.3, 26.9, 38.4, 12.6, 34.5, 18.2, 27.6, 39.2, 29.5, 33.8, 17.1, 25.4, 36.7, 11.9, 30.3]"
   ]
  },
  {
   "cell_type": "code",
   "execution_count": 44,
   "id": "87d9b7f3-f76b-4af8-aa76-782f082fbe9f",
   "metadata": {
    "editable": true,
    "slideshow": {
     "slide_type": "fragment"
    },
    "tags": []
   },
   "outputs": [],
   "source": [
    "temperatura_maxima = 0"
   ]
  },
  {
   "cell_type": "code",
   "execution_count": 46,
   "id": "cd4fb3ac-6750-4265-85e8-e3fb7fc2eb13",
   "metadata": {
    "editable": true,
    "slideshow": {
     "slide_type": "fragment"
    },
    "tags": []
   },
   "outputs": [],
   "source": [
    "for temp in temperaturas:\n",
    "    if temp > temperatura_maxima:\n",
    "        temperatura_maxima = temp\n"
   ]
  },
  {
   "cell_type": "code",
   "execution_count": 50,
   "id": "d718b3ee-b13e-4e5d-bdef-01395e786bb0",
   "metadata": {
    "editable": true,
    "slideshow": {
     "slide_type": "fragment"
    },
    "tags": []
   },
   "outputs": [
    {
     "name": "stdout",
     "output_type": "stream",
     "text": [
      "La temperaturamáxima del listado es: 39.2 ºC\n"
     ]
    }
   ],
   "source": [
    "print(f\"La temperaturamáxima del listado es: {temperatura_maxima} ºC\")"
   ]
  },
  {
   "cell_type": "code",
   "execution_count": null,
   "id": "24f82903-423f-48b8-bcdf-6b0aaefa35f8",
   "metadata": {},
   "outputs": [],
   "source": []
  }
 ],
 "metadata": {
  "kernelspec": {
   "display_name": "Python [conda env:base] *",
   "language": "python",
   "name": "conda-base-py"
  },
  "language_info": {
   "codemirror_mode": {
    "name": "ipython",
    "version": 3
   },
   "file_extension": ".py",
   "mimetype": "text/x-python",
   "name": "python",
   "nbconvert_exporter": "python",
   "pygments_lexer": "ipython3",
   "version": "3.9.16"
  }
 },
 "nbformat": 4,
 "nbformat_minor": 5
}
