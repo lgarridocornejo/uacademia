{
 "cells": [
  {
   "cell_type": "markdown",
   "id": "2f629ffa-79e1-4206-af9d-43b7c00e2231",
   "metadata": {},
   "source": [
    "### Recuerda enviar tus desafios resueltos el sabado antes de medianoche a luis.garrido.c@uacademia.cl"
   ]
  },
  {
   "cell_type": "markdown",
   "id": "bebeae4c-03ef-4d01-bcdf-dabdfb2851cb",
   "metadata": {
    "editable": true,
    "slideshow": {
     "slide_type": ""
    },
    "tags": []
   },
   "source": [
    "# Desafio 1:"
   ]
  },
  {
   "cell_type": "markdown",
   "id": "3b6591a1-0f01-4ec7-8b39-29b675f24d3b",
   "metadata": {},
   "source": [
    "## Python Pizza\n",
    "### Descripción\n",
    "Basado en la orden de un cliente, calcular el precio final de la pizza. \n",
    "```markdown\n",
    "    - Small pizza (S): $ 15000 \n",
    "    - Medium pizza (M): $ 20000 \n",
    "    - Large pizza (L): $ 25000 \n",
    "    - Agregar peperoni para Small pizza: $ 2000 \n",
    "    - Agregar peperoni para Medium o Large pizza: $ 3000 \n",
    "    - Agregar extra queso a cualquier pizza: $ 1000\n",
    "```"
   ]
  },
  {
   "cell_type": "code",
   "execution_count": 20,
   "id": "f6a456a5-3e8b-47c5-af44-89864c2b0559",
   "metadata": {},
   "outputs": [
    {
     "name": "stdout",
     "output_type": "stream",
     "text": [
      "Bienvenido a Python Pizza para llevar!\n"
     ]
    }
   ],
   "source": [
    "print(\"Bienvenido a Python Pizza para llevar!\")"
   ]
  },
  {
   "cell_type": "code",
   "execution_count": 22,
   "id": "0daefbfa-56e5-4fdc-b259-8a9f57c8fb92",
   "metadata": {},
   "outputs": [
    {
     "name": "stdin",
     "output_type": "stream",
     "text": [
      "Qué tamaño de pizza desea? S, M o L:  S\n"
     ]
    }
   ],
   "source": [
    "tamano = input(\"Qué tamaño de pizza desea? S, M o L: \")"
   ]
  },
  {
   "cell_type": "code",
   "execution_count": 7,
   "id": "f7c05e9f-b168-4cb1-9143-fd49c1f8657d",
   "metadata": {},
   "outputs": [
    {
     "name": "stdin",
     "output_type": "stream",
     "text": [
      "desea peperoni en su pizza? Si o No:  Si\n"
     ]
    }
   ],
   "source": [
    "peperoni = input(\"desea peperoni en su pizza? Si o No: \")"
   ]
  },
  {
   "cell_type": "code",
   "execution_count": 9,
   "id": "8091db2e-66ae-4c74-95e6-8b7cccaddaa1",
   "metadata": {},
   "outputs": [
    {
     "name": "stdin",
     "output_type": "stream",
     "text": [
      "Desea extra queso en su pizza? Si o No:  No\n"
     ]
    }
   ],
   "source": [
    "extra_queso = input(\"Desea extra queso en su pizza? Si o No: \")"
   ]
  },
  {
   "cell_type": "markdown",
   "id": "6c4ef0e6-664e-4e12-a0c7-0527b63bb152",
   "metadata": {},
   "source": [
    "### Calcular cuánto deben pagar según el tamaño que elijan"
   ]
  },
  {
   "cell_type": "code",
   "execution_count": null,
   "id": "9445d16c-abf4-4fdb-a598-aa5b8892abd0",
   "metadata": {},
   "outputs": [],
   "source": []
  },
  {
   "cell_type": "code",
   "execution_count": null,
   "id": "a0fe6b7b-06e6-408b-9b20-77b09648047e",
   "metadata": {},
   "outputs": [],
   "source": []
  },
  {
   "cell_type": "code",
   "execution_count": null,
   "id": "fd6020eb-a92f-47a5-8607-eebe12d41201",
   "metadata": {},
   "outputs": [],
   "source": []
  },
  {
   "cell_type": "markdown",
   "id": "f60df910-5f5e-441c-8ebc-aa023ba3360a",
   "metadata": {},
   "source": [
    "### Calcular cuánto agregar al valor según la elección de peperoni"
   ]
  },
  {
   "cell_type": "code",
   "execution_count": null,
   "id": "60d6752e-71f1-45ba-80a8-4a067012b7b5",
   "metadata": {},
   "outputs": [],
   "source": []
  },
  {
   "cell_type": "code",
   "execution_count": null,
   "id": "9605b1b9-3f76-4c32-8e73-356e9332b1dd",
   "metadata": {},
   "outputs": [],
   "source": []
  },
  {
   "cell_type": "code",
   "execution_count": null,
   "id": "9d4e06a5-9bad-490b-a841-ac6777fc1517",
   "metadata": {},
   "outputs": [],
   "source": []
  },
  {
   "cell_type": "markdown",
   "id": "4c7f45fe-8d69-483c-b6a4-4dd57297c3a7",
   "metadata": {},
   "source": [
    "### Calcular cuánto agregar al valor final en función de si quieren queso extra."
   ]
  },
  {
   "cell_type": "code",
   "execution_count": null,
   "id": "f4723dcc-0902-4ec0-99ac-bd19bad3a3bb",
   "metadata": {},
   "outputs": [],
   "source": []
  },
  {
   "cell_type": "code",
   "execution_count": null,
   "id": "9d3ea4a7-0ad5-4df8-a875-97d92f8ceb8a",
   "metadata": {},
   "outputs": [],
   "source": []
  },
  {
   "cell_type": "code",
   "execution_count": null,
   "id": "fc4f4e45-8733-445e-8a39-2f1fed7055b5",
   "metadata": {},
   "outputs": [],
   "source": []
  },
  {
   "cell_type": "markdown",
   "id": "475afacc-9230-4a76-a857-3f90af7aeca6",
   "metadata": {},
   "source": [
    "---"
   ]
  },
  {
   "cell_type": "markdown",
   "id": "cee429b5-3986-4533-8249-cd3014c701bf",
   "metadata": {},
   "source": [
    "# Desafio 2:"
   ]
  },
  {
   "cell_type": "markdown",
   "id": "ba846317-ace6-41da-a59d-8164765de2f0",
   "metadata": {},
   "source": [
    "## Temperatura máxima\n",
    "### Descripción\n",
    " Mediante programación buscar la temperatura más alta registrada en el listado\n"
   ]
  },
  {
   "cell_type": "code",
   "execution_count": 48,
   "id": "0ae455c3-0fbb-46c7-9ac3-57c91c71bb4c",
   "metadata": {},
   "outputs": [],
   "source": [
    "temperaturas = [23.5, 31.2, 15.8, 28.7, 35.1, 19.3, 26.9, 38.4, 12.6, 34.5, 18.2, 27.6, 39.2, 29.5, 33.8, 17.1, 25.4, 36.7, 11.9, 30.3]"
   ]
  },
  {
   "cell_type": "code",
   "execution_count": null,
   "id": "7cfc34ec-cff2-49b9-8037-729a0741e488",
   "metadata": {},
   "outputs": [],
   "source": []
  },
  {
   "cell_type": "code",
   "execution_count": null,
   "id": "420906ac-c9c4-40d1-9e31-29262529088c",
   "metadata": {},
   "outputs": [],
   "source": []
  },
  {
   "cell_type": "code",
   "execution_count": null,
   "id": "95869b72-a630-4439-8e52-0489166faabf",
   "metadata": {},
   "outputs": [],
   "source": []
  },
  {
   "cell_type": "code",
   "execution_count": null,
   "id": "22439098-cb37-4cd6-a95a-302af6fea93d",
   "metadata": {},
   "outputs": [],
   "source": []
  }
 ],
 "metadata": {
  "kernelspec": {
   "display_name": "Python [conda env:base] *",
   "language": "python",
   "name": "conda-base-py"
  },
  "language_info": {
   "codemirror_mode": {
    "name": "ipython",
    "version": 3
   },
   "file_extension": ".py",
   "mimetype": "text/x-python",
   "name": "python",
   "nbconvert_exporter": "python",
   "pygments_lexer": "ipython3",
   "version": "3.9.16"
  }
 },
 "nbformat": 4,
 "nbformat_minor": 5
}
