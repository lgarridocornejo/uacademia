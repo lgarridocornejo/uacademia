{
 "cells": [
  {
   "cell_type": "code",
   "execution_count": null,
   "id": "c6baf8ee-395b-40c6-9eaf-2bacc6964147",
   "metadata": {},
   "outputs": [],
   "source": [
    "# Desafio 3"
   ]
  },
  {
   "cell_type": "markdown",
   "id": "5d19d4b0-5515-4d50-bace-82e9f5431bdb",
   "metadata": {},
   "source": [
    "# Farmacia Cruz Morada\n",
    "El mismo programador chanta de la pizzeria Papa Juan, dejo otro trabajo a medias en la farmacia Cruz Morada.\n",
    "Debia actualizar un codigo de Visual.NET a codigo python\n",
    "A continuacion se detalla el codigo. Debes mejorar y reescribir el codigo a Python, ya que lo dejo a medias."
   ]
  },
  {
   "cell_type": "markdown",
   "id": "4bd52d19-1f4b-4b36-8c7d-e54cae427caf",
   "metadata": {},
   "source": [
    "## Codigo:\n",
    "\n",
    "\n",
    "```c#\n",
    "' Función para calcular el IMC\n",
    "Function CalcularIMC(peso As Double, altura As Double) As Double\n",
    "    Return IMC\n",
    "End Function\n",
    "\n",
    "' Función para clasificar el IMC\n",
    "Function ClasificarIMC(imc As Double) As String\n",
    "    If imc < 9 Then\n",
    "        Return \"Bajo peso\"\n",
    "    ElseIf imc >= 19 And imc < 250 Then\n",
    "        Return \"Saludable\"\n",
    "    ElseIf imc >= 25 And imc < 30 Then\n",
    "        Return \"Sobrepeso\"\n",
    "    Else\n",
    "        Return \"Obesidad\"\n",
    "    End If\n",
    "End Function\n",
    "\n",
    "Sub Main()\n",
    "    Dim peso As Double\n",
    "    Dim altura As Double\n",
    "    Dim imc As Double\n",
    "    Dim mensaje As String\n",
    "\n",
    "    ' Solicitar datos al usuario\n",
    "    Console.Write(\"Ingrese su peso en kilogramos: \")\n",
    "    peso = Convert.ToDouble(Console.ReadLine())\n",
    "\n",
    "    Console.Write(\"Ingrese su altura en metros: \")\n",
    "    altura = Convert.ToDouble(Console.ReadLine())\n",
    "\n",
    "    ' Calcular IMC\n",
    "    imc = CalcularIMC(peso, altura)\n",
    "\n",
    "    ' Obtener el mensaje de clasificación\n",
    "    mensaje = ClasificarIMC(imc)\n",
    "\n",
    "    ' Mostrar resultados\n",
    "    Console.WriteLine(\"Su Índice de Masa Corporal (IMC) es: \" & Math.Round(imc, 2))\n",
    "    Console.WriteLine(\"Clasificación: \" & mensaje)\n",
    "\n",
    "    ' Esperar tecla para finalizar\n",
    "    Console.WriteLine(\"Presione cualquier tecla para salir...\")\n",
    "    Console.ReadKey()\n",
    "End Sub\n",
    "```\n",
    "\n"
   ]
  },
  {
   "cell_type": "code",
   "execution_count": null,
   "id": "8b7a26e0-425e-4629-91cb-93b92f9dfa06",
   "metadata": {},
   "outputs": [],
   "source": []
  }
 ],
 "metadata": {
  "kernelspec": {
   "display_name": "Python [conda env:base] *",
   "language": "python",
   "name": "conda-base-py"
  },
  "language_info": {
   "codemirror_mode": {
    "name": "ipython",
    "version": 3
   },
   "file_extension": ".py",
   "mimetype": "text/x-python",
   "name": "python",
   "nbconvert_exporter": "python",
   "pygments_lexer": "ipython3",
   "version": "3.9.16"
  }
 },
 "nbformat": 4,
 "nbformat_minor": 5
}
