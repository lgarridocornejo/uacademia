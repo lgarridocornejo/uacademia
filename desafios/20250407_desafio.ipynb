{
 "cells": [
  {
   "cell_type": "code",
   "execution_count": null,
   "id": "e5ec082a-eb55-4b6e-8080-5d3aa9569f31",
   "metadata": {},
   "outputs": [],
   "source": [
    "# venv uacademia 20250407"
   ]
  },
  {
   "cell_type": "markdown",
   "id": "cb275f23-0d64-49f2-b239-90504bb73c2d",
   "metadata": {},
   "source": [
    "![](https://programacion365.com/wp-content/uploads/2024/09/DALL%C2%B7E-2024-09-06-21.27.55-An-exciting-image-representing-coding-games-in-Python-featuring-colorful-code-snippets-a-computer-screen-displaying-Python-syntax-and-playful-visua-1-e1725669253802.webp)"
   ]
  },
  {
   "cell_type": "markdown",
   "id": "5fd4d7d3-ff1b-4e2e-982b-26c86251fe18",
   "metadata": {},
   "source": [
    "# Segundo desafio\n",
    "\n",
    "Recuerda enviar tu solución hasta el sabado 12 de Abril hasta las 23:29:59\n",
    "al email luis.garrido.c@uacademia.cl"
   ]
  },
  {
   "cell_type": "markdown",
   "id": "94ceb603-d225-404f-acce-63db5a4a8d4e",
   "metadata": {},
   "source": [
    "# Desafio\n",
    "\n",
    "Realizar un programa que valide el digito verificador de un RUT (chileno)\n",
    "\n",
    "- el usuario debe ingresar el RUT por teclado, sin el digito verificador\n",
    "- el usuario debe ingresar el digito verificador\n",
    "- puntaje extra si se ingresa el RUT y el digito verificador juntos. para procesarlos por separado\n",
    "- una vez calculado el digito verificador, compararlo con el ingresado.\n",
    "- imprimir por pantalla si el numero verificador es **valido** o **invalido**"
   ]
  },
  {
   "cell_type": "markdown",
   "id": "e4100615-0c56-4888-9898-2b26ec177591",
   "metadata": {},
   "source": [
    "## Algoritmo de resolución\n",
    "\n",
    "1. Seleccionar los Números del RUT sin el Dígito Verificador.\n",
    "2. Reordenar los Números de Derecha a Izquierda\n",
    "3. Multiplicar Cada Número por la Serie 2, 3, 4, 5, 6, 7 Repetidamente.\n",
    "4. Sumar Todos los Resultados.\n",
    "5. Dividir el Resultado (paso 4) por 11 y el nuevo resultado sin decimales.\n",
    "6. Restar Este Resultado (Paso 5) * 11 del total (Paso 4). \n",
    "7. Tomar el Valor Absoluto de la resta el Resultado del Paso 6 de 11.\n",
    "\n",
    "Es importante tener en cuenta que:\n",
    "- Si el resultado final es 11, el dígito verificador será 0. \n",
    "- Si es 10, el dígito será la letra K."
   ]
  },
  {
   "cell_type": "code",
   "execution_count": null,
   "id": "4c027eba-fc5b-4621-88c1-8be983c90129",
   "metadata": {},
   "outputs": [],
   "source": [
    "lista_rut = ['30.686.957-4', '27.962.409-2', '12.678.579-k','13461261-7', '7620258-1', '23681630-7', '8387390-5']"
   ]
  }
 ],
 "metadata": {
  "kernelspec": {
   "display_name": "Python [conda env:base] *",
   "language": "python",
   "name": "conda-base-py"
  },
  "language_info": {
   "codemirror_mode": {
    "name": "ipython",
    "version": 3
   },
   "file_extension": ".py",
   "mimetype": "text/x-python",
   "name": "python",
   "nbconvert_exporter": "python",
   "pygments_lexer": "ipython3",
   "version": "3.9.16"
  }
 },
 "nbformat": 4,
 "nbformat_minor": 5
}
