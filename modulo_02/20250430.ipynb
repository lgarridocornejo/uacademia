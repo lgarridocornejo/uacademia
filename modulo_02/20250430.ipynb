{
 "cells": [
  {
   "cell_type": "code",
   "execution_count": null,
   "id": "ac310385-d2b2-41db-9120-bca37a0affc7",
   "metadata": {
    "editable": true,
    "slideshow": {
     "slide_type": "skip"
    },
    "tags": []
   },
   "outputs": [],
   "source": [
    "# venv uacademia >>> 20250430"
   ]
  },
  {
   "cell_type": "markdown",
   "id": "8d76cf18-f32b-4af0-8d4e-b8e7b7a97fdb",
   "metadata": {
    "editable": true,
    "slideshow": {
     "slide_type": "slide"
    },
    "tags": []
   },
   "source": [
    "![](https://360digit.b-cdn.net/assets/admin/ckfinder/userfiles/images/blog/04-08-2023/04-08-2023-d/20%20-%20Data%20Science%20Roadmap%202023-01-min.png)"
   ]
  },
  {
   "cell_type": "markdown",
   "id": "310a7b34-605c-4cc2-8c0a-aa7359bcea8a",
   "metadata": {
    "editable": true,
    "slideshow": {
     "slide_type": "fragment"
    },
    "tags": []
   },
   "source": [
    "## [Data Science Roadmap](https://roadmap.sh/ai-data-scientist)"
   ]
  },
  {
   "cell_type": "markdown",
   "id": "0526b8c5-dbf0-4f44-a760-b1020652ab83",
   "metadata": {
    "editable": true,
    "slideshow": {
     "slide_type": "slide"
    },
    "tags": []
   },
   "source": [
    "### Matemáticas\n",
    "Las matemáticas son la columna vertebral de la ciencia de datos, ayudando a entender algoritmos y a optimizar modelos. Conceptos como **Algebra Lineal** son esenciales para manejar grandes conjuntos de datos de manera eficiente. **Cálculo de Vectores** se utiliza en el aprendizaje profundo para afinar las redes neuronales."
   ]
  },
  {
   "cell_type": "markdown",
   "id": "72ab46e5-db6a-4e90-8d83-b20fa1666811",
   "metadata": {
    "editable": true,
    "slideshow": {
     "slide_type": "slide"
    },
    "tags": []
   },
   "source": [
    "### Estadísticas\n",
    "Las estadísticas permiten **analizar**, **interpretar** y **sacar conclusiones de los datos**. La prueba de hipótesis ayuda a validar suposiciones y tomar decisiones. Las técnicas de se utilizan para predecir tendencias y relaciones entre variables."
   ]
  },
  {
   "cell_type": "markdown",
   "id": "32ef3b92-7abf-4ab5-91c4-0060cc95d0a8",
   "metadata": {
    "editable": true,
    "slideshow": {
     "slide_type": "slide"
    },
    "tags": []
   },
   "source": [
    "### Econométrica\n",
    "la econométrica es crucial en la ciencia de datos porque aporta métodos rigurosos para **inferir relaciones causales**, **realizar pronósticos robustos** y **analizar datos** económicos/sociales **complejos**, yendo más allá de la simple correlación que a menudo se encuentra en grandes conjuntos de datos"
   ]
  },
  {
   "cell_type": "markdown",
   "id": "7fe149b5-39ca-421c-892e-b7970472b6be",
   "metadata": {
    "editable": true,
    "slideshow": {
     "slide_type": "slide"
    },
    "tags": []
   },
   "source": [
    "### Código\n",
    "El código es esencial para **el procesamiento de datos**, **la construcción de modelos y la automatización** en la ciencia de datos. **Python** y **R** se utilizan ampliamente para el análisis de datos y el aprendizaje automático. **SQL** ayuda en la gestión y consulta de grandes conjuntos de datos de manera eficiente."
   ]
  },
  {
   "cell_type": "markdown",
   "id": "3134af42-da4b-4b29-80dc-c699ce40f149",
   "metadata": {
    "editable": true,
    "slideshow": {
     "slide_type": "slide"
    },
    "tags": []
   },
   "source": [
    "### Análisis Exploratorio de Datos (EDA)\n",
    "El propósito principal de EDA es ayudar a analizar los datos antes de hacer suposiciones. Puede ayudar a identificar errores obvios, así como comprender mejor patrones dentro de los datos, detectar valores atípicos o eventos anómalos, o encontrar relaciones interesantes entre las variables."
   ]
  },
  {
   "cell_type": "markdown",
   "id": "25060861-5a13-4327-aa02-0db86c700111",
   "metadata": {
    "editable": true,
    "slideshow": {
     "slide_type": "slide"
    },
    "tags": []
   },
   "source": [
    "### Machine Learning\n",
    "El ML es una de las partes más vitales de la ciencia de datos y el tema más importante de la investigación entre los investigadores, por lo que cada año se hacen nuevos avances en esto. Al menos necesita entender los algoritmos Supervisados y  No Supervisados de Machine Learning. Hay varias bibliotecas disponibles en Python y R para implementar estos algoritmos."
   ]
  },
  {
   "cell_type": "markdown",
   "id": "2a21ba28-c4a9-4819-974f-e5f8f70057ab",
   "metadata": {
    "editable": true,
    "slideshow": {
     "slide_type": "slide"
    },
    "tags": []
   },
   "source": [
    "### Deep Learning\n",
    "Deep Learning permite a las máquinas aprender de grandes cantidades de datos no estructurados. **Redes neuronales** como **ANN**, **CNN** y **RNN**, **reconocimiento de imagenes**, **NLP** y más. Marcos como **TensorFlow** y **PyTorch** ayudan a construir soluciones impulsadas por IA."
   ]
  },
  {
   "cell_type": "markdown",
   "id": "f1ec4fcc-dd17-447d-a7b2-e6e46de6f9c7",
   "metadata": {
    "editable": true,
    "slideshow": {
     "slide_type": "slide"
    },
    "tags": []
   },
   "source": [
    "### Machine Learning Operations (MLOps)\n",
    "Es una disciplina que busca optimizar el **ciclo de vida** de los **modelos de aprendizaje automático**, desde su desarrollo hasta su implementación y mantenimiento en producción. Se basa en las prácticas de DevOps para automatizar y estandarizar los procesos, haciendo que la implementación y gestión de modelos ML sea más eficiente y confiable"
   ]
  },
  {
   "cell_type": "code",
   "execution_count": null,
   "id": "f8082cda-8b20-4364-bd1b-e4373ec84d8e",
   "metadata": {},
   "outputs": [],
   "source": []
  }
 ],
 "metadata": {
  "kernelspec": {
   "display_name": "Python [conda env:base] *",
   "language": "python",
   "name": "conda-base-py"
  },
  "language_info": {
   "codemirror_mode": {
    "name": "ipython",
    "version": 3
   },
   "file_extension": ".py",
   "mimetype": "text/x-python",
   "name": "python",
   "nbconvert_exporter": "python",
   "pygments_lexer": "ipython3",
   "version": "3.9.16"
  }
 },
 "nbformat": 4,
 "nbformat_minor": 5
}
