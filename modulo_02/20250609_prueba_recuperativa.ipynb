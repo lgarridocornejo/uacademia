{
 "cells": [
  {
   "cell_type": "markdown",
   "id": "c56a9d27-31dc-4e63-a01c-f6ce7a805a50",
   "metadata": {},
   "source": [
    "![](https://encrypted-tbn0.gstatic.com/images?q=tbn:ANd9GcShMD4LdAou4J9_fgTfxRAvqzC7pBNJdZAkAQ&s)"
   ]
  },
  {
   "cell_type": "markdown",
   "id": "1937d127-33c8-4c5a-bc50-f1a3ef940b89",
   "metadata": {},
   "source": [
    "### Instrucciones para guardar y enviar\n",
    "- Guardar el notebook, con el sufijo apellido_nombre, por ejemplo: `0250609_prueba_recuperativa_apellido_nombre`\n",
    "- Enviarlo al correo **luis.garrido.c@uacademia.cl**"
   ]
  },
  {
   "cell_type": "markdown",
   "id": "6b1e8c63-d389-49f4-9ac1-5b2e82004ec2",
   "metadata": {},
   "source": [
    "# Prueba recuperativa\n",
    "\n",
    "## 🏥 Farmacia Cruz Morada\n",
    "### Cálculo y Clasificación del Índice de Masa Corporal (IMC)\n",
    "Se le ha solicitado crear un Jupyter Notebook para calcular el IMC de algunos clientes que llegan a la farmacia.\n",
    "\n",
    "El código debe tener:\n",
    "|criterio|puntaje|logrado|no logrado|\n",
    "|---|---|---|---|\n",
    "| Una función para calcular el IMC |1 |||\n",
    "| Una función para clasificar el IMC |1 |||\n",
    "| El código principal debe solicitar al usuario ingresar el peso y la altura |1 |||\n",
    "| Calcular el IMC |1 |||\n",
    "| Entregar IMC y clasificación |1 |||\n",
    "| Calcular el IMC para los datos historicos |1 |||\n"
   ]
  },
  {
   "cell_type": "markdown",
   "id": "1c29c58e-8777-49b4-b50a-ad64caddaf14",
   "metadata": {},
   "source": [
    "---"
   ]
  },
  {
   "cell_type": "markdown",
   "id": "4fe87a82-e716-489a-ba83-eec708098460",
   "metadata": {},
   "source": [
    "$$ IMC = peso [kg] / (altura [m])^2$$"
   ]
  },
  {
   "cell_type": "markdown",
   "id": "b5336262-aa9b-4831-b218-9ab5a95c6439",
   "metadata": {},
   "source": [
    "| **IMC (kg/m²)** | **Clasificación**           |\n",
    "| --------------- | --------------------------- |\n",
    "| Menor de 18.5[  | Bajo peso                   |\n",
    "| [18.5 – 24.9[   | Peso normal                 |\n",
    "| [24.9 – 29.9[   | Sobrepeso                   |\n",
    "| [29.9 – 34.9[   | Obesidad tipo I             |\n",
    "| [34.9 – 39.9[   | Obesidad tipo II            |\n",
    "| [Mayor a 39.9   | Obesidad tipo III           |\n"
   ]
  },
  {
   "cell_type": "markdown",
   "id": "0e5d092b-3c6d-4fa8-ad2a-626d5158a91b",
   "metadata": {},
   "source": [
    "---"
   ]
  },
  {
   "cell_type": "markdown",
   "id": "db01f0aa-1c2e-458d-8f44-4bfc4fe67878",
   "metadata": {},
   "source": [
    "## datos historicos"
   ]
  },
  {
   "cell_type": "code",
   "execution_count": 33,
   "id": "f8eaae84-df3c-4dc8-b03f-491dfaff6ad6",
   "metadata": {},
   "outputs": [],
   "source": [
    "# Lista de 25 pesos en kilogramos (kg)\n",
    "pesos_kg = [\n",
    "    70.5, 82.1, 65.0, 95.3, 58.7,\n",
    "    73.2, 88.0, 62.5, 101.5, 55.0,\n",
    "    79.8, 68.3, 91.0, 77.0, 60.1,\n",
    "    85.5, 71.9, 66.8, 93.0, 59.5,\n",
    "    74.0, 80.2, 69.1, 98.7, 57.3\n",
    "]"
   ]
  },
  {
   "cell_type": "code",
   "execution_count": 35,
   "id": "886aaab5-a53f-49c6-98e6-49aa965a2839",
   "metadata": {},
   "outputs": [],
   "source": [
    "# Lista de 25 alturas en centímetros (cm)\n",
    "alturas_cm = [\n",
    "    175.0, 185.0, 160.0, 190.0, 155.0,\n",
    "    170.0, 188.0, 163.0, 192.0, 150.0,\n",
    "    180.0, 168.0, 195.0, 178.0, 158.0,\n",
    "    183.0, 172.0, 166.0, 191.0, 157.0,\n",
    "    176.0, 181.0, 169.0, 193.0, 153.0\n",
    "]"
   ]
  },
  {
   "cell_type": "code",
   "execution_count": 37,
   "id": "c015dce2-04b3-419f-bb2a-fc794e51d70c",
   "metadata": {},
   "outputs": [
    {
     "name": "stdout",
     "output_type": "stream",
     "text": [
      "Pesos (kg):\n",
      "[70.5, 82.1, 65.0, 95.3, 58.7, 73.2, 88.0, 62.5, 101.5, 55.0, 79.8, 68.3, 91.0, 77.0, 60.1, 85.5, 71.9, 66.8, 93.0, 59.5, 74.0, 80.2, 69.1, 98.7, 57.3]\n",
      "\n",
      "Alturas (cm):\n",
      "[175.0, 185.0, 160.0, 190.0, 155.0, 170.0, 188.0, 163.0, 192.0, 150.0, 180.0, 168.0, 195.0, 178.0, 158.0, 183.0, 172.0, 166.0, 191.0, 157.0, 176.0, 181.0, 169.0, 193.0, 153.0]\n"
     ]
    }
   ],
   "source": [
    "print(\"Pesos (kg):\")\n",
    "print(pesos_kg)\n",
    "print(\"\\nAlturas (cm):\")\n",
    "print(alturas_cm)"
   ]
  },
  {
   "cell_type": "markdown",
   "id": "ab8359e4-1b57-4dce-af5b-90dc2fc91c31",
   "metadata": {},
   "source": [
    "---"
   ]
  },
  {
   "cell_type": "markdown",
   "id": "818f5e80-c5d2-4361-8a2d-ec3cae0aec31",
   "metadata": {},
   "source": [
    "# Desarrollo:"
   ]
  },
  {
   "cell_type": "code",
   "execution_count": null,
   "id": "8f1b5316-a061-4e55-a4eb-ec2dad6dac52",
   "metadata": {},
   "outputs": [],
   "source": []
  }
 ],
 "metadata": {
  "kernelspec": {
   "display_name": "Python [conda env:base] *",
   "language": "python",
   "name": "conda-base-py"
  },
  "language_info": {
   "codemirror_mode": {
    "name": "ipython",
    "version": 3
   },
   "file_extension": ".py",
   "mimetype": "text/x-python",
   "name": "python",
   "nbconvert_exporter": "python",
   "pygments_lexer": "ipython3",
   "version": "3.9.16"
  }
 },
 "nbformat": 4,
 "nbformat_minor": 5
}
