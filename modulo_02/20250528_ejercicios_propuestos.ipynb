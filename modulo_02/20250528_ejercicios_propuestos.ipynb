{
 "cells": [
  {
   "cell_type": "markdown",
   "id": "d0cfe387-aeef-496b-9d5f-16f9a096efbb",
   "metadata": {},
   "source": [
    "![](https://static.dw.com/image/55205398_605.jpg)"
   ]
  },
  {
   "cell_type": "code",
   "execution_count": null,
   "id": "d9f4bded-5c7b-4f21-8e91-92a3d41bb7d4",
   "metadata": {},
   "outputs": [],
   "source": [
    "import pandas as pd\n",
    "import matplotlib.pyplot as plt\n",
    "import seaborn as sns"
   ]
  },
  {
   "cell_type": "markdown",
   "id": "69ed0f27-c2ef-464a-8150-9ba7ba703827",
   "metadata": {},
   "source": [
    "## dataset de pinguinos [Descargar](https://drive.google.com/file/d/16GrgUATlxj7Mf_8K64Qkw_FBF9T4t4Dw/view?usp=sharing)"
   ]
  },
  {
   "cell_type": "markdown",
   "id": "cc0f6a10-3aa2-4067-a129-392d775459bd",
   "metadata": {},
   "source": [
    "## Analizar el set de datos de pingüinos\n",
    "\n",
    "1. Analizar DataFrame\n",
    "2. Realizar completitud e imputación\n",
    "3. Realizar análisis estadístico descriptivo\n",
    "4. Realizar análisis de correlación"
   ]
  },
  {
   "cell_type": "code",
   "execution_count": null,
   "id": "9c9a6c21-869d-4777-8a9c-9fc698685064",
   "metadata": {},
   "outputs": [],
   "source": [
    "df = pd.read_csv('penguins.csv')\n",
    "df.sample(5)"
   ]
  },
  {
   "cell_type": "code",
   "execution_count": null,
   "id": "24cacfe3-f729-4360-a636-1c9afae146ed",
   "metadata": {},
   "outputs": [],
   "source": []
  }
 ],
 "metadata": {
  "kernelspec": {
   "display_name": "Python [conda env:base] *",
   "language": "python",
   "name": "conda-base-py"
  },
  "language_info": {
   "codemirror_mode": {
    "name": "ipython",
    "version": 3
   },
   "file_extension": ".py",
   "mimetype": "text/x-python",
   "name": "python",
   "nbconvert_exporter": "python",
   "pygments_lexer": "ipython3",
   "version": "3.9.16"
  }
 },
 "nbformat": 4,
 "nbformat_minor": 5
}
