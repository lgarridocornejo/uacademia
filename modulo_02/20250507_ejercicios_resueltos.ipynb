{
 "cells": [
  {
   "cell_type": "markdown",
   "metadata": {
    "id": "Yv_e-Ur0yVX9"
   },
   "source": [
    "![](https://static.13.cl/7/sites/default/files/images/ocupload/6cjpkmijvzbxvijh77npkzjzzy.jpg)"
   ]
  },
  {
   "cell_type": "markdown",
   "metadata": {
    "id": "ax8X7ytUKsrg"
   },
   "source": [
    "## Objetivos\n",
    "\n",
    "El participante:\n",
    "\n",
    "- Se familiarizará con la estructura del lenguaje **Python** enfocada en la ciencia de datos.\n",
    "- Comprenderá que cada proyecto solicitado poseerá distintas características (gráficos de un cierto tipo o diseño, algunos datos estadísticos, entre otros).\n",
    "- Entenderá que algunos datos se interpretan mejor al utilizar determinadas herramientas, tales como **Pandas**, **Numpy** y **Matplotlib**.\n",
    "- Asimilará la manera de estructurar la información que requiera analizar."
   ]
  },
  {
   "cell_type": "markdown",
   "metadata": {
    "id": "TI8jx-y3Exg1"
   },
   "source": [
    "## Requisitos\n",
    "\n",
    "- El proyecto se entregará en forma individual.\n",
    "- Cada participante deberá completar el archivo de **Google Colab** ubicado en su **Google Drive** personal. Al finalizar, compartirá el enlace en el espacio designado en **Teams**."
   ]
  },
  {
   "cell_type": "markdown",
   "metadata": {
    "id": "R_kZ2D4v0u9X"
   },
   "source": [
    "## Instrucciones\n",
    "\n",
    "Leerá cada una de las preguntas y responderá utilizando bloques de código (a excepción de la pregunta 7, que podrá responderse con un bloque de texto).\n",
    "\n",
    "Los resultados deberán ser inteligibles y se recomienda utilizar funciones como `print` para dar claridad a las respuestas.\n",
    "\n",
    "Es posible investigar soluciones en otras fuentes o recurrir a clases anteriores; sin embargo, el estudiante debe comprender lo escrito en código.\n",
    "\n",
    "Algunas respuestas tienen diversas formas de resolverse, no obstante, debe existir precisión en el código escrito y en el propósito que persigue.\n",
    "\n",
    "¡Comencemos!\n"
   ]
  },
  {
   "cell_type": "code",
   "execution_count": 7,
   "metadata": {
    "executionInfo": {
     "elapsed": 69,
     "status": "ok",
     "timestamp": 1689041632117,
     "user": {
      "displayName": "Luis Garrido",
      "userId": "04278279994950484810"
     },
     "user_tz": 240
    },
    "id": "LjNwIEwZN8nP"
   },
   "outputs": [],
   "source": [
    "import pandas as pd\n",
    "import numpy as np\n",
    "import matplotlib.pyplot as plt #No quitar"
   ]
  },
  {
   "cell_type": "markdown",
   "metadata": {
    "id": "IksPNalDSH7R"
   },
   "source": [
    "### Pregunta 1\n",
    "Descarga los siguientes archivos:\n",
    "- Este archivo csv enlista diferentes celulares y una serie de calificaciones de distintos usuarios: https://drive.google.com/file/d/1atasE-fuDyAt8Z7JGZQroKJwjNkbpyrn/view?usp=sharing\n",
    "- Este documento csv incluye un listado de las marcas de dichos teléfonos celulares: https://drive.google.com/file/d/1ICBvPkSVajVVMHyrMABYiwuwefv_3oPJ/view?usp=sharing\n",
    "\n",
    "Sube estos archivos en un **Google Drive** y con `pd.read_csv` nómbralos como `df_modelos` y `df_marcas`.\n",
    "\n",
    "Indica en un solo código el número de filas que tiene el archivo `df_modelos` que creaste.\n",
    "\n"
   ]
  },
  {
   "cell_type": "code",
   "execution_count": 18,
   "metadata": {
    "executionInfo": {
     "elapsed": 70,
     "status": "ok",
     "timestamp": 1689041632120,
     "user": {
      "displayName": "Luis Garrido",
      "userId": "04278279994950484810"
     },
     "user_tz": 240
    },
    "id": "I4iNlf32F1LE"
   },
   "outputs": [],
   "source": [
    "df_modelos = pd.read_csv('Modelos.csv')"
   ]
  },
  {
   "cell_type": "code",
   "execution_count": 22,
   "metadata": {},
   "outputs": [
    {
     "data": {
      "text/plain": [
       "120"
      ]
     },
     "execution_count": 22,
     "metadata": {},
     "output_type": "execute_result"
    }
   ],
   "source": [
    "df_modelos.shape[0]"
   ]
  },
  {
   "cell_type": "code",
   "execution_count": 24,
   "metadata": {},
   "outputs": [
    {
     "data": {
      "text/plain": [
       "120"
      ]
     },
     "execution_count": 24,
     "metadata": {},
     "output_type": "execute_result"
    }
   ],
   "source": [
    "len(df_modelos)"
   ]
  },
  {
   "cell_type": "code",
   "execution_count": 64,
   "metadata": {
    "executionInfo": {
     "elapsed": 75,
     "status": "ok",
     "timestamp": 1689041632128,
     "user": {
      "displayName": "Luis Garrido",
      "userId": "04278279994950484810"
     },
     "user_tz": 240
    },
    "id": "YKDZypl2ujhX"
   },
   "outputs": [],
   "source": [
    "df_marcas = pd.read_csv(path + 'Marcas.csv')"
   ]
  },
  {
   "cell_type": "code",
   "execution_count": 65,
   "metadata": {
    "colab": {
     "base_uri": "https://localhost:8080/"
    },
    "executionInfo": {
     "elapsed": 104,
     "status": "ok",
     "timestamp": 1689041632158,
     "user": {
      "displayName": "Luis Garrido",
      "userId": "04278279994950484810"
     },
     "user_tz": 240
    },
    "id": "Lbt_jDl7yVYO",
    "outputId": "320a0727-9114-4e16-98b0-e62cfe3b8577"
   },
   "outputs": [
    {
     "name": "stdout",
     "output_type": "stream",
     "text": [
      "número de filas que tiene el archivo df_modelos es \u001b[1m120\u001b[0m\n"
     ]
    }
   ],
   "source": [
    "print(f'número de filas que tiene el archivo df_modelos es \\033[1m{df_modelos.shape[0]}\\033[0m')"
   ]
  },
  {
   "cell_type": "code",
   "execution_count": 66,
   "metadata": {
    "colab": {
     "base_uri": "https://localhost:8080/"
    },
    "executionInfo": {
     "elapsed": 101,
     "status": "ok",
     "timestamp": 1689041632160,
     "user": {
      "displayName": "Luis Garrido",
      "userId": "04278279994950484810"
     },
     "user_tz": 240
    },
    "id": "uUjAmq0-yVYQ",
    "outputId": "2486576c-2b50-4e00-babe-0af24ecc53bf"
   },
   "outputs": [
    {
     "name": "stdout",
     "output_type": "stream",
     "text": [
      "número de filas que tiene el archivo df_modelos es 120\n"
     ]
    }
   ],
   "source": [
    "print('número de filas que tiene el archivo df_modelos es',len(df_modelos))"
   ]
  },
  {
   "cell_type": "markdown",
   "metadata": {
    "id": "cfoZq-nr2OkO"
   },
   "source": [
    "### Pregunta 2\n",
    "Haz un `merge` de ambos **data frames**, para generar un nuevo **data frame** que incluya los datos de `df_modelos` y `df_marcas`. Tu nuevo **data frame** recibirá el nombre de `df`.\n",
    "\n",
    "**Pista**: Ambos archivos tienen una columna que los relaciona, llamada `ID Marca`."
   ]
  },
  {
   "cell_type": "code",
   "execution_count": 67,
   "metadata": {
    "executionInfo": {
     "elapsed": 98,
     "status": "ok",
     "timestamp": 1689041632161,
     "user": {
      "displayName": "Luis Garrido",
      "userId": "04278279994950484810"
     },
     "user_tz": 240
    },
    "id": "S1L6Hn8VF2_v"
   },
   "outputs": [],
   "source": [
    "df = df_marcas.merge(df_modelos,\n",
    "                     left_on = 'ID Marca',\n",
    "                     right_on = 'ID Marca')"
   ]
  },
  {
   "cell_type": "markdown",
   "metadata": {
    "id": "AqDaTcfaTC79"
   },
   "source": [
    "### Pregunta 3\n",
    "Muestra las primeras cinco filas, las últimas cinco y el nombre de todas las columnas."
   ]
  },
  {
   "cell_type": "code",
   "execution_count": 68,
   "metadata": {
    "colab": {
     "base_uri": "https://localhost:8080/",
     "height": 285
    },
    "executionInfo": {
     "elapsed": 98,
     "status": "ok",
     "timestamp": 1689041632162,
     "user": {
      "displayName": "Luis Garrido",
      "userId": "04278279994950484810"
     },
     "user_tz": 240
    },
    "id": "AYPcw8cLF361",
    "outputId": "71ecd6ec-7cd6-4362-d54e-6d05b0a9df39"
   },
   "outputs": [
    {
     "data": {
      "text/html": [
       "\n",
       "\n",
       "  <div id=\"df-b2f409a5-87f3-4584-a093-a79ad83baa8a\">\n",
       "    <div class=\"colab-df-container\">\n",
       "      <div>\n",
       "<style scoped>\n",
       "    .dataframe tbody tr th:only-of-type {\n",
       "        vertical-align: middle;\n",
       "    }\n",
       "\n",
       "    .dataframe tbody tr th {\n",
       "        vertical-align: top;\n",
       "    }\n",
       "\n",
       "    .dataframe thead th {\n",
       "        text-align: right;\n",
       "    }\n",
       "</style>\n",
       "<table border=\"1\" class=\"dataframe\">\n",
       "  <thead>\n",
       "    <tr style=\"text-align: right;\">\n",
       "      <th></th>\n",
       "      <th>ID Marca</th>\n",
       "      <th>Nombre Marca</th>\n",
       "      <th>Modelo</th>\n",
       "      <th>RAM_GB</th>\n",
       "      <th>ROM_GB</th>\n",
       "      <th>Calificaciones</th>\n",
       "      <th>Resenas</th>\n",
       "      <th>Estrellas</th>\n",
       "      <th>Precio de lista</th>\n",
       "      <th>Precio de venta</th>\n",
       "    </tr>\n",
       "  </thead>\n",
       "  <tbody>\n",
       "    <tr>\n",
       "      <th>0</th>\n",
       "      <td>1</td>\n",
       "      <td>Apple</td>\n",
       "      <td>Apple iPhone XR (Black, 64 GB)</td>\n",
       "      <td>0</td>\n",
       "      <td>32</td>\n",
       "      <td>11572</td>\n",
       "      <td>975</td>\n",
       "      <td>4.6</td>\n",
       "      <td>52500</td>\n",
       "      <td>46999</td>\n",
       "    </tr>\n",
       "    <tr>\n",
       "      <th>1</th>\n",
       "      <td>1</td>\n",
       "      <td>Apple</td>\n",
       "      <td>Apple iPhone SE (White, 64 GB)</td>\n",
       "      <td>0</td>\n",
       "      <td>64</td>\n",
       "      <td>12954</td>\n",
       "      <td>1298</td>\n",
       "      <td>4.5</td>\n",
       "      <td>42500</td>\n",
       "      <td>40999</td>\n",
       "    </tr>\n",
       "    <tr>\n",
       "      <th>2</th>\n",
       "      <td>1</td>\n",
       "      <td>Apple</td>\n",
       "      <td>Apple iPhone SE (Black, 64 GB)</td>\n",
       "      <td>0</td>\n",
       "      <td>32</td>\n",
       "      <td>12954</td>\n",
       "      <td>1298</td>\n",
       "      <td>4.5</td>\n",
       "      <td>42500</td>\n",
       "      <td>40999</td>\n",
       "    </tr>\n",
       "    <tr>\n",
       "      <th>3</th>\n",
       "      <td>1</td>\n",
       "      <td>Apple</td>\n",
       "      <td>Apple iPhone XR ((PRODUCT)RED, 64 GB)</td>\n",
       "      <td>0</td>\n",
       "      <td>64</td>\n",
       "      <td>11572</td>\n",
       "      <td>975</td>\n",
       "      <td>4.6</td>\n",
       "      <td>52500</td>\n",
       "      <td>46999</td>\n",
       "    </tr>\n",
       "    <tr>\n",
       "      <th>4</th>\n",
       "      <td>1</td>\n",
       "      <td>Apple</td>\n",
       "      <td>Apple iPhone SE (Red, 64 GB)</td>\n",
       "      <td>0</td>\n",
       "      <td>128</td>\n",
       "      <td>12954</td>\n",
       "      <td>1298</td>\n",
       "      <td>4.5</td>\n",
       "      <td>42500</td>\n",
       "      <td>40999</td>\n",
       "    </tr>\n",
       "  </tbody>\n",
       "</table>\n",
       "</div>\n",
       "      <button class=\"colab-df-convert\" onclick=\"convertToInteractive('df-b2f409a5-87f3-4584-a093-a79ad83baa8a')\"\n",
       "              title=\"Convert this dataframe to an interactive table.\"\n",
       "              style=\"display:none;\">\n",
       "\n",
       "  <svg xmlns=\"http://www.w3.org/2000/svg\" height=\"24px\"viewBox=\"0 0 24 24\"\n",
       "       width=\"24px\">\n",
       "    <path d=\"M0 0h24v24H0V0z\" fill=\"none\"/>\n",
       "    <path d=\"M18.56 5.44l.94 2.06.94-2.06 2.06-.94-2.06-.94-.94-2.06-.94 2.06-2.06.94zm-11 1L8.5 8.5l.94-2.06 2.06-.94-2.06-.94L8.5 2.5l-.94 2.06-2.06.94zm10 10l.94 2.06.94-2.06 2.06-.94-2.06-.94-.94-2.06-.94 2.06-2.06.94z\"/><path d=\"M17.41 7.96l-1.37-1.37c-.4-.4-.92-.59-1.43-.59-.52 0-1.04.2-1.43.59L10.3 9.45l-7.72 7.72c-.78.78-.78 2.05 0 2.83L4 21.41c.39.39.9.59 1.41.59.51 0 1.02-.2 1.41-.59l7.78-7.78 2.81-2.81c.8-.78.8-2.07 0-2.86zM5.41 20L4 18.59l7.72-7.72 1.47 1.35L5.41 20z\"/>\n",
       "  </svg>\n",
       "      </button>\n",
       "\n",
       "\n",
       "\n",
       "    <div id=\"df-32a04702-0ce3-49e4-8eff-fc722e2eea0c\">\n",
       "      <button class=\"colab-df-quickchart\" onclick=\"quickchart('df-32a04702-0ce3-49e4-8eff-fc722e2eea0c')\"\n",
       "              title=\"Suggest charts.\"\n",
       "              style=\"display:none;\">\n",
       "\n",
       "<svg xmlns=\"http://www.w3.org/2000/svg\" height=\"24px\"viewBox=\"0 0 24 24\"\n",
       "     width=\"24px\">\n",
       "    <g>\n",
       "        <path d=\"M19 3H5c-1.1 0-2 .9-2 2v14c0 1.1.9 2 2 2h14c1.1 0 2-.9 2-2V5c0-1.1-.9-2-2-2zM9 17H7v-7h2v7zm4 0h-2V7h2v10zm4 0h-2v-4h2v4z\"/>\n",
       "    </g>\n",
       "</svg>\n",
       "      </button>\n",
       "    </div>\n",
       "\n",
       "<style>\n",
       "  .colab-df-quickchart {\n",
       "    background-color: #E8F0FE;\n",
       "    border: none;\n",
       "    border-radius: 50%;\n",
       "    cursor: pointer;\n",
       "    display: none;\n",
       "    fill: #1967D2;\n",
       "    height: 32px;\n",
       "    padding: 0 0 0 0;\n",
       "    width: 32px;\n",
       "  }\n",
       "\n",
       "  .colab-df-quickchart:hover {\n",
       "    background-color: #E2EBFA;\n",
       "    box-shadow: 0px 1px 2px rgba(60, 64, 67, 0.3), 0px 1px 3px 1px rgba(60, 64, 67, 0.15);\n",
       "    fill: #174EA6;\n",
       "  }\n",
       "\n",
       "  [theme=dark] .colab-df-quickchart {\n",
       "    background-color: #3B4455;\n",
       "    fill: #D2E3FC;\n",
       "  }\n",
       "\n",
       "  [theme=dark] .colab-df-quickchart:hover {\n",
       "    background-color: #434B5C;\n",
       "    box-shadow: 0px 1px 3px 1px rgba(0, 0, 0, 0.15);\n",
       "    filter: drop-shadow(0px 1px 2px rgba(0, 0, 0, 0.3));\n",
       "    fill: #FFFFFF;\n",
       "  }\n",
       "</style>\n",
       "\n",
       "    <script>\n",
       "      async function quickchart(key) {\n",
       "        const containerElement = document.querySelector('#' + key);\n",
       "        const charts = await google.colab.kernel.invokeFunction(\n",
       "            'suggestCharts', [key], {});\n",
       "      }\n",
       "    </script>\n",
       "\n",
       "      <script>\n",
       "\n",
       "function displayQuickchartButton(domScope) {\n",
       "  let quickchartButtonEl =\n",
       "    domScope.querySelector('#df-32a04702-0ce3-49e4-8eff-fc722e2eea0c button.colab-df-quickchart');\n",
       "  quickchartButtonEl.style.display =\n",
       "    google.colab.kernel.accessAllowed ? 'block' : 'none';\n",
       "}\n",
       "\n",
       "        displayQuickchartButton(document);\n",
       "      </script>\n",
       "      <style>\n",
       "    .colab-df-container {\n",
       "      display:flex;\n",
       "      flex-wrap:wrap;\n",
       "      gap: 12px;\n",
       "    }\n",
       "\n",
       "    .colab-df-convert {\n",
       "      background-color: #E8F0FE;\n",
       "      border: none;\n",
       "      border-radius: 50%;\n",
       "      cursor: pointer;\n",
       "      display: none;\n",
       "      fill: #1967D2;\n",
       "      height: 32px;\n",
       "      padding: 0 0 0 0;\n",
       "      width: 32px;\n",
       "    }\n",
       "\n",
       "    .colab-df-convert:hover {\n",
       "      background-color: #E2EBFA;\n",
       "      box-shadow: 0px 1px 2px rgba(60, 64, 67, 0.3), 0px 1px 3px 1px rgba(60, 64, 67, 0.15);\n",
       "      fill: #174EA6;\n",
       "    }\n",
       "\n",
       "    [theme=dark] .colab-df-convert {\n",
       "      background-color: #3B4455;\n",
       "      fill: #D2E3FC;\n",
       "    }\n",
       "\n",
       "    [theme=dark] .colab-df-convert:hover {\n",
       "      background-color: #434B5C;\n",
       "      box-shadow: 0px 1px 3px 1px rgba(0, 0, 0, 0.15);\n",
       "      filter: drop-shadow(0px 1px 2px rgba(0, 0, 0, 0.3));\n",
       "      fill: #FFFFFF;\n",
       "    }\n",
       "  </style>\n",
       "\n",
       "      <script>\n",
       "        const buttonEl =\n",
       "          document.querySelector('#df-b2f409a5-87f3-4584-a093-a79ad83baa8a button.colab-df-convert');\n",
       "        buttonEl.style.display =\n",
       "          google.colab.kernel.accessAllowed ? 'block' : 'none';\n",
       "\n",
       "        async function convertToInteractive(key) {\n",
       "          const element = document.querySelector('#df-b2f409a5-87f3-4584-a093-a79ad83baa8a');\n",
       "          const dataTable =\n",
       "            await google.colab.kernel.invokeFunction('convertToInteractive',\n",
       "                                                     [key], {});\n",
       "          if (!dataTable) return;\n",
       "\n",
       "          const docLinkHtml = 'Like what you see? Visit the ' +\n",
       "            '<a target=\"_blank\" href=https://colab.research.google.com/notebooks/data_table.ipynb>data table notebook</a>'\n",
       "            + ' to learn more about interactive tables.';\n",
       "          element.innerHTML = '';\n",
       "          dataTable['output_type'] = 'display_data';\n",
       "          await google.colab.output.renderOutput(dataTable, element);\n",
       "          const docLink = document.createElement('div');\n",
       "          docLink.innerHTML = docLinkHtml;\n",
       "          element.appendChild(docLink);\n",
       "        }\n",
       "      </script>\n",
       "    </div>\n",
       "  </div>\n"
      ],
      "text/plain": [
       "   ID Marca Nombre Marca                                 Modelo  RAM_GB  \\\n",
       "0         1        Apple         Apple iPhone XR (Black, 64 GB)       0   \n",
       "1         1        Apple         Apple iPhone SE (White, 64 GB)       0   \n",
       "2         1        Apple         Apple iPhone SE (Black, 64 GB)       0   \n",
       "3         1        Apple  Apple iPhone XR ((PRODUCT)RED, 64 GB)       0   \n",
       "4         1        Apple           Apple iPhone SE (Red, 64 GB)       0   \n",
       "\n",
       "   ROM_GB  Calificaciones  Resenas  Estrellas  Precio de lista  \\\n",
       "0      32           11572      975        4.6            52500   \n",
       "1      64           12954     1298        4.5            42500   \n",
       "2      32           12954     1298        4.5            42500   \n",
       "3      64           11572      975        4.6            52500   \n",
       "4     128           12954     1298        4.5            42500   \n",
       "\n",
       "   Precio de venta  \n",
       "0            46999  \n",
       "1            40999  \n",
       "2            40999  \n",
       "3            46999  \n",
       "4            40999  "
      ]
     },
     "execution_count": 68,
     "metadata": {},
     "output_type": "execute_result"
    }
   ],
   "source": [
    "df.head()"
   ]
  },
  {
   "cell_type": "code",
   "execution_count": 69,
   "metadata": {
    "colab": {
     "base_uri": "https://localhost:8080/",
     "height": 285
    },
    "executionInfo": {
     "elapsed": 95,
     "status": "ok",
     "timestamp": 1689041632163,
     "user": {
      "displayName": "Luis Garrido",
      "userId": "04278279994950484810"
     },
     "user_tz": 240
    },
    "id": "b2VOCO_jyVYS",
    "outputId": "e08f05f1-0c72-4346-ff56-be31a7a6ef6c"
   },
   "outputs": [
    {
     "data": {
      "text/html": [
       "\n",
       "\n",
       "  <div id=\"df-37662333-d2f9-4f02-951c-9e960ad03b82\">\n",
       "    <div class=\"colab-df-container\">\n",
       "      <div>\n",
       "<style scoped>\n",
       "    .dataframe tbody tr th:only-of-type {\n",
       "        vertical-align: middle;\n",
       "    }\n",
       "\n",
       "    .dataframe tbody tr th {\n",
       "        vertical-align: top;\n",
       "    }\n",
       "\n",
       "    .dataframe thead th {\n",
       "        text-align: right;\n",
       "    }\n",
       "</style>\n",
       "<table border=\"1\" class=\"dataframe\">\n",
       "  <thead>\n",
       "    <tr style=\"text-align: right;\">\n",
       "      <th></th>\n",
       "      <th>ID Marca</th>\n",
       "      <th>Nombre Marca</th>\n",
       "      <th>Modelo</th>\n",
       "      <th>RAM_GB</th>\n",
       "      <th>ROM_GB</th>\n",
       "      <th>Calificaciones</th>\n",
       "      <th>Resenas</th>\n",
       "      <th>Estrellas</th>\n",
       "      <th>Precio de lista</th>\n",
       "      <th>Precio de venta</th>\n",
       "    </tr>\n",
       "  </thead>\n",
       "  <tbody>\n",
       "    <tr>\n",
       "      <th>115</th>\n",
       "      <td>12</td>\n",
       "      <td>Vivo</td>\n",
       "      <td>Vivo Y91i (Fusion Black, 32 GB)</td>\n",
       "      <td>2</td>\n",
       "      <td>128</td>\n",
       "      <td>21196</td>\n",
       "      <td>1445</td>\n",
       "      <td>4.3</td>\n",
       "      <td>9990</td>\n",
       "      <td>7990</td>\n",
       "    </tr>\n",
       "    <tr>\n",
       "      <th>116</th>\n",
       "      <td>12</td>\n",
       "      <td>Vivo</td>\n",
       "      <td>Vivo Y91i (Ocean Blue, 32 GB)</td>\n",
       "      <td>2</td>\n",
       "      <td>128</td>\n",
       "      <td>21196</td>\n",
       "      <td>1445</td>\n",
       "      <td>4.3</td>\n",
       "      <td>9990</td>\n",
       "      <td>7990</td>\n",
       "    </tr>\n",
       "    <tr>\n",
       "      <th>117</th>\n",
       "      <td>12</td>\n",
       "      <td>Vivo</td>\n",
       "      <td>Vivo S1 Pro (Mystic Black, 128 GB)</td>\n",
       "      <td>8</td>\n",
       "      <td>128</td>\n",
       "      <td>11571</td>\n",
       "      <td>891</td>\n",
       "      <td>4.4</td>\n",
       "      <td>20990</td>\n",
       "      <td>19990</td>\n",
       "    </tr>\n",
       "    <tr>\n",
       "      <th>118</th>\n",
       "      <td>12</td>\n",
       "      <td>Vivo</td>\n",
       "      <td>Vivo Y30 (Emerald Black, 128 GB)</td>\n",
       "      <td>4</td>\n",
       "      <td>32</td>\n",
       "      <td>604</td>\n",
       "      <td>44</td>\n",
       "      <td>4.3</td>\n",
       "      <td>18990</td>\n",
       "      <td>14990</td>\n",
       "    </tr>\n",
       "    <tr>\n",
       "      <th>119</th>\n",
       "      <td>12</td>\n",
       "      <td>Vivo</td>\n",
       "      <td>Vivo Y30 (Dazzle Blue, 128 GB)</td>\n",
       "      <td>4</td>\n",
       "      <td>128</td>\n",
       "      <td>604</td>\n",
       "      <td>44</td>\n",
       "      <td>4.3</td>\n",
       "      <td>18990</td>\n",
       "      <td>14990</td>\n",
       "    </tr>\n",
       "  </tbody>\n",
       "</table>\n",
       "</div>\n",
       "      <button class=\"colab-df-convert\" onclick=\"convertToInteractive('df-37662333-d2f9-4f02-951c-9e960ad03b82')\"\n",
       "              title=\"Convert this dataframe to an interactive table.\"\n",
       "              style=\"display:none;\">\n",
       "\n",
       "  <svg xmlns=\"http://www.w3.org/2000/svg\" height=\"24px\"viewBox=\"0 0 24 24\"\n",
       "       width=\"24px\">\n",
       "    <path d=\"M0 0h24v24H0V0z\" fill=\"none\"/>\n",
       "    <path d=\"M18.56 5.44l.94 2.06.94-2.06 2.06-.94-2.06-.94-.94-2.06-.94 2.06-2.06.94zm-11 1L8.5 8.5l.94-2.06 2.06-.94-2.06-.94L8.5 2.5l-.94 2.06-2.06.94zm10 10l.94 2.06.94-2.06 2.06-.94-2.06-.94-.94-2.06-.94 2.06-2.06.94z\"/><path d=\"M17.41 7.96l-1.37-1.37c-.4-.4-.92-.59-1.43-.59-.52 0-1.04.2-1.43.59L10.3 9.45l-7.72 7.72c-.78.78-.78 2.05 0 2.83L4 21.41c.39.39.9.59 1.41.59.51 0 1.02-.2 1.41-.59l7.78-7.78 2.81-2.81c.8-.78.8-2.07 0-2.86zM5.41 20L4 18.59l7.72-7.72 1.47 1.35L5.41 20z\"/>\n",
       "  </svg>\n",
       "      </button>\n",
       "\n",
       "\n",
       "\n",
       "    <div id=\"df-02950ce9-b2d0-40d1-bfe2-d463eb5487e3\">\n",
       "      <button class=\"colab-df-quickchart\" onclick=\"quickchart('df-02950ce9-b2d0-40d1-bfe2-d463eb5487e3')\"\n",
       "              title=\"Suggest charts.\"\n",
       "              style=\"display:none;\">\n",
       "\n",
       "<svg xmlns=\"http://www.w3.org/2000/svg\" height=\"24px\"viewBox=\"0 0 24 24\"\n",
       "     width=\"24px\">\n",
       "    <g>\n",
       "        <path d=\"M19 3H5c-1.1 0-2 .9-2 2v14c0 1.1.9 2 2 2h14c1.1 0 2-.9 2-2V5c0-1.1-.9-2-2-2zM9 17H7v-7h2v7zm4 0h-2V7h2v10zm4 0h-2v-4h2v4z\"/>\n",
       "    </g>\n",
       "</svg>\n",
       "      </button>\n",
       "    </div>\n",
       "\n",
       "<style>\n",
       "  .colab-df-quickchart {\n",
       "    background-color: #E8F0FE;\n",
       "    border: none;\n",
       "    border-radius: 50%;\n",
       "    cursor: pointer;\n",
       "    display: none;\n",
       "    fill: #1967D2;\n",
       "    height: 32px;\n",
       "    padding: 0 0 0 0;\n",
       "    width: 32px;\n",
       "  }\n",
       "\n",
       "  .colab-df-quickchart:hover {\n",
       "    background-color: #E2EBFA;\n",
       "    box-shadow: 0px 1px 2px rgba(60, 64, 67, 0.3), 0px 1px 3px 1px rgba(60, 64, 67, 0.15);\n",
       "    fill: #174EA6;\n",
       "  }\n",
       "\n",
       "  [theme=dark] .colab-df-quickchart {\n",
       "    background-color: #3B4455;\n",
       "    fill: #D2E3FC;\n",
       "  }\n",
       "\n",
       "  [theme=dark] .colab-df-quickchart:hover {\n",
       "    background-color: #434B5C;\n",
       "    box-shadow: 0px 1px 3px 1px rgba(0, 0, 0, 0.15);\n",
       "    filter: drop-shadow(0px 1px 2px rgba(0, 0, 0, 0.3));\n",
       "    fill: #FFFFFF;\n",
       "  }\n",
       "</style>\n",
       "\n",
       "    <script>\n",
       "      async function quickchart(key) {\n",
       "        const containerElement = document.querySelector('#' + key);\n",
       "        const charts = await google.colab.kernel.invokeFunction(\n",
       "            'suggestCharts', [key], {});\n",
       "      }\n",
       "    </script>\n",
       "\n",
       "      <script>\n",
       "\n",
       "function displayQuickchartButton(domScope) {\n",
       "  let quickchartButtonEl =\n",
       "    domScope.querySelector('#df-02950ce9-b2d0-40d1-bfe2-d463eb5487e3 button.colab-df-quickchart');\n",
       "  quickchartButtonEl.style.display =\n",
       "    google.colab.kernel.accessAllowed ? 'block' : 'none';\n",
       "}\n",
       "\n",
       "        displayQuickchartButton(document);\n",
       "      </script>\n",
       "      <style>\n",
       "    .colab-df-container {\n",
       "      display:flex;\n",
       "      flex-wrap:wrap;\n",
       "      gap: 12px;\n",
       "    }\n",
       "\n",
       "    .colab-df-convert {\n",
       "      background-color: #E8F0FE;\n",
       "      border: none;\n",
       "      border-radius: 50%;\n",
       "      cursor: pointer;\n",
       "      display: none;\n",
       "      fill: #1967D2;\n",
       "      height: 32px;\n",
       "      padding: 0 0 0 0;\n",
       "      width: 32px;\n",
       "    }\n",
       "\n",
       "    .colab-df-convert:hover {\n",
       "      background-color: #E2EBFA;\n",
       "      box-shadow: 0px 1px 2px rgba(60, 64, 67, 0.3), 0px 1px 3px 1px rgba(60, 64, 67, 0.15);\n",
       "      fill: #174EA6;\n",
       "    }\n",
       "\n",
       "    [theme=dark] .colab-df-convert {\n",
       "      background-color: #3B4455;\n",
       "      fill: #D2E3FC;\n",
       "    }\n",
       "\n",
       "    [theme=dark] .colab-df-convert:hover {\n",
       "      background-color: #434B5C;\n",
       "      box-shadow: 0px 1px 3px 1px rgba(0, 0, 0, 0.15);\n",
       "      filter: drop-shadow(0px 1px 2px rgba(0, 0, 0, 0.3));\n",
       "      fill: #FFFFFF;\n",
       "    }\n",
       "  </style>\n",
       "\n",
       "      <script>\n",
       "        const buttonEl =\n",
       "          document.querySelector('#df-37662333-d2f9-4f02-951c-9e960ad03b82 button.colab-df-convert');\n",
       "        buttonEl.style.display =\n",
       "          google.colab.kernel.accessAllowed ? 'block' : 'none';\n",
       "\n",
       "        async function convertToInteractive(key) {\n",
       "          const element = document.querySelector('#df-37662333-d2f9-4f02-951c-9e960ad03b82');\n",
       "          const dataTable =\n",
       "            await google.colab.kernel.invokeFunction('convertToInteractive',\n",
       "                                                     [key], {});\n",
       "          if (!dataTable) return;\n",
       "\n",
       "          const docLinkHtml = 'Like what you see? Visit the ' +\n",
       "            '<a target=\"_blank\" href=https://colab.research.google.com/notebooks/data_table.ipynb>data table notebook</a>'\n",
       "            + ' to learn more about interactive tables.';\n",
       "          element.innerHTML = '';\n",
       "          dataTable['output_type'] = 'display_data';\n",
       "          await google.colab.output.renderOutput(dataTable, element);\n",
       "          const docLink = document.createElement('div');\n",
       "          docLink.innerHTML = docLinkHtml;\n",
       "          element.appendChild(docLink);\n",
       "        }\n",
       "      </script>\n",
       "    </div>\n",
       "  </div>\n"
      ],
      "text/plain": [
       "     ID Marca Nombre Marca                              Modelo  RAM_GB  \\\n",
       "115        12         Vivo     Vivo Y91i (Fusion Black, 32 GB)       2   \n",
       "116        12         Vivo       Vivo Y91i (Ocean Blue, 32 GB)       2   \n",
       "117        12         Vivo  Vivo S1 Pro (Mystic Black, 128 GB)       8   \n",
       "118        12         Vivo    Vivo Y30 (Emerald Black, 128 GB)       4   \n",
       "119        12         Vivo      Vivo Y30 (Dazzle Blue, 128 GB)       4   \n",
       "\n",
       "     ROM_GB  Calificaciones  Resenas  Estrellas  Precio de lista  \\\n",
       "115     128           21196     1445        4.3             9990   \n",
       "116     128           21196     1445        4.3             9990   \n",
       "117     128           11571      891        4.4            20990   \n",
       "118      32             604       44        4.3            18990   \n",
       "119     128             604       44        4.3            18990   \n",
       "\n",
       "     Precio de venta  \n",
       "115             7990  \n",
       "116             7990  \n",
       "117            19990  \n",
       "118            14990  \n",
       "119            14990  "
      ]
     },
     "execution_count": 69,
     "metadata": {},
     "output_type": "execute_result"
    }
   ],
   "source": [
    "df.tail()"
   ]
  },
  {
   "cell_type": "code",
   "execution_count": 70,
   "metadata": {
    "colab": {
     "base_uri": "https://localhost:8080/"
    },
    "executionInfo": {
     "elapsed": 94,
     "status": "ok",
     "timestamp": 1689041632165,
     "user": {
      "displayName": "Luis Garrido",
      "userId": "04278279994950484810"
     },
     "user_tz": 240
    },
    "id": "a6XXEwt_yVYU",
    "outputId": "cc778dd8-1fc7-4a00-b979-9b277299dce4"
   },
   "outputs": [
    {
     "name": "stdout",
     "output_type": "stream",
     "text": [
      "Estas son las \u001b[1m10\u001b[0m columnas del dataframe: \n",
      "ID Marca\n",
      "Nombre Marca\n",
      "Modelo\n",
      "RAM_GB\n",
      "ROM_GB\n",
      "Calificaciones\n",
      "Resenas\n",
      "Estrellas\n",
      "Precio de lista\n",
      "Precio de venta\n"
     ]
    }
   ],
   "source": [
    "print(f'Estas son las \\033[1m{df.shape[1]}\\033[0m columnas del dataframe: ')\n",
    "for col in df.columns:\n",
    "    print(col)"
   ]
  },
  {
   "cell_type": "code",
   "execution_count": 71,
   "metadata": {
    "executionInfo": {
     "elapsed": 90,
     "status": "ok",
     "timestamp": 1689041632165,
     "user": {
      "displayName": "Luis Garrido",
      "userId": "04278279994950484810"
     },
     "user_tz": 240
    },
    "id": "fcEnvtwPyVYV"
   },
   "outputs": [],
   "source": [
    "#list(df.columns)"
   ]
  },
  {
   "cell_type": "markdown",
   "metadata": {
    "id": "m2HobjRsTz7V"
   },
   "source": [
    "### Pregunta 4\n",
    "Utiliza los filtros para mostrar todos los teléfonos con 64GB en la columna `ROM_GB` e indica cuántos del listado poseen esta característica."
   ]
  },
  {
   "cell_type": "code",
   "execution_count": 72,
   "metadata": {
    "colab": {
     "base_uri": "https://localhost:8080/",
     "height": 503
    },
    "executionInfo": {
     "elapsed": 90,
     "status": "ok",
     "timestamp": 1689041632166,
     "user": {
      "displayName": "Luis Garrido",
      "userId": "04278279994950484810"
     },
     "user_tz": 240
    },
    "id": "-yfgYqiZF4yS",
    "outputId": "b25bc7fb-dd18-44fe-bd95-95d0007dc7e4"
   },
   "outputs": [
    {
     "data": {
      "text/html": [
       "\n",
       "\n",
       "  <div id=\"df-47048378-e064-4ae4-b5b2-b592771efe9a\">\n",
       "    <div class=\"colab-df-container\">\n",
       "      <div>\n",
       "<style scoped>\n",
       "    .dataframe tbody tr th:only-of-type {\n",
       "        vertical-align: middle;\n",
       "    }\n",
       "\n",
       "    .dataframe tbody tr th {\n",
       "        vertical-align: top;\n",
       "    }\n",
       "\n",
       "    .dataframe thead th {\n",
       "        text-align: right;\n",
       "    }\n",
       "</style>\n",
       "<table border=\"1\" class=\"dataframe\">\n",
       "  <thead>\n",
       "    <tr style=\"text-align: right;\">\n",
       "      <th></th>\n",
       "      <th>ID Marca</th>\n",
       "      <th>Nombre Marca</th>\n",
       "      <th>Modelo</th>\n",
       "      <th>RAM_GB</th>\n",
       "      <th>ROM_GB</th>\n",
       "      <th>Calificaciones</th>\n",
       "      <th>Resenas</th>\n",
       "      <th>Estrellas</th>\n",
       "      <th>Precio de lista</th>\n",
       "      <th>Precio de venta</th>\n",
       "    </tr>\n",
       "  </thead>\n",
       "  <tbody>\n",
       "    <tr>\n",
       "      <th>1</th>\n",
       "      <td>1</td>\n",
       "      <td>Apple</td>\n",
       "      <td>Apple iPhone SE (White, 64 GB)</td>\n",
       "      <td>0</td>\n",
       "      <td>64</td>\n",
       "      <td>12954</td>\n",
       "      <td>1298</td>\n",
       "      <td>4.5</td>\n",
       "      <td>42500</td>\n",
       "      <td>40999</td>\n",
       "    </tr>\n",
       "    <tr>\n",
       "      <th>3</th>\n",
       "      <td>1</td>\n",
       "      <td>Apple</td>\n",
       "      <td>Apple iPhone XR ((PRODUCT)RED, 64 GB)</td>\n",
       "      <td>0</td>\n",
       "      <td>64</td>\n",
       "      <td>11572</td>\n",
       "      <td>975</td>\n",
       "      <td>4.6</td>\n",
       "      <td>52500</td>\n",
       "      <td>46999</td>\n",
       "    </tr>\n",
       "    <tr>\n",
       "      <th>5</th>\n",
       "      <td>1</td>\n",
       "      <td>Apple</td>\n",
       "      <td>Apple iPhone SE (Black, 128 GB)</td>\n",
       "      <td>0</td>\n",
       "      <td>64</td>\n",
       "      <td>12954</td>\n",
       "      <td>1298</td>\n",
       "      <td>4.5</td>\n",
       "      <td>47800</td>\n",
       "      <td>45999</td>\n",
       "    </tr>\n",
       "    <tr>\n",
       "      <th>7</th>\n",
       "      <td>1</td>\n",
       "      <td>Apple</td>\n",
       "      <td>Apple iPhone XR (Blue, 64 GB)</td>\n",
       "      <td>0</td>\n",
       "      <td>64</td>\n",
       "      <td>11572</td>\n",
       "      <td>975</td>\n",
       "      <td>4.6</td>\n",
       "      <td>52500</td>\n",
       "      <td>46999</td>\n",
       "    </tr>\n",
       "    <tr>\n",
       "      <th>8</th>\n",
       "      <td>1</td>\n",
       "      <td>Apple</td>\n",
       "      <td>Apple iPhone 7 Plus (Black, 32 GB)</td>\n",
       "      <td>0</td>\n",
       "      <td>64</td>\n",
       "      <td>27442</td>\n",
       "      <td>2853</td>\n",
       "      <td>4.5</td>\n",
       "      <td>37900</td>\n",
       "      <td>34999</td>\n",
       "    </tr>\n",
       "    <tr>\n",
       "      <th>...</th>\n",
       "      <td>...</td>\n",
       "      <td>...</td>\n",
       "      <td>...</td>\n",
       "      <td>...</td>\n",
       "      <td>...</td>\n",
       "      <td>...</td>\n",
       "      <td>...</td>\n",
       "      <td>...</td>\n",
       "      <td>...</td>\n",
       "      <td>...</td>\n",
       "    </tr>\n",
       "    <tr>\n",
       "      <th>104</th>\n",
       "      <td>12</td>\n",
       "      <td>Vivo</td>\n",
       "      <td>Vivo Y15 (Burgundy Red, 64 GB)</td>\n",
       "      <td>4</td>\n",
       "      <td>64</td>\n",
       "      <td>20969</td>\n",
       "      <td>1505</td>\n",
       "      <td>4.4</td>\n",
       "      <td>15990</td>\n",
       "      <td>12990</td>\n",
       "    </tr>\n",
       "    <tr>\n",
       "      <th>105</th>\n",
       "      <td>12</td>\n",
       "      <td>Vivo</td>\n",
       "      <td>Vivo Y15 (Aqua Blue, 64 GB)</td>\n",
       "      <td>4</td>\n",
       "      <td>64</td>\n",
       "      <td>20969</td>\n",
       "      <td>1505</td>\n",
       "      <td>4.4</td>\n",
       "      <td>15990</td>\n",
       "      <td>12990</td>\n",
       "    </tr>\n",
       "    <tr>\n",
       "      <th>106</th>\n",
       "      <td>12</td>\n",
       "      <td>Vivo</td>\n",
       "      <td>Vivo Y12 (Aqua Blue, 64 GB)</td>\n",
       "      <td>3</td>\n",
       "      <td>64</td>\n",
       "      <td>13266</td>\n",
       "      <td>981</td>\n",
       "      <td>4.4</td>\n",
       "      <td>13990</td>\n",
       "      <td>10990</td>\n",
       "    </tr>\n",
       "    <tr>\n",
       "      <th>108</th>\n",
       "      <td>12</td>\n",
       "      <td>Vivo</td>\n",
       "      <td>Vivo Y11 (Agate Red, 32 GB)</td>\n",
       "      <td>3</td>\n",
       "      <td>64</td>\n",
       "      <td>4744</td>\n",
       "      <td>268</td>\n",
       "      <td>4.4</td>\n",
       "      <td>9990</td>\n",
       "      <td>9990</td>\n",
       "    </tr>\n",
       "    <tr>\n",
       "      <th>111</th>\n",
       "      <td>12</td>\n",
       "      <td>Vivo</td>\n",
       "      <td>Vivo U10 (Thunder Black, 32 GB)</td>\n",
       "      <td>3</td>\n",
       "      <td>64</td>\n",
       "      <td>34333</td>\n",
       "      <td>2395</td>\n",
       "      <td>4.4</td>\n",
       "      <td>10990</td>\n",
       "      <td>10990</td>\n",
       "    </tr>\n",
       "  </tbody>\n",
       "</table>\n",
       "<p>62 rows × 10 columns</p>\n",
       "</div>\n",
       "      <button class=\"colab-df-convert\" onclick=\"convertToInteractive('df-47048378-e064-4ae4-b5b2-b592771efe9a')\"\n",
       "              title=\"Convert this dataframe to an interactive table.\"\n",
       "              style=\"display:none;\">\n",
       "\n",
       "  <svg xmlns=\"http://www.w3.org/2000/svg\" height=\"24px\"viewBox=\"0 0 24 24\"\n",
       "       width=\"24px\">\n",
       "    <path d=\"M0 0h24v24H0V0z\" fill=\"none\"/>\n",
       "    <path d=\"M18.56 5.44l.94 2.06.94-2.06 2.06-.94-2.06-.94-.94-2.06-.94 2.06-2.06.94zm-11 1L8.5 8.5l.94-2.06 2.06-.94-2.06-.94L8.5 2.5l-.94 2.06-2.06.94zm10 10l.94 2.06.94-2.06 2.06-.94-2.06-.94-.94-2.06-.94 2.06-2.06.94z\"/><path d=\"M17.41 7.96l-1.37-1.37c-.4-.4-.92-.59-1.43-.59-.52 0-1.04.2-1.43.59L10.3 9.45l-7.72 7.72c-.78.78-.78 2.05 0 2.83L4 21.41c.39.39.9.59 1.41.59.51 0 1.02-.2 1.41-.59l7.78-7.78 2.81-2.81c.8-.78.8-2.07 0-2.86zM5.41 20L4 18.59l7.72-7.72 1.47 1.35L5.41 20z\"/>\n",
       "  </svg>\n",
       "      </button>\n",
       "\n",
       "\n",
       "\n",
       "    <div id=\"df-4fc28325-5dc1-4451-a792-89ca26f4c1b1\">\n",
       "      <button class=\"colab-df-quickchart\" onclick=\"quickchart('df-4fc28325-5dc1-4451-a792-89ca26f4c1b1')\"\n",
       "              title=\"Suggest charts.\"\n",
       "              style=\"display:none;\">\n",
       "\n",
       "<svg xmlns=\"http://www.w3.org/2000/svg\" height=\"24px\"viewBox=\"0 0 24 24\"\n",
       "     width=\"24px\">\n",
       "    <g>\n",
       "        <path d=\"M19 3H5c-1.1 0-2 .9-2 2v14c0 1.1.9 2 2 2h14c1.1 0 2-.9 2-2V5c0-1.1-.9-2-2-2zM9 17H7v-7h2v7zm4 0h-2V7h2v10zm4 0h-2v-4h2v4z\"/>\n",
       "    </g>\n",
       "</svg>\n",
       "      </button>\n",
       "    </div>\n",
       "\n",
       "<style>\n",
       "  .colab-df-quickchart {\n",
       "    background-color: #E8F0FE;\n",
       "    border: none;\n",
       "    border-radius: 50%;\n",
       "    cursor: pointer;\n",
       "    display: none;\n",
       "    fill: #1967D2;\n",
       "    height: 32px;\n",
       "    padding: 0 0 0 0;\n",
       "    width: 32px;\n",
       "  }\n",
       "\n",
       "  .colab-df-quickchart:hover {\n",
       "    background-color: #E2EBFA;\n",
       "    box-shadow: 0px 1px 2px rgba(60, 64, 67, 0.3), 0px 1px 3px 1px rgba(60, 64, 67, 0.15);\n",
       "    fill: #174EA6;\n",
       "  }\n",
       "\n",
       "  [theme=dark] .colab-df-quickchart {\n",
       "    background-color: #3B4455;\n",
       "    fill: #D2E3FC;\n",
       "  }\n",
       "\n",
       "  [theme=dark] .colab-df-quickchart:hover {\n",
       "    background-color: #434B5C;\n",
       "    box-shadow: 0px 1px 3px 1px rgba(0, 0, 0, 0.15);\n",
       "    filter: drop-shadow(0px 1px 2px rgba(0, 0, 0, 0.3));\n",
       "    fill: #FFFFFF;\n",
       "  }\n",
       "</style>\n",
       "\n",
       "    <script>\n",
       "      async function quickchart(key) {\n",
       "        const containerElement = document.querySelector('#' + key);\n",
       "        const charts = await google.colab.kernel.invokeFunction(\n",
       "            'suggestCharts', [key], {});\n",
       "      }\n",
       "    </script>\n",
       "\n",
       "      <script>\n",
       "\n",
       "function displayQuickchartButton(domScope) {\n",
       "  let quickchartButtonEl =\n",
       "    domScope.querySelector('#df-4fc28325-5dc1-4451-a792-89ca26f4c1b1 button.colab-df-quickchart');\n",
       "  quickchartButtonEl.style.display =\n",
       "    google.colab.kernel.accessAllowed ? 'block' : 'none';\n",
       "}\n",
       "\n",
       "        displayQuickchartButton(document);\n",
       "      </script>\n",
       "      <style>\n",
       "    .colab-df-container {\n",
       "      display:flex;\n",
       "      flex-wrap:wrap;\n",
       "      gap: 12px;\n",
       "    }\n",
       "\n",
       "    .colab-df-convert {\n",
       "      background-color: #E8F0FE;\n",
       "      border: none;\n",
       "      border-radius: 50%;\n",
       "      cursor: pointer;\n",
       "      display: none;\n",
       "      fill: #1967D2;\n",
       "      height: 32px;\n",
       "      padding: 0 0 0 0;\n",
       "      width: 32px;\n",
       "    }\n",
       "\n",
       "    .colab-df-convert:hover {\n",
       "      background-color: #E2EBFA;\n",
       "      box-shadow: 0px 1px 2px rgba(60, 64, 67, 0.3), 0px 1px 3px 1px rgba(60, 64, 67, 0.15);\n",
       "      fill: #174EA6;\n",
       "    }\n",
       "\n",
       "    [theme=dark] .colab-df-convert {\n",
       "      background-color: #3B4455;\n",
       "      fill: #D2E3FC;\n",
       "    }\n",
       "\n",
       "    [theme=dark] .colab-df-convert:hover {\n",
       "      background-color: #434B5C;\n",
       "      box-shadow: 0px 1px 3px 1px rgba(0, 0, 0, 0.15);\n",
       "      filter: drop-shadow(0px 1px 2px rgba(0, 0, 0, 0.3));\n",
       "      fill: #FFFFFF;\n",
       "    }\n",
       "  </style>\n",
       "\n",
       "      <script>\n",
       "        const buttonEl =\n",
       "          document.querySelector('#df-47048378-e064-4ae4-b5b2-b592771efe9a button.colab-df-convert');\n",
       "        buttonEl.style.display =\n",
       "          google.colab.kernel.accessAllowed ? 'block' : 'none';\n",
       "\n",
       "        async function convertToInteractive(key) {\n",
       "          const element = document.querySelector('#df-47048378-e064-4ae4-b5b2-b592771efe9a');\n",
       "          const dataTable =\n",
       "            await google.colab.kernel.invokeFunction('convertToInteractive',\n",
       "                                                     [key], {});\n",
       "          if (!dataTable) return;\n",
       "\n",
       "          const docLinkHtml = 'Like what you see? Visit the ' +\n",
       "            '<a target=\"_blank\" href=https://colab.research.google.com/notebooks/data_table.ipynb>data table notebook</a>'\n",
       "            + ' to learn more about interactive tables.';\n",
       "          element.innerHTML = '';\n",
       "          dataTable['output_type'] = 'display_data';\n",
       "          await google.colab.output.renderOutput(dataTable, element);\n",
       "          const docLink = document.createElement('div');\n",
       "          docLink.innerHTML = docLinkHtml;\n",
       "          element.appendChild(docLink);\n",
       "        }\n",
       "      </script>\n",
       "    </div>\n",
       "  </div>\n"
      ],
      "text/plain": [
       "     ID Marca Nombre Marca                                 Modelo  RAM_GB  \\\n",
       "1           1        Apple         Apple iPhone SE (White, 64 GB)       0   \n",
       "3           1        Apple  Apple iPhone XR ((PRODUCT)RED, 64 GB)       0   \n",
       "5           1        Apple        Apple iPhone SE (Black, 128 GB)       0   \n",
       "7           1        Apple          Apple iPhone XR (Blue, 64 GB)       0   \n",
       "8           1        Apple     Apple iPhone 7 Plus (Black, 32 GB)       0   \n",
       "..        ...          ...                                    ...     ...   \n",
       "104        12         Vivo         Vivo Y15 (Burgundy Red, 64 GB)       4   \n",
       "105        12         Vivo            Vivo Y15 (Aqua Blue, 64 GB)       4   \n",
       "106        12         Vivo            Vivo Y12 (Aqua Blue, 64 GB)       3   \n",
       "108        12         Vivo            Vivo Y11 (Agate Red, 32 GB)       3   \n",
       "111        12         Vivo        Vivo U10 (Thunder Black, 32 GB)       3   \n",
       "\n",
       "     ROM_GB  Calificaciones  Resenas  Estrellas  Precio de lista  \\\n",
       "1        64           12954     1298        4.5            42500   \n",
       "3        64           11572      975        4.6            52500   \n",
       "5        64           12954     1298        4.5            47800   \n",
       "7        64           11572      975        4.6            52500   \n",
       "8        64           27442     2853        4.5            37900   \n",
       "..      ...             ...      ...        ...              ...   \n",
       "104      64           20969     1505        4.4            15990   \n",
       "105      64           20969     1505        4.4            15990   \n",
       "106      64           13266      981        4.4            13990   \n",
       "108      64            4744      268        4.4             9990   \n",
       "111      64           34333     2395        4.4            10990   \n",
       "\n",
       "     Precio de venta  \n",
       "1              40999  \n",
       "3              46999  \n",
       "5              45999  \n",
       "7              46999  \n",
       "8              34999  \n",
       "..               ...  \n",
       "104            12990  \n",
       "105            12990  \n",
       "106            10990  \n",
       "108             9990  \n",
       "111            10990  \n",
       "\n",
       "[62 rows x 10 columns]"
      ]
     },
     "execution_count": 72,
     "metadata": {},
     "output_type": "execute_result"
    }
   ],
   "source": [
    "df_64 = df[df['ROM_GB']==64]\n",
    "df_64"
   ]
  },
  {
   "cell_type": "code",
   "execution_count": 73,
   "metadata": {
    "colab": {
     "base_uri": "https://localhost:8080/"
    },
    "executionInfo": {
     "elapsed": 32,
     "status": "ok",
     "timestamp": 1689041632569,
     "user": {
      "displayName": "Luis Garrido",
      "userId": "04278279994950484810"
     },
     "user_tz": 240
    },
    "id": "obr-BdiZyVYW",
    "outputId": "a5628317-13f0-46cf-975f-27feb238a746"
   },
   "outputs": [
    {
     "name": "stdout",
     "output_type": "stream",
     "text": [
      "Existen \u001b[1m62\u001b[0m equipos con 64GB en ROM\n"
     ]
    }
   ],
   "source": [
    "print(f'Existen \\033[1m{df_64.shape[0]}\\033[0m equipos con 64GB en ROM')"
   ]
  },
  {
   "cell_type": "code",
   "execution_count": 74,
   "metadata": {
    "colab": {
     "base_uri": "https://localhost:8080/"
    },
    "executionInfo": {
     "elapsed": 27,
     "status": "ok",
     "timestamp": 1689041632570,
     "user": {
      "displayName": "Luis Garrido",
      "userId": "04278279994950484810"
     },
     "user_tz": 240
    },
    "id": "8KWscYrUyVYW",
    "outputId": "6f2a178d-3710-4b43-ba20-4d62c6acf870"
   },
   "outputs": [
    {
     "name": "stdout",
     "output_type": "stream",
     "text": [
      "Existen 62 equipos con 64GB en ROM\n"
     ]
    }
   ],
   "source": [
    "print('Existen', len(df_64), 'equipos con 64GB en ROM')"
   ]
  },
  {
   "cell_type": "markdown",
   "metadata": {
    "id": "tfXR1-kf_WQd"
   },
   "source": [
    "### Pregunta 5\n",
    "Haz un histograma (`hist`) de la columna `ROM_GB` del **data frame** `df`.\n",
    "\n",
    "El gráfico debe incluir un título y las columnas tener un color personalizado."
   ]
  },
  {
   "cell_type": "code",
   "execution_count": 75,
   "metadata": {
    "colab": {
     "base_uri": "https://localhost:8080/",
     "height": 544
    },
    "executionInfo": {
     "elapsed": 20,
     "status": "ok",
     "timestamp": 1689041632571,
     "user": {
      "displayName": "Luis Garrido",
      "userId": "04278279994950484810"
     },
     "user_tz": 240
    },
    "id": "Dfk9NBLQGGb3",
    "outputId": "29482b78-e36f-4feb-e10f-441bc3013b29"
   },
   "outputs": [
    {
     "name": "stderr",
     "output_type": "stream",
     "text": [
      "<ipython-input-75-4e6cc84d1d77>:9: MatplotlibDeprecationWarning: The get_cmap function was deprecated in Matplotlib 3.7 and will be removed two minor releases later. Use ``matplotlib.colormaps[name]`` or ``matplotlib.colormaps.get_cmap(obj)`` instead.\n",
      "  colors = cm.get_cmap('Set2')\n"
     ]
    },
    {
     "data": {
      "image/png": "[encoded data removed]",
      "text/plain": [
       "<Figure size 1000x500 with 1 Axes>"
      ]
     },
     "metadata": {},
     "output_type": "display_data"
    }
   ],
   "source": [
    "import matplotlib.cm as cm\n",
    "\n",
    "fig, ax = plt.subplots(figsize= (10,5))\n",
    "x = df['ROM_GB']\n",
    "n, bins, patches = ax.hist(x, color= 'red', bins=8, edgecolor= 'black') #bins='sturges'\n",
    "ax.set_title('Equipos vs ROM [GB]')\n",
    "ax.set_xlabel('ROM [GB]')\n",
    "ax.set_ylabel('Equipos moviles')\n",
    "colors = cm.get_cmap('Set2')\n",
    "for i, rect in enumerate(patches):\n",
    "    rect.set_fc(colors(i))\n",
    "plt.show()\n",
    "#print(n,bins,patches)"
   ]
  },
  {
   "cell_type": "markdown",
   "metadata": {
    "id": "U8QOkYQnBCDY"
   },
   "source": [
    "### Pregunta 6\n",
    "Haz un diagrama de dispersión (`scatter`) con las siguientes características: el eje X deberá indicar el contenido de la columna `Precio de lista`, mientras que el eje Y expresará el contenido de la columna `Precio de venta`.\n",
    "\n",
    "El diagrama debe incluir un título y los puntos tener un color personalizado."
   ]
  },
  {
   "cell_type": "code",
   "execution_count": 76,
   "metadata": {
    "colab": {
     "base_uri": "https://localhost:8080/",
     "height": 487
    },
    "executionInfo": {
     "elapsed": 413,
     "status": "ok",
     "timestamp": 1689041632969,
     "user": {
      "displayName": "Luis Garrido",
      "userId": "04278279994950484810"
     },
     "user_tz": 240
    },
    "id": "ttIgS7LAGHDm",
    "outputId": "bd77ea04-ebf0-4633-e0cb-327a32322740"
   },
   "outputs": [
    {
     "data": {
      "image/png": "[encoded data removed]",
      "text/plain": [
       "<Figure size 1000x500 with 1 Axes>"
      ]
     },
     "metadata": {},
     "output_type": "display_data"
    }
   ],
   "source": [
    "fig, ax = plt.subplots(figsize= (10,5))\n",
    "ax.scatter(df['Precio de lista'], df['Precio de venta'],c=df['Precio de lista'],marker='x',cmap='RdYlBu')\n",
    "ax.set_title('Precio de lista vs Precio de venta')\n",
    "ax.set_xlabel('Precio de lista')\n",
    "ax.set_ylabel('Precio de venta')\n",
    "plt.show()"
   ]
  },
  {
   "cell_type": "markdown",
   "metadata": {
    "id": "qWHZAMi2DZos"
   },
   "source": [
    "### Pregunta 7\n",
    "\n",
    "Con base en el diagrama de la **pregunta 6**, responde la siguiente pregunta: ¿A qué conclusión podrías llegar si observas únicamente la gráfica?"
   ]
  },
  {
   "cell_type": "markdown",
   "metadata": {
    "id": "Aql08i4fGIxs"
   },
   "source": [
    "> Existe una relación lineal entre ambas variables. Se podria calcular la linea de tendencia"
   ]
  },
  {
   "cell_type": "markdown",
   "metadata": {
    "id": "3H4LtqjhEGME"
   },
   "source": [
    "### Pregunta 8\n",
    "Utiliza el código para obtener la siguiente información (ubicada en `df`).\n",
    "\n",
    "- Promedio de los precios de venta de los modelos marca **Realme**\n",
    "- Máximo de estrellas de los modelos marca **Redmi**\n",
    "- Mínimo de Estrellas de los modelos marca **Redmi**"
   ]
  },
  {
   "cell_type": "code",
   "execution_count": 77,
   "metadata": {
    "colab": {
     "base_uri": "https://localhost:8080/",
     "height": 162
    },
    "executionInfo": {
     "elapsed": 148,
     "status": "ok",
     "timestamp": 1689041632984,
     "user": {
      "displayName": "Luis Garrido",
      "userId": "04278279994950484810"
     },
     "user_tz": 240
    },
    "id": "g6ELlA2lyVYb",
    "outputId": "6778ad99-a9b3-45c1-811d-159c62a9a222"
   },
   "outputs": [
    {
     "name": "stdout",
     "output_type": "stream",
     "text": [
      "Promedio precio de venta de la marca \u001b[1mRealme\u001b[0m:\n"
     ]
    },
    {
     "data": {
      "text/html": [
       "\n",
       "\n",
       "  <div id=\"df-20d662e5-40f8-4013-b72b-4463e4888f85\">\n",
       "    <div class=\"colab-df-container\">\n",
       "      <div>\n",
       "<style scoped>\n",
       "    .dataframe tbody tr th:only-of-type {\n",
       "        vertical-align: middle;\n",
       "    }\n",
       "\n",
       "    .dataframe tbody tr th {\n",
       "        vertical-align: top;\n",
       "    }\n",
       "\n",
       "    .dataframe thead tr th {\n",
       "        text-align: left;\n",
       "    }\n",
       "\n",
       "    .dataframe thead tr:last-of-type th {\n",
       "        text-align: right;\n",
       "    }\n",
       "</style>\n",
       "<table border=\"1\" class=\"dataframe\">\n",
       "  <thead>\n",
       "    <tr>\n",
       "      <th></th>\n",
       "      <th>Precio de venta</th>\n",
       "    </tr>\n",
       "    <tr>\n",
       "      <th></th>\n",
       "      <th>mean</th>\n",
       "    </tr>\n",
       "    <tr>\n",
       "      <th>Nombre Marca</th>\n",
       "      <th></th>\n",
       "    </tr>\n",
       "  </thead>\n",
       "  <tbody>\n",
       "    <tr>\n",
       "      <th>Realme</th>\n",
       "      <td>12423.2</td>\n",
       "    </tr>\n",
       "  </tbody>\n",
       "</table>\n",
       "</div>\n",
       "      <button class=\"colab-df-convert\" onclick=\"convertToInteractive('df-20d662e5-40f8-4013-b72b-4463e4888f85')\"\n",
       "              title=\"Convert this dataframe to an interactive table.\"\n",
       "              style=\"display:none;\">\n",
       "\n",
       "  <svg xmlns=\"http://www.w3.org/2000/svg\" height=\"24px\"viewBox=\"0 0 24 24\"\n",
       "       width=\"24px\">\n",
       "    <path d=\"M0 0h24v24H0V0z\" fill=\"none\"/>\n",
       "    <path d=\"M18.56 5.44l.94 2.06.94-2.06 2.06-.94-2.06-.94-.94-2.06-.94 2.06-2.06.94zm-11 1L8.5 8.5l.94-2.06 2.06-.94-2.06-.94L8.5 2.5l-.94 2.06-2.06.94zm10 10l.94 2.06.94-2.06 2.06-.94-2.06-.94-.94-2.06-.94 2.06-2.06.94z\"/><path d=\"M17.41 7.96l-1.37-1.37c-.4-.4-.92-.59-1.43-.59-.52 0-1.04.2-1.43.59L10.3 9.45l-7.72 7.72c-.78.78-.78 2.05 0 2.83L4 21.41c.39.39.9.59 1.41.59.51 0 1.02-.2 1.41-.59l7.78-7.78 2.81-2.81c.8-.78.8-2.07 0-2.86zM5.41 20L4 18.59l7.72-7.72 1.47 1.35L5.41 20z\"/>\n",
       "  </svg>\n",
       "      </button>\n",
       "\n",
       "\n",
       "\n",
       "    <div id=\"df-b81bb519-3da6-4b77-b0a5-d23efe4e06a0\">\n",
       "      <button class=\"colab-df-quickchart\" onclick=\"quickchart('df-b81bb519-3da6-4b77-b0a5-d23efe4e06a0')\"\n",
       "              title=\"Suggest charts.\"\n",
       "              style=\"display:none;\">\n",
       "\n",
       "<svg xmlns=\"http://www.w3.org/2000/svg\" height=\"24px\"viewBox=\"0 0 24 24\"\n",
       "     width=\"24px\">\n",
       "    <g>\n",
       "        <path d=\"M19 3H5c-1.1 0-2 .9-2 2v14c0 1.1.9 2 2 2h14c1.1 0 2-.9 2-2V5c0-1.1-.9-2-2-2zM9 17H7v-7h2v7zm4 0h-2V7h2v10zm4 0h-2v-4h2v4z\"/>\n",
       "    </g>\n",
       "</svg>\n",
       "      </button>\n",
       "    </div>\n",
       "\n",
       "<style>\n",
       "  .colab-df-quickchart {\n",
       "    background-color: #E8F0FE;\n",
       "    border: none;\n",
       "    border-radius: 50%;\n",
       "    cursor: pointer;\n",
       "    display: none;\n",
       "    fill: #1967D2;\n",
       "    height: 32px;\n",
       "    padding: 0 0 0 0;\n",
       "    width: 32px;\n",
       "  }\n",
       "\n",
       "  .colab-df-quickchart:hover {\n",
       "    background-color: #E2EBFA;\n",
       "    box-shadow: 0px 1px 2px rgba(60, 64, 67, 0.3), 0px 1px 3px 1px rgba(60, 64, 67, 0.15);\n",
       "    fill: #174EA6;\n",
       "  }\n",
       "\n",
       "  [theme=dark] .colab-df-quickchart {\n",
       "    background-color: #3B4455;\n",
       "    fill: #D2E3FC;\n",
       "  }\n",
       "\n",
       "  [theme=dark] .colab-df-quickchart:hover {\n",
       "    background-color: #434B5C;\n",
       "    box-shadow: 0px 1px 3px 1px rgba(0, 0, 0, 0.15);\n",
       "    filter: drop-shadow(0px 1px 2px rgba(0, 0, 0, 0.3));\n",
       "    fill: #FFFFFF;\n",
       "  }\n",
       "</style>\n",
       "\n",
       "    <script>\n",
       "      async function quickchart(key) {\n",
       "        const containerElement = document.querySelector('#' + key);\n",
       "        const charts = await google.colab.kernel.invokeFunction(\n",
       "            'suggestCharts', [key], {});\n",
       "      }\n",
       "    </script>\n",
       "\n",
       "      <script>\n",
       "\n",
       "function displayQuickchartButton(domScope) {\n",
       "  let quickchartButtonEl =\n",
       "    domScope.querySelector('#df-b81bb519-3da6-4b77-b0a5-d23efe4e06a0 button.colab-df-quickchart');\n",
       "  quickchartButtonEl.style.display =\n",
       "    google.colab.kernel.accessAllowed ? 'block' : 'none';\n",
       "}\n",
       "\n",
       "        displayQuickchartButton(document);\n",
       "      </script>\n",
       "      <style>\n",
       "    .colab-df-container {\n",
       "      display:flex;\n",
       "      flex-wrap:wrap;\n",
       "      gap: 12px;\n",
       "    }\n",
       "\n",
       "    .colab-df-convert {\n",
       "      background-color: #E8F0FE;\n",
       "      border: none;\n",
       "      border-radius: 50%;\n",
       "      cursor: pointer;\n",
       "      display: none;\n",
       "      fill: #1967D2;\n",
       "      height: 32px;\n",
       "      padding: 0 0 0 0;\n",
       "      width: 32px;\n",
       "    }\n",
       "\n",
       "    .colab-df-convert:hover {\n",
       "      background-color: #E2EBFA;\n",
       "      box-shadow: 0px 1px 2px rgba(60, 64, 67, 0.3), 0px 1px 3px 1px rgba(60, 64, 67, 0.15);\n",
       "      fill: #174EA6;\n",
       "    }\n",
       "\n",
       "    [theme=dark] .colab-df-convert {\n",
       "      background-color: #3B4455;\n",
       "      fill: #D2E3FC;\n",
       "    }\n",
       "\n",
       "    [theme=dark] .colab-df-convert:hover {\n",
       "      background-color: #434B5C;\n",
       "      box-shadow: 0px 1px 3px 1px rgba(0, 0, 0, 0.15);\n",
       "      filter: drop-shadow(0px 1px 2px rgba(0, 0, 0, 0.3));\n",
       "      fill: #FFFFFF;\n",
       "    }\n",
       "  </style>\n",
       "\n",
       "      <script>\n",
       "        const buttonEl =\n",
       "          document.querySelector('#df-20d662e5-40f8-4013-b72b-4463e4888f85 button.colab-df-convert');\n",
       "        buttonEl.style.display =\n",
       "          google.colab.kernel.accessAllowed ? 'block' : 'none';\n",
       "\n",
       "        async function convertToInteractive(key) {\n",
       "          const element = document.querySelector('#df-20d662e5-40f8-4013-b72b-4463e4888f85');\n",
       "          const dataTable =\n",
       "            await google.colab.kernel.invokeFunction('convertToInteractive',\n",
       "                                                     [key], {});\n",
       "          if (!dataTable) return;\n",
       "\n",
       "          const docLinkHtml = 'Like what you see? Visit the ' +\n",
       "            '<a target=\"_blank\" href=https://colab.research.google.com/notebooks/data_table.ipynb>data table notebook</a>'\n",
       "            + ' to learn more about interactive tables.';\n",
       "          element.innerHTML = '';\n",
       "          dataTable['output_type'] = 'display_data';\n",
       "          await google.colab.output.renderOutput(dataTable, element);\n",
       "          const docLink = document.createElement('div');\n",
       "          docLink.innerHTML = docLinkHtml;\n",
       "          element.appendChild(docLink);\n",
       "        }\n",
       "      </script>\n",
       "    </div>\n",
       "  </div>\n"
      ],
      "text/plain": [
       "             Precio de venta\n",
       "                        mean\n",
       "Nombre Marca                \n",
       "Realme               12423.2"
      ]
     },
     "execution_count": 77,
     "metadata": {},
     "output_type": "execute_result"
    }
   ],
   "source": [
    "print('Promedio precio de venta de la marca \\033[1mRealme\\033[0m:')\n",
    "df[df['Nombre Marca']=='Realme'].groupby('Nombre Marca')[['Precio de venta']].agg(['mean']).round(1)"
   ]
  },
  {
   "cell_type": "code",
   "execution_count": 78,
   "metadata": {
    "executionInfo": {
     "elapsed": 142,
     "status": "ok",
     "timestamp": 1689041632985,
     "user": {
      "displayName": "Luis Garrido",
      "userId": "04278279994950484810"
     },
     "user_tz": 240
    },
    "id": "1NpFQR_qyVYc"
   },
   "outputs": [],
   "source": [
    "# Si se requiere obtener los promedios de los modelos de la marca Realme, descomentar las siguientes filas.\n",
    "#print('Promedio de los precios de venta de los modelos de la marca \\033[1mRealme\\033[0m:')\n",
    "#df[df['Nombre Marca']=='Realme'].groupby('Modelo')[['Precio de venta']].agg(['min','max','mean']).round(1)"
   ]
  },
  {
   "cell_type": "code",
   "execution_count": 79,
   "metadata": {
    "colab": {
     "base_uri": "https://localhost:8080/",
     "height": 162
    },
    "executionInfo": {
     "elapsed": 142,
     "status": "ok",
     "timestamp": 1689041632986,
     "user": {
      "displayName": "Luis Garrido",
      "userId": "04278279994950484810"
     },
     "user_tz": 240
    },
    "id": "qLzHOXz-yVYd",
    "outputId": "b1e809ec-5f78-43cb-cc12-a2482cb65981"
   },
   "outputs": [
    {
     "name": "stdout",
     "output_type": "stream",
     "text": [
      "Máximo y mínimo de estrellas de la marca \u001b[1mRedmi\u001b[0m\n"
     ]
    },
    {
     "data": {
      "text/html": [
       "\n",
       "\n",
       "  <div id=\"df-50efb76b-dda8-4f71-a07f-ce861b7e9eae\">\n",
       "    <div class=\"colab-df-container\">\n",
       "      <div>\n",
       "<style scoped>\n",
       "    .dataframe tbody tr th:only-of-type {\n",
       "        vertical-align: middle;\n",
       "    }\n",
       "\n",
       "    .dataframe tbody tr th {\n",
       "        vertical-align: top;\n",
       "    }\n",
       "\n",
       "    .dataframe thead tr th {\n",
       "        text-align: left;\n",
       "    }\n",
       "\n",
       "    .dataframe thead tr:last-of-type th {\n",
       "        text-align: right;\n",
       "    }\n",
       "</style>\n",
       "<table border=\"1\" class=\"dataframe\">\n",
       "  <thead>\n",
       "    <tr>\n",
       "      <th></th>\n",
       "      <th colspan=\"2\" halign=\"left\">Estrellas</th>\n",
       "    </tr>\n",
       "    <tr>\n",
       "      <th></th>\n",
       "      <th>min</th>\n",
       "      <th>max</th>\n",
       "    </tr>\n",
       "    <tr>\n",
       "      <th>Nombre Marca</th>\n",
       "      <th></th>\n",
       "      <th></th>\n",
       "    </tr>\n",
       "  </thead>\n",
       "  <tbody>\n",
       "    <tr>\n",
       "      <th>Redmi</th>\n",
       "      <td>4.2</td>\n",
       "      <td>4.4</td>\n",
       "    </tr>\n",
       "  </tbody>\n",
       "</table>\n",
       "</div>\n",
       "      <button class=\"colab-df-convert\" onclick=\"convertToInteractive('df-50efb76b-dda8-4f71-a07f-ce861b7e9eae')\"\n",
       "              title=\"Convert this dataframe to an interactive table.\"\n",
       "              style=\"display:none;\">\n",
       "\n",
       "  <svg xmlns=\"http://www.w3.org/2000/svg\" height=\"24px\"viewBox=\"0 0 24 24\"\n",
       "       width=\"24px\">\n",
       "    <path d=\"M0 0h24v24H0V0z\" fill=\"none\"/>\n",
       "    <path d=\"M18.56 5.44l.94 2.06.94-2.06 2.06-.94-2.06-.94-.94-2.06-.94 2.06-2.06.94zm-11 1L8.5 8.5l.94-2.06 2.06-.94-2.06-.94L8.5 2.5l-.94 2.06-2.06.94zm10 10l.94 2.06.94-2.06 2.06-.94-2.06-.94-.94-2.06-.94 2.06-2.06.94z\"/><path d=\"M17.41 7.96l-1.37-1.37c-.4-.4-.92-.59-1.43-.59-.52 0-1.04.2-1.43.59L10.3 9.45l-7.72 7.72c-.78.78-.78 2.05 0 2.83L4 21.41c.39.39.9.59 1.41.59.51 0 1.02-.2 1.41-.59l7.78-7.78 2.81-2.81c.8-.78.8-2.07 0-2.86zM5.41 20L4 18.59l7.72-7.72 1.47 1.35L5.41 20z\"/>\n",
       "  </svg>\n",
       "      </button>\n",
       "\n",
       "\n",
       "\n",
       "    <div id=\"df-f607bbed-92fc-4592-94ce-e7251af8a034\">\n",
       "      <button class=\"colab-df-quickchart\" onclick=\"quickchart('df-f607bbed-92fc-4592-94ce-e7251af8a034')\"\n",
       "              title=\"Suggest charts.\"\n",
       "              style=\"display:none;\">\n",
       "\n",
       "<svg xmlns=\"http://www.w3.org/2000/svg\" height=\"24px\"viewBox=\"0 0 24 24\"\n",
       "     width=\"24px\">\n",
       "    <g>\n",
       "        <path d=\"M19 3H5c-1.1 0-2 .9-2 2v14c0 1.1.9 2 2 2h14c1.1 0 2-.9 2-2V5c0-1.1-.9-2-2-2zM9 17H7v-7h2v7zm4 0h-2V7h2v10zm4 0h-2v-4h2v4z\"/>\n",
       "    </g>\n",
       "</svg>\n",
       "      </button>\n",
       "    </div>\n",
       "\n",
       "<style>\n",
       "  .colab-df-quickchart {\n",
       "    background-color: #E8F0FE;\n",
       "    border: none;\n",
       "    border-radius: 50%;\n",
       "    cursor: pointer;\n",
       "    display: none;\n",
       "    fill: #1967D2;\n",
       "    height: 32px;\n",
       "    padding: 0 0 0 0;\n",
       "    width: 32px;\n",
       "  }\n",
       "\n",
       "  .colab-df-quickchart:hover {\n",
       "    background-color: #E2EBFA;\n",
       "    box-shadow: 0px 1px 2px rgba(60, 64, 67, 0.3), 0px 1px 3px 1px rgba(60, 64, 67, 0.15);\n",
       "    fill: #174EA6;\n",
       "  }\n",
       "\n",
       "  [theme=dark] .colab-df-quickchart {\n",
       "    background-color: #3B4455;\n",
       "    fill: #D2E3FC;\n",
       "  }\n",
       "\n",
       "  [theme=dark] .colab-df-quickchart:hover {\n",
       "    background-color: #434B5C;\n",
       "    box-shadow: 0px 1px 3px 1px rgba(0, 0, 0, 0.15);\n",
       "    filter: drop-shadow(0px 1px 2px rgba(0, 0, 0, 0.3));\n",
       "    fill: #FFFFFF;\n",
       "  }\n",
       "</style>\n",
       "\n",
       "    <script>\n",
       "      async function quickchart(key) {\n",
       "        const containerElement = document.querySelector('#' + key);\n",
       "        const charts = await google.colab.kernel.invokeFunction(\n",
       "            'suggestCharts', [key], {});\n",
       "      }\n",
       "    </script>\n",
       "\n",
       "      <script>\n",
       "\n",
       "function displayQuickchartButton(domScope) {\n",
       "  let quickchartButtonEl =\n",
       "    domScope.querySelector('#df-f607bbed-92fc-4592-94ce-e7251af8a034 button.colab-df-quickchart');\n",
       "  quickchartButtonEl.style.display =\n",
       "    google.colab.kernel.accessAllowed ? 'block' : 'none';\n",
       "}\n",
       "\n",
       "        displayQuickchartButton(document);\n",
       "      </script>\n",
       "      <style>\n",
       "    .colab-df-container {\n",
       "      display:flex;\n",
       "      flex-wrap:wrap;\n",
       "      gap: 12px;\n",
       "    }\n",
       "\n",
       "    .colab-df-convert {\n",
       "      background-color: #E8F0FE;\n",
       "      border: none;\n",
       "      border-radius: 50%;\n",
       "      cursor: pointer;\n",
       "      display: none;\n",
       "      fill: #1967D2;\n",
       "      height: 32px;\n",
       "      padding: 0 0 0 0;\n",
       "      width: 32px;\n",
       "    }\n",
       "\n",
       "    .colab-df-convert:hover {\n",
       "      background-color: #E2EBFA;\n",
       "      box-shadow: 0px 1px 2px rgba(60, 64, 67, 0.3), 0px 1px 3px 1px rgba(60, 64, 67, 0.15);\n",
       "      fill: #174EA6;\n",
       "    }\n",
       "\n",
       "    [theme=dark] .colab-df-convert {\n",
       "      background-color: #3B4455;\n",
       "      fill: #D2E3FC;\n",
       "    }\n",
       "\n",
       "    [theme=dark] .colab-df-convert:hover {\n",
       "      background-color: #434B5C;\n",
       "      box-shadow: 0px 1px 3px 1px rgba(0, 0, 0, 0.15);\n",
       "      filter: drop-shadow(0px 1px 2px rgba(0, 0, 0, 0.3));\n",
       "      fill: #FFFFFF;\n",
       "    }\n",
       "  </style>\n",
       "\n",
       "      <script>\n",
       "        const buttonEl =\n",
       "          document.querySelector('#df-50efb76b-dda8-4f71-a07f-ce861b7e9eae button.colab-df-convert');\n",
       "        buttonEl.style.display =\n",
       "          google.colab.kernel.accessAllowed ? 'block' : 'none';\n",
       "\n",
       "        async function convertToInteractive(key) {\n",
       "          const element = document.querySelector('#df-50efb76b-dda8-4f71-a07f-ce861b7e9eae');\n",
       "          const dataTable =\n",
       "            await google.colab.kernel.invokeFunction('convertToInteractive',\n",
       "                                                     [key], {});\n",
       "          if (!dataTable) return;\n",
       "\n",
       "          const docLinkHtml = 'Like what you see? Visit the ' +\n",
       "            '<a target=\"_blank\" href=https://colab.research.google.com/notebooks/data_table.ipynb>data table notebook</a>'\n",
       "            + ' to learn more about interactive tables.';\n",
       "          element.innerHTML = '';\n",
       "          dataTable['output_type'] = 'display_data';\n",
       "          await google.colab.output.renderOutput(dataTable, element);\n",
       "          const docLink = document.createElement('div');\n",
       "          docLink.innerHTML = docLinkHtml;\n",
       "          element.appendChild(docLink);\n",
       "        }\n",
       "      </script>\n",
       "    </div>\n",
       "  </div>\n"
      ],
      "text/plain": [
       "             Estrellas     \n",
       "                   min  max\n",
       "Nombre Marca               \n",
       "Redmi              4.2  4.4"
      ]
     },
     "execution_count": 79,
     "metadata": {},
     "output_type": "execute_result"
    }
   ],
   "source": [
    "print('Máximo y mínimo de estrellas de la marca \\033[1mRedmi\\033[0m')\n",
    "df[df['Nombre Marca']=='Redmi'].groupby('Nombre Marca')[['Estrellas']].agg(['min', 'max'])"
   ]
  },
  {
   "cell_type": "code",
   "execution_count": 80,
   "metadata": {
    "executionInfo": {
     "elapsed": 139,
     "status": "ok",
     "timestamp": 1689041632988,
     "user": {
      "displayName": "Luis Garrido",
      "userId": "04278279994950484810"
     },
     "user_tz": 240
    },
    "id": "Dsu6-QhAyVYd"
   },
   "outputs": [],
   "source": [
    "#Si se requiere obtener los min y max de estrellas de los modelos de la marca Redmi, descomentar las siguientes filas.\n",
    "#print('Máximo y mínimo de estrellas de los modelos de la marca \\033[1mRedmi\\033[0m')\n",
    "#df[df['Nombre Marca']=='Redmi'].groupby('Modelo')[['Estrellas']].agg(['min', 'max'])"
   ]
  },
  {
   "cell_type": "markdown",
   "metadata": {
    "id": "ds4EGI0SHEKB"
   },
   "source": [
    "### Pregunta 9\n",
    "Utiliza un **Groupby** para mostrar la cantidad de estrellas promedio que cada marca tiene en `df`."
   ]
  },
  {
   "cell_type": "code",
   "execution_count": 81,
   "metadata": {
    "colab": {
     "base_uri": "https://localhost:8080/",
     "height": 489
    },
    "executionInfo": {
     "elapsed": 139,
     "status": "ok",
     "timestamp": 1689041632989,
     "user": {
      "displayName": "Luis Garrido",
      "userId": "04278279994950484810"
     },
     "user_tz": 240
    },
    "id": "U_iMhR_gGLBV",
    "outputId": "0f178a1c-9947-4768-900e-4c12752e58b8"
   },
   "outputs": [
    {
     "data": {
      "text/html": [
       "\n",
       "\n",
       "  <div id=\"df-e0f742b9-cca0-4b59-aaea-4bd6f8146950\">\n",
       "    <div class=\"colab-df-container\">\n",
       "      <div>\n",
       "<style scoped>\n",
       "    .dataframe tbody tr th:only-of-type {\n",
       "        vertical-align: middle;\n",
       "    }\n",
       "\n",
       "    .dataframe tbody tr th {\n",
       "        vertical-align: top;\n",
       "    }\n",
       "\n",
       "    .dataframe thead tr th {\n",
       "        text-align: left;\n",
       "    }\n",
       "\n",
       "    .dataframe thead tr:last-of-type th {\n",
       "        text-align: right;\n",
       "    }\n",
       "</style>\n",
       "<table border=\"1\" class=\"dataframe\">\n",
       "  <thead>\n",
       "    <tr>\n",
       "      <th></th>\n",
       "      <th>Estrellas</th>\n",
       "    </tr>\n",
       "    <tr>\n",
       "      <th></th>\n",
       "      <th>mean</th>\n",
       "    </tr>\n",
       "    <tr>\n",
       "      <th>Nombre Marca</th>\n",
       "      <th></th>\n",
       "    </tr>\n",
       "  </thead>\n",
       "  <tbody>\n",
       "    <tr>\n",
       "      <th>Apple</th>\n",
       "      <td>4.6</td>\n",
       "    </tr>\n",
       "    <tr>\n",
       "      <th>I Kall</th>\n",
       "      <td>3.0</td>\n",
       "    </tr>\n",
       "    <tr>\n",
       "      <th>Infinix</th>\n",
       "      <td>4.4</td>\n",
       "    </tr>\n",
       "    <tr>\n",
       "      <th>Lava</th>\n",
       "      <td>4.1</td>\n",
       "    </tr>\n",
       "    <tr>\n",
       "      <th>Motorola</th>\n",
       "      <td>4.4</td>\n",
       "    </tr>\n",
       "    <tr>\n",
       "      <th>Nokia</th>\n",
       "      <td>4.3</td>\n",
       "    </tr>\n",
       "    <tr>\n",
       "      <th>Oppo</th>\n",
       "      <td>4.3</td>\n",
       "    </tr>\n",
       "    <tr>\n",
       "      <th>Poco</th>\n",
       "      <td>4.5</td>\n",
       "    </tr>\n",
       "    <tr>\n",
       "      <th>Realme</th>\n",
       "      <td>4.5</td>\n",
       "    </tr>\n",
       "    <tr>\n",
       "      <th>Redmi</th>\n",
       "      <td>4.3</td>\n",
       "    </tr>\n",
       "    <tr>\n",
       "      <th>Tecno</th>\n",
       "      <td>4.3</td>\n",
       "    </tr>\n",
       "    <tr>\n",
       "      <th>Vivo</th>\n",
       "      <td>4.4</td>\n",
       "    </tr>\n",
       "  </tbody>\n",
       "</table>\n",
       "</div>\n",
       "      <button class=\"colab-df-convert\" onclick=\"convertToInteractive('df-e0f742b9-cca0-4b59-aaea-4bd6f8146950')\"\n",
       "              title=\"Convert this dataframe to an interactive table.\"\n",
       "              style=\"display:none;\">\n",
       "\n",
       "  <svg xmlns=\"http://www.w3.org/2000/svg\" height=\"24px\"viewBox=\"0 0 24 24\"\n",
       "       width=\"24px\">\n",
       "    <path d=\"M0 0h24v24H0V0z\" fill=\"none\"/>\n",
       "    <path d=\"M18.56 5.44l.94 2.06.94-2.06 2.06-.94-2.06-.94-.94-2.06-.94 2.06-2.06.94zm-11 1L8.5 8.5l.94-2.06 2.06-.94-2.06-.94L8.5 2.5l-.94 2.06-2.06.94zm10 10l.94 2.06.94-2.06 2.06-.94-2.06-.94-.94-2.06-.94 2.06-2.06.94z\"/><path d=\"M17.41 7.96l-1.37-1.37c-.4-.4-.92-.59-1.43-.59-.52 0-1.04.2-1.43.59L10.3 9.45l-7.72 7.72c-.78.78-.78 2.05 0 2.83L4 21.41c.39.39.9.59 1.41.59.51 0 1.02-.2 1.41-.59l7.78-7.78 2.81-2.81c.8-.78.8-2.07 0-2.86zM5.41 20L4 18.59l7.72-7.72 1.47 1.35L5.41 20z\"/>\n",
       "  </svg>\n",
       "      </button>\n",
       "\n",
       "\n",
       "\n",
       "    <div id=\"df-b243ac33-a1e2-475c-90b0-b2bd71b4cf77\">\n",
       "      <button class=\"colab-df-quickchart\" onclick=\"quickchart('df-b243ac33-a1e2-475c-90b0-b2bd71b4cf77')\"\n",
       "              title=\"Suggest charts.\"\n",
       "              style=\"display:none;\">\n",
       "\n",
       "<svg xmlns=\"http://www.w3.org/2000/svg\" height=\"24px\"viewBox=\"0 0 24 24\"\n",
       "     width=\"24px\">\n",
       "    <g>\n",
       "        <path d=\"M19 3H5c-1.1 0-2 .9-2 2v14c0 1.1.9 2 2 2h14c1.1 0 2-.9 2-2V5c0-1.1-.9-2-2-2zM9 17H7v-7h2v7zm4 0h-2V7h2v10zm4 0h-2v-4h2v4z\"/>\n",
       "    </g>\n",
       "</svg>\n",
       "      </button>\n",
       "    </div>\n",
       "\n",
       "<style>\n",
       "  .colab-df-quickchart {\n",
       "    background-color: #E8F0FE;\n",
       "    border: none;\n",
       "    border-radius: 50%;\n",
       "    cursor: pointer;\n",
       "    display: none;\n",
       "    fill: #1967D2;\n",
       "    height: 32px;\n",
       "    padding: 0 0 0 0;\n",
       "    width: 32px;\n",
       "  }\n",
       "\n",
       "  .colab-df-quickchart:hover {\n",
       "    background-color: #E2EBFA;\n",
       "    box-shadow: 0px 1px 2px rgba(60, 64, 67, 0.3), 0px 1px 3px 1px rgba(60, 64, 67, 0.15);\n",
       "    fill: #174EA6;\n",
       "  }\n",
       "\n",
       "  [theme=dark] .colab-df-quickchart {\n",
       "    background-color: #3B4455;\n",
       "    fill: #D2E3FC;\n",
       "  }\n",
       "\n",
       "  [theme=dark] .colab-df-quickchart:hover {\n",
       "    background-color: #434B5C;\n",
       "    box-shadow: 0px 1px 3px 1px rgba(0, 0, 0, 0.15);\n",
       "    filter: drop-shadow(0px 1px 2px rgba(0, 0, 0, 0.3));\n",
       "    fill: #FFFFFF;\n",
       "  }\n",
       "</style>\n",
       "\n",
       "    <script>\n",
       "      async function quickchart(key) {\n",
       "        const containerElement = document.querySelector('#' + key);\n",
       "        const charts = await google.colab.kernel.invokeFunction(\n",
       "            'suggestCharts', [key], {});\n",
       "      }\n",
       "    </script>\n",
       "\n",
       "      <script>\n",
       "\n",
       "function displayQuickchartButton(domScope) {\n",
       "  let quickchartButtonEl =\n",
       "    domScope.querySelector('#df-b243ac33-a1e2-475c-90b0-b2bd71b4cf77 button.colab-df-quickchart');\n",
       "  quickchartButtonEl.style.display =\n",
       "    google.colab.kernel.accessAllowed ? 'block' : 'none';\n",
       "}\n",
       "\n",
       "        displayQuickchartButton(document);\n",
       "      </script>\n",
       "      <style>\n",
       "    .colab-df-container {\n",
       "      display:flex;\n",
       "      flex-wrap:wrap;\n",
       "      gap: 12px;\n",
       "    }\n",
       "\n",
       "    .colab-df-convert {\n",
       "      background-color: #E8F0FE;\n",
       "      border: none;\n",
       "      border-radius: 50%;\n",
       "      cursor: pointer;\n",
       "      display: none;\n",
       "      fill: #1967D2;\n",
       "      height: 32px;\n",
       "      padding: 0 0 0 0;\n",
       "      width: 32px;\n",
       "    }\n",
       "\n",
       "    .colab-df-convert:hover {\n",
       "      background-color: #E2EBFA;\n",
       "      box-shadow: 0px 1px 2px rgba(60, 64, 67, 0.3), 0px 1px 3px 1px rgba(60, 64, 67, 0.15);\n",
       "      fill: #174EA6;\n",
       "    }\n",
       "\n",
       "    [theme=dark] .colab-df-convert {\n",
       "      background-color: #3B4455;\n",
       "      fill: #D2E3FC;\n",
       "    }\n",
       "\n",
       "    [theme=dark] .colab-df-convert:hover {\n",
       "      background-color: #434B5C;\n",
       "      box-shadow: 0px 1px 3px 1px rgba(0, 0, 0, 0.15);\n",
       "      filter: drop-shadow(0px 1px 2px rgba(0, 0, 0, 0.3));\n",
       "      fill: #FFFFFF;\n",
       "    }\n",
       "  </style>\n",
       "\n",
       "      <script>\n",
       "        const buttonEl =\n",
       "          document.querySelector('#df-e0f742b9-cca0-4b59-aaea-4bd6f8146950 button.colab-df-convert');\n",
       "        buttonEl.style.display =\n",
       "          google.colab.kernel.accessAllowed ? 'block' : 'none';\n",
       "\n",
       "        async function convertToInteractive(key) {\n",
       "          const element = document.querySelector('#df-e0f742b9-cca0-4b59-aaea-4bd6f8146950');\n",
       "          const dataTable =\n",
       "            await google.colab.kernel.invokeFunction('convertToInteractive',\n",
       "                                                     [key], {});\n",
       "          if (!dataTable) return;\n",
       "\n",
       "          const docLinkHtml = 'Like what you see? Visit the ' +\n",
       "            '<a target=\"_blank\" href=https://colab.research.google.com/notebooks/data_table.ipynb>data table notebook</a>'\n",
       "            + ' to learn more about interactive tables.';\n",
       "          element.innerHTML = '';\n",
       "          dataTable['output_type'] = 'display_data';\n",
       "          await google.colab.output.renderOutput(dataTable, element);\n",
       "          const docLink = document.createElement('div');\n",
       "          docLink.innerHTML = docLinkHtml;\n",
       "          element.appendChild(docLink);\n",
       "        }\n",
       "      </script>\n",
       "    </div>\n",
       "  </div>\n"
      ],
      "text/plain": [
       "             Estrellas\n",
       "                  mean\n",
       "Nombre Marca          \n",
       "Apple              4.6\n",
       "I Kall             3.0\n",
       "Infinix            4.4\n",
       "Lava               4.1\n",
       "Motorola           4.4\n",
       "Nokia              4.3\n",
       "Oppo               4.3\n",
       "Poco               4.5\n",
       "Realme             4.5\n",
       "Redmi              4.3\n",
       "Tecno              4.3\n",
       "Vivo               4.4"
      ]
     },
     "execution_count": 81,
     "metadata": {},
     "output_type": "execute_result"
    }
   ],
   "source": [
    "df.groupby('Nombre Marca')[['Estrellas']].agg(['mean']).round(1)"
   ]
  },
  {
   "cell_type": "markdown",
   "metadata": {
    "id": "ALRDH3eRHkZN"
   },
   "source": [
    "### Pregunta 10\n",
    "¿Qué otro dato puedes obtener de `df` y cómo lo extraerías?"
   ]
  },
  {
   "cell_type": "code",
   "execution_count": 82,
   "metadata": {
    "colab": {
     "base_uri": "https://localhost:8080/",
     "height": 187
    },
    "executionInfo": {
     "elapsed": 138,
     "status": "ok",
     "timestamp": 1689041632991,
     "user": {
      "displayName": "Luis Garrido",
      "userId": "04278279994950484810"
     },
     "user_tz": 240
    },
    "id": "9HUy8LdgGLvM",
    "outputId": "df0630c5-4f51-4639-cc5d-1632d5139a3f"
   },
   "outputs": [
    {
     "data": {
      "text/html": [
       "\n",
       "\n",
       "  <div id=\"df-c0666313-181b-4068-99a5-fabe7265c4cc\">\n",
       "    <div class=\"colab-df-container\">\n",
       "      <div>\n",
       "<style scoped>\n",
       "    .dataframe tbody tr th:only-of-type {\n",
       "        vertical-align: middle;\n",
       "    }\n",
       "\n",
       "    .dataframe tbody tr th {\n",
       "        vertical-align: top;\n",
       "    }\n",
       "\n",
       "    .dataframe thead th {\n",
       "        text-align: right;\n",
       "    }\n",
       "</style>\n",
       "<table border=\"1\" class=\"dataframe\">\n",
       "  <thead>\n",
       "    <tr style=\"text-align: right;\">\n",
       "      <th></th>\n",
       "      <th>ID Marca</th>\n",
       "      <th>Nombre Marca</th>\n",
       "      <th>Modelo</th>\n",
       "      <th>RAM_GB</th>\n",
       "      <th>ROM_GB</th>\n",
       "      <th>Calificaciones</th>\n",
       "      <th>Resenas</th>\n",
       "      <th>Estrellas</th>\n",
       "      <th>Precio de lista</th>\n",
       "      <th>Precio de venta</th>\n",
       "    </tr>\n",
       "  </thead>\n",
       "  <tbody>\n",
       "    <tr>\n",
       "      <th>0</th>\n",
       "      <td>1</td>\n",
       "      <td>Apple</td>\n",
       "      <td>Apple iPhone XR (Black, 64 GB)</td>\n",
       "      <td>0</td>\n",
       "      <td>32</td>\n",
       "      <td>11572</td>\n",
       "      <td>975</td>\n",
       "      <td>4.6</td>\n",
       "      <td>52500</td>\n",
       "      <td>46999</td>\n",
       "    </tr>\n",
       "    <tr>\n",
       "      <th>1</th>\n",
       "      <td>1</td>\n",
       "      <td>Apple</td>\n",
       "      <td>Apple iPhone SE (White, 64 GB)</td>\n",
       "      <td>0</td>\n",
       "      <td>64</td>\n",
       "      <td>12954</td>\n",
       "      <td>1298</td>\n",
       "      <td>4.5</td>\n",
       "      <td>42500</td>\n",
       "      <td>40999</td>\n",
       "    </tr>\n",
       "    <tr>\n",
       "      <th>2</th>\n",
       "      <td>1</td>\n",
       "      <td>Apple</td>\n",
       "      <td>Apple iPhone SE (Black, 64 GB)</td>\n",
       "      <td>0</td>\n",
       "      <td>32</td>\n",
       "      <td>12954</td>\n",
       "      <td>1298</td>\n",
       "      <td>4.5</td>\n",
       "      <td>42500</td>\n",
       "      <td>40999</td>\n",
       "    </tr>\n",
       "  </tbody>\n",
       "</table>\n",
       "</div>\n",
       "      <button class=\"colab-df-convert\" onclick=\"convertToInteractive('df-c0666313-181b-4068-99a5-fabe7265c4cc')\"\n",
       "              title=\"Convert this dataframe to an interactive table.\"\n",
       "              style=\"display:none;\">\n",
       "\n",
       "  <svg xmlns=\"http://www.w3.org/2000/svg\" height=\"24px\"viewBox=\"0 0 24 24\"\n",
       "       width=\"24px\">\n",
       "    <path d=\"M0 0h24v24H0V0z\" fill=\"none\"/>\n",
       "    <path d=\"M18.56 5.44l.94 2.06.94-2.06 2.06-.94-2.06-.94-.94-2.06-.94 2.06-2.06.94zm-11 1L8.5 8.5l.94-2.06 2.06-.94-2.06-.94L8.5 2.5l-.94 2.06-2.06.94zm10 10l.94 2.06.94-2.06 2.06-.94-2.06-.94-.94-2.06-.94 2.06-2.06.94z\"/><path d=\"M17.41 7.96l-1.37-1.37c-.4-.4-.92-.59-1.43-.59-.52 0-1.04.2-1.43.59L10.3 9.45l-7.72 7.72c-.78.78-.78 2.05 0 2.83L4 21.41c.39.39.9.59 1.41.59.51 0 1.02-.2 1.41-.59l7.78-7.78 2.81-2.81c.8-.78.8-2.07 0-2.86zM5.41 20L4 18.59l7.72-7.72 1.47 1.35L5.41 20z\"/>\n",
       "  </svg>\n",
       "      </button>\n",
       "\n",
       "\n",
       "\n",
       "    <div id=\"df-83da6b4b-49ac-4360-bd13-7faef516a7aa\">\n",
       "      <button class=\"colab-df-quickchart\" onclick=\"quickchart('df-83da6b4b-49ac-4360-bd13-7faef516a7aa')\"\n",
       "              title=\"Suggest charts.\"\n",
       "              style=\"display:none;\">\n",
       "\n",
       "<svg xmlns=\"http://www.w3.org/2000/svg\" height=\"24px\"viewBox=\"0 0 24 24\"\n",
       "     width=\"24px\">\n",
       "    <g>\n",
       "        <path d=\"M19 3H5c-1.1 0-2 .9-2 2v14c0 1.1.9 2 2 2h14c1.1 0 2-.9 2-2V5c0-1.1-.9-2-2-2zM9 17H7v-7h2v7zm4 0h-2V7h2v10zm4 0h-2v-4h2v4z\"/>\n",
       "    </g>\n",
       "</svg>\n",
       "      </button>\n",
       "    </div>\n",
       "\n",
       "<style>\n",
       "  .colab-df-quickchart {\n",
       "    background-color: #E8F0FE;\n",
       "    border: none;\n",
       "    border-radius: 50%;\n",
       "    cursor: pointer;\n",
       "    display: none;\n",
       "    fill: #1967D2;\n",
       "    height: 32px;\n",
       "    padding: 0 0 0 0;\n",
       "    width: 32px;\n",
       "  }\n",
       "\n",
       "  .colab-df-quickchart:hover {\n",
       "    background-color: #E2EBFA;\n",
       "    box-shadow: 0px 1px 2px rgba(60, 64, 67, 0.3), 0px 1px 3px 1px rgba(60, 64, 67, 0.15);\n",
       "    fill: #174EA6;\n",
       "  }\n",
       "\n",
       "  [theme=dark] .colab-df-quickchart {\n",
       "    background-color: #3B4455;\n",
       "    fill: #D2E3FC;\n",
       "  }\n",
       "\n",
       "  [theme=dark] .colab-df-quickchart:hover {\n",
       "    background-color: #434B5C;\n",
       "    box-shadow: 0px 1px 3px 1px rgba(0, 0, 0, 0.15);\n",
       "    filter: drop-shadow(0px 1px 2px rgba(0, 0, 0, 0.3));\n",
       "    fill: #FFFFFF;\n",
       "  }\n",
       "</style>\n",
       "\n",
       "    <script>\n",
       "      async function quickchart(key) {\n",
       "        const containerElement = document.querySelector('#' + key);\n",
       "        const charts = await google.colab.kernel.invokeFunction(\n",
       "            'suggestCharts', [key], {});\n",
       "      }\n",
       "    </script>\n",
       "\n",
       "      <script>\n",
       "\n",
       "function displayQuickchartButton(domScope) {\n",
       "  let quickchartButtonEl =\n",
       "    domScope.querySelector('#df-83da6b4b-49ac-4360-bd13-7faef516a7aa button.colab-df-quickchart');\n",
       "  quickchartButtonEl.style.display =\n",
       "    google.colab.kernel.accessAllowed ? 'block' : 'none';\n",
       "}\n",
       "\n",
       "        displayQuickchartButton(document);\n",
       "      </script>\n",
       "      <style>\n",
       "    .colab-df-container {\n",
       "      display:flex;\n",
       "      flex-wrap:wrap;\n",
       "      gap: 12px;\n",
       "    }\n",
       "\n",
       "    .colab-df-convert {\n",
       "      background-color: #E8F0FE;\n",
       "      border: none;\n",
       "      border-radius: 50%;\n",
       "      cursor: pointer;\n",
       "      display: none;\n",
       "      fill: #1967D2;\n",
       "      height: 32px;\n",
       "      padding: 0 0 0 0;\n",
       "      width: 32px;\n",
       "    }\n",
       "\n",
       "    .colab-df-convert:hover {\n",
       "      background-color: #E2EBFA;\n",
       "      box-shadow: 0px 1px 2px rgba(60, 64, 67, 0.3), 0px 1px 3px 1px rgba(60, 64, 67, 0.15);\n",
       "      fill: #174EA6;\n",
       "    }\n",
       "\n",
       "    [theme=dark] .colab-df-convert {\n",
       "      background-color: #3B4455;\n",
       "      fill: #D2E3FC;\n",
       "    }\n",
       "\n",
       "    [theme=dark] .colab-df-convert:hover {\n",
       "      background-color: #434B5C;\n",
       "      box-shadow: 0px 1px 3px 1px rgba(0, 0, 0, 0.15);\n",
       "      filter: drop-shadow(0px 1px 2px rgba(0, 0, 0, 0.3));\n",
       "      fill: #FFFFFF;\n",
       "    }\n",
       "  </style>\n",
       "\n",
       "      <script>\n",
       "        const buttonEl =\n",
       "          document.querySelector('#df-c0666313-181b-4068-99a5-fabe7265c4cc button.colab-df-convert');\n",
       "        buttonEl.style.display =\n",
       "          google.colab.kernel.accessAllowed ? 'block' : 'none';\n",
       "\n",
       "        async function convertToInteractive(key) {\n",
       "          const element = document.querySelector('#df-c0666313-181b-4068-99a5-fabe7265c4cc');\n",
       "          const dataTable =\n",
       "            await google.colab.kernel.invokeFunction('convertToInteractive',\n",
       "                                                     [key], {});\n",
       "          if (!dataTable) return;\n",
       "\n",
       "          const docLinkHtml = 'Like what you see? Visit the ' +\n",
       "            '<a target=\"_blank\" href=https://colab.research.google.com/notebooks/data_table.ipynb>data table notebook</a>'\n",
       "            + ' to learn more about interactive tables.';\n",
       "          element.innerHTML = '';\n",
       "          dataTable['output_type'] = 'display_data';\n",
       "          await google.colab.output.renderOutput(dataTable, element);\n",
       "          const docLink = document.createElement('div');\n",
       "          docLink.innerHTML = docLinkHtml;\n",
       "          element.appendChild(docLink);\n",
       "        }\n",
       "      </script>\n",
       "    </div>\n",
       "  </div>\n"
      ],
      "text/plain": [
       "   ID Marca Nombre Marca                          Modelo  RAM_GB  ROM_GB  \\\n",
       "0         1        Apple  Apple iPhone XR (Black, 64 GB)       0      32   \n",
       "1         1        Apple  Apple iPhone SE (White, 64 GB)       0      64   \n",
       "2         1        Apple  Apple iPhone SE (Black, 64 GB)       0      32   \n",
       "\n",
       "   Calificaciones  Resenas  Estrellas  Precio de lista  Precio de venta  \n",
       "0           11572      975        4.6            52500            46999  \n",
       "1           12954     1298        4.5            42500            40999  \n",
       "2           12954     1298        4.5            42500            40999  "
      ]
     },
     "execution_count": 82,
     "metadata": {},
     "output_type": "execute_result"
    }
   ],
   "source": [
    "df.head(3)"
   ]
  },
  {
   "cell_type": "code",
   "execution_count": 83,
   "metadata": {
    "colab": {
     "base_uri": "https://localhost:8080/"
    },
    "executionInfo": {
     "elapsed": 137,
     "status": "ok",
     "timestamp": 1689041632992,
     "user": {
      "displayName": "Luis Garrido",
      "userId": "04278279994950484810"
     },
     "user_tz": 240
    },
    "id": "TDDTvQpvyVYg",
    "outputId": "4de68fad-76d0-4851-d1c2-90abe42a9300"
   },
   "outputs": [
    {
     "name": "stdout",
     "output_type": "stream",
     "text": [
      "1.- ¿Cual es la marca con mayor/menor calificación?\n",
      "\n",
      "menor: Infinix con 53 calificaciones\n",
      "mayor: Realme con 805006 calificaciones\n"
     ]
    }
   ],
   "source": [
    "print('1.- ¿Cual es la marca con mayor/menor calificación?\\n')\n",
    "dfcal = df.groupby('Nombre Marca').agg({'Calificaciones': ['min', 'max']})\n",
    "print(f'menor: {dfcal.idxmin()[0]} con {dfcal.min()[0]} calificaciones')\n",
    "print(f'mayor: {dfcal.idxmax()[1]} con {dfcal.max()[1]} calificaciones')\n",
    "#dfcal"
   ]
  },
  {
   "cell_type": "code",
   "execution_count": 84,
   "metadata": {
    "colab": {
     "base_uri": "https://localhost:8080/"
    },
    "executionInfo": {
     "elapsed": 133,
     "status": "ok",
     "timestamp": 1689041632992,
     "user": {
      "displayName": "Luis Garrido",
      "userId": "04278279994950484810"
     },
     "user_tz": 240
    },
    "id": "8NEp6DM3yVYh",
    "outputId": "563e6550-8a76-41ea-f88f-1c0b00bc0052"
   },
   "outputs": [
    {
     "name": "stdout",
     "output_type": "stream",
     "text": [
      "2.- La marca con mas reseñas\n",
      "\n",
      "Marca con mas reseñas: Realme con 66292 reseñas\n"
     ]
    }
   ],
   "source": [
    "print('2.- La marca con mas reseñas\\n')\n",
    "dfres = df.groupby('Nombre Marca').agg({'Resenas': ['max']})\n",
    "print(f'Marca con mas reseñas: {dfres.idxmax()[0]} con {dfres.max()[0]} reseñas')\n",
    "#dfres"
   ]
  },
  {
   "cell_type": "code",
   "execution_count": 85,
   "metadata": {
    "colab": {
     "base_uri": "https://localhost:8080/",
     "height": 542
    },
    "executionInfo": {
     "elapsed": 330,
     "status": "ok",
     "timestamp": 1689041633516,
     "user": {
      "displayName": "Luis Garrido",
      "userId": "04278279994950484810"
     },
     "user_tz": 240
    },
    "id": "aIODS3sHyVYh",
    "outputId": "76315800-634d-4f1a-a432-929ef04e4673"
   },
   "outputs": [
    {
     "name": "stdout",
     "output_type": "stream",
     "text": [
      "3.- ¿Existe una relación entre las Reseñas y las Calificaciones?:\n",
      "Si, es posible afirmar que hay una relacion entre ambos campos. Una relación lineal\n",
      "\n"
     ]
    },
    {
     "data": {
      "image/png": "[encoded data removed]",
      "text/plain": [
       "<Figure size 1000x500 with 1 Axes>"
      ]
     },
     "metadata": {},
     "output_type": "display_data"
    }
   ],
   "source": [
    "print('3.- ¿Existe una relación entre las Reseñas y las Calificaciones?:')\n",
    "print('Si, es posible afirmar que hay una relacion entre ambos campos. Una relación lineal\\n')\n",
    "fig, ax = plt.subplots(figsize= (10,5))\n",
    "ax.scatter(df['Resenas'], df['Calificaciones'],c='red',marker='x')\n",
    "ax.set_title('Resenas vs Calificaciones')\n",
    "ax.set_xlabel('Resenas')\n",
    "ax.set_ylabel('Calificaciones')\n",
    "plt.show()"
   ]
  },
  {
   "cell_type": "code",
   "execution_count": 86,
   "metadata": {
    "colab": {
     "base_uri": "https://localhost:8080/",
     "height": 542
    },
    "executionInfo": {
     "elapsed": 423,
     "status": "ok",
     "timestamp": 1689041633922,
     "user": {
      "displayName": "Luis Garrido",
      "userId": "04278279994950484810"
     },
     "user_tz": 240
    },
    "id": "sOSoHvebyVYh",
    "outputId": "26100be2-0ba2-489c-d70e-b14fad2b5ca9"
   },
   "outputs": [
    {
     "name": "stdout",
     "output_type": "stream",
     "text": [
      "4.- ¿Existe una relación entre el Precio de Lista y el de Venta?:\n",
      "Si, al igual que en el ejemplo anterior, se ve una tendencia lineal entre ambos campos\n",
      "\n"
     ]
    },
    {
     "data": {
      "image/png": "[encoded data removed]",
      "text/plain": [
       "<Figure size 1000x500 with 1 Axes>"
      ]
     },
     "metadata": {},
     "output_type": "display_data"
    }
   ],
   "source": [
    "print('4.- ¿Existe una relación entre el Precio de Lista y el de Venta?:')\n",
    "print('Si, al igual que en el ejemplo anterior, se ve una tendencia lineal entre ambos campos\\n')\n",
    "fig, ax = plt.subplots(figsize= (10,5))\n",
    "ax.scatter(df['Precio de lista'], df['Precio de venta'],c='green',marker='x')\n",
    "ax.set_title('Precio de lista vs Precio de venta')\n",
    "ax.set_xlabel('Precio de lista')\n",
    "ax.set_ylabel('Precio de venta')\n",
    "plt.show()"
   ]
  },
  {
   "cell_type": "code",
   "execution_count": 86,
   "metadata": {
    "executionInfo": {
     "elapsed": 34,
     "status": "ok",
     "timestamp": 1689041633925,
     "user": {
      "displayName": "Luis Garrido",
      "userId": "04278279994950484810"
     },
     "user_tz": 240
    },
    "id": "flSkDjLnzmwU"
   },
   "outputs": [],
   "source": []
  },
  {
   "cell_type": "code",
   "execution_count": 86,
   "metadata": {
    "executionInfo": {
     "elapsed": 27,
     "status": "ok",
     "timestamp": 1689041633926,
     "user": {
      "displayName": "Luis Garrido",
      "userId": "04278279994950484810"
     },
     "user_tz": 240
    },
    "id": "kWWTLttOyVYi"
   },
   "outputs": [],
   "source": []
  }
 ],
 "metadata": {
  "colab": {
   "provenance": []
  },
  "kernelspec": {
   "display_name": "Python [conda env:base] *",
   "language": "python",
   "name": "conda-base-py"
  },
  "language_info": {
   "codemirror_mode": {
    "name": "ipython",
    "version": 3
   },
   "file_extension": ".py",
   "mimetype": "text/x-python",
   "name": "python",
   "nbconvert_exporter": "python",
   "pygments_lexer": "ipython3",
   "version": "3.9.16"
  }
 },
 "nbformat": 4,
 "nbformat_minor": 4
}
