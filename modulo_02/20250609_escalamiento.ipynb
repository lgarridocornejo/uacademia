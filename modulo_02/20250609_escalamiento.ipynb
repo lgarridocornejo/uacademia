{
 "cells": [
  {
   "cell_type": "code",
   "execution_count": null,
   "id": "61465fa0-b162-4344-b583-1231a8aae679",
   "metadata": {},
   "outputs": [],
   "source": []
  },
  {
   "cell_type": "markdown",
   "id": "1e56ea97-8e7b-44eb-9367-f50230ff5fa7",
   "metadata": {},
   "source": [
    "![](https://media.geeksforgeeks.org/wp-content/uploads/20250418115633045690/scaling-o.webp)"
   ]
  },
  {
   "cell_type": "markdown",
   "id": "0186f301-f958-46c9-b07e-d2dd1e93ce3d",
   "metadata": {},
   "source": [
    "## Preprocesamiento de datos\n",
    "\n",
    "Como su nombre lo indica, el preprocesamiento es una estancia previa al ingreso de los datos en un modelo. De esta manera, se asegura el cumplimiento de los criterios básicos para minimizar la cantidad de errores.\n",
    "\n",
    "Este paso garantiza que la información sea adecuada, es decir, que el algorítmo sea sensible a la escala de los datos. Así, por ejemplo, se otorga mayor o menor importancia a una variable según los valores tomados.\n",
    "\n",
    "Por otro lado, ciertos algorítmos necesitan entrenarse. Esto obliga a codificar las variables categóricas en valores númericos mediante distintas técnicas."
   ]
  },
  {
   "cell_type": "markdown",
   "id": "3753e011-5ad0-4594-9532-d10653148817",
   "metadata": {},
   "source": [
    "## Escalado de datos\n",
    "\n",
    "Al hablar del escalamiento de los datos se alude al cambio de la escala de una variable o de todo el set para que las variables tengan una misma escala y no afecten al rendimiento del modelo seleccionado. Por ejemplo, un algoritmo no supervisado llamado \"vecinos más cercanos\" mide la distancia de un registro a otro; si los datos no se estandarizaran, las distancias entre cada registro cambiarían drásticamente, haciendo que el algóritmo se entienda de forma distinta.\n",
    "\n",
    "Una manera sencilla de entender el escalado es imaginar un conjunto de datos con distintas variables y que tratará de predecir si un alumno aprueba o reprueba una asignatura específica. Una de las variables es el tiempo de horas de estudios, con valores como 3 horas, 7 horas, 0 horas, entre otros. Por su parte, hay una variable que indica el número de aciertos que obtuvo en una asignatura similar cuyos valores registrados son 116, 89, 96, etcétera.\n",
    "\n",
    "Como puedes ver, la primera variable (horas de estudio) incluye números pequeños, mientras que la segunda variable (aciertos) abarca cifras más grandes. Si estos datos se ingresan en un modelo, los valores de los aciertos tendrán más peso que las horas de estudio. Es en este caso, el escalado se vale de cálculos matemáticos para convertir los valores en datos más similares (los cuales, por lo general, rondan entre -1 y 1) para ambas variables. Esto hace que una variable no sea más «pesada» que otra y sesgue el resultado del modelo.\n",
    "\n",
    "Como se ha comentado esto requiere de varios cálculos matemáticos, pero la librería **Scikit-learn** ofrece un módulo con distintos escaladores. A continuación, revisarás los más relevantes."
   ]
  },
  {
   "cell_type": "markdown",
   "id": "6c21f486-b90d-4b91-b644-f66a95b31373",
   "metadata": {},
   "source": [
    "## StandardScaler\n",
    "\n",
    "En esta ocasión, utilizarás el siguiente código: `sklearn.preprocessing`, junto con la función `StandardScaler`."
   ]
  },
  {
   "cell_type": "code",
   "execution_count": 1,
   "id": "7dcdba82-8138-465e-9ce2-743399bd7f44",
   "metadata": {},
   "outputs": [],
   "source": [
    "#Standard Scaler\n",
    "from sklearn.preprocessing import StandardScaler\n",
    "import pandas as pd\n",
    "import numpy as np\n",
    "import matplotlib.pyplot as plt\n",
    "import seaborn as sns\n",
    "import warnings\n",
    "warnings.filterwarnings(\"ignore\")"
   ]
  },
  {
   "cell_type": "markdown",
   "id": "4de7156b-8dad-4a21-b2f9-a391ff433366",
   "metadata": {},
   "source": [
    "A continuación, se añade el siguiente código. Observa un ejemplo de este escalador, el cual estándariza los datos eliminando la media y escalando los datos de forma que su varianza sea igual a 1 (recuerda que puedes ejecutarlo)."
   ]
  },
  {
   "cell_type": "code",
   "execution_count": 3,
   "id": "148c16b3-de8d-4765-9fdd-4cc7325cf683",
   "metadata": {},
   "outputs": [
    {
     "data": {
      "text/html": [
       "<div>\n",
       "<style scoped>\n",
       "    .dataframe tbody tr th:only-of-type {\n",
       "        vertical-align: middle;\n",
       "    }\n",
       "\n",
       "    .dataframe tbody tr th {\n",
       "        vertical-align: top;\n",
       "    }\n",
       "\n",
       "    .dataframe thead th {\n",
       "        text-align: right;\n",
       "    }\n",
       "</style>\n",
       "<table border=\"1\" class=\"dataframe\">\n",
       "  <thead>\n",
       "    <tr style=\"text-align: right;\">\n",
       "      <th></th>\n",
       "      <th>x</th>\n",
       "      <th>y</th>\n",
       "    </tr>\n",
       "  </thead>\n",
       "  <tbody>\n",
       "    <tr>\n",
       "      <th>0</th>\n",
       "      <td>1</td>\n",
       "      <td>2</td>\n",
       "    </tr>\n",
       "    <tr>\n",
       "      <th>1</th>\n",
       "      <td>2</td>\n",
       "      <td>4</td>\n",
       "    </tr>\n",
       "    <tr>\n",
       "      <th>2</th>\n",
       "      <td>3</td>\n",
       "      <td>6</td>\n",
       "    </tr>\n",
       "    <tr>\n",
       "      <th>3</th>\n",
       "      <td>3</td>\n",
       "      <td>2</td>\n",
       "    </tr>\n",
       "    <tr>\n",
       "      <th>4</th>\n",
       "      <td>5</td>\n",
       "      <td>3</td>\n",
       "    </tr>\n",
       "    <tr>\n",
       "      <th>5</th>\n",
       "      <td>8</td>\n",
       "      <td>7</td>\n",
       "    </tr>\n",
       "  </tbody>\n",
       "</table>\n",
       "</div>"
      ],
      "text/plain": [
       "   x  y\n",
       "0  1  2\n",
       "1  2  4\n",
       "2  3  6\n",
       "3  3  2\n",
       "4  5  3\n",
       "5  8  7"
      ]
     },
     "execution_count": 3,
     "metadata": {},
     "output_type": "execute_result"
    }
   ],
   "source": [
    "x = [1, 2, 3, 3, 5, 8] #Creamos una variable x con seis elementos.\n",
    "y = [2, 4, 6, 2, 3, 7] #Creamos una variable y con seis elementos.\n",
    "df = pd.DataFrame({'x':x, 'y': y}, dtype = 'int64') #Usamos pd.DataFrame para hacer un conjunto de datos.\n",
    "# El primero se llamará \"x\" y tendrá como valores la variable x que ya hicimos. Hacemos lo mismo con \"y\".\n",
    "df"
   ]
  },
  {
   "cell_type": "markdown",
   "id": "f1b1f070-855b-47b7-bc87-dde59a56521f",
   "metadata": {},
   "source": [
    "Solicita a Python que imprima las medias de la variable `x` y de la variable `y` (ambas dentro del dataframe `df`)."
   ]
  },
  {
   "cell_type": "code",
   "execution_count": 7,
   "id": "aff4d467-d2ef-43d2-995f-a28465c08109",
   "metadata": {},
   "outputs": [
    {
     "name": "stdout",
     "output_type": "stream",
     "text": [
      "Media de X: 3.6666666666666665\n",
      "Media de Y: 4.0\n"
     ]
    }
   ],
   "source": [
    "print(\"Media de X: \"+ str(np.mean(df['x'])))\n",
    "print(\"Media de Y: \"+ str(np.mean(df['y'])))"
   ]
  },
  {
   "cell_type": "markdown",
   "id": "718dbbb7-f57a-4683-a00e-a030854db088",
   "metadata": {},
   "source": [
    "para el caso de la varianza"
   ]
  },
  {
   "cell_type": "code",
   "execution_count": 10,
   "id": "c43557e9-8009-4075-8ea1-c7ad85bc58e3",
   "metadata": {},
   "outputs": [
    {
     "name": "stdout",
     "output_type": "stream",
     "text": [
      "Varianza de X: 5.222222222222222\n",
      "Varianza de Y: 3.6666666666666665\n"
     ]
    }
   ],
   "source": [
    "print(\"Varianza de X: \"+ str(np.var(df['x'])))\n",
    "print(\"Varianza de Y: \"+ str(np.var(df['y'])))"
   ]
  },
  {
   "cell_type": "markdown",
   "id": "d5929154-57a5-4fe3-bb7a-5685b4180560",
   "metadata": {},
   "source": [
    "Después, ejecuta sns.scatterplot(x, y) para observar la distribución de las variables creadas en un gráfica de dispersión usando scatterplot de la librería seaborn."
   ]
  },
  {
   "cell_type": "code",
   "execution_count": 13,
   "id": "2067874b-3df0-49f8-926b-1a36664bc31b",
   "metadata": {},
   "outputs": [
    {
     "data": {
      "text/plain": [
       "<Axes: xlabel='x', ylabel='y'>"
      ]
     },
     "execution_count": 13,
     "metadata": {},
     "output_type": "execute_result"
    },
    {
     "data": {
      "image/png": "[encoded data removed]",
      "text/plain": [
       "<Figure size 640x480 with 1 Axes>"
      ]
     },
     "metadata": {},
     "output_type": "display_data"
    }
   ],
   "source": [
    "sns.scatterplot(x=\"x\", y=\"y\", data=df)"
   ]
  },
  {
   "cell_type": "markdown",
   "id": "b273a860-e15a-42b0-bdf5-33909a26d2dd",
   "metadata": {},
   "source": [
    "A continuación, genera una variable llamada `escalador`, que será igual a la función `StandardScaler()` y facilitará el uso de esta herramienta.\n",
    "\n",
    "Ahota tendrás una variable llamada `transformado`, creada hace un segundo (`escalador`). Aplica una función llamada `fit_transform`, que aplicará el escalador sobre el data frame.\n",
    "\n",
    "Así, con el siguiente código Python escalará automáticamente todos los valores dentro de `df`.\n"
   ]
  },
  {
   "cell_type": "code",
   "execution_count": 16,
   "id": "0ec0db50-3518-4c2f-b09c-7a76472173c7",
   "metadata": {},
   "outputs": [
    {
     "data": {
      "text/plain": [
       "array([[-1.16691993, -1.04446594],\n",
       "       [-0.72932496,  0.        ],\n",
       "       [-0.29172998,  1.04446594],\n",
       "       [-0.29172998, -1.04446594],\n",
       "       [ 0.58345997, -0.52223297],\n",
       "       [ 1.89624489,  1.5666989 ]])"
      ]
     },
     "execution_count": 16,
     "metadata": {},
     "output_type": "execute_result"
    }
   ],
   "source": [
    "escalador = StandardScaler()\n",
    "transformado = escalador.fit_transform(df)\n",
    "transformado"
   ]
  },
  {
   "cell_type": "markdown",
   "id": "97b71d13-e977-47ad-89e0-2a4f72eaabea",
   "metadata": {},
   "source": [
    "Al comprobar la varianza y la media de los nuevos datos escalados se obtiene:"
   ]
  },
  {
   "cell_type": "code",
   "execution_count": 19,
   "id": "711051ce-5b1c-49a2-940a-14591fb9d0ad",
   "metadata": {},
   "outputs": [
    {
     "name": "stdout",
     "output_type": "stream",
     "text": [
      "Media de X escalado: 1.1102230246251565e-16\n",
      "Media de Y escalado: 0.0\n"
     ]
    }
   ],
   "source": [
    "print(\"Media de X escalado: \"+ str(np.mean(transformado[:, 0]))) # Valores de X tienden a 0\n",
    "print(\"Media de Y escalado: \"+ str(np.mean(transformado[:, 1])))"
   ]
  },
  {
   "cell_type": "code",
   "execution_count": 21,
   "id": "8f02c07c-4ac3-4710-99a3-0aa45d110385",
   "metadata": {},
   "outputs": [
    {
     "name": "stdout",
     "output_type": "stream",
     "text": [
      "Varianza de X escalado: 1.0\n",
      "Varianza de Y escalado: 1.0\n"
     ]
    }
   ],
   "source": [
    "print(\"Varianza de X escalado: \"+ str(np.var(transformado[:, 0])))\n",
    "print(\"Varianza de Y escalado: \"+ str(np.var(transformado[:, 1])))"
   ]
  },
  {
   "cell_type": "markdown",
   "id": "5f8343fa-5bd4-43be-88ae-826eeb7e461e",
   "metadata": {},
   "source": [
    "Observa que la distribución de los datos es idéntica."
   ]
  },
  {
   "cell_type": "code",
   "execution_count": 24,
   "id": "6c81caea-65bc-4031-8ba5-1ae3bab3b35d",
   "metadata": {},
   "outputs": [
    {
     "data": {
      "image/png": "[encoded data removed]",
      "text/plain": [
       "<Figure size 640x480 with 1 Axes>"
      ]
     },
     "metadata": {},
     "output_type": "display_data"
    }
   ],
   "source": [
    "sns.scatterplot(x=transformado[:, 0], y=transformado[:, 1])\n",
    "plt.show()"
   ]
  },
  {
   "cell_type": "markdown",
   "id": "c71966c4-6dcd-468e-ae6f-240abb20fb09",
   "metadata": {},
   "source": [
    "- ¿Qué diferencia notas entre los primeros valores ingresados en «x» y «y» con respecto a los valores escalados?\n",
    "- ¿Qué diferencia encuentras en sus varianzas?\n"
   ]
  },
  {
   "cell_type": "code",
   "execution_count": 37,
   "id": "5ea0bce0-a38b-4e44-8789-0c78df1bc417",
   "metadata": {},
   "outputs": [
    {
     "data": {
      "image/png": "[encoded data removed]",
      "text/plain": [
       "<Figure size 1200x500 with 2 Axes>"
      ]
     },
     "metadata": {},
     "output_type": "display_data"
    }
   ],
   "source": [
    "# Crear subplots: 1 fila, 2 columnas\n",
    "fig, axes = plt.subplots(1, 2, figsize=(12, 5))  # ancho x alto\n",
    "\n",
    "# Primer gráfico\n",
    "sns.scatterplot(x=\"x\", y=\"y\", data=df,ax=axes[0])\n",
    "axes[0].set_title('Scatter 1')\n",
    "#axes[0].set_xlabel('x')\n",
    "#axes[0].set_ylabel('y1')\n",
    "\n",
    "# Segundo gráfico\n",
    "sns.scatterplot(x=transformado[:, 0], y=transformado[:, 1], ax=axes[1])\n",
    "axes[1].set_title('Scatter escalado')\n",
    "#axes[1].set_xlabel('x')\n",
    "#axes[1].set_ylabel('y2')\n",
    "\n",
    "# Ajustar espacio entre subplots\n",
    "plt.tight_layout()\n",
    "plt.show()"
   ]
  },
  {
   "cell_type": "markdown",
   "id": "89ca9fee-d92f-46f0-9796-288cd2602607",
   "metadata": {},
   "source": [
    "## MinMaxScaler\n",
    "\n",
    "El escalador MinMaxScaler transforma las variables escalándolas a un rango (0,1); en otras palabras, el valor más pequeño puede ser 0 y el más grande es 1. Cabe señalar que este rango es personalizable mediante un proceso denominado **normalización de datos**.\n",
    "\n",
    "Para este ejemplo, se utiliza un conjunto de datos incluido en la librería de `seaborn`. Para acceder a él, usa `.load_dataset('iris')` y asígnalo a una variable llamada `iris`.\n",
    "La variable `iris` informa sobre el ancho y largo del sépalo y de los pétalos en algunas flores, para así identificar su especie.\n",
    "\n",
    "Para trabajar este escalador, es necesario importar `MinMaxScaler` de `sklearn` usando el siguiente código:"
   ]
  },
  {
   "cell_type": "code",
   "execution_count": 40,
   "id": "d96445cb-0acf-44f3-b121-1631d9f06baa",
   "metadata": {},
   "outputs": [],
   "source": [
    "from sklearn.preprocessing import MinMaxScaler"
   ]
  },
  {
   "cell_type": "code",
   "execution_count": 100,
   "id": "c0c25c63-d5a3-4bd9-b603-f46a8cc7af3f",
   "metadata": {},
   "outputs": [],
   "source": [
    "iris = load_iris(as_frame=True)\n",
    "iris = iris.frame"
   ]
  },
  {
   "cell_type": "code",
   "execution_count": 102,
   "id": "52bf08d6-01f6-4644-b0dd-22a0802e8722",
   "metadata": {},
   "outputs": [
    {
     "data": {
      "text/plain": [
       "Index(['sepal length (cm)', 'sepal width (cm)', 'petal length (cm)',\n",
       "       'petal width (cm)', 'target'],\n",
       "      dtype='object')"
      ]
     },
     "execution_count": 102,
     "metadata": {},
     "output_type": "execute_result"
    }
   ],
   "source": [
    "iris.columns"
   ]
  },
  {
   "cell_type": "markdown",
   "id": "d3c1ecca-19ca-4491-8533-676b50ffd628",
   "metadata": {},
   "source": [
    "El siguiente paso es usar la función `MinMaxSclaer()` y asignarla a una variable (en este ejemplo, a `escaler`, aunque puedes usar el nombre que prefieras) para usarla más adelante."
   ]
  },
  {
   "cell_type": "code",
   "execution_count": 105,
   "id": "a3b786bc-6e1e-4b01-9117-47f3a9fa42f0",
   "metadata": {},
   "outputs": [],
   "source": [
    "escalador = MinMaxScaler()"
   ]
  },
  {
   "cell_type": "markdown",
   "id": "a9555c0e-10a6-459f-a1b6-00b13058bcae",
   "metadata": {},
   "source": [
    "Si observas el dataset `iris`, observaras que una variable no tiene valores númericos (la columna llamada `species`). Este tipo de valores no pueden escalarse y por ello conviene eliminar la columna.\n",
    "\n",
    "Para hacer eso, `iris` solo incuirá las columnas con valores numéricos, a saber: `sepal_length`, `sepal_width`, `petal_length` y `petal_width`. Lo anterior se logra con el siguente código:\n"
   ]
  },
  {
   "cell_type": "code",
   "execution_count": 107,
   "id": "739673e3-b93a-41b6-ad94-91227f40ce4d",
   "metadata": {},
   "outputs": [],
   "source": [
    "iris=iris[['sepal length (cm)', 'sepal width (cm)', 'petal length (cm)',\n",
    "       'petal width (cm)']] "
   ]
  },
  {
   "cell_type": "markdown",
   "id": "69cd6a69-2c5c-4642-bbc0-963961f7059c",
   "metadata": {},
   "source": [
    "Al igual que sucedió con el **escalador** anterior, se utilizará la función `.fit_transform`, que hará que Python aplique el escalado de forma automática."
   ]
  },
  {
   "cell_type": "code",
   "execution_count": 109,
   "id": "47ef5a44-1513-48ee-9e4d-0186b81f3a9c",
   "metadata": {},
   "outputs": [
    {
     "data": {
      "text/plain": [
       "array([[0.22222222, 0.625     , 0.06779661, 0.04166667],\n",
       "       [0.16666667, 0.41666667, 0.06779661, 0.04166667],\n",
       "       [0.11111111, 0.5       , 0.05084746, 0.04166667],\n",
       "       [0.08333333, 0.45833333, 0.08474576, 0.04166667],\n",
       "       [0.19444444, 0.66666667, 0.06779661, 0.04166667],\n",
       "       [0.30555556, 0.79166667, 0.11864407, 0.125     ],\n",
       "       [0.08333333, 0.58333333, 0.06779661, 0.08333333],\n",
       "       [0.19444444, 0.58333333, 0.08474576, 0.04166667],\n",
       "       [0.02777778, 0.375     , 0.06779661, 0.04166667],\n",
       "       [0.16666667, 0.45833333, 0.08474576, 0.        ],\n",
       "       [0.30555556, 0.70833333, 0.08474576, 0.04166667],\n",
       "       [0.13888889, 0.58333333, 0.10169492, 0.04166667],\n",
       "       [0.13888889, 0.41666667, 0.06779661, 0.        ],\n",
       "       [0.        , 0.41666667, 0.01694915, 0.        ],\n",
       "       [0.41666667, 0.83333333, 0.03389831, 0.04166667],\n",
       "       [0.38888889, 1.        , 0.08474576, 0.125     ],\n",
       "       [0.30555556, 0.79166667, 0.05084746, 0.125     ],\n",
       "       [0.22222222, 0.625     , 0.06779661, 0.08333333],\n",
       "       [0.38888889, 0.75      , 0.11864407, 0.08333333],\n",
       "       [0.22222222, 0.75      , 0.08474576, 0.08333333],\n",
       "       [0.30555556, 0.58333333, 0.11864407, 0.04166667],\n",
       "       [0.22222222, 0.70833333, 0.08474576, 0.125     ],\n",
       "       [0.08333333, 0.66666667, 0.        , 0.04166667],\n",
       "       [0.22222222, 0.54166667, 0.11864407, 0.16666667],\n",
       "       [0.13888889, 0.58333333, 0.15254237, 0.04166667],\n",
       "       [0.19444444, 0.41666667, 0.10169492, 0.04166667],\n",
       "       [0.19444444, 0.58333333, 0.10169492, 0.125     ],\n",
       "       [0.25      , 0.625     , 0.08474576, 0.04166667],\n",
       "       [0.25      , 0.58333333, 0.06779661, 0.04166667],\n",
       "       [0.11111111, 0.5       , 0.10169492, 0.04166667],\n",
       "       [0.13888889, 0.45833333, 0.10169492, 0.04166667],\n",
       "       [0.30555556, 0.58333333, 0.08474576, 0.125     ],\n",
       "       [0.25      , 0.875     , 0.08474576, 0.        ],\n",
       "       [0.33333333, 0.91666667, 0.06779661, 0.04166667],\n",
       "       [0.16666667, 0.45833333, 0.08474576, 0.04166667],\n",
       "       [0.19444444, 0.5       , 0.03389831, 0.04166667],\n",
       "       [0.33333333, 0.625     , 0.05084746, 0.04166667],\n",
       "       [0.16666667, 0.66666667, 0.06779661, 0.        ],\n",
       "       [0.02777778, 0.41666667, 0.05084746, 0.04166667],\n",
       "       [0.22222222, 0.58333333, 0.08474576, 0.04166667],\n",
       "       [0.19444444, 0.625     , 0.05084746, 0.08333333],\n",
       "       [0.05555556, 0.125     , 0.05084746, 0.08333333],\n",
       "       [0.02777778, 0.5       , 0.05084746, 0.04166667],\n",
       "       [0.19444444, 0.625     , 0.10169492, 0.20833333],\n",
       "       [0.22222222, 0.75      , 0.15254237, 0.125     ],\n",
       "       [0.13888889, 0.41666667, 0.06779661, 0.08333333],\n",
       "       [0.22222222, 0.75      , 0.10169492, 0.04166667],\n",
       "       [0.08333333, 0.5       , 0.06779661, 0.04166667],\n",
       "       [0.27777778, 0.70833333, 0.08474576, 0.04166667],\n",
       "       [0.19444444, 0.54166667, 0.06779661, 0.04166667],\n",
       "       [0.75      , 0.5       , 0.62711864, 0.54166667],\n",
       "       [0.58333333, 0.5       , 0.59322034, 0.58333333],\n",
       "       [0.72222222, 0.45833333, 0.66101695, 0.58333333],\n",
       "       [0.33333333, 0.125     , 0.50847458, 0.5       ],\n",
       "       [0.61111111, 0.33333333, 0.61016949, 0.58333333],\n",
       "       [0.38888889, 0.33333333, 0.59322034, 0.5       ],\n",
       "       [0.55555556, 0.54166667, 0.62711864, 0.625     ],\n",
       "       [0.16666667, 0.16666667, 0.38983051, 0.375     ],\n",
       "       [0.63888889, 0.375     , 0.61016949, 0.5       ],\n",
       "       [0.25      , 0.29166667, 0.49152542, 0.54166667],\n",
       "       [0.19444444, 0.        , 0.42372881, 0.375     ],\n",
       "       [0.44444444, 0.41666667, 0.54237288, 0.58333333],\n",
       "       [0.47222222, 0.08333333, 0.50847458, 0.375     ],\n",
       "       [0.5       , 0.375     , 0.62711864, 0.54166667],\n",
       "       [0.36111111, 0.375     , 0.44067797, 0.5       ],\n",
       "       [0.66666667, 0.45833333, 0.57627119, 0.54166667],\n",
       "       [0.36111111, 0.41666667, 0.59322034, 0.58333333],\n",
       "       [0.41666667, 0.29166667, 0.52542373, 0.375     ],\n",
       "       [0.52777778, 0.08333333, 0.59322034, 0.58333333],\n",
       "       [0.36111111, 0.20833333, 0.49152542, 0.41666667],\n",
       "       [0.44444444, 0.5       , 0.6440678 , 0.70833333],\n",
       "       [0.5       , 0.33333333, 0.50847458, 0.5       ],\n",
       "       [0.55555556, 0.20833333, 0.66101695, 0.58333333],\n",
       "       [0.5       , 0.33333333, 0.62711864, 0.45833333],\n",
       "       [0.58333333, 0.375     , 0.55932203, 0.5       ],\n",
       "       [0.63888889, 0.41666667, 0.57627119, 0.54166667],\n",
       "       [0.69444444, 0.33333333, 0.6440678 , 0.54166667],\n",
       "       [0.66666667, 0.41666667, 0.6779661 , 0.66666667],\n",
       "       [0.47222222, 0.375     , 0.59322034, 0.58333333],\n",
       "       [0.38888889, 0.25      , 0.42372881, 0.375     ],\n",
       "       [0.33333333, 0.16666667, 0.47457627, 0.41666667],\n",
       "       [0.33333333, 0.16666667, 0.45762712, 0.375     ],\n",
       "       [0.41666667, 0.29166667, 0.49152542, 0.45833333],\n",
       "       [0.47222222, 0.29166667, 0.69491525, 0.625     ],\n",
       "       [0.30555556, 0.41666667, 0.59322034, 0.58333333],\n",
       "       [0.47222222, 0.58333333, 0.59322034, 0.625     ],\n",
       "       [0.66666667, 0.45833333, 0.62711864, 0.58333333],\n",
       "       [0.55555556, 0.125     , 0.57627119, 0.5       ],\n",
       "       [0.36111111, 0.41666667, 0.52542373, 0.5       ],\n",
       "       [0.33333333, 0.20833333, 0.50847458, 0.5       ],\n",
       "       [0.33333333, 0.25      , 0.57627119, 0.45833333],\n",
       "       [0.5       , 0.41666667, 0.61016949, 0.54166667],\n",
       "       [0.41666667, 0.25      , 0.50847458, 0.45833333],\n",
       "       [0.19444444, 0.125     , 0.38983051, 0.375     ],\n",
       "       [0.36111111, 0.29166667, 0.54237288, 0.5       ],\n",
       "       [0.38888889, 0.41666667, 0.54237288, 0.45833333],\n",
       "       [0.38888889, 0.375     , 0.54237288, 0.5       ],\n",
       "       [0.52777778, 0.375     , 0.55932203, 0.5       ],\n",
       "       [0.22222222, 0.20833333, 0.33898305, 0.41666667],\n",
       "       [0.38888889, 0.33333333, 0.52542373, 0.5       ],\n",
       "       [0.55555556, 0.54166667, 0.84745763, 1.        ],\n",
       "       [0.41666667, 0.29166667, 0.69491525, 0.75      ],\n",
       "       [0.77777778, 0.41666667, 0.83050847, 0.83333333],\n",
       "       [0.55555556, 0.375     , 0.77966102, 0.70833333],\n",
       "       [0.61111111, 0.41666667, 0.81355932, 0.875     ],\n",
       "       [0.91666667, 0.41666667, 0.94915254, 0.83333333],\n",
       "       [0.16666667, 0.20833333, 0.59322034, 0.66666667],\n",
       "       [0.83333333, 0.375     , 0.89830508, 0.70833333],\n",
       "       [0.66666667, 0.20833333, 0.81355932, 0.70833333],\n",
       "       [0.80555556, 0.66666667, 0.86440678, 1.        ],\n",
       "       [0.61111111, 0.5       , 0.69491525, 0.79166667],\n",
       "       [0.58333333, 0.29166667, 0.72881356, 0.75      ],\n",
       "       [0.69444444, 0.41666667, 0.76271186, 0.83333333],\n",
       "       [0.38888889, 0.20833333, 0.6779661 , 0.79166667],\n",
       "       [0.41666667, 0.33333333, 0.69491525, 0.95833333],\n",
       "       [0.58333333, 0.5       , 0.72881356, 0.91666667],\n",
       "       [0.61111111, 0.41666667, 0.76271186, 0.70833333],\n",
       "       [0.94444444, 0.75      , 0.96610169, 0.875     ],\n",
       "       [0.94444444, 0.25      , 1.        , 0.91666667],\n",
       "       [0.47222222, 0.08333333, 0.6779661 , 0.58333333],\n",
       "       [0.72222222, 0.5       , 0.79661017, 0.91666667],\n",
       "       [0.36111111, 0.33333333, 0.66101695, 0.79166667],\n",
       "       [0.94444444, 0.33333333, 0.96610169, 0.79166667],\n",
       "       [0.55555556, 0.29166667, 0.66101695, 0.70833333],\n",
       "       [0.66666667, 0.54166667, 0.79661017, 0.83333333],\n",
       "       [0.80555556, 0.5       , 0.84745763, 0.70833333],\n",
       "       [0.52777778, 0.33333333, 0.6440678 , 0.70833333],\n",
       "       [0.5       , 0.41666667, 0.66101695, 0.70833333],\n",
       "       [0.58333333, 0.33333333, 0.77966102, 0.83333333],\n",
       "       [0.80555556, 0.41666667, 0.81355932, 0.625     ],\n",
       "       [0.86111111, 0.33333333, 0.86440678, 0.75      ],\n",
       "       [1.        , 0.75      , 0.91525424, 0.79166667],\n",
       "       [0.58333333, 0.33333333, 0.77966102, 0.875     ],\n",
       "       [0.55555556, 0.33333333, 0.69491525, 0.58333333],\n",
       "       [0.5       , 0.25      , 0.77966102, 0.54166667],\n",
       "       [0.94444444, 0.41666667, 0.86440678, 0.91666667],\n",
       "       [0.55555556, 0.58333333, 0.77966102, 0.95833333],\n",
       "       [0.58333333, 0.45833333, 0.76271186, 0.70833333],\n",
       "       [0.47222222, 0.41666667, 0.6440678 , 0.70833333],\n",
       "       [0.72222222, 0.45833333, 0.74576271, 0.83333333],\n",
       "       [0.66666667, 0.45833333, 0.77966102, 0.95833333],\n",
       "       [0.72222222, 0.45833333, 0.69491525, 0.91666667],\n",
       "       [0.41666667, 0.29166667, 0.69491525, 0.75      ],\n",
       "       [0.69444444, 0.5       , 0.83050847, 0.91666667],\n",
       "       [0.66666667, 0.54166667, 0.79661017, 1.        ],\n",
       "       [0.66666667, 0.41666667, 0.71186441, 0.91666667],\n",
       "       [0.55555556, 0.20833333, 0.6779661 , 0.75      ],\n",
       "       [0.61111111, 0.41666667, 0.71186441, 0.79166667],\n",
       "       [0.52777778, 0.58333333, 0.74576271, 0.91666667],\n",
       "       [0.44444444, 0.41666667, 0.69491525, 0.70833333]])"
      ]
     },
     "execution_count": 109,
     "metadata": {},
     "output_type": "execute_result"
    }
   ],
   "source": [
    "transformado = escalador.fit_transform(iris)\n",
    "transformado"
   ]
  },
  {
   "cell_type": "markdown",
   "id": "1a00d277-8059-4044-9e21-5c24a5200f01",
   "metadata": {},
   "source": [
    "Seguro notaste que la variable `transformado` es una lista, por tanto, puede convertirse en un *dataframe* usando la función de Pandas llamada `pd.DataFrame`.\n",
    "\n",
    "Para que el nuevo dataframe luzca más completo, sus columnas se nombrarán de la misma forma que las columnas de `iris` usando la línea de código `transformado.columns = iris.columns`"
   ]
  },
  {
   "cell_type": "code",
   "execution_count": 112,
   "id": "6e166482-f6ce-4782-a0e6-fbb61775d1f1",
   "metadata": {},
   "outputs": [],
   "source": [
    "transformado = pd.DataFrame(transformado)\n",
    "transformado.columns = iris.columns"
   ]
  },
  {
   "cell_type": "markdown",
   "id": "e0b14cb2-e6e2-4a3c-a09d-a5403632e42c",
   "metadata": {},
   "source": [
    "Puedes visualizar los datos estadísticos de los valores escalados usando `.describe`."
   ]
  },
  {
   "cell_type": "code",
   "execution_count": 115,
   "id": "d42e6c72-1b4d-458c-b547-12d1fd9db458",
   "metadata": {},
   "outputs": [
    {
     "data": {
      "text/html": [
       "<div>\n",
       "<style scoped>\n",
       "    .dataframe tbody tr th:only-of-type {\n",
       "        vertical-align: middle;\n",
       "    }\n",
       "\n",
       "    .dataframe tbody tr th {\n",
       "        vertical-align: top;\n",
       "    }\n",
       "\n",
       "    .dataframe thead th {\n",
       "        text-align: right;\n",
       "    }\n",
       "</style>\n",
       "<table border=\"1\" class=\"dataframe\">\n",
       "  <thead>\n",
       "    <tr style=\"text-align: right;\">\n",
       "      <th></th>\n",
       "      <th>sepal length (cm)</th>\n",
       "      <th>sepal width (cm)</th>\n",
       "      <th>petal length (cm)</th>\n",
       "      <th>petal width (cm)</th>\n",
       "    </tr>\n",
       "  </thead>\n",
       "  <tbody>\n",
       "    <tr>\n",
       "      <th>count</th>\n",
       "      <td>150.000000</td>\n",
       "      <td>150.000000</td>\n",
       "      <td>150.000000</td>\n",
       "      <td>150.000000</td>\n",
       "    </tr>\n",
       "    <tr>\n",
       "      <th>mean</th>\n",
       "      <td>0.428704</td>\n",
       "      <td>0.440556</td>\n",
       "      <td>0.467458</td>\n",
       "      <td>0.458056</td>\n",
       "    </tr>\n",
       "    <tr>\n",
       "      <th>std</th>\n",
       "      <td>0.230018</td>\n",
       "      <td>0.181611</td>\n",
       "      <td>0.299203</td>\n",
       "      <td>0.317599</td>\n",
       "    </tr>\n",
       "    <tr>\n",
       "      <th>min</th>\n",
       "      <td>0.000000</td>\n",
       "      <td>0.000000</td>\n",
       "      <td>0.000000</td>\n",
       "      <td>0.000000</td>\n",
       "    </tr>\n",
       "    <tr>\n",
       "      <th>25%</th>\n",
       "      <td>0.222222</td>\n",
       "      <td>0.333333</td>\n",
       "      <td>0.101695</td>\n",
       "      <td>0.083333</td>\n",
       "    </tr>\n",
       "    <tr>\n",
       "      <th>50%</th>\n",
       "      <td>0.416667</td>\n",
       "      <td>0.416667</td>\n",
       "      <td>0.567797</td>\n",
       "      <td>0.500000</td>\n",
       "    </tr>\n",
       "    <tr>\n",
       "      <th>75%</th>\n",
       "      <td>0.583333</td>\n",
       "      <td>0.541667</td>\n",
       "      <td>0.694915</td>\n",
       "      <td>0.708333</td>\n",
       "    </tr>\n",
       "    <tr>\n",
       "      <th>max</th>\n",
       "      <td>1.000000</td>\n",
       "      <td>1.000000</td>\n",
       "      <td>1.000000</td>\n",
       "      <td>1.000000</td>\n",
       "    </tr>\n",
       "  </tbody>\n",
       "</table>\n",
       "</div>"
      ],
      "text/plain": [
       "       sepal length (cm)  sepal width (cm)  petal length (cm)  \\\n",
       "count         150.000000        150.000000         150.000000   \n",
       "mean            0.428704          0.440556           0.467458   \n",
       "std             0.230018          0.181611           0.299203   \n",
       "min             0.000000          0.000000           0.000000   \n",
       "25%             0.222222          0.333333           0.101695   \n",
       "50%             0.416667          0.416667           0.567797   \n",
       "75%             0.583333          0.541667           0.694915   \n",
       "max             1.000000          1.000000           1.000000   \n",
       "\n",
       "       petal width (cm)  \n",
       "count        150.000000  \n",
       "mean           0.458056  \n",
       "std            0.317599  \n",
       "min            0.000000  \n",
       "25%            0.083333  \n",
       "50%            0.500000  \n",
       "75%            0.708333  \n",
       "max            1.000000  "
      ]
     },
     "execution_count": 115,
     "metadata": {},
     "output_type": "execute_result"
    }
   ],
   "source": [
    "transformado.describe()"
   ]
  },
  {
   "cell_type": "markdown",
   "id": "736f470d-839d-41d2-ba32-a909ed581c0f",
   "metadata": {},
   "source": [
    "## RobustScaler\n",
    "\n",
    "RobustScaler reduce el impacto de los valores atípicos mediante la un escalamiento de datos utilizando la mediana y que hace encajar los valores extremos. Se usa cuando los datos contienen muchos valores atípicos y se necesita mantener distancias relativas entre puntos de datos no más bajos o se está trabajando con algoritmos que son sensibles a valores extremos."
   ]
  },
  {
   "cell_type": "code",
   "execution_count": 137,
   "id": "743688da-a230-4cc1-bf6b-fd444e5ddd9e",
   "metadata": {},
   "outputs": [],
   "source": [
    "from sklearn.preprocessing import RobustScaler"
   ]
  },
  {
   "cell_type": "code",
   "execution_count": 139,
   "id": "fd86a5f9-513b-4992-b6ae-4a21ac122223",
   "metadata": {},
   "outputs": [],
   "source": [
    "iris = load_iris(as_frame=True)\n",
    "iris = iris.frame"
   ]
  },
  {
   "cell_type": "code",
   "execution_count": 141,
   "id": "7db883db-088a-45de-ae8c-527710b14c6e",
   "metadata": {},
   "outputs": [],
   "source": [
    "scaler = RobustScaler()"
   ]
  },
  {
   "cell_type": "code",
   "execution_count": 143,
   "id": "a4f4763c-d6f7-4b36-96c1-6e12bed10b17",
   "metadata": {},
   "outputs": [],
   "source": [
    "iris=iris[['sepal length (cm)', 'sepal width (cm)', 'petal length (cm)',\n",
    "       'petal width (cm)']] "
   ]
  },
  {
   "cell_type": "code",
   "execution_count": 145,
   "id": "3ba7e4cb-5275-4cb6-b4a5-80d0f1706b8a",
   "metadata": {},
   "outputs": [
    {
     "data": {
      "text/plain": [
       "array([[-0.53846154,  1.        , -0.84285714, -0.73333333],\n",
       "       [-0.69230769,  0.        , -0.84285714, -0.73333333],\n",
       "       [-0.84615385,  0.4       , -0.87142857, -0.73333333],\n",
       "       [-0.92307692,  0.2       , -0.81428571, -0.73333333],\n",
       "       [-0.61538462,  1.2       , -0.84285714, -0.73333333],\n",
       "       [-0.30769231,  1.8       , -0.75714286, -0.6       ],\n",
       "       [-0.92307692,  0.8       , -0.84285714, -0.66666667],\n",
       "       [-0.61538462,  0.8       , -0.81428571, -0.73333333],\n",
       "       [-1.07692308, -0.2       , -0.84285714, -0.73333333],\n",
       "       [-0.69230769,  0.2       , -0.81428571, -0.8       ],\n",
       "       [-0.30769231,  1.4       , -0.81428571, -0.73333333],\n",
       "       [-0.76923077,  0.8       , -0.78571429, -0.73333333],\n",
       "       [-0.76923077,  0.        , -0.84285714, -0.8       ],\n",
       "       [-1.15384615,  0.        , -0.92857143, -0.8       ],\n",
       "       [ 0.        ,  2.        , -0.9       , -0.73333333],\n",
       "       [-0.07692308,  2.8       , -0.81428571, -0.6       ],\n",
       "       [-0.30769231,  1.8       , -0.87142857, -0.6       ],\n",
       "       [-0.53846154,  1.        , -0.84285714, -0.66666667],\n",
       "       [-0.07692308,  1.6       , -0.75714286, -0.66666667],\n",
       "       [-0.53846154,  1.6       , -0.81428571, -0.66666667],\n",
       "       [-0.30769231,  0.8       , -0.75714286, -0.73333333],\n",
       "       [-0.53846154,  1.4       , -0.81428571, -0.6       ],\n",
       "       [-0.92307692,  1.2       , -0.95714286, -0.73333333],\n",
       "       [-0.53846154,  0.6       , -0.75714286, -0.53333333],\n",
       "       [-0.76923077,  0.8       , -0.7       , -0.73333333],\n",
       "       [-0.61538462,  0.        , -0.78571429, -0.73333333],\n",
       "       [-0.61538462,  0.8       , -0.78571429, -0.6       ],\n",
       "       [-0.46153846,  1.        , -0.81428571, -0.73333333],\n",
       "       [-0.46153846,  0.8       , -0.84285714, -0.73333333],\n",
       "       [-0.84615385,  0.4       , -0.78571429, -0.73333333],\n",
       "       [-0.76923077,  0.2       , -0.78571429, -0.73333333],\n",
       "       [-0.30769231,  0.8       , -0.81428571, -0.6       ],\n",
       "       [-0.46153846,  2.2       , -0.81428571, -0.8       ],\n",
       "       [-0.23076923,  2.4       , -0.84285714, -0.73333333],\n",
       "       [-0.69230769,  0.2       , -0.81428571, -0.73333333],\n",
       "       [-0.61538462,  0.4       , -0.9       , -0.73333333],\n",
       "       [-0.23076923,  1.        , -0.87142857, -0.73333333],\n",
       "       [-0.69230769,  1.2       , -0.84285714, -0.8       ],\n",
       "       [-1.07692308,  0.        , -0.87142857, -0.73333333],\n",
       "       [-0.53846154,  0.8       , -0.81428571, -0.73333333],\n",
       "       [-0.61538462,  1.        , -0.87142857, -0.66666667],\n",
       "       [-1.        , -1.4       , -0.87142857, -0.66666667],\n",
       "       [-1.07692308,  0.4       , -0.87142857, -0.73333333],\n",
       "       [-0.61538462,  1.        , -0.78571429, -0.46666667],\n",
       "       [-0.53846154,  1.6       , -0.7       , -0.6       ],\n",
       "       [-0.76923077,  0.        , -0.84285714, -0.66666667],\n",
       "       [-0.53846154,  1.6       , -0.78571429, -0.73333333],\n",
       "       [-0.92307692,  0.4       , -0.84285714, -0.73333333],\n",
       "       [-0.38461538,  1.4       , -0.81428571, -0.73333333],\n",
       "       [-0.61538462,  0.6       , -0.84285714, -0.73333333],\n",
       "       [ 0.92307692,  0.4       ,  0.1       ,  0.06666667],\n",
       "       [ 0.46153846,  0.4       ,  0.04285714,  0.13333333],\n",
       "       [ 0.84615385,  0.2       ,  0.15714286,  0.13333333],\n",
       "       [-0.23076923, -1.4       , -0.1       ,  0.        ],\n",
       "       [ 0.53846154, -0.4       ,  0.07142857,  0.13333333],\n",
       "       [-0.07692308, -0.4       ,  0.04285714,  0.        ],\n",
       "       [ 0.38461538,  0.6       ,  0.1       ,  0.2       ],\n",
       "       [-0.69230769, -1.2       , -0.3       , -0.2       ],\n",
       "       [ 0.61538462, -0.2       ,  0.07142857,  0.        ],\n",
       "       [-0.46153846, -0.6       , -0.12857143,  0.06666667],\n",
       "       [-0.61538462, -2.        , -0.24285714, -0.2       ],\n",
       "       [ 0.07692308,  0.        , -0.04285714,  0.13333333],\n",
       "       [ 0.15384615, -1.6       , -0.1       , -0.2       ],\n",
       "       [ 0.23076923, -0.2       ,  0.1       ,  0.06666667],\n",
       "       [-0.15384615, -0.2       , -0.21428571,  0.        ],\n",
       "       [ 0.69230769,  0.2       ,  0.01428571,  0.06666667],\n",
       "       [-0.15384615,  0.        ,  0.04285714,  0.13333333],\n",
       "       [ 0.        , -0.6       , -0.07142857, -0.2       ],\n",
       "       [ 0.30769231, -1.6       ,  0.04285714,  0.13333333],\n",
       "       [-0.15384615, -1.        , -0.12857143, -0.13333333],\n",
       "       [ 0.07692308,  0.4       ,  0.12857143,  0.33333333],\n",
       "       [ 0.23076923, -0.4       , -0.1       ,  0.        ],\n",
       "       [ 0.38461538, -1.        ,  0.15714286,  0.13333333],\n",
       "       [ 0.23076923, -0.4       ,  0.1       , -0.06666667],\n",
       "       [ 0.46153846, -0.2       , -0.01428571,  0.        ],\n",
       "       [ 0.61538462,  0.        ,  0.01428571,  0.06666667],\n",
       "       [ 0.76923077, -0.4       ,  0.12857143,  0.06666667],\n",
       "       [ 0.69230769,  0.        ,  0.18571429,  0.26666667],\n",
       "       [ 0.15384615, -0.2       ,  0.04285714,  0.13333333],\n",
       "       [-0.07692308, -0.8       , -0.24285714, -0.2       ],\n",
       "       [-0.23076923, -1.2       , -0.15714286, -0.13333333],\n",
       "       [-0.23076923, -1.2       , -0.18571429, -0.2       ],\n",
       "       [ 0.        , -0.6       , -0.12857143, -0.06666667],\n",
       "       [ 0.15384615, -0.6       ,  0.21428571,  0.2       ],\n",
       "       [-0.30769231,  0.        ,  0.04285714,  0.13333333],\n",
       "       [ 0.15384615,  0.8       ,  0.04285714,  0.2       ],\n",
       "       [ 0.69230769,  0.2       ,  0.1       ,  0.13333333],\n",
       "       [ 0.38461538, -1.4       ,  0.01428571,  0.        ],\n",
       "       [-0.15384615,  0.        , -0.07142857,  0.        ],\n",
       "       [-0.23076923, -1.        , -0.1       ,  0.        ],\n",
       "       [-0.23076923, -0.8       ,  0.01428571, -0.06666667],\n",
       "       [ 0.23076923,  0.        ,  0.07142857,  0.06666667],\n",
       "       [ 0.        , -0.8       , -0.1       , -0.06666667],\n",
       "       [-0.61538462, -1.4       , -0.3       , -0.2       ],\n",
       "       [-0.15384615, -0.6       , -0.04285714,  0.        ],\n",
       "       [-0.07692308,  0.        , -0.04285714, -0.06666667],\n",
       "       [-0.07692308, -0.2       , -0.04285714,  0.        ],\n",
       "       [ 0.30769231, -0.2       , -0.01428571,  0.        ],\n",
       "       [-0.53846154, -1.        , -0.38571429, -0.13333333],\n",
       "       [-0.07692308, -0.4       , -0.07142857,  0.        ],\n",
       "       [ 0.38461538,  0.6       ,  0.47142857,  0.8       ],\n",
       "       [ 0.        , -0.6       ,  0.21428571,  0.4       ],\n",
       "       [ 1.        ,  0.        ,  0.44285714,  0.53333333],\n",
       "       [ 0.38461538, -0.2       ,  0.35714286,  0.33333333],\n",
       "       [ 0.53846154,  0.        ,  0.41428571,  0.6       ],\n",
       "       [ 1.38461538,  0.        ,  0.64285714,  0.53333333],\n",
       "       [-0.69230769, -1.        ,  0.04285714,  0.26666667],\n",
       "       [ 1.15384615, -0.2       ,  0.55714286,  0.33333333],\n",
       "       [ 0.69230769, -1.        ,  0.41428571,  0.33333333],\n",
       "       [ 1.07692308,  1.2       ,  0.5       ,  0.8       ],\n",
       "       [ 0.53846154,  0.4       ,  0.21428571,  0.46666667],\n",
       "       [ 0.46153846, -0.6       ,  0.27142857,  0.4       ],\n",
       "       [ 0.76923077,  0.        ,  0.32857143,  0.53333333],\n",
       "       [-0.07692308, -1.        ,  0.18571429,  0.46666667],\n",
       "       [ 0.        , -0.4       ,  0.21428571,  0.73333333],\n",
       "       [ 0.46153846,  0.4       ,  0.27142857,  0.66666667],\n",
       "       [ 0.53846154,  0.        ,  0.32857143,  0.33333333],\n",
       "       [ 1.46153846,  1.6       ,  0.67142857,  0.6       ],\n",
       "       [ 1.46153846, -0.8       ,  0.72857143,  0.66666667],\n",
       "       [ 0.15384615, -1.6       ,  0.18571429,  0.13333333],\n",
       "       [ 0.84615385,  0.4       ,  0.38571429,  0.66666667],\n",
       "       [-0.15384615, -0.4       ,  0.15714286,  0.46666667],\n",
       "       [ 1.46153846, -0.4       ,  0.67142857,  0.46666667],\n",
       "       [ 0.38461538, -0.6       ,  0.15714286,  0.33333333],\n",
       "       [ 0.69230769,  0.6       ,  0.38571429,  0.53333333],\n",
       "       [ 1.07692308,  0.4       ,  0.47142857,  0.33333333],\n",
       "       [ 0.30769231, -0.4       ,  0.12857143,  0.33333333],\n",
       "       [ 0.23076923,  0.        ,  0.15714286,  0.33333333],\n",
       "       [ 0.46153846, -0.4       ,  0.35714286,  0.53333333],\n",
       "       [ 1.07692308,  0.        ,  0.41428571,  0.2       ],\n",
       "       [ 1.23076923, -0.4       ,  0.5       ,  0.4       ],\n",
       "       [ 1.61538462,  1.6       ,  0.58571429,  0.46666667],\n",
       "       [ 0.46153846, -0.4       ,  0.35714286,  0.6       ],\n",
       "       [ 0.38461538, -0.4       ,  0.21428571,  0.13333333],\n",
       "       [ 0.23076923, -0.8       ,  0.35714286,  0.06666667],\n",
       "       [ 1.46153846,  0.        ,  0.5       ,  0.66666667],\n",
       "       [ 0.38461538,  0.8       ,  0.35714286,  0.73333333],\n",
       "       [ 0.46153846,  0.2       ,  0.32857143,  0.33333333],\n",
       "       [ 0.15384615,  0.        ,  0.12857143,  0.33333333],\n",
       "       [ 0.84615385,  0.2       ,  0.3       ,  0.53333333],\n",
       "       [ 0.69230769,  0.2       ,  0.35714286,  0.73333333],\n",
       "       [ 0.84615385,  0.2       ,  0.21428571,  0.66666667],\n",
       "       [ 0.        , -0.6       ,  0.21428571,  0.4       ],\n",
       "       [ 0.76923077,  0.4       ,  0.44285714,  0.66666667],\n",
       "       [ 0.69230769,  0.6       ,  0.38571429,  0.8       ],\n",
       "       [ 0.69230769,  0.        ,  0.24285714,  0.66666667],\n",
       "       [ 0.38461538, -1.        ,  0.18571429,  0.4       ],\n",
       "       [ 0.53846154,  0.        ,  0.24285714,  0.46666667],\n",
       "       [ 0.30769231,  0.8       ,  0.3       ,  0.66666667],\n",
       "       [ 0.07692308,  0.        ,  0.21428571,  0.33333333]])"
      ]
     },
     "execution_count": 145,
     "metadata": {},
     "output_type": "execute_result"
    }
   ],
   "source": [
    "transformado = scaler.fit_transform(iris)\n",
    "transformado"
   ]
  },
  {
   "cell_type": "code",
   "execution_count": 147,
   "id": "e00b2b64-fb2c-40b8-8e1d-284d522b9b68",
   "metadata": {},
   "outputs": [],
   "source": [
    "transformado = pd.DataFrame(transformado)\n",
    "transformado.columns = iris.columns"
   ]
  },
  {
   "cell_type": "code",
   "execution_count": 149,
   "id": "6c426528-ac9f-416d-8501-b713cd4574af",
   "metadata": {},
   "outputs": [
    {
     "data": {
      "text/html": [
       "<div>\n",
       "<style scoped>\n",
       "    .dataframe tbody tr th:only-of-type {\n",
       "        vertical-align: middle;\n",
       "    }\n",
       "\n",
       "    .dataframe tbody tr th {\n",
       "        vertical-align: top;\n",
       "    }\n",
       "\n",
       "    .dataframe thead th {\n",
       "        text-align: right;\n",
       "    }\n",
       "</style>\n",
       "<table border=\"1\" class=\"dataframe\">\n",
       "  <thead>\n",
       "    <tr style=\"text-align: right;\">\n",
       "      <th></th>\n",
       "      <th>sepal length (cm)</th>\n",
       "      <th>sepal width (cm)</th>\n",
       "      <th>petal length (cm)</th>\n",
       "      <th>petal width (cm)</th>\n",
       "    </tr>\n",
       "  </thead>\n",
       "  <tbody>\n",
       "    <tr>\n",
       "      <th>count</th>\n",
       "      <td>150.000000</td>\n",
       "      <td>150.000000</td>\n",
       "      <td>1.500000e+02</td>\n",
       "      <td>150.000000</td>\n",
       "    </tr>\n",
       "    <tr>\n",
       "      <th>mean</th>\n",
       "      <td>0.033333</td>\n",
       "      <td>0.114667</td>\n",
       "      <td>-1.691429e-01</td>\n",
       "      <td>-0.067111</td>\n",
       "    </tr>\n",
       "    <tr>\n",
       "      <th>std</th>\n",
       "      <td>0.636974</td>\n",
       "      <td>0.871733</td>\n",
       "      <td>5.043709e-01</td>\n",
       "      <td>0.508158</td>\n",
       "    </tr>\n",
       "    <tr>\n",
       "      <th>min</th>\n",
       "      <td>-1.153846</td>\n",
       "      <td>-2.000000</td>\n",
       "      <td>-9.571429e-01</td>\n",
       "      <td>-0.800000</td>\n",
       "    </tr>\n",
       "    <tr>\n",
       "      <th>25%</th>\n",
       "      <td>-0.538462</td>\n",
       "      <td>-0.400000</td>\n",
       "      <td>-7.857143e-01</td>\n",
       "      <td>-0.666667</td>\n",
       "    </tr>\n",
       "    <tr>\n",
       "      <th>50%</th>\n",
       "      <td>0.000000</td>\n",
       "      <td>0.000000</td>\n",
       "      <td>1.266348e-16</td>\n",
       "      <td>0.000000</td>\n",
       "    </tr>\n",
       "    <tr>\n",
       "      <th>75%</th>\n",
       "      <td>0.461538</td>\n",
       "      <td>0.600000</td>\n",
       "      <td>2.142857e-01</td>\n",
       "      <td>0.333333</td>\n",
       "    </tr>\n",
       "    <tr>\n",
       "      <th>max</th>\n",
       "      <td>1.615385</td>\n",
       "      <td>2.800000</td>\n",
       "      <td>7.285714e-01</td>\n",
       "      <td>0.800000</td>\n",
       "    </tr>\n",
       "  </tbody>\n",
       "</table>\n",
       "</div>"
      ],
      "text/plain": [
       "       sepal length (cm)  sepal width (cm)  petal length (cm)  \\\n",
       "count         150.000000        150.000000       1.500000e+02   \n",
       "mean            0.033333          0.114667      -1.691429e-01   \n",
       "std             0.636974          0.871733       5.043709e-01   \n",
       "min            -1.153846         -2.000000      -9.571429e-01   \n",
       "25%            -0.538462         -0.400000      -7.857143e-01   \n",
       "50%             0.000000          0.000000       1.266348e-16   \n",
       "75%             0.461538          0.600000       2.142857e-01   \n",
       "max             1.615385          2.800000       7.285714e-01   \n",
       "\n",
       "       petal width (cm)  \n",
       "count        150.000000  \n",
       "mean          -0.067111  \n",
       "std            0.508158  \n",
       "min           -0.800000  \n",
       "25%           -0.666667  \n",
       "50%            0.000000  \n",
       "75%            0.333333  \n",
       "max            0.800000  "
      ]
     },
     "execution_count": 149,
     "metadata": {},
     "output_type": "execute_result"
    }
   ],
   "source": [
    "transformado.describe()"
   ]
  },
  {
   "cell_type": "markdown",
   "id": "459bdb33-79c2-46df-b70d-1fff2a967162",
   "metadata": {},
   "source": [
    "## Comparación Escaladores"
   ]
  },
  {
   "cell_type": "code",
   "execution_count": 152,
   "id": "4072f23a-ab1d-4cb1-a600-24191116abd0",
   "metadata": {},
   "outputs": [
    {
     "data": {
      "image/png": "[encoded data removed]",
      "text/plain": [
       "<Figure size 2500x500 with 4 Axes>"
      ]
     },
     "metadata": {},
     "output_type": "display_data"
    }
   ],
   "source": [
    "import pandas as pd\n",
    "import numpy as np\n",
    "from sklearn import preprocessing\n",
    "from sklearn.datasets import load_iris\n",
    "import matplotlib.pyplot as plt\n",
    "import seaborn as sns\n",
    "\n",
    "# Cargar dataset\n",
    "iris = load_iris(as_frame=True)\n",
    "df = iris.frame\n",
    "x = df[['sepal length (cm)', 'sepal width (cm)']]\n",
    "\n",
    "# StandardScaler\n",
    "scaler_std = preprocessing.StandardScaler()\n",
    "standard_scaled = scaler_std.fit_transform(x)\n",
    "standard_df = pd.DataFrame(standard_scaled, columns=['sepal length', 'sepal width'])\n",
    "\n",
    "# MinMaxScaler\n",
    "scaler_mm = preprocessing.MinMaxScaler()\n",
    "minmax_scaled = scaler_mm.fit_transform(x)\n",
    "minmax_df = pd.DataFrame(minmax_scaled, columns=['sepal length', 'sepal width'])\n",
    "\n",
    "# RobustScaler\n",
    "scaler_robust = preprocessing.RobustScaler()\n",
    "robust_scaled = scaler_robust.fit_transform(x)\n",
    "robust_df = pd.DataFrame(robust_scaled, columns=['sepal length', 'sepal width'])\n",
    "\n",
    "# Gráfico\n",
    "fig, (ax1, ax2, ax3, ax4) = plt.subplots(ncols=4, figsize=(25, 5))\n",
    "\n",
    "ax1.set_title('Antes de escalar')\n",
    "sns.kdeplot(x['sepal length (cm)'], ax=ax1, color='r', label='sepal length')\n",
    "sns.kdeplot(x['sepal width (cm)'], ax=ax1, color='b', label='sepal width')\n",
    "ax1.legend()\n",
    "\n",
    "ax2.set_title('StandardScaler')\n",
    "sns.kdeplot(standard_df['sepal length'], ax=ax2, color='black', label='sepal length')\n",
    "sns.kdeplot(standard_df['sepal width'], ax=ax2, color='g', label='sepal width')\n",
    "ax2.legend()\n",
    "\n",
    "ax3.set_title('MinMaxScaler')\n",
    "sns.kdeplot(minmax_df['sepal length'], ax=ax3, color='black', label='sepal length')\n",
    "sns.kdeplot(minmax_df['sepal width'], ax=ax3, color='g', label='sepal width')\n",
    "ax3.legend()\n",
    "\n",
    "ax4.set_title('RobustScaler')\n",
    "sns.kdeplot(robust_df['sepal length'], ax=ax4, color='black', label='sepal length')\n",
    "sns.kdeplot(robust_df['sepal width'], ax=ax4, color='g', label='sepal width')\n",
    "ax4.legend()\n",
    "\n",
    "plt.tight_layout()\n",
    "plt.show()\n"
   ]
  },
  {
   "cell_type": "markdown",
   "id": "3f15ecb5-6dc6-4db3-acca-5a99e617cc7f",
   "metadata": {},
   "source": []
  },
  {
   "cell_type": "markdown",
   "id": "63b6987c-3ed5-48d9-9566-93a5ec6199b7",
   "metadata": {},
   "source": [
    "### ¿Qué hace cada uno?\n",
    "\n",
    "| Característica               | `StandardScaler`     | `MinMaxScaler`                           | `RobustScaler`                             |\n",
    "| ---------------------------- | -------------------- | ---------------------------------------- | ------------------------------------------ |\n",
    "| Objetivo                     | Media 0, std 1       | Escala al rango \\[0, 1]                  | Escala con mediana y rango intercuartílico |\n",
    "| Fórmula                      | $(x - \\mu) / \\sigma$ | $(x - x_{\\min}) / (x_{\\max} - x_{\\min})$ | $(x - \\text{mediana}) / IQR$               |\n",
    "| Sensibilidad a outliers      | Alta                 | Muy alta                                 | **Baja (robusto)**                         |\n",
    "| Para datos normales |✅                     | ❌                                       | ❌                                         |\n",
    "| Centrado                     | Sí (en 0)            | No                                       | Sí (en la mediana)                         |\n"
   ]
  },
  {
   "cell_type": "markdown",
   "id": "f3b5e959-ff2b-405f-b11a-5903ecbadc7c",
   "metadata": {},
   "source": [
    "### ¿Cuándo usar cada uno?\n",
    "\n",
    "| Situación                                     | Escalador recomendado                                         |\n",
    "| --------------------------------------------- | ------------------------------------------------------------- |\n",
    "| Datos normalmente distribuidos                | `StandardScaler`                                              |\n",
    "| Datos con rango conocido o NN                 | `MinMaxScaler`                                                |\n",
    "| Datos con **outliers significativos**         | **`RobustScaler`**                                            |\n",
    "| Quieres conservar información de distribución | `StandardScaler` o `RobustScaler` dependiendo de los outliers |\n"
   ]
  },
  {
   "cell_type": "markdown",
   "id": "9ffc47fb-7003-4a9b-8364-ab45468127b7",
   "metadata": {},
   "source": [
    "# Transformación de variables categóricas"
   ]
  },
  {
   "cell_type": "code",
   "execution_count": 161,
   "id": "ccd60019-531e-4ef9-af5b-48b50b74e381",
   "metadata": {},
   "outputs": [
    {
     "data": {
      "text/html": [
       "<div>\n",
       "<style scoped>\n",
       "    .dataframe tbody tr th:only-of-type {\n",
       "        vertical-align: middle;\n",
       "    }\n",
       "\n",
       "    .dataframe tbody tr th {\n",
       "        vertical-align: top;\n",
       "    }\n",
       "\n",
       "    .dataframe thead th {\n",
       "        text-align: right;\n",
       "    }\n",
       "</style>\n",
       "<table border=\"1\" class=\"dataframe\">\n",
       "  <thead>\n",
       "    <tr style=\"text-align: right;\">\n",
       "      <th></th>\n",
       "      <th>survived</th>\n",
       "      <th>pclass</th>\n",
       "      <th>sex</th>\n",
       "      <th>age</th>\n",
       "      <th>sibsp</th>\n",
       "      <th>parch</th>\n",
       "      <th>fare</th>\n",
       "      <th>embarked</th>\n",
       "      <th>class</th>\n",
       "      <th>who</th>\n",
       "      <th>adult_male</th>\n",
       "      <th>deck</th>\n",
       "      <th>embark_town</th>\n",
       "      <th>alive</th>\n",
       "      <th>alone</th>\n",
       "    </tr>\n",
       "  </thead>\n",
       "  <tbody>\n",
       "    <tr>\n",
       "      <th>308</th>\n",
       "      <td>0</td>\n",
       "      <td>2</td>\n",
       "      <td>male</td>\n",
       "      <td>30.0</td>\n",
       "      <td>1</td>\n",
       "      <td>0</td>\n",
       "      <td>24.00</td>\n",
       "      <td>C</td>\n",
       "      <td>Second</td>\n",
       "      <td>man</td>\n",
       "      <td>True</td>\n",
       "      <td>NaN</td>\n",
       "      <td>Cherbourg</td>\n",
       "      <td>no</td>\n",
       "      <td>False</td>\n",
       "    </tr>\n",
       "    <tr>\n",
       "      <th>694</th>\n",
       "      <td>0</td>\n",
       "      <td>1</td>\n",
       "      <td>male</td>\n",
       "      <td>60.0</td>\n",
       "      <td>0</td>\n",
       "      <td>0</td>\n",
       "      <td>26.55</td>\n",
       "      <td>S</td>\n",
       "      <td>First</td>\n",
       "      <td>man</td>\n",
       "      <td>True</td>\n",
       "      <td>NaN</td>\n",
       "      <td>Southampton</td>\n",
       "      <td>no</td>\n",
       "      <td>True</td>\n",
       "    </tr>\n",
       "    <tr>\n",
       "      <th>684</th>\n",
       "      <td>0</td>\n",
       "      <td>2</td>\n",
       "      <td>male</td>\n",
       "      <td>60.0</td>\n",
       "      <td>1</td>\n",
       "      <td>1</td>\n",
       "      <td>39.00</td>\n",
       "      <td>S</td>\n",
       "      <td>Second</td>\n",
       "      <td>man</td>\n",
       "      <td>True</td>\n",
       "      <td>NaN</td>\n",
       "      <td>Southampton</td>\n",
       "      <td>no</td>\n",
       "      <td>False</td>\n",
       "    </tr>\n",
       "    <tr>\n",
       "      <th>758</th>\n",
       "      <td>0</td>\n",
       "      <td>3</td>\n",
       "      <td>male</td>\n",
       "      <td>34.0</td>\n",
       "      <td>0</td>\n",
       "      <td>0</td>\n",
       "      <td>8.05</td>\n",
       "      <td>S</td>\n",
       "      <td>Third</td>\n",
       "      <td>man</td>\n",
       "      <td>True</td>\n",
       "      <td>NaN</td>\n",
       "      <td>Southampton</td>\n",
       "      <td>no</td>\n",
       "      <td>True</td>\n",
       "    </tr>\n",
       "    <tr>\n",
       "      <th>237</th>\n",
       "      <td>1</td>\n",
       "      <td>2</td>\n",
       "      <td>female</td>\n",
       "      <td>8.0</td>\n",
       "      <td>0</td>\n",
       "      <td>2</td>\n",
       "      <td>26.25</td>\n",
       "      <td>S</td>\n",
       "      <td>Second</td>\n",
       "      <td>child</td>\n",
       "      <td>False</td>\n",
       "      <td>NaN</td>\n",
       "      <td>Southampton</td>\n",
       "      <td>yes</td>\n",
       "      <td>False</td>\n",
       "    </tr>\n",
       "  </tbody>\n",
       "</table>\n",
       "</div>"
      ],
      "text/plain": [
       "     survived  pclass     sex   age  sibsp  parch   fare embarked   class  \\\n",
       "308         0       2    male  30.0      1      0  24.00        C  Second   \n",
       "694         0       1    male  60.0      0      0  26.55        S   First   \n",
       "684         0       2    male  60.0      1      1  39.00        S  Second   \n",
       "758         0       3    male  34.0      0      0   8.05        S   Third   \n",
       "237         1       2  female   8.0      0      2  26.25        S  Second   \n",
       "\n",
       "       who  adult_male deck  embark_town alive  alone  \n",
       "308    man        True  NaN    Cherbourg    no  False  \n",
       "694    man        True  NaN  Southampton    no   True  \n",
       "684    man        True  NaN  Southampton    no  False  \n",
       "758    man        True  NaN  Southampton    no   True  \n",
       "237  child       False  NaN  Southampton   yes  False  "
      ]
     },
     "execution_count": 161,
     "metadata": {},
     "output_type": "execute_result"
    }
   ],
   "source": [
    "df=sns.load_dataset(\"titanic\")\n",
    "df.sample(5)"
   ]
  },
  {
   "cell_type": "markdown",
   "id": "8cfa69ec-825b-45b5-b548-11dda1473f36",
   "metadata": {},
   "source": [
    "Si exploras el _dataset_, notarás que la variable (o columna) llamada `sex` contiene dos opciones: `male` o `female`. Ahora, `.value_counts() ` se utiliza para conocer los tipos de datos categóricos y cuántas veces se repiten en una variable o columna."
   ]
  },
  {
   "cell_type": "code",
   "execution_count": 170,
   "id": "012ed79b-3281-42c7-a943-6c7412be6ec7",
   "metadata": {},
   "outputs": [
    {
     "data": {
      "text/plain": [
       "male      577\n",
       "female    314\n",
       "Name: sex, dtype: int64"
      ]
     },
     "execution_count": 170,
     "metadata": {},
     "output_type": "execute_result"
    }
   ],
   "source": [
    "df['sex'].value_counts()"
   ]
  },
  {
   "cell_type": "markdown",
   "id": "03d437ec-5104-4e5a-9d4f-eb75aa4692d7",
   "metadata": {},
   "source": [
    "En el ejemplo de arriba se observa que, al usar`value_counts` en la columna `sex`de  `df`, existen dos valores: uno llamado `male`, que se repite 577 veces y `female`, que se repite 314 veces."
   ]
  },
  {
   "cell_type": "markdown",
   "id": "6dab6164-b4b1-45b9-9522-b6759a51111f",
   "metadata": {},
   "source": [
    "Observa otro ejemplo. En la columna `embarked` hay tres valores posibles.\n",
    "\n",
    "Así se escribiría el código:"
   ]
  },
  {
   "cell_type": "code",
   "execution_count": 196,
   "id": "6ca6ed87-3838-455c-b8a2-484f3efa0eac",
   "metadata": {},
   "outputs": [
    {
     "data": {
      "text/plain": [
       "S    644\n",
       "C    168\n",
       "Q     77\n",
       "Name: embarked, dtype: int64"
      ]
     },
     "execution_count": 196,
     "metadata": {},
     "output_type": "execute_result"
    }
   ],
   "source": [
    "df['embarked'].value_counts()"
   ]
  },
  {
   "cell_type": "markdown",
   "id": "f72ec306-4789-4ac5-9622-7db1065d7507",
   "metadata": {},
   "source": [
    "Un último ejemplo se observa con la variable `class`, que tiene tres posibles valores, apreciables con el código:"
   ]
  },
  {
   "cell_type": "code",
   "execution_count": 199,
   "id": "981bb08d-715c-4d70-bbbd-a2a560e51c70",
   "metadata": {},
   "outputs": [
    {
     "data": {
      "text/plain": [
       "Third     491\n",
       "First     216\n",
       "Second    184\n",
       "Name: class, dtype: int64"
      ]
     },
     "execution_count": 199,
     "metadata": {},
     "output_type": "execute_result"
    }
   ],
   "source": [
    "df['class'].value_counts()"
   ]
  },
  {
   "cell_type": "markdown",
   "id": "650afdbd-3bc3-46a7-b06e-c3cf16eeb612",
   "metadata": {},
   "source": [
    "Las variables categóricas se pueden detectar con la información del conjunto de datos, en este ejemplo, son `category` y `object`.\n",
    "\n",
    "Recuerda que esto puede saberse la función `.info()`."
   ]
  },
  {
   "cell_type": "code",
   "execution_count": 202,
   "id": "73057568-bd3b-4c22-83f4-0021a77288d2",
   "metadata": {},
   "outputs": [
    {
     "name": "stdout",
     "output_type": "stream",
     "text": [
      "<class 'pandas.core.frame.DataFrame'>\n",
      "RangeIndex: 891 entries, 0 to 890\n",
      "Data columns (total 15 columns):\n",
      " #   Column       Non-Null Count  Dtype   \n",
      "---  ------       --------------  -----   \n",
      " 0   survived     891 non-null    int64   \n",
      " 1   pclass       891 non-null    int64   \n",
      " 2   sex          891 non-null    object  \n",
      " 3   age          714 non-null    float64 \n",
      " 4   sibsp        891 non-null    int64   \n",
      " 5   parch        891 non-null    int64   \n",
      " 6   fare         891 non-null    float64 \n",
      " 7   embarked     889 non-null    object  \n",
      " 8   class        891 non-null    category\n",
      " 9   who          891 non-null    object  \n",
      " 10  adult_male   891 non-null    bool    \n",
      " 11  deck         203 non-null    category\n",
      " 12  embark_town  889 non-null    object  \n",
      " 13  alive        891 non-null    object  \n",
      " 14  alone        891 non-null    bool    \n",
      "dtypes: bool(2), category(2), float64(2), int64(4), object(5)\n",
      "memory usage: 80.7+ KB\n"
     ]
    }
   ],
   "source": [
    "df.info()"
   ]
  },
  {
   "cell_type": "markdown",
   "id": "669b31c8-6d5e-45d3-a58a-bc9e08ae4368",
   "metadata": {},
   "source": [
    "## Label Encoding\n",
    "\n",
    "\n",
    "Con ayuda de este transformador, se asigna un número a la categória encontada; por ejemplo, la variable `class` abarca las categorías:\n",
    "\n",
    "- `Third`\n",
    "- `First`\n",
    "- `Second`\n",
    "\n",
    "Nota: se encuentran organizados por orden de aparición.\n",
    "\n",
    "Al utilizar el escalador se obtienen las siguientes entradas:\n",
    "\n",
    "- El valor `First` se renombra como `0`.\n",
    "- El valor `Second` se llamará `1`.\n",
    "- El valor `Third` se convierte en `2`.\n",
    "\n",
    "Nota: Cuando se utiliza el **Label encoding**, los valores categóricos se ordenan alfabéticamente, de modo que al primer valor le llamará 0; al segundo, 1; al tercero, 2 y así sucesivamente."
   ]
  },
  {
   "cell_type": "markdown",
   "id": "485607ec-5686-4a65-81e3-7a9a2edf44aa",
   "metadata": {},
   "source": [
    "Para utlizar esta herramienta es necesario importarla con el código `from sklearn.preprocessing import LabelEncoder` y ejecutarla como se muestra abajo."
   ]
  },
  {
   "cell_type": "code",
   "execution_count": 206,
   "id": "fbb86839-2287-47b0-8dad-cd3d3b70a528",
   "metadata": {},
   "outputs": [],
   "source": [
    "from sklearn.preprocessing import LabelEncoder"
   ]
  },
  {
   "cell_type": "code",
   "execution_count": 208,
   "id": "ea806b63-7225-45bf-8f27-457ccf7187e5",
   "metadata": {},
   "outputs": [],
   "source": [
    "transformador = LabelEncoder()"
   ]
  },
  {
   "cell_type": "code",
   "execution_count": 210,
   "id": "17c6d171-8fd4-48e4-a3c9-ba8d7c351cff",
   "metadata": {},
   "outputs": [],
   "source": [
    "df['class'] = transformador.fit_transform(df['class'])"
   ]
  },
  {
   "cell_type": "code",
   "execution_count": 212,
   "id": "c1a3e45f-8145-4584-bc8b-ed70e5342c66",
   "metadata": {},
   "outputs": [
    {
     "data": {
      "text/plain": [
       "0      2\n",
       "1      0\n",
       "2      2\n",
       "3      0\n",
       "4      2\n",
       "      ..\n",
       "886    1\n",
       "887    0\n",
       "888    2\n",
       "889    0\n",
       "890    2\n",
       "Name: class, Length: 891, dtype: int64"
      ]
     },
     "execution_count": 212,
     "metadata": {},
     "output_type": "execute_result"
    }
   ],
   "source": [
    "df['class']"
   ]
  },
  {
   "cell_type": "code",
   "execution_count": 215,
   "id": "b0181134-606e-4a48-91fe-421f383097f5",
   "metadata": {},
   "outputs": [
    {
     "data": {
      "text/plain": [
       "2    491\n",
       "0    216\n",
       "1    184\n",
       "Name: class, dtype: int64"
      ]
     },
     "execution_count": 215,
     "metadata": {},
     "output_type": "execute_result"
    }
   ],
   "source": [
    "df['class'].value_counts()"
   ]
  },
  {
   "cell_type": "markdown",
   "id": "b1c5fbf0-7ce7-4f39-aafc-d439f999104e",
   "metadata": {},
   "source": [
    "Si se olvidaran los valores originales, se recurre a `.classes` en el transformador para señalizarlos."
   ]
  },
  {
   "cell_type": "code",
   "execution_count": 221,
   "id": "df3f7269-4b95-4c4c-b290-558937530ff4",
   "metadata": {},
   "outputs": [
    {
     "data": {
      "text/plain": [
       "array(['First', 'Second', 'Third'], dtype=object)"
      ]
     },
     "execution_count": 221,
     "metadata": {},
     "output_type": "execute_result"
    }
   ],
   "source": [
    "transformador.classes_"
   ]
  },
  {
   "cell_type": "markdown",
   "id": "5cf83aaf-bc3b-456d-976f-803fed8c1ceb",
   "metadata": {},
   "source": [
    "## OneHotEncoding\n",
    "\n",
    "Algunos modelos pueden malinterpretar los valores cuando los datos se transforman con \"Labelencoder\"; por ejemplo, en el paso anterior existían 3 categorías, por tanto, la categoria asignada con el número 2 valía el doble que la categoría con el número 0.\n",
    "¿La afirmación anterior es cierta? No, porque existe otra alternativa, como **OneHotEncoder**, que genera tantas columnas como posibles categorías se tengan de una variable y asigna valores binarios (0,1) para evitar este tipo de interpretación de algunos algoritmos. Finalmente, las variables creadas normalmente reciben el nombre de _«dummy»_."
   ]
  },
  {
   "cell_type": "code",
   "execution_count": 231,
   "id": "c83646ac-44dc-4de2-a653-31ccd59d010b",
   "metadata": {},
   "outputs": [],
   "source": [
    "from sklearn.preprocessing import OneHotEncoder"
   ]
  },
  {
   "cell_type": "code",
   "execution_count": 233,
   "id": "66a07386-25ee-4b72-8bc1-0fc6eb7135eb",
   "metadata": {},
   "outputs": [],
   "source": [
    "transformador = OneHotEncoder()"
   ]
  },
  {
   "cell_type": "code",
   "execution_count": 235,
   "id": "1721c650-d9e7-4786-8bf4-6319864e540c",
   "metadata": {},
   "outputs": [
    {
     "data": {
      "text/html": [
       "<div>\n",
       "<style scoped>\n",
       "    .dataframe tbody tr th:only-of-type {\n",
       "        vertical-align: middle;\n",
       "    }\n",
       "\n",
       "    .dataframe tbody tr th {\n",
       "        vertical-align: top;\n",
       "    }\n",
       "\n",
       "    .dataframe thead th {\n",
       "        text-align: right;\n",
       "    }\n",
       "</style>\n",
       "<table border=\"1\" class=\"dataframe\">\n",
       "  <thead>\n",
       "    <tr style=\"text-align: right;\">\n",
       "      <th></th>\n",
       "      <th>survived</th>\n",
       "      <th>pclass</th>\n",
       "      <th>sex</th>\n",
       "      <th>age</th>\n",
       "      <th>sibsp</th>\n",
       "      <th>parch</th>\n",
       "      <th>fare</th>\n",
       "      <th>embarked</th>\n",
       "      <th>class</th>\n",
       "      <th>who</th>\n",
       "      <th>adult_male</th>\n",
       "      <th>deck</th>\n",
       "      <th>embark_town</th>\n",
       "      <th>alive</th>\n",
       "      <th>alone</th>\n",
       "    </tr>\n",
       "  </thead>\n",
       "  <tbody>\n",
       "    <tr>\n",
       "      <th>0</th>\n",
       "      <td>0</td>\n",
       "      <td>3</td>\n",
       "      <td>male</td>\n",
       "      <td>22.0</td>\n",
       "      <td>1</td>\n",
       "      <td>0</td>\n",
       "      <td>7.2500</td>\n",
       "      <td>S</td>\n",
       "      <td>2</td>\n",
       "      <td>man</td>\n",
       "      <td>True</td>\n",
       "      <td>NaN</td>\n",
       "      <td>Southampton</td>\n",
       "      <td>no</td>\n",
       "      <td>False</td>\n",
       "    </tr>\n",
       "    <tr>\n",
       "      <th>1</th>\n",
       "      <td>1</td>\n",
       "      <td>1</td>\n",
       "      <td>female</td>\n",
       "      <td>38.0</td>\n",
       "      <td>1</td>\n",
       "      <td>0</td>\n",
       "      <td>71.2833</td>\n",
       "      <td>C</td>\n",
       "      <td>0</td>\n",
       "      <td>woman</td>\n",
       "      <td>False</td>\n",
       "      <td>C</td>\n",
       "      <td>Cherbourg</td>\n",
       "      <td>yes</td>\n",
       "      <td>False</td>\n",
       "    </tr>\n",
       "    <tr>\n",
       "      <th>2</th>\n",
       "      <td>1</td>\n",
       "      <td>3</td>\n",
       "      <td>female</td>\n",
       "      <td>26.0</td>\n",
       "      <td>0</td>\n",
       "      <td>0</td>\n",
       "      <td>7.9250</td>\n",
       "      <td>S</td>\n",
       "      <td>2</td>\n",
       "      <td>woman</td>\n",
       "      <td>False</td>\n",
       "      <td>NaN</td>\n",
       "      <td>Southampton</td>\n",
       "      <td>yes</td>\n",
       "      <td>True</td>\n",
       "    </tr>\n",
       "    <tr>\n",
       "      <th>3</th>\n",
       "      <td>1</td>\n",
       "      <td>1</td>\n",
       "      <td>female</td>\n",
       "      <td>35.0</td>\n",
       "      <td>1</td>\n",
       "      <td>0</td>\n",
       "      <td>53.1000</td>\n",
       "      <td>S</td>\n",
       "      <td>0</td>\n",
       "      <td>woman</td>\n",
       "      <td>False</td>\n",
       "      <td>C</td>\n",
       "      <td>Southampton</td>\n",
       "      <td>yes</td>\n",
       "      <td>False</td>\n",
       "    </tr>\n",
       "    <tr>\n",
       "      <th>4</th>\n",
       "      <td>0</td>\n",
       "      <td>3</td>\n",
       "      <td>male</td>\n",
       "      <td>35.0</td>\n",
       "      <td>0</td>\n",
       "      <td>0</td>\n",
       "      <td>8.0500</td>\n",
       "      <td>S</td>\n",
       "      <td>2</td>\n",
       "      <td>man</td>\n",
       "      <td>True</td>\n",
       "      <td>NaN</td>\n",
       "      <td>Southampton</td>\n",
       "      <td>no</td>\n",
       "      <td>True</td>\n",
       "    </tr>\n",
       "  </tbody>\n",
       "</table>\n",
       "</div>"
      ],
      "text/plain": [
       "   survived  pclass     sex   age  sibsp  parch     fare embarked  class  \\\n",
       "0         0       3    male  22.0      1      0   7.2500        S      2   \n",
       "1         1       1  female  38.0      1      0  71.2833        C      0   \n",
       "2         1       3  female  26.0      0      0   7.9250        S      2   \n",
       "3         1       1  female  35.0      1      0  53.1000        S      0   \n",
       "4         0       3    male  35.0      0      0   8.0500        S      2   \n",
       "\n",
       "     who  adult_male deck  embark_town alive  alone  \n",
       "0    man        True  NaN  Southampton    no  False  \n",
       "1  woman       False    C    Cherbourg   yes  False  \n",
       "2  woman       False  NaN  Southampton   yes   True  \n",
       "3  woman       False    C  Southampton   yes  False  \n",
       "4    man        True  NaN  Southampton    no   True  "
      ]
     },
     "execution_count": 235,
     "metadata": {},
     "output_type": "execute_result"
    }
   ],
   "source": [
    "df.head()"
   ]
  },
  {
   "cell_type": "code",
   "execution_count": 237,
   "id": "b4206599-720d-43f6-8eeb-56e597d74b9c",
   "metadata": {},
   "outputs": [],
   "source": [
    "enc_df = pd.DataFrame(transformador.fit_transform(df[['sex']]).toarray())"
   ]
  },
  {
   "cell_type": "code",
   "execution_count": 239,
   "id": "fe486d99-7ef1-4d39-8e20-550228f96101",
   "metadata": {},
   "outputs": [
    {
     "data": {
      "text/html": [
       "<div>\n",
       "<style scoped>\n",
       "    .dataframe tbody tr th:only-of-type {\n",
       "        vertical-align: middle;\n",
       "    }\n",
       "\n",
       "    .dataframe tbody tr th {\n",
       "        vertical-align: top;\n",
       "    }\n",
       "\n",
       "    .dataframe thead th {\n",
       "        text-align: right;\n",
       "    }\n",
       "</style>\n",
       "<table border=\"1\" class=\"dataframe\">\n",
       "  <thead>\n",
       "    <tr style=\"text-align: right;\">\n",
       "      <th></th>\n",
       "      <th>0</th>\n",
       "      <th>1</th>\n",
       "    </tr>\n",
       "  </thead>\n",
       "  <tbody>\n",
       "    <tr>\n",
       "      <th>0</th>\n",
       "      <td>0.0</td>\n",
       "      <td>1.0</td>\n",
       "    </tr>\n",
       "    <tr>\n",
       "      <th>1</th>\n",
       "      <td>1.0</td>\n",
       "      <td>0.0</td>\n",
       "    </tr>\n",
       "    <tr>\n",
       "      <th>2</th>\n",
       "      <td>1.0</td>\n",
       "      <td>0.0</td>\n",
       "    </tr>\n",
       "    <tr>\n",
       "      <th>3</th>\n",
       "      <td>1.0</td>\n",
       "      <td>0.0</td>\n",
       "    </tr>\n",
       "    <tr>\n",
       "      <th>4</th>\n",
       "      <td>0.0</td>\n",
       "      <td>1.0</td>\n",
       "    </tr>\n",
       "    <tr>\n",
       "      <th>...</th>\n",
       "      <td>...</td>\n",
       "      <td>...</td>\n",
       "    </tr>\n",
       "    <tr>\n",
       "      <th>886</th>\n",
       "      <td>0.0</td>\n",
       "      <td>1.0</td>\n",
       "    </tr>\n",
       "    <tr>\n",
       "      <th>887</th>\n",
       "      <td>1.0</td>\n",
       "      <td>0.0</td>\n",
       "    </tr>\n",
       "    <tr>\n",
       "      <th>888</th>\n",
       "      <td>1.0</td>\n",
       "      <td>0.0</td>\n",
       "    </tr>\n",
       "    <tr>\n",
       "      <th>889</th>\n",
       "      <td>0.0</td>\n",
       "      <td>1.0</td>\n",
       "    </tr>\n",
       "    <tr>\n",
       "      <th>890</th>\n",
       "      <td>0.0</td>\n",
       "      <td>1.0</td>\n",
       "    </tr>\n",
       "  </tbody>\n",
       "</table>\n",
       "<p>891 rows × 2 columns</p>\n",
       "</div>"
      ],
      "text/plain": [
       "       0    1\n",
       "0    0.0  1.0\n",
       "1    1.0  0.0\n",
       "2    1.0  0.0\n",
       "3    1.0  0.0\n",
       "4    0.0  1.0\n",
       "..   ...  ...\n",
       "886  0.0  1.0\n",
       "887  1.0  0.0\n",
       "888  1.0  0.0\n",
       "889  0.0  1.0\n",
       "890  0.0  1.0\n",
       "\n",
       "[891 rows x 2 columns]"
      ]
     },
     "execution_count": 239,
     "metadata": {},
     "output_type": "execute_result"
    }
   ],
   "source": [
    "enc_df"
   ]
  },
  {
   "cell_type": "code",
   "execution_count": 241,
   "id": "1df7dfbd-47b5-4778-8050-90d97dd12fff",
   "metadata": {},
   "outputs": [],
   "source": [
    "df = df.join(enc_df)"
   ]
  },
  {
   "cell_type": "code",
   "execution_count": 243,
   "id": "9bbc50e5-ec13-4d8b-ac3b-89984c6963be",
   "metadata": {},
   "outputs": [
    {
     "data": {
      "text/html": [
       "<div>\n",
       "<style scoped>\n",
       "    .dataframe tbody tr th:only-of-type {\n",
       "        vertical-align: middle;\n",
       "    }\n",
       "\n",
       "    .dataframe tbody tr th {\n",
       "        vertical-align: top;\n",
       "    }\n",
       "\n",
       "    .dataframe thead th {\n",
       "        text-align: right;\n",
       "    }\n",
       "</style>\n",
       "<table border=\"1\" class=\"dataframe\">\n",
       "  <thead>\n",
       "    <tr style=\"text-align: right;\">\n",
       "      <th></th>\n",
       "      <th>sex</th>\n",
       "      <th>0</th>\n",
       "      <th>1</th>\n",
       "    </tr>\n",
       "  </thead>\n",
       "  <tbody>\n",
       "    <tr>\n",
       "      <th>0</th>\n",
       "      <td>male</td>\n",
       "      <td>0.0</td>\n",
       "      <td>1.0</td>\n",
       "    </tr>\n",
       "    <tr>\n",
       "      <th>1</th>\n",
       "      <td>female</td>\n",
       "      <td>1.0</td>\n",
       "      <td>0.0</td>\n",
       "    </tr>\n",
       "    <tr>\n",
       "      <th>2</th>\n",
       "      <td>female</td>\n",
       "      <td>1.0</td>\n",
       "      <td>0.0</td>\n",
       "    </tr>\n",
       "    <tr>\n",
       "      <th>3</th>\n",
       "      <td>female</td>\n",
       "      <td>1.0</td>\n",
       "      <td>0.0</td>\n",
       "    </tr>\n",
       "    <tr>\n",
       "      <th>4</th>\n",
       "      <td>male</td>\n",
       "      <td>0.0</td>\n",
       "      <td>1.0</td>\n",
       "    </tr>\n",
       "    <tr>\n",
       "      <th>...</th>\n",
       "      <td>...</td>\n",
       "      <td>...</td>\n",
       "      <td>...</td>\n",
       "    </tr>\n",
       "    <tr>\n",
       "      <th>886</th>\n",
       "      <td>male</td>\n",
       "      <td>0.0</td>\n",
       "      <td>1.0</td>\n",
       "    </tr>\n",
       "    <tr>\n",
       "      <th>887</th>\n",
       "      <td>female</td>\n",
       "      <td>1.0</td>\n",
       "      <td>0.0</td>\n",
       "    </tr>\n",
       "    <tr>\n",
       "      <th>888</th>\n",
       "      <td>female</td>\n",
       "      <td>1.0</td>\n",
       "      <td>0.0</td>\n",
       "    </tr>\n",
       "    <tr>\n",
       "      <th>889</th>\n",
       "      <td>male</td>\n",
       "      <td>0.0</td>\n",
       "      <td>1.0</td>\n",
       "    </tr>\n",
       "    <tr>\n",
       "      <th>890</th>\n",
       "      <td>male</td>\n",
       "      <td>0.0</td>\n",
       "      <td>1.0</td>\n",
       "    </tr>\n",
       "  </tbody>\n",
       "</table>\n",
       "<p>891 rows × 3 columns</p>\n",
       "</div>"
      ],
      "text/plain": [
       "        sex    0    1\n",
       "0      male  0.0  1.0\n",
       "1    female  1.0  0.0\n",
       "2    female  1.0  0.0\n",
       "3    female  1.0  0.0\n",
       "4      male  0.0  1.0\n",
       "..      ...  ...  ...\n",
       "886    male  0.0  1.0\n",
       "887  female  1.0  0.0\n",
       "888  female  1.0  0.0\n",
       "889    male  0.0  1.0\n",
       "890    male  0.0  1.0\n",
       "\n",
       "[891 rows x 3 columns]"
      ]
     },
     "execution_count": 243,
     "metadata": {},
     "output_type": "execute_result"
    }
   ],
   "source": [
    "df[['sex',0,1]]"
   ]
  },
  {
   "cell_type": "markdown",
   "id": "ce73196f-875d-4ba0-ad72-27c2a50d29f0",
   "metadata": {},
   "source": [
    "### Ejercicio camiar el nombre de las columnas 0: Female y 1: Male"
   ]
  },
  {
   "cell_type": "code",
   "execution_count": null,
   "id": "af2239d0-1fd6-4de0-99fb-ab486803c9cc",
   "metadata": {},
   "outputs": [],
   "source": []
  },
  {
   "cell_type": "code",
   "execution_count": null,
   "id": "816cda5a-c3a8-48a8-839d-874325c86406",
   "metadata": {},
   "outputs": [],
   "source": []
  },
  {
   "cell_type": "code",
   "execution_count": null,
   "id": "7ce6a912-dce0-4985-afab-318cfaf34dbc",
   "metadata": {},
   "outputs": [],
   "source": []
  },
  {
   "cell_type": "code",
   "execution_count": null,
   "id": "d8f1929f-0963-40ef-85ff-bddf2babf401",
   "metadata": {},
   "outputs": [],
   "source": []
  },
  {
   "cell_type": "code",
   "execution_count": null,
   "id": "62160eb8-1b77-4214-a61e-fa682436880a",
   "metadata": {},
   "outputs": [],
   "source": []
  },
  {
   "cell_type": "code",
   "execution_count": null,
   "id": "e86392a6-7935-4b1a-b9b4-ba0ae2648ea0",
   "metadata": {},
   "outputs": [],
   "source": []
  },
  {
   "cell_type": "code",
   "execution_count": null,
   "id": "1fa8f8e0-38f9-48e2-8b59-ae92d5ab1c5b",
   "metadata": {},
   "outputs": [],
   "source": []
  },
  {
   "cell_type": "code",
   "execution_count": null,
   "id": "e09d8f2b-6ed7-4322-b5ad-e555d5714388",
   "metadata": {},
   "outputs": [],
   "source": []
  },
  {
   "cell_type": "raw",
   "id": "b5815088-bc98-4df0-a712-83acf28f3eaa",
   "metadata": {},
   "source": [
    "import edaplus as eda\n",
    "eda.infoplus(iris)\n",
    "eda.histobox(iris,['sepal length (cm)','sepal width (cm)'])\n",
    "eda.histobox(iris,['petal length (cm)','petal width (cm)'])"
   ]
  }
 ],
 "metadata": {
  "kernelspec": {
   "display_name": "Python [conda env:base] *",
   "language": "python",
   "name": "conda-base-py"
  },
  "language_info": {
   "codemirror_mode": {
    "name": "ipython",
    "version": 3
   },
   "file_extension": ".py",
   "mimetype": "text/x-python",
   "name": "python",
   "nbconvert_exporter": "python",
   "pygments_lexer": "ipython3",
   "version": "3.9.16"
  }
 },
 "nbformat": 4,
 "nbformat_minor": 5
}
