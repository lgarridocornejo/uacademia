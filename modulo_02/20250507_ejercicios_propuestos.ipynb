{
 "cells": [
  {
   "cell_type": "code",
   "execution_count": null,
   "metadata": {
    "id": "fR3jvxoWv9WN"
   },
   "outputs": [],
   "source": [
    "# venv uacademia >>> 20250507"
   ]
  },
  {
   "cell_type": "markdown",
   "metadata": {
    "id": "Yv_e-Ur0yVX9"
   },
   "source": [
    "![](https://static.13.cl/7/sites/default/files/images/ocupload/6cjpkmijvzbxvijh77npkzjzzy.jpg)"
   ]
  },
  {
   "cell_type": "markdown",
   "metadata": {
    "id": "ax8X7ytUKsrg"
   },
   "source": [
    "## Objetivos\n",
    "\n",
    "El participante:\n",
    "\n",
    "- Se familiarizará con la estructura del lenguaje **Python** enfocada en la ciencia de datos.\n",
    "- Comprenderá que cada proyecto solicitado poseerá distintas características (gráficos de un cierto tipo o diseño, algunos datos estadísticos, entre otros).\n",
    "- Entenderá que algunos datos se interpretan mejor al utilizar determinadas herramientas, tales como **Pandas**, **Numpy** y **Matplotlib**.\n",
    "- Asimilará la manera de estructurar la información que requiera analizar."
   ]
  },
  {
   "cell_type": "markdown",
   "metadata": {
    "id": "R_kZ2D4v0u9X"
   },
   "source": [
    "## Instrucciones\n",
    "\n",
    "Leerá cada una de las preguntas y responderá utilizando bloques de código (a excepción de la pregunta 7, que podrá responderse con un bloque de texto).\n",
    "\n",
    "Los resultados deberán ser inteligibles y se recomienda utilizar funciones como `print` para dar claridad a las respuestas.\n",
    "\n",
    "Es posible investigar soluciones en otras fuentes o recurrir a clases anteriores; sin embargo, el estudiante debe comprender lo escrito en código.\n",
    "\n",
    "Algunas respuestas tienen diversas formas de resolverse, no obstante, debe existir precisión en el código escrito y en el propósito que persigue.\n",
    "\n",
    "¡Comencemos!\n"
   ]
  },
  {
   "cell_type": "code",
   "execution_count": 62,
   "metadata": {
    "executionInfo": {
     "elapsed": 69,
     "status": "ok",
     "timestamp": 1689041632117,
     "user": {
      "displayName": "Luis Garrido",
      "userId": "04278279994950484810"
     },
     "user_tz": 240
    },
    "id": "LjNwIEwZN8nP"
   },
   "outputs": [],
   "source": [
    "import pandas as pd\n",
    "import numpy as np\n",
    "import matplotlib.pyplot as plt #No quitar"
   ]
  },
  {
   "cell_type": "markdown",
   "metadata": {
    "id": "IksPNalDSH7R"
   },
   "source": [
    "### Pregunta 1\n",
    "Descarga los siguientes archivos:\n",
    "- Este archivo csv enlista diferentes celulares y una serie de calificaciones de distintos usuarios: https://drive.google.com/file/d/1atasE-fuDyAt8Z7JGZQroKJwjNkbpyrn/view?usp=sharing\n",
    "- Este documento csv incluye un listado de las marcas de dichos teléfonos celulares: https://drive.google.com/file/d/1ICBvPkSVajVVMHyrMABYiwuwefv_3oPJ/view?usp=sharing\n",
    "\n",
    "Carga estos archivos en **Jupyter** y con `pd.read_csv` nómbralos como `df_modelos` y `df_marcas`.\n",
    "\n",
    "Indica en un solo código el número de filas que tiene el archivo `df_modelos` que creaste.\n",
    "\n"
   ]
  },
  {
   "cell_type": "code",
   "execution_count": null,
   "metadata": {
    "executionInfo": {
     "elapsed": 70,
     "status": "ok",
     "timestamp": 1689041632120,
     "user": {
      "displayName": "Luis Garrido",
      "userId": "04278279994950484810"
     },
     "user_tz": 240
    },
    "id": "I4iNlf32F1LE"
   },
   "outputs": [],
   "source": []
  },
  {
   "cell_type": "code",
   "execution_count": null,
   "metadata": {
    "executionInfo": {
     "elapsed": 75,
     "status": "ok",
     "timestamp": 1689041632128,
     "user": {
      "displayName": "Luis Garrido",
      "userId": "04278279994950484810"
     },
     "user_tz": 240
    },
    "id": "YKDZypl2ujhX"
   },
   "outputs": [],
   "source": []
  },
  {
   "cell_type": "code",
   "execution_count": null,
   "metadata": {
    "colab": {
     "base_uri": "https://localhost:8080/"
    },
    "executionInfo": {
     "elapsed": 104,
     "status": "ok",
     "timestamp": 1689041632158,
     "user": {
      "displayName": "Luis Garrido",
      "userId": "04278279994950484810"
     },
     "user_tz": 240
    },
    "id": "Lbt_jDl7yVYO",
    "outputId": "320a0727-9114-4e16-98b0-e62cfe3b8577"
   },
   "outputs": [],
   "source": []
  },
  {
   "cell_type": "code",
   "execution_count": null,
   "metadata": {
    "colab": {
     "base_uri": "https://localhost:8080/"
    },
    "executionInfo": {
     "elapsed": 101,
     "status": "ok",
     "timestamp": 1689041632160,
     "user": {
      "displayName": "Luis Garrido",
      "userId": "04278279994950484810"
     },
     "user_tz": 240
    },
    "id": "uUjAmq0-yVYQ",
    "outputId": "2486576c-2b50-4e00-babe-0af24ecc53bf"
   },
   "outputs": [],
   "source": []
  },
  {
   "cell_type": "markdown",
   "metadata": {
    "id": "cfoZq-nr2OkO"
   },
   "source": [
    "### Pregunta 2\n",
    "Haz un `merge` de ambos **data frames**, para generar un nuevo **data frame** que incluya los datos de `df_modelos` y `df_marcas`. Tu nuevo **data frame** recibirá el nombre de `df`.\n",
    "\n",
    "**Pista**: Ambos archivos tienen una columna que los relaciona, llamada `ID Marca`."
   ]
  },
  {
   "cell_type": "code",
   "execution_count": null,
   "metadata": {
    "executionInfo": {
     "elapsed": 98,
     "status": "ok",
     "timestamp": 1689041632161,
     "user": {
      "displayName": "Luis Garrido",
      "userId": "04278279994950484810"
     },
     "user_tz": 240
    },
    "id": "S1L6Hn8VF2_v"
   },
   "outputs": [],
   "source": []
  },
  {
   "cell_type": "markdown",
   "metadata": {
    "id": "AqDaTcfaTC79"
   },
   "source": [
    "### Pregunta 3\n",
    "Muestra las primeras cinco filas, las últimas cinco y el nombre de todas las columnas."
   ]
  },
  {
   "cell_type": "code",
   "execution_count": null,
   "metadata": {
    "colab": {
     "base_uri": "https://localhost:8080/",
     "height": 285
    },
    "executionInfo": {
     "elapsed": 98,
     "status": "ok",
     "timestamp": 1689041632162,
     "user": {
      "displayName": "Luis Garrido",
      "userId": "04278279994950484810"
     },
     "user_tz": 240
    },
    "id": "AYPcw8cLF361",
    "outputId": "71ecd6ec-7cd6-4362-d54e-6d05b0a9df39"
   },
   "outputs": [],
   "source": []
  },
  {
   "cell_type": "code",
   "execution_count": null,
   "metadata": {
    "colab": {
     "base_uri": "https://localhost:8080/",
     "height": 285
    },
    "executionInfo": {
     "elapsed": 95,
     "status": "ok",
     "timestamp": 1689041632163,
     "user": {
      "displayName": "Luis Garrido",
      "userId": "04278279994950484810"
     },
     "user_tz": 240
    },
    "id": "b2VOCO_jyVYS",
    "outputId": "e08f05f1-0c72-4346-ff56-be31a7a6ef6c"
   },
   "outputs": [],
   "source": []
  },
  {
   "cell_type": "code",
   "execution_count": null,
   "metadata": {
    "colab": {
     "base_uri": "https://localhost:8080/"
    },
    "executionInfo": {
     "elapsed": 94,
     "status": "ok",
     "timestamp": 1689041632165,
     "user": {
      "displayName": "Luis Garrido",
      "userId": "04278279994950484810"
     },
     "user_tz": 240
    },
    "id": "a6XXEwt_yVYU",
    "outputId": "cc778dd8-1fc7-4a00-b979-9b277299dce4"
   },
   "outputs": [],
   "source": []
  },
  {
   "cell_type": "markdown",
   "metadata": {
    "id": "m2HobjRsTz7V"
   },
   "source": [
    "### Pregunta 4\n",
    "Utiliza los filtros para mostrar todos los teléfonos con 64GB en la columna `ROM_GB` e indica cuántos del listado poseen esta característica."
   ]
  },
  {
   "cell_type": "code",
   "execution_count": null,
   "metadata": {
    "colab": {
     "base_uri": "https://localhost:8080/",
     "height": 503
    },
    "executionInfo": {
     "elapsed": 90,
     "status": "ok",
     "timestamp": 1689041632166,
     "user": {
      "displayName": "Luis Garrido",
      "userId": "04278279994950484810"
     },
     "user_tz": 240
    },
    "id": "-yfgYqiZF4yS",
    "outputId": "b25bc7fb-dd18-44fe-bd95-95d0007dc7e4"
   },
   "outputs": [],
   "source": []
  },
  {
   "cell_type": "code",
   "execution_count": null,
   "metadata": {
    "colab": {
     "base_uri": "https://localhost:8080/"
    },
    "executionInfo": {
     "elapsed": 32,
     "status": "ok",
     "timestamp": 1689041632569,
     "user": {
      "displayName": "Luis Garrido",
      "userId": "04278279994950484810"
     },
     "user_tz": 240
    },
    "id": "obr-BdiZyVYW",
    "outputId": "a5628317-13f0-46cf-975f-27feb238a746"
   },
   "outputs": [],
   "source": []
  },
  {
   "cell_type": "markdown",
   "metadata": {
    "id": "tfXR1-kf_WQd"
   },
   "source": [
    "### Pregunta 5\n",
    "Haz un histograma (`hist`) de la columna `ROM_GB` del **data frame** `df`.\n",
    "\n",
    "El gráfico debe incluir un título y las columnas tener un color personalizado."
   ]
  },
  {
   "cell_type": "code",
   "execution_count": null,
   "metadata": {
    "colab": {
     "base_uri": "https://localhost:8080/",
     "height": 544
    },
    "executionInfo": {
     "elapsed": 20,
     "status": "ok",
     "timestamp": 1689041632571,
     "user": {
      "displayName": "Luis Garrido",
      "userId": "04278279994950484810"
     },
     "user_tz": 240
    },
    "id": "Dfk9NBLQGGb3",
    "outputId": "29482b78-e36f-4feb-e10f-441bc3013b29"
   },
   "outputs": [],
   "source": []
  },
  {
   "cell_type": "markdown",
   "metadata": {
    "id": "U8QOkYQnBCDY"
   },
   "source": [
    "### Pregunta 6\n",
    "Haz un diagrama de dispersión (`scatter`) con las siguientes características: el eje X deberá indicar el contenido de la columna `Precio de lista`, mientras que el eje Y expresará el contenido de la columna `Precio de venta`.\n",
    "\n",
    "El diagrama debe incluir un título y los puntos tener un color personalizado."
   ]
  },
  {
   "cell_type": "code",
   "execution_count": null,
   "metadata": {
    "colab": {
     "base_uri": "https://localhost:8080/",
     "height": 487
    },
    "executionInfo": {
     "elapsed": 413,
     "status": "ok",
     "timestamp": 1689041632969,
     "user": {
      "displayName": "Luis Garrido",
      "userId": "04278279994950484810"
     },
     "user_tz": 240
    },
    "id": "ttIgS7LAGHDm",
    "outputId": "bd77ea04-ebf0-4633-e0cb-327a32322740"
   },
   "outputs": [],
   "source": []
  },
  {
   "cell_type": "markdown",
   "metadata": {
    "id": "qWHZAMi2DZos"
   },
   "source": [
    "### Pregunta 7\n",
    "\n",
    "Con base en el diagrama de la **pregunta 6**, responde la siguiente pregunta: ¿A qué conclusión podrías llegar si observas únicamente la gráfica?"
   ]
  },
  {
   "cell_type": "code",
   "execution_count": null,
   "metadata": {
    "id": "Aql08i4fGIxs"
   },
   "outputs": [],
   "source": []
  },
  {
   "cell_type": "markdown",
   "metadata": {
    "id": "3H4LtqjhEGME"
   },
   "source": [
    "### Pregunta 8\n",
    "Utiliza el código para obtener la siguiente información (ubicada en `df`).\n",
    "\n",
    "- Promedio de los precios de venta de los modelos marca **Realme**\n",
    "- Máximo de estrellas de los modelos marca **Redmi**\n",
    "- Mínimo de Estrellas de los modelos marca **Redmi**"
   ]
  },
  {
   "cell_type": "code",
   "execution_count": null,
   "metadata": {
    "colab": {
     "base_uri": "https://localhost:8080/",
     "height": 162
    },
    "executionInfo": {
     "elapsed": 148,
     "status": "ok",
     "timestamp": 1689041632984,
     "user": {
      "displayName": "Luis Garrido",
      "userId": "04278279994950484810"
     },
     "user_tz": 240
    },
    "id": "g6ELlA2lyVYb",
    "outputId": "6778ad99-a9b3-45c1-811d-159c62a9a222"
   },
   "outputs": [],
   "source": []
  },
  {
   "cell_type": "code",
   "execution_count": null,
   "metadata": {
    "colab": {
     "base_uri": "https://localhost:8080/",
     "height": 162
    },
    "executionInfo": {
     "elapsed": 142,
     "status": "ok",
     "timestamp": 1689041632986,
     "user": {
      "displayName": "Luis Garrido",
      "userId": "04278279994950484810"
     },
     "user_tz": 240
    },
    "id": "qLzHOXz-yVYd",
    "outputId": "b1e809ec-5f78-43cb-cc12-a2482cb65981"
   },
   "outputs": [],
   "source": []
  },
  {
   "cell_type": "code",
   "execution_count": null,
   "metadata": {
    "executionInfo": {
     "elapsed": 139,
     "status": "ok",
     "timestamp": 1689041632988,
     "user": {
      "displayName": "Luis Garrido",
      "userId": "04278279994950484810"
     },
     "user_tz": 240
    },
    "id": "Dsu6-QhAyVYd"
   },
   "outputs": [],
   "source": []
  },
  {
   "cell_type": "markdown",
   "metadata": {
    "id": "ds4EGI0SHEKB"
   },
   "source": [
    "### Pregunta 9\n",
    "Utiliza un **Groupby** para mostrar la cantidad de estrellas promedio que cada marca tiene en `df`."
   ]
  },
  {
   "cell_type": "code",
   "execution_count": null,
   "metadata": {
    "colab": {
     "base_uri": "https://localhost:8080/",
     "height": 489
    },
    "executionInfo": {
     "elapsed": 139,
     "status": "ok",
     "timestamp": 1689041632989,
     "user": {
      "displayName": "Luis Garrido",
      "userId": "04278279994950484810"
     },
     "user_tz": 240
    },
    "id": "U_iMhR_gGLBV",
    "outputId": "0f178a1c-9947-4768-900e-4c12752e58b8"
   },
   "outputs": [],
   "source": []
  },
  {
   "cell_type": "markdown",
   "metadata": {
    "id": "ALRDH3eRHkZN"
   },
   "source": [
    "### Pregunta 10\n",
    "¿Qué otro dato (al menos 5) puedes obtener de `df` y cómo lo extraerías?"
   ]
  },
  {
   "cell_type": "code",
   "execution_count": 86,
   "metadata": {
    "executionInfo": {
     "elapsed": 34,
     "status": "ok",
     "timestamp": 1689041633925,
     "user": {
      "displayName": "Luis Garrido",
      "userId": "04278279994950484810"
     },
     "user_tz": 240
    },
    "id": "flSkDjLnzmwU"
   },
   "outputs": [],
   "source": []
  },
  {
   "cell_type": "code",
   "execution_count": 86,
   "metadata": {
    "executionInfo": {
     "elapsed": 27,
     "status": "ok",
     "timestamp": 1689041633926,
     "user": {
      "displayName": "Luis Garrido",
      "userId": "04278279994950484810"
     },
     "user_tz": 240
    },
    "id": "kWWTLttOyVYi"
   },
   "outputs": [],
   "source": []
  }
 ],
 "metadata": {
  "colab": {
   "provenance": []
  },
  "kernelspec": {
   "display_name": "Python [conda env:base] *",
   "language": "python",
   "name": "conda-base-py"
  },
  "language_info": {
   "codemirror_mode": {
    "name": "ipython",
    "version": 3
   },
   "file_extension": ".py",
   "mimetype": "text/x-python",
   "name": "python",
   "nbconvert_exporter": "python",
   "pygments_lexer": "ipython3",
   "version": "3.9.16"
  }
 },
 "nbformat": 4,
 "nbformat_minor": 4
}
