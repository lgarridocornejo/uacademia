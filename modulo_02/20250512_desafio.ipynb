{
 "cells": [
  {
   "cell_type": "markdown",
   "metadata": {
    "id": "ZDc_rO4YlbN0"
   },
   "source": [
    "## Desafio\n",
    "\n",
    "El siguiente enlace es para bajar un archivo sobre un estudio de algunos pingüinos:\n",
    "\n",
    "https://drive.google.com/file/d/1u-pbmc8bNjIRsgDwz3Bmr0DnbXRxHRiz/view?usp=sharing\n",
    "\n",
    "Deberás hacer varios retos:\n",
    "\n",
    "1. Para las columnas Culmen Length (mm), Culmen Depth (mm) y Flipper Length (mm). Deberás indicar su completitud, recurda antes averiguar si hay valores vacíos.\n",
    "\n",
    "2. Haz un diagrama de dispersión comparando Culmen Length (mm) contra Body Mass (g).\n",
    "\n",
    "3. Indica que conclusiones tienes observando la gráfica.\n",
    "\n",
    "4. ¿Cúal es la correlación y el mapa de calor de los datos?\n",
    "\n",
    "5. Haz un gráfico pairplot de los datos (seaborn)\n",
    "\n",
    "- Recuerda enviar tu respuesta al mail: **luis.garrido.c@uacademia.cl**\n",
    "- Plazo de entrega: 2025.05.17 23:59:59"
   ]
  },
  {
   "cell_type": "code",
   "execution_count": null,
   "metadata": {},
   "outputs": [],
   "source": []
  }
 ],
 "metadata": {
  "colab": {
   "provenance": []
  },
  "hide_input": false,
  "kernelspec": {
   "display_name": "Python [conda env:base] *",
   "language": "python",
   "name": "conda-base-py"
  },
  "language_info": {
   "codemirror_mode": {
    "name": "ipython",
    "version": 3
   },
   "file_extension": ".py",
   "mimetype": "text/x-python",
   "name": "python",
   "nbconvert_exporter": "python",
   "pygments_lexer": "ipython3",
   "version": "3.9.16"
  },
  "toc": {
   "base_numbering": 1,
   "nav_menu": {},
   "number_sections": true,
   "sideBar": true,
   "skip_h1_title": true,
   "title_cell": "Table of Contents",
   "title_sidebar": "Contents",
   "toc_cell": false,
   "toc_position": {},
   "toc_section_display": true,
   "toc_window_display": false
  }
 },
 "nbformat": 4,
 "nbformat_minor": 4
}
