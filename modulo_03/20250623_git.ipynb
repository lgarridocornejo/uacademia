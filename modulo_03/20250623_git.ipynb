{
 "cells": [
  {
   "cell_type": "code",
   "execution_count": 35,
   "id": "0fa55f7f-ab75-4786-a80b-7ecde98621a7",
   "metadata": {},
   "outputs": [],
   "source": [
    "# venv: uacademia"
   ]
  },
  {
   "cell_type": "markdown",
   "id": "0113276b-ae9e-49e9-82eb-4a3d22b04284",
   "metadata": {},
   "source": [
    "![](https://miro.medium.com/v2/resize:fit:720/format:webp/1*8OG90TSxwd5IjharSQxhHA.png)"
   ]
  },
  {
   "cell_type": "markdown",
   "id": "efc977fa-5282-4b76-834e-821256612fbb",
   "metadata": {},
   "source": [
    "En el ámbito del desarrollo de software, el trabajo en equipo exitoso y la gestión de diferentes versiones del código son absolutamente esenciales. Git, un sistema de control de versiones distribuido, se ha convertido en la opción preferida por muchos en la industria. Esto se debe en gran medida a su adaptabilidad, rapidez y a un modelo de ramificación sumamente útil. Sin embargo, dominar Git no se trata solo de conocer los comandos básicos. Se trata de comprender una variedad de métodos y consejos que te ayudan a trabajar de forma más inteligente, no más difícil. Esto implica aprender distintas estrategias y adoptar buenas prácticas para que tu flujo de desarrollo sea más fluido, aumentar tu productividad y mantener un código de alta calidad.\n",
    "\n",
    "## Fundamentos de Git\n",
    "\n",
    "Para aprovechar todo el potencial de Git, es crucial entender sus fundamentos. Git, creado por `Linus Torvalds` en 2005, se ha convertido en el estándar de oro para la gestión de código fuente, reconocido por su rapidez, escalabilidad y estructura descentralizada:\n",
    "\n",
    "- **Repositorio (Repo)**: Un repositorio es una colección de archivos y directorios, junto con metadatos almacenados en un directorio .git. Contiene todo el historial de cambios realizados a los archivos del proyecto.\n",
    "\n",
    "- **Repositorio Local**: Es el repositorio que reside en tu máquina local. Incluye todos los archivos, el historial de commits y las ramas relacionadas con tu proyecto.\n",
    "\n",
    "- **Repositorio Remoto**: Es un repositorio alojado en un servidor (por ejemplo, GitHub, GitLab, Bitbucket). Sirve como un centro central donde los miembros del equipo pueden colaborar y compartir cambios.\n",
    "\n",
    "- **Commit**: Un commit es una instantánea del repositorio en un momento específico. Representa un conjunto de cambios realizados en los archivos. Cada commit tiene un identificador único (hash SHA-1), autor, fecha y un mensaje descriptivo.\n",
    "\n",
    "- **Rama (Branch)**: Una rama es una línea de desarrollo separada dentro de un repositorio. Permite que varios desarrolladores trabajen en distintas funcionalidades o correcciones simultáneamente sin interferir entre sí. La rama predeterminada suele llamarse master (o main), pero puedes crear y cambiar entre ramas según sea necesario.\n",
    "\n",
    "- **HEAD**: HEAD es una referencia al último commit en la rama que tienes actualmente seleccionada. Representa la punta de la rama actual y sirve como punto de partida para el próximo commit.\n",
    "\n",
    "- **Rama de Seguimiento Remoto (Remote Tracking Branch)**: Es una referencia local al estado de una rama en un repositorio remoto. Te permite ver los cambios realizados por otros y sincronizar tu repositorio local con el remoto.\n",
    "\n",
    "### Comandos básicos de Git\n",
    "\n",
    "- `git init`: Inicializa un nuevo repositorio de Git en el directorio actual.\n",
    "\n",
    "- `git clone`: Clona un repositorio existente desde un servidor remoto a tu máquina local.\n",
    "\n",
    "    git clone [url-del-repositorio]\n",
    "\n",
    "- `git add`: Agrega cambios del directorio de trabajo al área de preparación (staging) para el próximo commit.\n",
    "\n",
    "\n",
    "    git add [archivo] (para agregar un archivo específico)\n",
    "\n",
    "    git add . (para agregar todos los cambios)\n",
    "\n",
    "- `git commit`: Registra los cambios en el repositorio con un mensaje descriptivo.\n",
    "\n",
    "    git commit -m \"Mensaje del commit\"\n",
    "\n",
    "- `git status`: Muestra el estado actual del directorio de trabajo y del área de preparación. Indica qué archivos han sido modificados, cuáles están preparados y cuáles no están bajo control de versiones.\n",
    "\n",
    "- `git log`: Muestra una lista cronológica de los commits en el repositorio. Incluye mensajes de commit, autores, fechas y los identificadores (hash) de cada commit.\n",
    "\n",
    "- `git push`: Envía los commits de una rama local a un repositorio remoto.\n",
    "    Sintaxis: git push [nombre-remoto] [nombre-rama]\n",
    "\n",
    "- `git pull`: Descarga cambios desde un repositorio remoto y los fusiona en la rama actual.\n",
    "    Es equivalente a ejecutar git fetch seguido de git merge.\n",
    "    git pull [nombre-remoto]] [nombre-rama]\n",
    "\n",
    "- `git branch`: Lista todas las ramas locales del repositorio.\n",
    "    Sintaxis:\n",
    "\n",
    "    git branch (para ver las ramas existentes)\n",
    "\n",
    "    git branch [nombre-rama] (para crear una nueva rama)\n",
    "\n",
    "- `git checkout`: Cambia entre ramas o restaura archivos de un commit específico.\n",
    "    Sintaxis:\n",
    "\n",
    "    git checkout [nombre-rama] (para cambiar de rama)\n",
    "\n",
    "    git checkout [id-commit] [archivo] (para restaurar un archivo)\n",
    "\n",
    "Estos son solo los fundamentos de Git, pero entenderlos es esencial para la colaboración y el control eficiente de versiones en proyectos de desarrollo de software. A medida que se adquiera más experiencia con Git, se puede explorar funciones más avanzadas como estrategias de ramificación (branching), rebasing, fusiones (merging) y flujos de trabajo colaborativos. Git es una herramienta poderosa para equipos de todos los tamaños, gracias a su flexibilidad y escalabilidad, lo que permite una colaboración fluida y una gestión eficiente del código fuente."
   ]
  },
  {
   "cell_type": "markdown",
   "id": "2380be18-3345-4ab9-9189-77a90f7146bb",
   "metadata": {},
   "source": [
    "![](https://media2.dev.to/dynamic/image/width=800%2Cheight=%2Cfit=scale-down%2Cgravity=auto%2Cformat=auto/https%3A%2F%2Fdev-to-uploads.s3.amazonaws.com%2Fi%2Fyhja118vbqgl1j291fjz.png)"
   ]
  },
  {
   "cell_type": "code",
   "execution_count": 33,
   "id": "fe505cd5-52bb-4c5e-a28e-f71e7762ced3",
   "metadata": {},
   "outputs": [],
   "source": [
    "# # https://medium.com/@nile.bits/git-strategies-empower-your-development-workflow-with-best-practices-c3e3446ce742"
   ]
  },
  {
   "cell_type": "code",
   "execution_count": null,
   "id": "da3516c1-f502-4fcd-a2ff-534774e681f1",
   "metadata": {},
   "outputs": [],
   "source": []
  }
 ],
 "metadata": {
  "kernelspec": {
   "display_name": "Python [conda env:base] *",
   "language": "python",
   "name": "conda-base-py"
  },
  "language_info": {
   "codemirror_mode": {
    "name": "ipython",
    "version": 3
   },
   "file_extension": ".py",
   "mimetype": "text/x-python",
   "name": "python",
   "nbconvert_exporter": "python",
   "pygments_lexer": "ipython3",
   "version": "3.9.16"
  }
 },
 "nbformat": 4,
 "nbformat_minor": 5
}
