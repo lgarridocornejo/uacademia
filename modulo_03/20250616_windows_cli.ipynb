{
 "cells": [
  {
   "cell_type": "code",
   "execution_count": null,
   "id": "b772c492-bdb5-4cee-b84f-664de2ca34b3",
   "metadata": {},
   "outputs": [],
   "source": [
    "# venv academia"
   ]
  },
  {
   "cell_type": "markdown",
   "id": "dfdaf446-3379-43a9-b4da-964796c66908",
   "metadata": {},
   "source": [
    "![](https://cyberhoot.com/wp-content/uploads/2022/03/windows-batch-files-1024x512.jpg)"
   ]
  },
  {
   "cell_type": "markdown",
   "id": "8ae1e0e1-ecba-4167-997e-6c6d3b1a6a69",
   "metadata": {},
   "source": [
    "# Windows CLI (Command Line Interface)\n",
    "\n",
    "Es una poderosa interfaz basada en texto para interactuar con el sistema operativo.\n",
    "Los CLI de Windows (`Command Prompt` y `PowerShell`) son interfaces de texto para administrar Windows. \n",
    "- `Command Prompt` (cmd.exe) ofrece comandos básicos para operaciones de archivos y tareas del sistema.\n",
    "- `PowerShell` es un lenguaje de script más avanzado, orientado a objetos construido en **.NET**, que permite una amplia administración de sistemas, automatización y un control más profundo sobre los entornos Windows."
   ]
  },
  {
   "cell_type": "markdown",
   "id": "612e4c7f-849f-4638-a973-60b680956fcc",
   "metadata": {},
   "source": [
    "## Comandos de archivos y directorios\n",
    "\n",
    "| Comando| Descripción|\n",
    "|---| ---|\n",
    "|dir              | listado de archivos|\n",
    "|cd [dir]        | Cambio de directorio|\n",
    "|mkdir [name]     | Crear directorio|\n",
    "|copy [src] [dest]| Copiar archivo|\n",
    "|move [src] [dest]| Mover o renombrar archivo|\n",
    "|del [file]       | Borra archivo|\n",
    "|rmdir /s [dir]   | Borra directorio y contenido|"
   ]
  },
  {
   "cell_type": "markdown",
   "id": "054f3c55-ae7e-4cd7-87c6-ce7581b0a588",
   "metadata": {},
   "source": [
    "## Información del sistema\n",
    "\n",
    "| Comando           | Descripción                               |\n",
    "|------------------|-----------------------------------------|\n",
    "| ipconfig          | Muestra la informaciòn de la IP           |\n",
    "| systeminfo        | Detalles de las especificaciones del sistema|\n",
    "| tasklist          | Muestra procesos ejecutandose               |\n",
    "| netstat -an       | Muestra puertos abiertos & conexiones |"
   ]
  },
  {
   "cell_type": "markdown",
   "id": "ecc6fde5-30fb-4d7c-88c3-0991dec301ab",
   "metadata": {},
   "source": [
    "## Búsqueda y ayuda\n",
    "\n",
    "| Comando            | Descripción                 |\n",
    "|--------------------|-------------------------------|\n",
    "| findstr \"text\" [file] | Busqueda de texto en un archivo        |\n",
    "| [command] /?       | Ayuda de un comando             |"
   ]
  },
  {
   "cell_type": "code",
   "execution_count": null,
   "id": "fb52780a-bbcb-4b1c-9662-2fadf87f2121",
   "metadata": {},
   "outputs": [],
   "source": []
  }
 ],
 "metadata": {
  "kernelspec": {
   "display_name": "Python [conda env:base] *",
   "language": "python",
   "name": "conda-base-py"
  },
  "language_info": {
   "codemirror_mode": {
    "name": "ipython",
    "version": 3
   },
   "file_extension": ".py",
   "mimetype": "text/x-python",
   "name": "python",
   "nbconvert_exporter": "python",
   "pygments_lexer": "ipython3",
   "version": "3.9.16"
  }
 },
 "nbformat": 4,
 "nbformat_minor": 5
}
