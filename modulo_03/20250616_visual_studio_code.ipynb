{
 "cells": [
  {
   "cell_type": "code",
   "execution_count": null,
   "id": "a7ae5a17-e331-4ef4-bb64-31893c1533c7",
   "metadata": {},
   "outputs": [],
   "source": [
    "# venv: uacademia"
   ]
  },
  {
   "cell_type": "markdown",
   "id": "cfc009b6-b54a-485e-a631-b9797806f0cf",
   "metadata": {},
   "source": [
    "![](https://learn.microsoft.com/es-es/shows/visual-studio-code/media/visual-studio-code-banner-image.jpg)"
   ]
  },
  {
   "cell_type": "markdown",
   "id": "a623ed6d-7eb7-427e-847a-adae96ceaa0f",
   "metadata": {},
   "source": [
    "# Visual Studio Code\n",
    "\n",
    "Visual Studio Code es un editor de código fuente desarrollado por Microsoft que se puede utilizar tanto en Windows como en macOS y Linux. Además, se trata de un editor open-source cuyo código está [disponible en GitHub](https://github.com/microsoft/vscode). Tiene características muy interesantes para desarrollar código como el sistema de resaltado de sintaxis y autocompletado (denominado IntelliSense), la integración con el sistema de control de versiones Git y la posibilidad de hacer debugging desde el mismo editor. Como sucede con otros editores, como Atom o Sublime Text, también admite la posibilidad de instalar extensiones desarrolladas por terceros que le añaden funcionalidades extra. "
   ]
  },
  {
   "cell_type": "markdown",
   "id": "edc67fef-b32d-41a1-bb0d-ff6a54bd2fe7",
   "metadata": {},
   "source": [
    "## Instalación y configuración inicial\n",
    "Para instalar VS Code tenemos que acceder a la [página oficial](https://code.visualstudio.com/) y descargar la versión para el sistema operativo.\n",
    "\n",
    "Cuando se entra por primera vez a VS Code, pide con qué tema se quiere usar el programa (a elegir entre claro, oscuro o alto contraste). También nos notifica sobre la recolección de datos de uso por parte de Microsoft. Si no queremos compartir esta información se puede desactivar accediendo a **File → Preferences → Settings** (o con el atajo de teclado **Ctrl+**), buscar *telemetry* en la barra de búsqueda y seleccionar la opción *off* en el menú desplegable de la parte inferior."
   ]
  },
  {
   "cell_type": "markdown",
   "id": "67c5f7f6-7bd5-443d-ac42-6da4a6d29c82",
   "metadata": {},
   "source": [
    "![](https://www.programaenpython.com/wp-content/uploads/2021/07/vscode-telemetria.png)"
   ]
  },
  {
   "cell_type": "markdown",
   "id": "d969e504-a1af-4cda-a6c5-8e7c3e539ee1",
   "metadata": {},
   "source": [
    "## Extensiones recomendadas\n",
    "\n",
    "Instalar extensiones a VS Code es tan fácil como pinchar en el botón correspondiente del menú de la izquierda o acceder directamente con el atajo de teclado **Ctrl+Shift+X**. Esto abre una nueva sección en la parte izquierda del programa que contiene un buscador, para poder buscar extensiones por su nombre, y un listado de extensiones agrupadas en tres categorías: instaladas, populares y recomendadas."
   ]
  },
  {
   "cell_type": "markdown",
   "id": "c199a164-17b7-420d-85bc-7b28e0628979",
   "metadata": {},
   "source": [
    "### Python\n",
    "\n",
    "Esta extensión, desarrollada por Microsoft, añade a VS Code muchas funcionalidades relacionadas con Python como el autocompletado y formateo del código, herramientas para hacer *debugging* y testear código Python, y la gestión de entornos virtuales, entre otras.\n",
    "\n",
    "Una vez instalada, al trabajar con archivos .py, nos indica la versión de Python que tenemos instalada en la parte inferior izquierda. En la imagen inferior, la versión es la 3.9.5 64-bit. Además, mientras se programa nos proporciona ayuda sobre los parámetros que aceptan las funciones, tal y como se muestra en la imagen."
   ]
  },
  {
   "cell_type": "markdown",
   "id": "2a8a4fab-7cc4-4111-b9da-e159790e7a4e",
   "metadata": {},
   "source": [
    "![](https://www.programaenpython.com/wp-content/uploads/2021/07/vscode-extension-python-1024x482.png)"
   ]
  },
  {
   "cell_type": "markdown",
   "id": "6a297c92-b02a-4983-a243-c82dc542a408",
   "metadata": {},
   "source": [
    "### Python Docstring Generator\n",
    "\n",
    "Esta extensión, desarrollada por Nils Werner, hace exactamente lo que dice, es decir, ayuda a generar de manera eficiente *docstrings* de los métodos y funciones. Para usarla sólo hay que abrir triples comillas dobles en la primera línea del método o función y pulsar intro. Esto genera una plantilla con los parámetros a rellenar, y que se puede recorrer fácilmente con la ayuda del tabulador. Se trata sin duda de una extensión imprescindible para mejorar la productividad a la hora de documentar código."
   ]
  },
  {
   "cell_type": "markdown",
   "id": "19533615-9f0a-4aab-b4d2-3ec96006ce93",
   "metadata": {},
   "source": [
    "![](https://www.programaenpython.com/wp-content/uploads/2021/07/vscode-python-docstrig-generator--1024x319.png)"
   ]
  },
  {
   "cell_type": "markdown",
   "id": "5db31bda-4b02-4e6a-af76-80dea2c1123f",
   "metadata": {},
   "source": [
    "### interfaz en español\n",
    "\n",
    "VS Code se instala por defecto en inglés, pero se puede instalarle una extensión para cambiar el idioma al español. Para ello sólo se debe acceder al menú de instalación de extensiones, buscar *spanish* e instalar la extensión desarrollada por Microsoft."
   ]
  },
  {
   "cell_type": "code",
   "execution_count": null,
   "id": "44b7a434-6a6b-4422-9f24-a544da0c16a8",
   "metadata": {},
   "outputs": [],
   "source": []
  }
 ],
 "metadata": {
  "kernelspec": {
   "display_name": "Python [conda env:base] *",
   "language": "python",
   "name": "conda-base-py"
  },
  "language_info": {
   "codemirror_mode": {
    "name": "ipython",
    "version": 3
   },
   "file_extension": ".py",
   "mimetype": "text/x-python",
   "name": "python",
   "nbconvert_exporter": "python",
   "pygments_lexer": "ipython3",
   "version": "3.9.16"
  }
 },
 "nbformat": 4,
 "nbformat_minor": 5
}
