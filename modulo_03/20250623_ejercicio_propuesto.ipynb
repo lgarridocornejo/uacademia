{
 "cells": [
  {
   "cell_type": "markdown",
   "id": "65499d41-2f66-42bd-bdfb-e379d00be460",
   "metadata": {},
   "source": [
    "![](https://blog.ronin.cloud/content/images/2022/01/git-feature.png)"
   ]
  },
  {
   "cell_type": "markdown",
   "id": "b4af0f91-8d82-4099-9534-41804d636398",
   "metadata": {},
   "source": [
    "## Ejercicio"
   ]
  },
  {
   "cell_type": "markdown",
   "id": "36b06dfd-4827-4d0a-aa7f-fbaa1e1bcc2c",
   "metadata": {},
   "source": [
    "1. Crear entorno virtual con el nombre **web**, cargar entorno. Cargar libreria **Tkinter**\n",
    "2. **Crear carpeta** con la inicial del nombre y el apellido completo. Ej jperez en la raiz\n",
    "3. Dentro de la carpeta recien creada, crear otra llamada **proyecto_uno**\n",
    "4. Ingresar a la carpeta **proyecto_uno**\n",
    "5. Cargar **git**\n",
    "6. Crear archivo app.py"
   ]
  },
  {
   "cell_type": "markdown",
   "id": "acc99d07-9f60-4633-aa7f-b6af39a19105",
   "metadata": {},
   "source": [
    "```python\n",
    "print(\"Hola mundo desde GIT\")\n",
    "```"
   ]
  },
  {
   "cell_type": "markdown",
   "id": "b37ab36a-2f77-425b-ba15-057d822311be",
   "metadata": {},
   "source": [
    "7. Guardar archivo\n",
    "8. Agregar archivo al área de preparación\n",
    "9. Registrar cambios con el mensaje \"Primer commit: script básico\"\n",
    "10. Reemplazar el contenido del archivo app.py por"
   ]
  },
  {
   "cell_type": "markdown",
   "id": "f5c1d105-d6df-4f8d-bbd1-8ea39cc70883",
   "metadata": {},
   "source": [
    "```python\n",
    "import tkinter as tk\n",
    "\n",
    "root = tk.Tk()\n",
    "root.title(\"Mi primera app con Tkinter\")\n",
    "\n",
    "# Establece el tamaño de la ventana: 400 píxeles de ancho y 200 de alto\n",
    "root.geometry(\"400x200\")\n",
    "\n",
    "label = tk.Label(root, text=\"¡Hola mundo!\", font=(\"Arial\", 18))\n",
    "label.pack(pady=50)  # Padding vertical para centrar mejor el texto\n",
    "\n",
    "root.mainloop()\n",
    "```"
   ]
  },
  {
   "cell_type": "markdown",
   "id": "17139955-73b7-4693-9f6a-40b0c97cdf66",
   "metadata": {},
   "source": [
    "11. Guardar archivo\n",
    "12. Agregar archivo al área de preparación\n",
    "13. Registrar cambios con el mensaje \"Agrega GUI básica con Tkinter\"\n",
    "14. Reemplazar el contenido del archivo app.py por"
   ]
  },
  {
   "cell_type": "markdown",
   "id": "40f47b3d-4f87-490f-b84b-c3776a2bc846",
   "metadata": {},
   "source": [
    "```python\n",
    "import tk\n",
    "root = tk.Root()\n",
    "root.do_something()\n",
    "```"
   ]
  },
  {
   "cell_type": "markdown",
   "id": "c2d67da3-fd11-4518-8daa-75a2002bf4a9",
   "metadata": {},
   "source": [
    "15. Guardar archivo\n",
    "16. Agregar archivo del área de preparación\n",
    "17. Registrar cambios con el mensaje \"Commit con error intencional\"\n",
    "18. Mostrar lista de commit\n",
    "19. Recuperar comit antes del error\n",
    "20. Corregir con el commit correcto"
   ]
  },
  {
   "cell_type": "markdown",
   "id": "081dc5a3-7848-46bf-a2e8-0ab2abb593c0",
   "metadata": {},
   "source": [
    "```python\n",
    "git reset --hard <commit_id>\n",
    "```"
   ]
  },
  {
   "cell_type": "code",
   "execution_count": null,
   "id": "8ffbbaa8-b8fd-413e-b7f6-de8df4f1f608",
   "metadata": {},
   "outputs": [],
   "source": []
  }
 ],
 "metadata": {
  "kernelspec": {
   "display_name": "Python [conda env:base] *",
   "language": "python",
   "name": "conda-base-py"
  },
  "language_info": {
   "codemirror_mode": {
    "name": "ipython",
    "version": 3
   },
   "file_extension": ".py",
   "mimetype": "text/x-python",
   "name": "python",
   "nbconvert_exporter": "python",
   "pygments_lexer": "ipython3",
   "version": "3.9.16"
  }
 },
 "nbformat": 4,
 "nbformat_minor": 5
}
