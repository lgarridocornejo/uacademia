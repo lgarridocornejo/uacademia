{
 "cells": [
  {
   "cell_type": "code",
   "execution_count": null,
   "id": "8480fec4-fb6e-4115-ac93-31bf7875f5c5",
   "metadata": {},
   "outputs": [],
   "source": [
    "#venv: uacademia"
   ]
  },
  {
   "cell_type": "markdown",
   "id": "3075a6ca-412e-40a0-8fe1-18a47bb9f7e6",
   "metadata": {},
   "source": [
    "# Ejercicios\n",
    "\n",
    "- Crear carpeta `proyecto` en la raiz (si no esta creada)\n",
    "- Dentro de la carpeta proyecto crear carpeta `web`\n",
    "- Dentro de la carpeta web, crear carpeta `excluir`\n",
    "- Dentro de la carpeta proyecto, crear carpeta `notebook`\n",
    "- Crear entorno virtual llamado `html`\n",
    "- Cargar entorno\n",
    "- Cargar las siguientes librerias:\n",
    "\n",
    "    - Pandas\n",
    "    - Jupyter lab version 4.3.7\n",
    "    - Streamlit\n",
    "    - rise\n",
    "- Crear archivo requirement.txt del entorno `html`\n",
    "- Crear entorno virtual llamado `ml`\n",
    "- Cargar las siguientes librerias:\n",
    "  - Scikit-learn\n",
    "  - TensorFlow\n",
    "  - PyTorch\n",
    "- Crear archivo requirement.txt del entorno `ml`   \n",
    "  "
   ]
  },
  {
   "cell_type": "code",
   "execution_count": null,
   "id": "93b31c6a-c1cc-4937-a471-b14d50803576",
   "metadata": {},
   "outputs": [],
   "source": []
  }
 ],
 "metadata": {
  "kernelspec": {
   "display_name": "Python [conda env:base] *",
   "language": "python",
   "name": "conda-base-py"
  },
  "language_info": {
   "codemirror_mode": {
    "name": "ipython",
    "version": 3
   },
   "file_extension": ".py",
   "mimetype": "text/x-python",
   "name": "python",
   "nbconvert_exporter": "python",
   "pygments_lexer": "ipython3",
   "version": "3.9.16"
  }
 },
 "nbformat": 4,
 "nbformat_minor": 5
}
