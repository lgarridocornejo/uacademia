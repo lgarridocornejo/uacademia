{
 "cells": [
  {
   "cell_type": "code",
   "execution_count": null,
   "id": "fc04e72e-cbe6-467e-aa82-f7c35d6ba9cf",
   "metadata": {},
   "outputs": [],
   "source": [
    "# venv: www"
   ]
  },
  {
   "cell_type": "code",
   "execution_count": null,
   "id": "fc433335-0829-438f-a57c-7daa06dad4d5",
   "metadata": {},
   "outputs": [],
   "source": [
    "import pandas as pd\n",
    "import requests\n",
    "from io import StringIO\n",
    "\n",
    "def leer_csv_desde_url(url, sep=',', encoding='utf-8'):\n",
    "    try:\n",
    "        response = requests.get(url)\n",
    "        response.raise_for_status() # Lanza una excepción para códigos de estado HTTP 4xx/5xx\n",
    "        content = response.content.decode(encoding)\n",
    "        csv_data = StringIO(content)\n",
    "        df = pd.read_csv(csv_data, sep=sep)\n",
    "        return df\n",
    "\n",
    "    except requests.exceptions.RequestException as e:\n",
    "        raise Exception(f\"Error de red o al acceder a la URL: {e}\")\n",
    "    except pd.errors.EmptyDataError:\n",
    "        raise Exception(\"Error: El archivo CSV está vacío o solo contiene encabezados.\")\n",
    "    except pd.errors.ParserError as e:\n",
    "        raise Exception(f\"Error de análisis CSV. Revisa el delimitador (sep) o el formato del archivo: {e}\")\n",
    "    except Exception as e:\n",
    "        raise Exception(f\"Ocurrió un error inesperado: {e}\")"
   ]
  },
  {
   "cell_type": "markdown",
   "id": "4bc98c23-fb7b-4200-9439-062d4aa593f3",
   "metadata": {},
   "source": [
    "# 1. Ejercicio: Pingüinos"
   ]
  },
  {
   "cell_type": "markdown",
   "id": "f15006fa-8634-42cd-bbea-3bc5f4bea9c8",
   "metadata": {},
   "source": [
    "![](https://storage.googleapis.com/oceanwide_web/media-dynamic/cache/widen_1600/media/default/0001/05/30627f237982b80399f5d2db0c8daeeea38a5950.jpeg)"
   ]
  },
  {
   "cell_type": "code",
   "execution_count": null,
   "id": "e45c4f04-ce0b-44df-a27c-d42d6b8f714c",
   "metadata": {},
   "outputs": [],
   "source": [
    "url = \"https://drive.google.com/uc?export=download&id=1hExWRWNZZlpkgo8W2r90qkGh8Oc9MRiH\""
   ]
  },
  {
   "cell_type": "code",
   "execution_count": null,
   "id": "4bee2292-0827-4fc7-bbd3-098e628b13d5",
   "metadata": {},
   "outputs": [],
   "source": [
    "df = leer_csv_desde_url(url)\n",
    "df.sample(3)"
   ]
  },
  {
   "cell_type": "markdown",
   "id": "4becc444-0181-43e2-a4cf-3cbd3c9685cd",
   "metadata": {},
   "source": [
    "#### Usar libreria seaborn\n",
    "1. listar especies\n",
    "2. cargar librerias\n",
    "3. crear dataframe auxiliar con filtro para una especie en particular\n",
    "4. crear grafico"
   ]
  },
  {
   "cell_type": "code",
   "execution_count": null,
   "id": "4970cbd7-86d5-4635-affe-d3bcf7b4674e",
   "metadata": {},
   "outputs": [],
   "source": []
  },
  {
   "cell_type": "markdown",
   "id": "c0b40c91-82bc-4ff6-87c7-4c2b85bbccdb",
   "metadata": {},
   "source": [
    "# 2. Ejercicio: Capitales del mundo"
   ]
  },
  {
   "cell_type": "markdown",
   "id": "225e4267-e8d1-44c1-93da-f748642abee1",
   "metadata": {},
   "source": [
    "![](https://static.vecteezy.com/system/resources/previews/002/853/813/non_2x/colorful-world-map-complete-with-all-countries-and-capital-cities-names-vector.jpg)"
   ]
  },
  {
   "cell_type": "code",
   "execution_count": null,
   "id": "e4d42363-1df2-4e82-8562-4f6b9e84c66d",
   "metadata": {},
   "outputs": [],
   "source": [
    "url = \"https://drive.google.com/uc?export=download&id=15AbJ1Rv4BlsJKYJB8f9dTL16CHeOqI99\""
   ]
  },
  {
   "cell_type": "code",
   "execution_count": null,
   "id": "740a9a3c-1ce1-4b7c-8c70-0eb209e7e6a6",
   "metadata": {},
   "outputs": [],
   "source": [
    "df = leer_csv_desde_url(url)\n",
    "df.sample(3)"
   ]
  },
  {
   "cell_type": "markdown",
   "id": "7cb60436-a41d-435b-b1a7-312f838e9da4",
   "metadata": {},
   "source": [
    "#### Usar widget map\n",
    "1. listar continentes\n",
    "2. listar paises usando filtro de continente\n",
    "3. visualizar capital del pais seleccionado\n",
    "4. Cargar mapa"
   ]
  },
  {
   "cell_type": "code",
   "execution_count": null,
   "id": "69c73aa1-0522-403e-9452-5d0438948fd3",
   "metadata": {},
   "outputs": [],
   "source": []
  }
 ],
 "metadata": {
  "kernelspec": {
   "display_name": "Python [conda env:base] *",
   "language": "python",
   "name": "conda-base-py"
  },
  "language_info": {
   "codemirror_mode": {
    "name": "ipython",
    "version": 3
   },
   "file_extension": ".py",
   "mimetype": "text/x-python",
   "name": "python",
   "nbconvert_exporter": "python",
   "pygments_lexer": "ipython3",
   "version": "3.9.16"
  }
 },
 "nbformat": 4,
 "nbformat_minor": 5
}
