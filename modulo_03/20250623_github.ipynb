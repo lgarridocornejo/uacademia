{
 "cells": [
  {
   "cell_type": "code",
   "execution_count": 4,
   "id": "153a5fc1-6d43-4bac-bbc4-678c84ea5723",
   "metadata": {},
   "outputs": [],
   "source": [
    "# venv uacademia"
   ]
  },
  {
   "cell_type": "markdown",
   "id": "d60f848c-39fd-41f0-a71f-f4eca50fd924",
   "metadata": {},
   "source": [
    "![](https://cdn.prod.website-files.com/669063260f1f9e9400934455/66b185a2069dd50a75c21e19_github-cover.jpg)"
   ]
  },
  {
   "cell_type": "markdown",
   "id": "e310319d-8a75-4812-b72e-24ba39722047",
   "metadata": {},
   "source": [
    "GitHub es una herramienta esencial para los ingenieros de software, y su popularidad es inigualable. Actualmente cuenta con más de **25 millones de usuarios**. Se trata de un número considerable de profesionales que recurren a GitHub para mejorar el flujo de trabajo y la colaboración.\n",
    "\n",
    "## ¿Qué es GitHub?\n",
    "\n",
    "GitHub es un servicio basado en la nube que aloja un sistema de control de versiones (`VCS`) llamado Git. Éste permite a los desarrolladores colaborar y realizar cambios en proyectos compartidos, a la vez que mantienen un seguimiento detallado de su progreso.\n",
    "\n",
    "GitHub aloja más de **100 millones de repositorios**, la mayoría de los cuales son proyectos de código abierto. Esta estadística revela que GitHub se encuentra entre los clientes Git GUI más populares y es utilizado por varios profesionales y grandes empresas.\n",
    "\n",
    "Esto se debe a que GitHub es una plataforma de gestión y organización de proyectos basada en la nube que incorpora las funciones de control de versiones de Git. Es decir que todos los usuarios de GitHub pueden rastrear y gestionar los cambios que se realizan en el código fuente en tiempo real, a la vez que tienen acceso a todas las demás funciones de Git disponibles en el mismo lugar.\n",
    "\n",
    "Además, la interfaz de usuario de GitHub es más fácil de usar que la de Git, lo que la hace accesible para personas con pocos o ningún conocimiento técnico. Esto significa que se puede incluir a más miembros del equipo en el progreso y la gestión de un proyecto, haciendo que el proceso de desarrollo sea más fluido.\n",
    "\n",
    "## ¿Cómo empezar con GitHub?\n",
    "\n",
    "Se puede probar GitHub en tu equipo de forma gratuita. Hay un plan básico que incluye repositorios y colaboradores ilimitados, pero sólo 500 MB de espacio de almacenamiento.\n",
    "\n",
    "## Crear un Repositorio de GitHub\n",
    "\n",
    "Un repositorio, o repo, será el eje central del proyecto. Puede ser un archivo o una colección de archivos que contengan código, imágenes, texto o cualquier otra cosa."
   ]
  },
  {
   "cell_type": "markdown",
   "id": "10f5a2ad-6ea0-4e67-81a6-96d91eaebda2",
   "metadata": {},
   "source": [
    "1. Clic en **Create a repository** para iniciar un nuevo proyecto."
   ]
  },
  {
   "cell_type": "markdown",
   "id": "aa242a40-61ac-499e-b205-51093782e402",
   "metadata": {},
   "source": [
    "![](https://www.hostinger.com/es/tutoriales/wp-content/uploads/sites/32/2019/04/create-repository-step-1-github.png)"
   ]
  },
  {
   "cell_type": "markdown",
   "id": "4116805f-400f-4dbf-885d-52a1650db8ff",
   "metadata": {},
   "source": [
    "2. La sección **Owner** ya tendrá el nombre de tu cuenta. Crea un nombre de repositorio. Comprueba si está configurado como **Público** para que sea de código abierto, y luego marca la casilla **Add a README file**. Finalmente, haz clic en **Create repository**."
   ]
  },
  {
   "cell_type": "markdown",
   "id": "7ca3da54-cdc7-4195-a90f-6829be29842b",
   "metadata": {},
   "source": [
    "![](https://www.hostinger.com/es/tutoriales/wp-content/uploads/sites/32/2019/04/create-repository-github.png)"
   ]
  },
  {
   "cell_type": "code",
   "execution_count": null,
   "id": "7858f221-4c5a-4457-9bb3-786b3c2f9edc",
   "metadata": {},
   "outputs": [],
   "source": []
  }
 ],
 "metadata": {
  "kernelspec": {
   "display_name": "Python [conda env:base] *",
   "language": "python",
   "name": "conda-base-py"
  },
  "language_info": {
   "codemirror_mode": {
    "name": "ipython",
    "version": 3
   },
   "file_extension": ".py",
   "mimetype": "text/x-python",
   "name": "python",
   "nbconvert_exporter": "python",
   "pygments_lexer": "ipython3",
   "version": "3.9.16"
  }
 },
 "nbformat": 4,
 "nbformat_minor": 5
}
