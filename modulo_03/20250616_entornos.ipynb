{
 "cells": [
  {
   "cell_type": "code",
   "execution_count": null,
   "id": "e82659ed-3da2-4558-8493-68f8ee0df129",
   "metadata": {},
   "outputs": [],
   "source": []
  },
  {
   "cell_type": "markdown",
   "id": "38d3baa5-c161-45cc-826a-68db7dfe59f3",
   "metadata": {},
   "source": [
    "![](https://asjordi.dev/_astro/cover.LDqQV5GG_Z2wtLzR.webp)"
   ]
  },
  {
   "cell_type": "markdown",
   "id": "c7fe9ecd-53de-4276-b23d-aa838601aa13",
   "metadata": {},
   "source": [
    "## Un entorno virtual\n",
    "Es un espacio independiente a tu instalación local, con el objetivo de aislar los recursos y librerías. Gracias a este concepto podemos tener distintos entornos virtuales con diferentes versiones de Python o de una librería concreta. Por ejemplo, podríamos tener un entorno virtual con la versión 2.7 de Python para construir una aplicación y simultáneamente puede existir otro entorno virtual con la versión 3.6 de Python."
   ]
  },
  {
   "cell_type": "markdown",
   "id": "029a474c-d715-4ec6-a299-d442cce1d916",
   "metadata": {},
   "source": [
    "### Las razones por las que deberías usar entornos virtuales son:\n",
    "\n",
    "1. **Organización**: es conveniente tener controladas las librerías y las versiones con las que se está trabajando para que no existan problemas de incompatibilidades, y para ello, es mejor organizar todo en entornos virtuales, así, no tendremos nuestra instalación de Python con multitud de librerías instaladas.\n",
    "2. **Estabilidad**: es un hecho que las librerías que usamos cambian de versión muy a menudo, esto puede ocasionar que si queremos llevar nuestros programas a otra máquina nos encontremos con versiones de librerías que han cambiado y hacen que los programas ya no funcionen.\n",
    "3. **Trabajar con diferentes versiones de Python**: existen muchas aplicaciones en la versión 2.7 de Python y algunas no cuentan con soporte para Python 3. También se puede encontrar que tenemos que trabajar con un servidor cuya versión de Python no es la misma que la que tenemos instalada en nuestro computador. Creando distintos entornos virtuales se puede cambiar de versión de Python en dos líneas de código.\n"
   ]
  },
  {
   "cell_type": "markdown",
   "id": "8a958cbb-db4c-4083-bf26-7eb9fd65a504",
   "metadata": {},
   "source": [
    "Es recomendable crear entornos virtuales para cada proyecto o al menos uno para cada propósito distinto de programación (ej: uno para programación web y otro para tratar datos)"
   ]
  },
  {
   "cell_type": "markdown",
   "id": "b8494c9c-5996-4993-b377-c2b98d222517",
   "metadata": {},
   "source": [
    "```python\n",
    "conda create -name nombreenv python=x.x\n",
    "```\n",
    "Donde “nombreenv” es el nombre que se quiere dar al entorno y “x.x” la versión de Python que quieres dar a tu entorno.\n",
    "Con esto ya tendremos nuestro entorno creado, ahora necesitamos activarlo. Siempre que vayamos a trabajar con un entorno virtual hay que activarlo esto es una manera de decirle al sistema operativo que trabaje con la versión de Python del entorno virtual."
   ]
  },
  {
   "cell_type": "markdown",
   "id": "8ffe2d9a-4764-42f5-8e17-85296f63e132",
   "metadata": {},
   "source": [
    "```python\n",
    "source activate nombreenv\n",
    "conda activate nombreenv\n",
    "```\n",
    "Si se ha activado correctamente a la derecha del terminal debe salir entre paréntesis el nombre de nuestro entorno."
   ]
  },
  {
   "cell_type": "markdown",
   "id": "47c95568-6f5c-456c-98ea-7f16171372a6",
   "metadata": {},
   "source": [
    "```python\n",
    "conda env list\n",
    "```\n",
    "Para ver todos los entornos que estan cargado"
   ]
  },
  {
   "cell_type": "markdown",
   "id": "28b76882-e1a8-439c-a502-c9643d141a74",
   "metadata": {},
   "source": [
    "```python\n",
    "pip install nombredelpaquete\n",
    "conda install nombredelpaquete = 1.2.3\n",
    "```\n",
    "Para instalar paquetes dentro del entorno virtual se puede hacer mediante **pip** o **conda** el instalador de anaconda."
   ]
  },
  {
   "cell_type": "markdown",
   "id": "45d4b3ba-69b7-42cb-9e43-5a53a0c60229",
   "metadata": {},
   "source": [
    "Para desinstalar paquetes del entporno virtual:\n",
    "```python\n",
    "conda uninstall nombredelpaquete\n",
    "```"
   ]
  },
  {
   "cell_type": "markdown",
   "id": "5b197306-5faa-4b34-a95e-26a0ead3fd0a",
   "metadata": {},
   "source": [
    "```python\n",
    "conda list -name nombreenv\n",
    "```\n",
    "De igual manera se puede ver los paquetes y la versión instalados en nuestro entorno"
   ]
  },
  {
   "cell_type": "markdown",
   "id": "0338e045-6ac3-4350-9cb2-05ba328339c8",
   "metadata": {},
   "source": [
    "comando para generar **packages.txt**\n",
    "```python\n",
    "conda list --export > packages.txt\n",
    "```"
   ]
  },
  {
   "cell_type": "markdown",
   "id": "cd73c7fb-d6c6-44d0-accf-a91a9181eec6",
   "metadata": {},
   "source": [
    "Comando para instalar bibliotecas que se definen en el archivo **packages.txt**\n",
    "\n",
    "```python\n",
    "conda install --file packages.txt\n",
    "```"
   ]
  },
  {
   "cell_type": "code",
   "execution_count": null,
   "id": "3a5fc09a-b429-4fed-a561-a95d2f7d803c",
   "metadata": {},
   "outputs": [],
   "source": []
  }
 ],
 "metadata": {
  "kernelspec": {
   "display_name": "Python [conda env:base] *",
   "language": "python",
   "name": "conda-base-py"
  },
  "language_info": {
   "codemirror_mode": {
    "name": "ipython",
    "version": 3
   },
   "file_extension": ".py",
   "mimetype": "text/x-python",
   "name": "python",
   "nbconvert_exporter": "python",
   "pygments_lexer": "ipython3",
   "version": "3.9.16"
  }
 },
 "nbformat": 4,
 "nbformat_minor": 5
}
