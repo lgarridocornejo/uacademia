{
 "cells": [
  {
   "cell_type": "code",
   "execution_count": null,
   "id": "b63dd438-27d8-4210-8259-2f4d157ae830",
   "metadata": {},
   "outputs": [],
   "source": [
    "# venev uacademia >>> 2025 streamlit"
   ]
  },
  {
   "cell_type": "markdown",
   "id": "404d891a-f430-41b1-a9fd-d54fd107b43e",
   "metadata": {},
   "source": [
    "[![Open In Colab](https://colab.research.google.com/assets/colab-badge.svg)](\n",
    "https://colab.research.google.com/github/lgarridocornejo/uacademia/blob/master/modulo_03/20250630_streamlit.ipynb)\n"
   ]
  },
  {
   "cell_type": "markdown",
   "id": "b6054fe2-bf20-4850-abc7-6df260666e56",
   "metadata": {},
   "source": [
    "![](https://miro.medium.com/v2/resize:fit:1200/0*ZyNCgciUPSfXcxj7.png)"
   ]
  },
  {
   "cell_type": "markdown",
   "id": "d893b87d-e8cc-49e8-a56f-3f572f4903ca",
   "metadata": {},
   "source": [
    "## ¿Qué es Streamlit?\n",
    "\n",
    "Streamlit es un marco gratuito y de código abierto para construir y compartir rápidamente aplicaciones web de machine learning y ciencia de datos. Es una biblioteca basada en Python diseñada específicamente para ingenieros de machine learning. Los científicos de datos o los ingenieros de machine learning no son desarrolladores web. En cambio, quieren una herramienta que sea más fácil de aprender y de utilizar, siempre que pueda mostrar datos y recoger los parámetros necesarios para el modelado. Streamlit permite crear una aplicación de aspecto impresionante con sólo unas pocas líneas de código.\n",
    "\n",
    "## ¿Por qué deben utilizar Streamlit los científicos de datos?\n",
    "\n",
    "Lo mejor de Streamlit es que ni siquiera necesitas conocer los fundamentos del desarrollo web para empezar o para crear la primera aplicación web. Así que si te dedicas a la ciencia de datos y quieres implementar tus modelos de forma fácil, rápida y con sólo unas pocas líneas de código, Streamlit es una buena opción.\n",
    "\n",
    "Uno de los aspectos importantes para que una aplicación tenga éxito es ofrecerla con una interfaz de usuario eficaz e intuitiva. Muchas de las aplicaciones modernas con muchos datos se enfrentan al reto de crear una interfaz de usuario eficaz rápidamente, sin dar pasos complicados. Streamlit es una prometedora biblioteca Python de código abierto, que permite a los desarrolladores crear atractivas interfaces de usuario en un abrir y cerrar de ojos.\n",
    "\n",
    "Streamlit es la forma más fácil, especialmente para personas sin conocimientos de front-end, de poner su código en una aplicación web:\n",
    "\n",
    "- No se requiere experiencia ni conocimientos de front-end (html, js, css).\n",
    "- No necesitas pasar días o meses para crear una aplicación web, puedes crear una aplicación de machine learning o de ciencia de datos realmente bonita en sólo unas horas o incluso minutos.\n",
    "- Es compatible con la mayoría de las bibliotecas de Python (por ejemplo, pandas, matplotlib, seaborn, plotly, Keras, PyTorch, SymPy(latex)).\n",
    "- Se necesita menos código para crear aplicaciones web increíbles.\n",
    "- La caché de datos simplifica y acelera los procesos de cálculo.\n",
    "\n",
    "## Cómo utilizar Streamlit\n",
    "### Instalar Streamlit\n",
    "#### En Windows:\n",
    "\n",
    "- Abrir Anaconda Prompt y crea tu entorno, si no existe\n",
    "- Abre el terminal"
   ]
  },
  {
   "cell_type": "markdown",
   "id": "6c3963ff-de5a-450b-a540-313c83d945d3",
   "metadata": {},
   "source": [
    "1. Escribe este comando en el terminal para instalar Streamlit:\n",
    "\n",
    "```python\n",
    "pip install streamlit\n",
    "```\n",
    "2. Comprueba si la instalación ha funcionado:\n",
    "\n",
    "```python\n",
    "streamlit hello\n",
    "```"
   ]
  },
  {
   "cell_type": "markdown",
   "id": "2500305e-68c3-4549-a95f-c7b3b4259a03",
   "metadata": {},
   "source": [
    "![](https://images.datacamp.com/image/upload/v1640050213/image10_drtcnj.png)"
   ]
  },
  {
   "cell_type": "markdown",
   "id": "6ac3b41a-855f-4873-8d7e-9a95594f23fe",
   "metadata": {},
   "source": [
    "Cuando escribas este comando en el terminal, la página que aparece a continuación debería abrirse automáticamente:"
   ]
  },
  {
   "cell_type": "markdown",
   "id": "4d5d312c-9225-4812-a9a1-35db72d42027",
   "metadata": {},
   "source": [
    "![](https://images.datacamp.com/image/upload/v1640050215/image30_fmmdck.png)"
   ]
  },
  {
   "cell_type": "markdown",
   "id": "5f619042-d6b7-4cb5-9abd-2a05be82e043",
   "metadata": {},
   "source": [
    "## Cómo ejecutar tu código Streamlit\n",
    "\n",
    "- Abrir terminal\n",
    "- Cambiar al entorno virtual \n",
    "- Crear archivo inicio.py\n",
    "- Ejecutar \n",
    "```python\n",
    "streamlit run inicio.py\n",
    "```\n",
    "\n",
    "## Mostrar textos con Streamlit\n",
    "\n",
    "Al principio, veremos cómo añadir texto a tu aplicación Streamlit, y cuáles son los distintos comandos para añadir textos.\n",
    "\n",
    "#### **st.write()**: \n",
    "Esta función se utiliza para añadir cualquier cosa a una aplicación web, desde una cadena formateada a gráficos en matplotlib figure, Altair charts, plotly figure, data frame, Keras model y otros.\n",
    "```python\n",
    "import streamlit as st\n",
    "\n",
    "st.write(\"Hello ,let's learn how to build a streamlit app together\")\n",
    "```\n"
   ]
  },
  {
   "cell_type": "markdown",
   "id": "93b22b97-468e-4803-9c5e-f898cbee58ee",
   "metadata": {},
   "source": [
    "![](https://images.datacamp.com/image/upload/v1640050216/image37_erz8nb.png)"
   ]
  },
  {
   "cell_type": "markdown",
   "id": "ae7a8aeb-4bc4-415d-81e3-23f730be6c0f",
   "metadata": {},
   "source": [
    "#### **st.title()**: \n",
    "Esta función te permite añadir el título de la aplicación. st.header(): esta función se utiliza para establecer la cabecera de una sección. st.markdown(): esta función se utiliza para establecer el marcado de una sección. st.subheader(): esta función se utiliza para establecer el subtítulo de una sección. st.caption(): esta función se utiliza para escribir subtítulos. st.code(): esta función se utiliza para establecer un código. st.latex(): esta función sirve para visualizar expresiones matemáticas formateadas en LaTeX.\n",
    "\n",
    "```python\n",
    "st.title (\"this is the app title\")\n",
    "st.header(\"this is the markdown\")\n",
    "st.markdown(\"this is the header\")\n",
    "st.subheader(\"this is the subheader\")\n",
    "st.caption(\"this is the caption\")\n",
    "st.code(\"x=2021\")\n",
    "st.latex(r''' a+a r^1+a r^2+a r^3 ''')\n",
    "```"
   ]
  },
  {
   "cell_type": "markdown",
   "id": "43aba92d-418a-462d-bbd3-d9f2f585ac94",
   "metadata": {},
   "source": [
    "![](https://images.datacamp.com/image/upload/v1640050216/image34_xrej1c.jpg)"
   ]
  },
  {
   "cell_type": "markdown",
   "id": "99420681-68e8-4247-90f2-71304638ee99",
   "metadata": {},
   "source": [
    "## Visualiza un archivo de imagen, vídeo o audio con Streamlit\n",
    "\n",
    "No encontrarás funciones tan sencillas como las de Streamlit para mostrar imágenes, vídeos y archivos de audio. ¡Veamos cómo mostrar medios con Streamlit !\n",
    "\n",
    "#### **st.image()**: \n",
    "Esta función se utiliza para mostrar una imagen. st.audio(): esta función se utiliza para mostrar un audio. st.video(): esta función se utiliza para visualizar un vídeo.\n",
    "\n",
    "```python\n",
    "st.subheader(\"Imagen :\")\n",
    "st.image(\"kid.jpg\")\n",
    "\n",
    "st.subheader(\"Audio :\")\n",
    "st.audio(\"Audio.mp3\")\n",
    "\n",
    "st.subheader(\"Video :\")\n",
    "st.video(\"video.mp4\")\n",
    "```"
   ]
  },
  {
   "cell_type": "markdown",
   "id": "22021abf-f023-4cca-8fbe-dbc110579760",
   "metadata": {},
   "source": [
    "![](https://images.datacamp.com/image/upload/v1640050214/image7_hswsm1.png)"
   ]
  },
  {
   "cell_type": "markdown",
   "id": "c8a56658-61d8-4d32-8766-4dc2b8818fcc",
   "metadata": {},
   "source": [
    "## Widgets de entrada\n",
    "\n",
    "Los widgets son los componentes más importantes de la interfaz de usuario. Streamlit tiene varios widgets que te permiten introducir interactividad directamente en tus aplicaciones con botones, deslizadores, entradas de texto y mucho más.\n",
    "\n",
    "#### **st.checkbox()**: \n",
    "Esta función devuelve un valor booleano. Cuando la casilla está marcada, devuelve un valor Verdadero; en caso contrario, un valor Falso. st.button(): esta función se utiliza para mostrar un widget de botón. st.radio(): esta función se utiliza para mostrar un widget de botón de radio. st.selectbox(): esta función se utiliza para mostrar un widget de selección. st.multiselect(): esta función se utiliza para mostrar un widget de selección múltiple. st.select_slider(): esta función se utiliza para mostrar un widget deslizante de selección. st.slider(): esta función se utiliza para mostrar un widget deslizante.\n",
    "\n",
    "```python\n",
    "st.checkbox('yes')\n",
    "st.button('Click')\n",
    "st.radio('Pick your gender',['Male','Female'])\n",
    "st.selectbox('Pick your gender',['Male','Female'])\n",
    "st.multiselect('choose a planet',['Jupiter', 'Mars', 'neptune'])\n",
    "st.select_slider('Pick a mark', ['Bad', 'Good', 'Excellent'])\n",
    "st.slider('Pick a number', 0,50)\n",
    "```"
   ]
  },
  {
   "cell_type": "markdown",
   "id": "a1a74949-2800-48f5-b42f-8bed3ed55b2e",
   "metadata": {},
   "source": [
    "![](https://images.datacamp.com/image/upload/v1640050216/image33_cv7qcf.png)"
   ]
  },
  {
   "cell_type": "markdown",
   "id": "1eb23ed5-1de7-436f-8316-b252cc1ba333",
   "metadata": {},
   "source": [
    "#### **st.number_input()**: \n",
    "Esta función se utiliza para mostrar un widget de entrada numérica. \n",
    "#### **st.text_input()**: \n",
    "Esta función se utiliza para mostrar un widget de entrada de texto. \n",
    "#### **st.date_input()**: \n",
    "Esta función se utiliza para mostrar un widget de introducción de fecha para elegir una fecha. \n",
    "#### **st.time_input()**: \n",
    "Esta función se utiliza para mostrar un widget de introducción de la hora para elegir una hora. \n",
    "#### **st.text_area()**: \n",
    "Esta función se utiliza para mostrar un widget de entrada de texto con más de una línea de texto. \n",
    "#### **st.file_uploader()**: \n",
    "Esta función se utiliza para mostrar un widget de carga de archivos. \n",
    "#### **st.color_picker()**: \n",
    "Esta función se utiliza para mostrar el widget selector de color para elegir un color.\n",
    "\n",
    "```python\n",
    "st.number_input('Pick a number', 0,10)\n",
    "st.text_input('Email address')\n",
    "st.date_input('Travelling date')\n",
    "st.time_input('School time')\n",
    "st.text_area('Description')\n",
    "st.file_uploader('Upload a photo')\n",
    "st.color_picker('Choose your favorite color')\n",
    "```"
   ]
  },
  {
   "cell_type": "markdown",
   "id": "4c9559af-16b4-41f4-8b5d-fbae83f946a4",
   "metadata": {},
   "source": [
    "![](https://images.datacamp.com/image/upload/v1640050214/image21_ssdlov.png)"
   ]
  },
  {
   "cell_type": "markdown",
   "id": "bd428258-4e91-4fbc-b061-b7ef92a5fd79",
   "metadata": {},
   "source": [
    "## Muestra el progreso y el estado con Streamlit\n",
    "\n",
    "Ahora veremos cómo podemos añadir una barra de progreso y mensajes de estado como error y éxito a nuestra app.\n",
    "\n",
    "#### **st.balloons()**: \n",
    "Esta función se utiliza para mostrar globos de celebración. \n",
    "#### **st.progress()**: \n",
    "Esta función se utiliza para mostrar una barra de progreso. \n",
    "#### **st.spinner()**: \n",
    "Esta función se utiliza para mostrar un mensaje temporal de espera durante la ejecución.\n",
    "\n",
    "```python\n",
    "import streamlit as st\n",
    "import time\n",
    "\n",
    "st.balloons()\n",
    "\n",
    "st.subheader(\"Barra de progreso\")\n",
    "st.progress(10)\n",
    "\n",
    "st.subheader(\"Esperar para ejecución\")\n",
    "with st.spinner('Wait for it...'):    \n",
    "    time.sleep(10)\n",
    "```"
   ]
  },
  {
   "cell_type": "markdown",
   "id": "ee8af438-ce2e-4ab4-97c0-f4d4b29160a5",
   "metadata": {},
   "source": [
    "![](https://images.datacamp.com/image/upload/v1640050213/image4_mn0yrn.png)"
   ]
  },
  {
   "cell_type": "markdown",
   "id": "306fa44a-4b3b-4dfd-9c5c-138c00303eb7",
   "metadata": {},
   "source": [
    "#### **st.success()**: \n",
    "Esta función se utiliza para mostrar un mensaje de éxito. \n",
    "### **st.error()**: \n",
    "Esta función se utiliza para mostrar un mensaje de error. \n",
    "#### **st.warnig()**: \n",
    "Esta función se utiliza para mostrar un mensaje de advertencia. \n",
    "#### **st.info()**: \n",
    "Esta función se utiliza para mostrar un mensaje informativo. \n",
    "#### **st.exception()**: \n",
    "Esta función se utiliza para mostrar un mensaje de excepción.\n",
    "\n",
    "```python\n",
    "st.success(\"You did it !\")\n",
    "st.error(\"Error\")\n",
    "st.warning(\"Warning\")\n",
    "st.info(\"It's easy to build a streamlit app\")\n",
    "st.exception(RuntimeError(\"RuntimeError exception\"))\n",
    "```"
   ]
  },
  {
   "cell_type": "markdown",
   "id": "a2e228f1-324b-4ce3-a360-41ff723479c2",
   "metadata": {},
   "source": [
    "![](https://images.datacamp.com/image/upload/v1640050215/image22_mzefdz.jpg)"
   ]
  },
  {
   "cell_type": "markdown",
   "id": "e5eafa64-b058-4ac8-8c10-baed6b965eb3",
   "metadata": {},
   "source": [
    "## Barra lateral y contenedor\n",
    "\n",
    "También puedes crear una barra lateral o un contenedor en tu página para organizar tu aplicación. La jerarquía y disposición de las páginas de tu aplicación pueden tener un gran impacto en la experiencia del usuario. Al organizar tu contenido, permites que los visitantes comprendan y naveguen por tu sitio, lo que les ayuda a encontrar lo que buscan y aumenta la probabilidad de que vuelvan en el futuro.\n",
    "\n",
    "### Barra lateral\n",
    "\n",
    "Pasar un elemento a st.sidebar() hará que este elemento se fije a la izquierda, permitiendo a los usuarios centrarse en el contenido de tu aplicación.\n",
    "\n",
    "Pero st.spinner() y st.echo() no son compatibles con st.sidebar.\n",
    "\n",
    "Como ves, puedes crear una barra lateral en la interfaz de tu aplicación y colocar en ella elementos que harán que tu aplicación esté más organizada y sea más fácil de entender."
   ]
  },
  {
   "cell_type": "markdown",
   "id": "b4976dcf-0837-4488-9f50-9cddcc6506ad",
   "metadata": {},
   "source": [
    "![](https://images.datacamp.com/image/upload/v1640050215/image26_j8a4of.jpg)"
   ]
  },
  {
   "cell_type": "markdown",
   "id": "da7e1f55-f442-4fc2-b6e9-11d5ec3829c5",
   "metadata": {},
   "source": [
    "## Contenedor\n",
    "\n",
    "st.container() se utiliza para crear un contenedor invisible en el que puedes colocar elementos para crear una disposición y jerarquía útiles.\n",
    "\n",
    "![](https://images.datacamp.com/image/upload/v1640050216/image36_bdjexv.jpg)\n",
    "\n",
    "## Visualizar gráficos con Streamlit\n",
    "### ¿Por qué necesitamos la visualización?\n",
    "\n",
    "La visualización de datos ayuda a transmitir un mensaje, presentando los datos en un formato más fácil de entender, destacando las tendencias y los valores atípicos. Una buena visualización cuenta una historia, eliminando el ruido de los datos y destacando la información útil. Sin embargo, no es tan fácil como adornar un gráfico para que tenga mejor aspecto o poner la parte \"info\" en una infografía. La visualización eficaz de los datos es un delicado equilibrio entre forma y función. El gráfico más sencillo podría ser demasiado aburrido para llamar la atención o transmitir un mensaje poderoso, y la visualización más asombrosa podría fracasar rotundamente a la hora de transmitir el mensaje adecuado. Los datos y los elementos visuales tienen que funcionar juntos, y combinar un gran análisis con una buena narración es todo un arte.\n",
    "\n",
    "`st.pyplot()`: función que se utiliza para mostrar una figura matplotlib.pyplot.\n",
    "\n",
    "```python\n",
    "import streamlit as st\n",
    "import matplotlib.pyplot as plt\n",
    "import numpy as np\n",
    "\n",
    "rand=np.random.normal(1, 2, size=20)\n",
    "fig, ax = plt.subplots()\n",
    "ax.hist(rand, bins=15)\n",
    "st.pyplot(fig)\n",
    "```\n",
    "![](https://images.datacamp.com/image/upload/v1640050215/image23_faw4js.jpg)\n",
    "\n",
    "`st.line_chart()`: función que sirve para visualizar un gráfico de líneas.\n",
    "```python\n",
    "import streamlit as st\n",
    "import pandas as pd\n",
    "import numpy as np\n",
    "df= pd.DataFrame(p.random.randn(10, 2),columns=['x', 'y'])\n",
    "st.line_chart(df)\n",
    "```\n",
    "\n",
    "![](https://images.datacamp.com/image/upload/v1640050215/image15_fgtbqf.png)\n",
    "\n",
    "`st.bar_chart()`: función que sirve para visualizar un gráfico de barras.\n",
    "```python\n",
    "import streamlit as st\n",
    "import pandas as pd\n",
    "import numpy as np\n",
    "df= pd.DataFrame(np.random.randn(10, 2), columns=['x', 'y'])\n",
    "st.bar_chart(df)\n",
    "```\n",
    "![](https://images.datacamp.com/image/upload/v1640050216/image38_ev8ffj.png)\n",
    "\n",
    "`st.area_chart()`: función que se utiliza para mostrar un gráfico de áreas.\n",
    "```python\n",
    "import streamlit as st\n",
    "import pandas as pd\n",
    "import numpy as np\n",
    "df= pd.DataFrame(np.random.randn(10, 2), columns=['x', 'y'])\n",
    "st.area_chart(df)\n",
    "```\n",
    "![](https://images.datacamp.com/image/upload/v1640050214/image13_aubwtr.png)\n",
    "\n",
    "`st.altair_chart()`: función que sirve para visualizar un gráfico de altair.\n",
    "```python\n",
    "import streamlit as st\n",
    "import numpy as np\n",
    "import pandas as pd\n",
    "import altair as alt\n",
    "df = pd.DataFrame(np.random.randn(500, 3), columns=['x','y','z'])\n",
    "c = alt.Chart(df).mark_circle().encode( x='x', 'y'=y, size='z', color='z', tooltip=['x', 'y', 'z'])\n",
    "st.altair_chart(c, use_container_width=True)\n",
    "```\n",
    "![](https://images.datacamp.com/image/upload/v1640050215/image18_izvrak.png)\n",
    "\n",
    "`st.graphviz_chart()`: esta función se utiliza para mostrar objetos gráficos, que pueden completarse utilizando distintos nodos y aristas.\n",
    "```python\n",
    "import streamlit as st\n",
    "import graphviz as graphviz\n",
    "st.graphviz_chart('''digraph {Big_shark -> Tuna  Tuna -> Mackerel  Mackerel -> Small_fishes        Small_fishes -> Shrimp}''')\n",
    "```\n",
    "![](https://images.datacamp.com/image/upload/v1640050214/image17_uzoejs.png)\n",
    "\n",
    "## Visualizar mapas con Streamlit\n",
    "\n",
    "`st.map()`: esta función se utiliza para mostrar mapas en la aplicación. Sin embargo, requiere los valores de latitud y longitud y estos valores no deben ser null/NA.\n",
    "```python\n",
    "import pandas as pd\n",
    "import numpy as np\n",
    "import streamlit as st\n",
    "df = pd.DataFrame(np.random.randn(500, 2) / [50, 50] + [37.76, -122.4],columns=['lat', 'lon'])\n",
    "st.map(df)\n",
    "```\n",
    "![](https://images.datacamp.com/image/upload/v1640050216/image39_xfghsd.png)\n",
    "\n",
    "## Temas\n",
    "\n",
    "También se puede elegir un tema que refleje un estilo. Sigue los pasos del GIF:\n",
    "![](https://images.datacamp.com/image/upload/v1640050220/image28_lnerye.gif)\n"
   ]
  },
  {
   "cell_type": "code",
   "execution_count": null,
   "id": "07dd5a53-2e4b-4de6-a274-e51098b5c85f",
   "metadata": {},
   "outputs": [],
   "source": []
  }
 ],
 "metadata": {
  "kernelspec": {
   "display_name": "Python [conda env:base] *",
   "language": "python",
   "name": "conda-base-py"
  },
  "language_info": {
   "codemirror_mode": {
    "name": "ipython",
    "version": 3
   },
   "file_extension": ".py",
   "mimetype": "text/x-python",
   "name": "python",
   "nbconvert_exporter": "python",
   "pygments_lexer": "ipython3",
   "version": "3.9.16"
  }
 },
 "nbformat": 4,
 "nbformat_minor": 5
}
